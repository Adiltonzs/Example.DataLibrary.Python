{
 "cells": [
  {
   "cell_type": "markdown",
   "metadata": {},
   "source": [
    "# Refinitiv Data Library for Python\n",
    "## Content - Pricing - Streaming Events\n",
    "\n",
    "This notebook demonstrates using a Pricing object to receive streaming real-time data via the event driven interface.  "
   ]
  },
  {
   "cell_type": "markdown",
   "metadata": {},
   "source": [
    "## Import the library and load credentials\n",
    "\n",
    "Credentials used by this and the other tutorials notebooks are stored in the **Configuration/credentials.ipynb** file.     \n",
    "\n",
    "You should have edited the **Configuration/credentials.ipynb** to set your credentials as part of the **Quick Start** step."
   ]
  },
  {
   "cell_type": "code",
   "execution_count": 1,
   "metadata": {
    "collapsed": false,
    "jupyter": {
     "outputs_hidden": false
    },
    "pycharm": {
     "name": "#%%\n"
    }
   },
   "outputs": [],
   "source": [
    "from refinitiv.data.content import pricing\n",
    "from pandas import DataFrame\n",
    "from IPython.display import display, clear_output\n",
    "\n",
    "%run ../../Configuration/credentials.ipynb"
   ]
  },
  {
   "cell_type": "markdown",
   "metadata": {},
   "source": [
    "## Open the session of your choice\n",
    "\n",
    "Use our helper function in the Credentials notebook, **open_session(session_type)**, to create and open a session to connect to the \n",
    "- Refinitiv Data Platform directly (session_type=\"rdp\") or via \n",
    "- Eikon 4 or Refinitiv Workspace (session_type=\"desktop\") or via a \n",
    "- local realtime infrastructure (session_type=\"deployed\").\n",
    "\n",
    "You can also set a default in the **credentials** notebook - which I have done, and so I don't need to specify a session_type:"
   ]
  },
  {
   "cell_type": "code",
   "execution_count": 7,
   "metadata": {
    "collapsed": false,
    "jupyter": {
     "outputs_hidden": false
    },
    "pycharm": {
     "name": "#%%\n"
    }
   },
   "outputs": [
    {
     "data": {
      "text/plain": [
       "<refinitiv.data.session._platform_session.Definition object at 0x1df34756790 {session_name='default-session'}>"
      ]
     },
     "execution_count": 7,
     "metadata": {},
     "output_type": "execute_result"
    }
   ],
   "source": [
    "# I have defined a default Session type in the Credentials notebook - so no need to provide one here\n",
    "open_session()"
   ]
  },
  {
   "cell_type": "markdown",
   "metadata": {},
   "source": [
    "### Define a callback to receive streaming data"
   ]
  },
  {
   "cell_type": "code",
   "execution_count": 3,
   "metadata": {},
   "outputs": [],
   "source": [
    "# Function to handle the intial Refresh for each item\n",
    "def handle_refresh(streaming_prices, instrument_name, fields):\n",
    "    # One way to access data - get dataframe\n",
    "    print(f\"Refresh : {streaming_prices.get_snapshot()}\")\n",
    "    return\n",
    "\n",
    "# Function to update dataframe, when we receive updates for individual items\n",
    "def handle_update(streaming_prices, instrument_name, fields):\n",
    "    # Alternative way of accesing data - access the updated fields\n",
    "    print(f\"Update : {instrument_name}:{fields}\")\n",
    "    \n",
    "# Function to extract status code for an item as & when received from server\n",
    "# Status contains a 'code' and a more detailed 'message'\n",
    "def handle_status(streaming_prices, instrument_name, status):\n",
    "    print(f\"Status : {instrument_name}:{status['code']}:{status['message']}\")"
   ]
  },
  {
   "cell_type": "markdown",
   "metadata": {},
   "source": [
    "### Create streams for our RICs and open them"
   ]
  },
  {
   "cell_type": "code",
   "execution_count": 8,
   "metadata": {},
   "outputs": [
    {
     "name": "stdout",
     "output_type": "stream",
     "text": [
      "[2021-09-13 14:03:41,451] - [INFO] - [default-session] - [11028] | WebSocket 0 - OMM Protocol - PRICING\n",
      "Login to websocket wss://apac-3-t3.streaming-pricing-api.refinitiv.com:443/WebSocket successful\n",
      "Refresh :   Instrument     BID     ASK\n",
      "0       EUR=  1.1783  1.1787\n",
      "1       GBP=    <NA>    <NA>\n",
      "2       JPY=    <NA>    <NA>\n",
      "3     BADRIC    <NA>    <NA>\n",
      "Refresh :   Instrument     BID     ASK\n",
      "0       EUR=  1.1783  1.1787\n",
      "1       GBP=  1.3832  1.3833\n",
      "2       JPY=  110.05  110.08\n",
      "3     BADRIC    <NA>    <NA>\n",
      "Refresh :   Instrument     BID     ASK\n",
      "0       EUR=  1.1783  1.1787\n",
      "1       GBP=  1.3832  1.3833\n",
      "2       JPY=  110.05  110.08\n",
      "3     BADRIC    <NA>    <NA>\n",
      "Status : BADRIC:NotFound:**The record could not be found\n"
     ]
    },
    {
     "data": {
      "text/plain": [
       "<StreamState.Open: 3>"
      ]
     },
     "execution_count": 8,
     "metadata": {},
     "output_type": "execute_result"
    },
    {
     "name": "stdout",
     "output_type": "stream",
     "text": [
      "Update : JPY=:{'BID': 110.06, 'ASK': 110.07}\n",
      "Update : EUR=:{'BID': 1.1783, 'ASK': 1.1786}\n",
      "Update : EUR=:{'BID': 1.1783, 'ASK': 1.1786}\n",
      "Update : JPY=:{'BID': 110.05, 'ASK': 110.08}\n",
      "Update : GBP=:{'BID': 1.383, 'ASK': 1.3834}\n",
      "Update : EUR=:{'BID': 1.1783, 'ASK': 1.1787}\n",
      "Update : JPY=:{'BID': 110.06, 'ASK': 110.07}\n",
      "Update : JPY=:{'BID': 110.06, 'ASK': 110.07}\n",
      "Update : GBP=:{'BID': 1.3832, 'ASK': 1.3833}\n",
      "Update : JPY=:{'BID': 110.06, 'ASK': 110.07}\n",
      "Update : JPY=:{'BID': 110.05, 'ASK': 110.08}\n",
      "Update : EUR=:{'BID': 1.1784, 'ASK': 1.1785}\n",
      "Update : GBP=:{'BID': 1.3832, 'ASK': 1.3833}\n",
      "Update : GBP=:{'BID': 1.3832, 'ASK': 1.3833}\n",
      "Update : EUR=:{'BID': 1.1783, 'ASK': 1.1787}\n",
      "Update : GBP=:{'BID': 1.383, 'ASK': 1.3834}\n"
     ]
    }
   ],
   "source": [
    "# Define our Streaming Price object - including a bad ric for illustrative purposes\n",
    "streams = rd.content.pricing.Definition(\n",
    "    ['EUR=', 'GBP=', 'JPY=', 'BADRIC'],\n",
    "    fields=['BID', 'ASK']\n",
    ").get_stream()\n",
    "\n",
    "# Callback for if we wanted to handle invidiual Refresh for each item\n",
    "streams.on_refresh(handle_refresh)\n",
    "# Specify callback handler for any updates\n",
    "streams.on_update(handle_update)\n",
    "# Specify callback handler for any updates\n",
    "streams.on_status(handle_status)\n",
    "\n",
    "# Send the requests to the server and open the streams for all items\n",
    "streams.open()"
   ]
  },
  {
   "cell_type": "markdown",
   "metadata": {},
   "source": [
    "## Close the stream"
   ]
  },
  {
   "cell_type": "code",
   "execution_count": 9,
   "metadata": {},
   "outputs": [
    {
     "name": "stdout",
     "output_type": "stream",
     "text": [
      "Update : EUR=:{'BID': 1.1784, 'ASK': 1.1787}\n"
     ]
    },
    {
     "data": {
      "text/plain": [
       "<StreamState.Closed: 1>"
      ]
     },
     "execution_count": 9,
     "metadata": {},
     "output_type": "execute_result"
    }
   ],
   "source": [
    "streams.close()"
   ]
  },
  {
   "cell_type": "markdown",
   "metadata": {},
   "source": [
    "## Close the session"
   ]
  },
  {
   "cell_type": "code",
   "execution_count": 10,
   "metadata": {},
   "outputs": [],
   "source": [
    "close_session()"
   ]
  },
  {
   "cell_type": "code",
   "execution_count": null,
   "metadata": {},
   "outputs": [],
   "source": []
  }
 ],
 "metadata": {
  "kernelspec": {
   "display_name": "RevData39",
   "language": "python",
   "name": "rd39"
  },
  "language_info": {
   "codemirror_mode": {
    "name": "ipython",
    "version": 3
   },
   "file_extension": ".py",
   "mimetype": "text/x-python",
   "name": "python",
   "nbconvert_exporter": "python",
   "pygments_lexer": "ipython3",
   "version": "3.9.4"
  }
 },
 "nbformat": 4,
 "nbformat_minor": 4
}
