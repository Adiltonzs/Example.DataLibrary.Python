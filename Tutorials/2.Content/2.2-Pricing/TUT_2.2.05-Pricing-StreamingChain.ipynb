{
 "cells": [
  {
   "cell_type": "markdown",
   "metadata": {},
   "source": [
    "----\n",
    "<img src=\"../../../files/refinitiv.png\" width=\"20%\" style=\"vertical-align: top;\">\n",
    "\n",
    "# Data Library for Python\n",
    "\n",
    "----"
   ]
  },
  {
   "cell_type": "markdown",
   "metadata": {},
   "source": [
    "## Content - Pricing - Chain + Streaming Constituents\n",
    "\n",
    "This notebook demonstrates how to use the Pricing interface to \n",
    "- retrieve the constituents of a Chain instrument\n",
    "- and then request Streaming data for the Constituents themselves"
   ]
  },
  {
   "cell_type": "markdown",
   "metadata": {},
   "source": [
    "## Set the location of the configuration file\n",
    "For ease of use, you can set various initialization parameters of the RD Library in the **_refinitiv-data.config.json_** configuration file - as described in the Quick Start -> Sessions example.\n",
    "\n",
    "### One config file for the tutorials\n",
    "As these tutorial Notebooks are categorised into sub-folders and to avoid the need for multiple config files, we will use the _RD_LIB_CONFIG_PATH_ environment variable to point to a single instance of the config file in the top-level ***Configuration*** folder.\n",
    "\n",
    "Before proceeding, please **ensure you have entered your credentials** into the config file in the ***Configuration*** folder."
   ]
  },
  {
   "cell_type": "code",
   "execution_count": 1,
   "metadata": {},
   "outputs": [],
   "source": [
    "import os\n",
    "os.environ[\"RD_LIB_CONFIG_PATH\"] = \"../../../Configuration\""
   ]
  },
  {
   "cell_type": "code",
   "execution_count": 2,
   "metadata": {},
   "outputs": [],
   "source": [
    "from refinitiv.data.content import pricing\n",
    "import refinitiv.data as rd\n",
    "from pandas import DataFrame\n",
    "from IPython.display import display, clear_output"
   ]
  },
  {
   "cell_type": "markdown",
   "metadata": {},
   "source": [
    "## Open the default session\n",
    "\n",
    "To open the default session ensure you have a '*refinitiv-data.config.json*' in the ***Configuration*** directory, populated with your credentials and specified a 'default' session in the config file    \n"
   ]
  },
  {
   "cell_type": "code",
   "execution_count": 3,
   "metadata": {
    "collapsed": false,
    "jupyter": {
     "outputs_hidden": false
    },
    "pycharm": {
     "name": "#%%\n"
    }
   },
   "outputs": [
    {
     "data": {
      "text/plain": [
       "<refinitiv.data.session.platform.Definition object at 0x20ddbba9e20 {session_name='rdp'}>"
      ]
     },
     "execution_count": 3,
     "metadata": {},
     "output_type": "execute_result"
    }
   ],
   "source": [
    "rd.open_session()"
   ]
  },
  {
   "cell_type": "markdown",
   "metadata": {},
   "source": [
    "### Define callbacks to display the streaming Constituents data\n",
    "We will use these later to display the streaming data for the Constituent RICs"
   ]
  },
  {
   "cell_type": "code",
   "execution_count": 4,
   "metadata": {},
   "outputs": [],
   "source": [
    "df = DataFrame()\n",
    "\n",
    "# Function to initially populate Dataframe, once initial values received for all items\n",
    "def create_dataframe(streaming_prices):\n",
    "    global df\n",
    "    snapshot = streaming_prices.get_snapshot()\n",
    "    field_names = snapshot.columns[1:]\n",
    "    instrument_names = snapshot['Instrument'].values\n",
    "    df = DataFrame(index=instrument_names, columns=field_names)\n",
    "    for price in streaming_prices:\n",
    "        for field_name, field_value in price.get_fields().items():\n",
    "            df.at[price.name, field_name] = field_value\n",
    "    display(df)\n",
    "\n",
    "# Function to update dataframe, when we receive updates for individual items\n",
    "def update_dataframe(streaming_prices, instrument_name, fields):\n",
    "    global df\n",
    "    clear_output(wait=True)\n",
    "    for field_name, field_value in fields.items():\n",
    "        df.at[instrument_name, field_name] = field_value\n",
    "    display(df)"
   ]
  },
  {
   "cell_type": "markdown",
   "metadata": {},
   "source": [
    "### Get the Chain's constituent RICs\n",
    "Define & snap the current constituents of the Chain and then display them"
   ]
  },
  {
   "cell_type": "code",
   "execution_count": 8,
   "metadata": {},
   "outputs": [
    {
     "name": "stdout",
     "output_type": "stream",
     "text": [
      "['.DJI', 'AAPL.OQ', 'AMGN.OQ', 'AXP.N', 'BA.N', 'CAT.N', 'CRM.N', 'CSCO.OQ', 'CVX.N', 'DIS.N', 'DOW.N', 'GS.N', 'HD.N', 'HON.OQ', 'IBM.N', 'INTC.OQ', 'JNJ.N', 'JPM.N', 'KO.N', 'MCD.N', 'MMM.N', 'MRK.N', 'MSFT.OQ', 'NKE.N', 'PG.N', 'TRV.N', 'UNH.N', 'V.N', 'VZ.N', 'WBA.OQ', 'WMT.N']\n"
     ]
    }
   ],
   "source": [
    "# Define a Chain object for the Dow Jones Index\n",
    "dow = pricing.chain.Definition(name=\"0#.DJI\").get_stream()\n",
    "# We just want a snapshot of the current Index\n",
    "dow.open(with_updates=False)\n",
    "## Extract the consituent RICs and display\n",
    "dow_constituents = dow.constituents\n",
    "print(dow_constituents)"
   ]
  },
  {
   "cell_type": "markdown",
   "metadata": {},
   "source": [
    "## Create Streams for the consitutuents\n",
    "Define streams for all the consituents of the above chain, specifying two fields.   \n",
    "Specify callbacks to display the field values:\n",
    "- Call *create_dataframe* once we can received the intial response for all the constituents\n",
    "- Call *update_dataframe* as and when we receive field update for any of the consituents"
   ]
  },
  {
   "cell_type": "code",
   "execution_count": 9,
   "metadata": {},
   "outputs": [
    {
     "data": {
      "text/plain": [
       "<refinitiv.data.content.pricing.Stream object at 0x20dff6213d0 {name='['.DJI', 'AAPL.OQ', 'AMGN.OQ', 'AXP.N', 'BA.N', 'CAT.N', 'CRM.N', 'CSCO.OQ', 'CVX.N', 'DIS.N', 'DOW.N', 'GS.N', 'HD.N', 'HON.OQ', 'IBM.N', 'INTC.OQ', 'JNJ.N', 'JPM.N', 'KO.N', 'MCD.N', 'MMM.N', 'MRK.N', 'MSFT.OQ', 'NKE.N', 'PG.N', 'TRV.N', 'UNH.N', 'V.N', 'VZ.N', 'WBA.OQ', 'WMT.N']'}>"
      ]
     },
     "execution_count": 9,
     "metadata": {},
     "output_type": "execute_result"
    }
   ],
   "source": [
    "# Define our Streaming Price object for all the consituents\n",
    "pricing_stream = pricing.Definition(universe=dow_constituents, fields=[\"BID\", \"ASK\"]).get_stream()\n",
    "# Specify the callback to create and display a dataframe \n",
    "# on_complete is invoked once we receive the initial image for all our instruments\n",
    "pricing_stream.on_complete(create_dataframe)\n",
    "#Specify the callback to display subsequent updates as and when received\n",
    "pricing_stream.on_update(update_dataframe)\n"
   ]
  },
  {
   "cell_type": "markdown",
   "metadata": {},
   "source": [
    "## Open the streams for all our constituents"
   ]
  },
  {
   "cell_type": "code",
   "execution_count": 10,
   "metadata": {},
   "outputs": [
    {
     "data": {
      "text/html": [
       "<div>\n",
       "<style scoped>\n",
       "    .dataframe tbody tr th:only-of-type {\n",
       "        vertical-align: middle;\n",
       "    }\n",
       "\n",
       "    .dataframe tbody tr th {\n",
       "        vertical-align: top;\n",
       "    }\n",
       "\n",
       "    .dataframe thead th {\n",
       "        text-align: right;\n",
       "    }\n",
       "</style>\n",
       "<table border=\"1\" class=\"dataframe\">\n",
       "  <thead>\n",
       "    <tr style=\"text-align: right;\">\n",
       "      <th></th>\n",
       "      <th>BID</th>\n",
       "      <th>ASK</th>\n",
       "    </tr>\n",
       "  </thead>\n",
       "  <tbody>\n",
       "    <tr>\n",
       "      <th>.DJI</th>\n",
       "      <td>35667.95</td>\n",
       "      <td>35868.11</td>\n",
       "    </tr>\n",
       "    <tr>\n",
       "      <th>AAPL.OQ</th>\n",
       "      <td>158.96</td>\n",
       "      <td>159.2</td>\n",
       "    </tr>\n",
       "    <tr>\n",
       "      <th>AMGN.OQ</th>\n",
       "      <td>202.0</td>\n",
       "      <td>203.04</td>\n",
       "    </tr>\n",
       "    <tr>\n",
       "      <th>AXP.N</th>\n",
       "      <td>0.0</td>\n",
       "      <td>0.0</td>\n",
       "    </tr>\n",
       "    <tr>\n",
       "      <th>BA.N</th>\n",
       "      <td>0.0</td>\n",
       "      <td>0.0</td>\n",
       "    </tr>\n",
       "    <tr>\n",
       "      <th>CAT.N</th>\n",
       "      <td>0.0</td>\n",
       "      <td>0.0</td>\n",
       "    </tr>\n",
       "    <tr>\n",
       "      <th>CRM.N</th>\n",
       "      <td>0.0</td>\n",
       "      <td>0.0</td>\n",
       "    </tr>\n",
       "    <tr>\n",
       "      <th>CSCO.OQ</th>\n",
       "      <td>54.83</td>\n",
       "      <td>55.1</td>\n",
       "    </tr>\n",
       "    <tr>\n",
       "      <th>CVX.N</th>\n",
       "      <td>0.0</td>\n",
       "      <td>0.0</td>\n",
       "    </tr>\n",
       "    <tr>\n",
       "      <th>DIS.N</th>\n",
       "      <td>0.0</td>\n",
       "      <td>0.0</td>\n",
       "    </tr>\n",
       "    <tr>\n",
       "      <th>DOW.N</th>\n",
       "      <td>0.0</td>\n",
       "      <td>0.0</td>\n",
       "    </tr>\n",
       "    <tr>\n",
       "      <th>GS.N</th>\n",
       "      <td>0.0</td>\n",
       "      <td>0.0</td>\n",
       "    </tr>\n",
       "    <tr>\n",
       "      <th>HD.N</th>\n",
       "      <td>0.0</td>\n",
       "      <td>0.0</td>\n",
       "    </tr>\n",
       "    <tr>\n",
       "      <th>HON.OQ</th>\n",
       "      <td>206.76</td>\n",
       "      <td>210.47</td>\n",
       "    </tr>\n",
       "    <tr>\n",
       "      <th>IBM.N</th>\n",
       "      <td>0.0</td>\n",
       "      <td>0.0</td>\n",
       "    </tr>\n",
       "    <tr>\n",
       "      <th>INTC.OQ</th>\n",
       "      <td>49.07</td>\n",
       "      <td>49.18</td>\n",
       "    </tr>\n",
       "    <tr>\n",
       "      <th>JNJ.N</th>\n",
       "      <td>0.0</td>\n",
       "      <td>0.0</td>\n",
       "    </tr>\n",
       "    <tr>\n",
       "      <th>JPM.N</th>\n",
       "      <td>0.0</td>\n",
       "      <td>0.0</td>\n",
       "    </tr>\n",
       "    <tr>\n",
       "      <th>KO.N</th>\n",
       "      <td>0.0</td>\n",
       "      <td>0.0</td>\n",
       "    </tr>\n",
       "    <tr>\n",
       "      <th>MCD.N</th>\n",
       "      <td>0.0</td>\n",
       "      <td>0.0</td>\n",
       "    </tr>\n",
       "    <tr>\n",
       "      <th>MMM.N</th>\n",
       "      <td>0.0</td>\n",
       "      <td>0.0</td>\n",
       "    </tr>\n",
       "    <tr>\n",
       "      <th>MRK.N</th>\n",
       "      <td>0.0</td>\n",
       "      <td>0.0</td>\n",
       "    </tr>\n",
       "    <tr>\n",
       "      <th>MSFT.OQ</th>\n",
       "      <td>334.31</td>\n",
       "      <td>334.67</td>\n",
       "    </tr>\n",
       "    <tr>\n",
       "      <th>NKE.N</th>\n",
       "      <td>0.0</td>\n",
       "      <td>0.0</td>\n",
       "    </tr>\n",
       "    <tr>\n",
       "      <th>PG.N</th>\n",
       "      <td>0.0</td>\n",
       "      <td>0.0</td>\n",
       "    </tr>\n",
       "    <tr>\n",
       "      <th>TRV.N</th>\n",
       "      <td>0.0</td>\n",
       "      <td>0.0</td>\n",
       "    </tr>\n",
       "    <tr>\n",
       "      <th>UNH.N</th>\n",
       "      <td>0.0</td>\n",
       "      <td>0.0</td>\n",
       "    </tr>\n",
       "    <tr>\n",
       "      <th>V.N</th>\n",
       "      <td>0.0</td>\n",
       "      <td>0.0</td>\n",
       "    </tr>\n",
       "    <tr>\n",
       "      <th>VZ.N</th>\n",
       "      <td>0.0</td>\n",
       "      <td>0.0</td>\n",
       "    </tr>\n",
       "    <tr>\n",
       "      <th>WBA.OQ</th>\n",
       "      <td>45.96</td>\n",
       "      <td>46.41</td>\n",
       "    </tr>\n",
       "    <tr>\n",
       "      <th>WMT.N</th>\n",
       "      <td>0.0</td>\n",
       "      <td>0.0</td>\n",
       "    </tr>\n",
       "  </tbody>\n",
       "</table>\n",
       "</div>"
      ],
      "text/plain": [
       "              BID       ASK\n",
       ".DJI     35667.95  35868.11\n",
       "AAPL.OQ    158.96     159.2\n",
       "AMGN.OQ     202.0    203.04\n",
       "AXP.N         0.0       0.0\n",
       "BA.N          0.0       0.0\n",
       "CAT.N         0.0       0.0\n",
       "CRM.N         0.0       0.0\n",
       "CSCO.OQ     54.83      55.1\n",
       "CVX.N         0.0       0.0\n",
       "DIS.N         0.0       0.0\n",
       "DOW.N         0.0       0.0\n",
       "GS.N          0.0       0.0\n",
       "HD.N          0.0       0.0\n",
       "HON.OQ     206.76    210.47\n",
       "IBM.N         0.0       0.0\n",
       "INTC.OQ     49.07     49.18\n",
       "JNJ.N         0.0       0.0\n",
       "JPM.N         0.0       0.0\n",
       "KO.N          0.0       0.0\n",
       "MCD.N         0.0       0.0\n",
       "MMM.N         0.0       0.0\n",
       "MRK.N         0.0       0.0\n",
       "MSFT.OQ    334.31    334.67\n",
       "NKE.N         0.0       0.0\n",
       "PG.N          0.0       0.0\n",
       "TRV.N         0.0       0.0\n",
       "UNH.N         0.0       0.0\n",
       "V.N           0.0       0.0\n",
       "VZ.N          0.0       0.0\n",
       "WBA.OQ      45.96     46.41\n",
       "WMT.N         0.0       0.0"
      ]
     },
     "metadata": {},
     "output_type": "display_data"
    }
   ],
   "source": [
    "# Request all instrument from server and open streams\n",
    "pricing_stream.open()\n",
    "# The callbacks we declared earlier should be invoked as and when we receive server responses\n",
    "# i.e. create_dataframe will be called once we have the initial values for each instrument\n",
    "# after which, update_dataframe will be invoked as and when any instrument's BID/ASK fields are updated"
   ]
  },
  {
   "cell_type": "markdown",
   "metadata": {},
   "source": [
    "## Close the streams for the constituents"
   ]
  },
  {
   "cell_type": "code",
   "execution_count": 11,
   "metadata": {},
   "outputs": [
    {
     "data": {
      "text/plain": [
       "<OpenState.Closed: 3>"
      ]
     },
     "execution_count": 11,
     "metadata": {},
     "output_type": "execute_result"
    }
   ],
   "source": [
    "pricing_stream.close()"
   ]
  },
  {
   "cell_type": "markdown",
   "metadata": {},
   "source": [
    "## Close the session"
   ]
  },
  {
   "cell_type": "code",
   "execution_count": 13,
   "metadata": {},
   "outputs": [],
   "source": [
    "rd.close_session()"
   ]
  },
  {
   "cell_type": "code",
   "execution_count": null,
   "metadata": {},
   "outputs": [],
   "source": []
  }
 ],
 "metadata": {
  "kernelspec": {
   "display_name": "RevData39",
   "language": "python",
   "name": "rd39"
  },
  "language_info": {
   "codemirror_mode": {
    "name": "ipython",
    "version": 3
   },
   "file_extension": ".py",
   "mimetype": "text/x-python",
   "name": "python",
   "nbconvert_exporter": "python",
   "pygments_lexer": "ipython3",
   "version": "3.9.4"
  }
 },
 "nbformat": 4,
 "nbformat_minor": 4
}
