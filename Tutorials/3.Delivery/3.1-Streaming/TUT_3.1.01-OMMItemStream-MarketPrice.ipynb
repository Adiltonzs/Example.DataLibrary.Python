{
 "cells": [
  {
   "cell_type": "markdown",
   "metadata": {},
   "source": [
    "# Refinitiv Data Platform Library for Python\n",
    "## Delivery - OMMItemStream - Market Price data via callback\n",
    "\n",
    "This notebook demonstrates how to use the OMM Item Stream interface to request streaming Quote and Trade data"
   ]
  },
  {
   "cell_type": "markdown",
   "metadata": {},
   "source": [
    "## Set the location of the configuration file\n",
    "For ease of use, you can set various initialization parameters of the RD Library in the **_refinitiv-data.config.json_** configuration file - as described in the Quick Start -> Sessions example.\n",
    "\n",
    "### One config file for the tutorials\n",
    "As these tutorial Notebooks are categorised into sub-folders and to avoid the need for multiple config files, we will use the _RD_LIB_CONFIG_PATH_ environment variable to point to a single instance of the config file in the top-level ***Configuration*** folder.\n",
    "\n",
    "Before proceeding, please **ensure you have entered your credentials** into the config file in the ***Configuration*** folder."
   ]
  },
  {
   "cell_type": "code",
   "execution_count": 1,
   "metadata": {},
   "outputs": [],
   "source": [
    "import os\n",
    "os.environ[\"RD_LIB_CONFIG_PATH\"] = \"../../../Configuration\""
   ]
  },
  {
   "cell_type": "code",
   "execution_count": 2,
   "metadata": {},
   "outputs": [],
   "source": [
    "from refinitiv.data.delivery import omm_stream\n",
    "import refinitiv.data as rd\n",
    "import datetime\n",
    "import json"
   ]
  },
  {
   "cell_type": "markdown",
   "metadata": {},
   "source": [
    "## Open the default session\n",
    "\n",
    "To open the default session ensure you have a '*refinitiv-data.config.json*' in the ***Configuration*** directory, populated with your credentials and specified a 'default' session in the config file    \n"
   ]
  },
  {
   "cell_type": "code",
   "execution_count": 3,
   "metadata": {
    "collapsed": false,
    "jupyter": {
     "outputs_hidden": false
    },
    "pycharm": {
     "name": "#%%\n"
    }
   },
   "outputs": [
    {
     "data": {
      "text/plain": [
       "<refinitiv.data.session.platform.Definition object at 0x1b36bb9cd00 {session_name='rdp'}>"
      ]
     },
     "execution_count": 3,
     "metadata": {},
     "output_type": "execute_result"
    }
   ],
   "source": [
    "rd.open_session()"
   ]
  },
  {
   "cell_type": "markdown",
   "metadata": {},
   "source": [
    "## Define a function to display events"
   ]
  },
  {
   "cell_type": "code",
   "execution_count": 4,
   "metadata": {},
   "outputs": [],
   "source": [
    "# Callback function to display data or status events\n",
    "def display_event(eventType, event):\n",
    "    currentTime = datetime.datetime.now().time()\n",
    "    print(\"----------------------------------------------------------\")\n",
    "    print(\">>> {} event received at {}\".format(eventType, currentTime))\n",
    "    print(json.dumps(event, indent=2))\n",
    "    return"
   ]
  },
  {
   "cell_type": "markdown",
   "metadata": {},
   "source": [
    "## Create an Item Stream and register the event callbacks"
   ]
  },
  {
   "cell_type": "code",
   "execution_count": 5,
   "metadata": {},
   "outputs": [
    {
     "data": {
      "text/plain": [
       "<refinitiv.data.delivery.omm_stream.OMMStream object at 0x1b31b5d2430>"
      ]
     },
     "execution_count": 5,
     "metadata": {},
     "output_type": "execute_result"
    }
   ],
   "source": [
    "stream = omm_stream.Definition(\n",
    "    name=\"EUR=\", \n",
    "    fields=['BID', 'ASK','OPEN_PRC','HST_CLOSE','TIMACT'], \n",
    "    domain='MarketPrice').get_stream()\n",
    "\n",
    "# Refresh - the first full imaage we get back from the server\n",
    "stream.on_refresh(lambda item_stream, event : display_event(\"Refresh\", event))\n",
    "# Update - as and when field values change, we receive updates from the server\n",
    "stream.on_update(lambda item_stream, event : display_event(\"Update\", event))\n",
    "# Status - if data goes stale or item closes, we get a status message\n",
    "stream.on_status(lambda item_stream, event : display_event(\"Status\", event))\n",
    "# Other errors\n",
    "stream.on_error(lambda item_stream, event : display_event(\"Error\", event))"
   ]
  },
  {
   "cell_type": "markdown",
   "metadata": {},
   "source": [
    "## Open the ItemStream\n",
    "The **open()** call to open the Item Stream is a synchronous one. This means the first event (either via on_refresh(), on_status() or on_error()) can occur before the open() method returns.   \n",
    "However, if we use the **open_async()** asynchronous method instead, the first event callback will be after  open_async() returns."
   ]
  },
  {
   "cell_type": "code",
   "execution_count": 6,
   "metadata": {
    "scrolled": true,
    "tags": []
   },
   "outputs": [
    {
     "name": "stdout",
     "output_type": "stream",
     "text": [
      "----------------------------------------------------------\n",
      ">>> Refresh event received at 12:16:01.118182\n",
      "{\n",
      "  \"ID\": 1,\n",
      "  \"Type\": \"Refresh\",\n",
      "  \"Key\": {\n",
      "    \"Service\": \"ELEKTRON_DD\",\n",
      "    \"Name\": \"EUR=\"\n",
      "  },\n",
      "  \"State\": {\n",
      "    \"Stream\": \"Open\",\n",
      "    \"Data\": \"Ok\"\n",
      "  },\n",
      "  \"Qos\": {\n",
      "    \"Timeliness\": \"Realtime\",\n",
      "    \"Rate\": \"JitConflated\"\n",
      "  },\n",
      "  \"PermData\": \"AwEBUmw=\",\n",
      "  \"SeqNumber\": 1902,\n",
      "  \"Fields\": {\n",
      "    \"TIMACT\": \"12:16:00\",\n",
      "    \"OPEN_PRC\": 1.1206,\n",
      "    \"HST_CLOSE\": 1.1206,\n",
      "    \"BID\": 1.1275,\n",
      "    \"ASK\": 1.1279\n",
      "  }\n",
      "}\n"
     ]
    },
    {
     "data": {
      "text/plain": [
       "<OpenState.Opened: 1>"
      ]
     },
     "execution_count": 6,
     "metadata": {},
     "output_type": "execute_result"
    },
    {
     "name": "stdout",
     "output_type": "stream",
     "text": [
      "----------------------------------------------------------\n",
      ">>> Update event received at 12:16:01.349115\n",
      "{\n",
      "  \"ID\": 1,\n",
      "  \"Type\": \"Update\",\n",
      "  \"UpdateType\": \"Unspecified\",\n",
      "  \"DoNotConflate\": true,\n",
      "  \"Key\": {\n",
      "    \"Service\": \"ELEKTRON_DD\",\n",
      "    \"Name\": \"EUR=\"\n",
      "  },\n",
      "  \"SeqNumber\": 1918,\n",
      "  \"Fields\": {\n",
      "    \"BID\": 1.1276,\n",
      "    \"ASK\": 1.1278,\n",
      "    \"TIMACT\": \"12:16:00\"\n",
      "  }\n",
      "}\n",
      "----------------------------------------------------------\n",
      ">>> Update event received at 12:16:01.349115\n",
      "{\n",
      "  \"ID\": 1,\n",
      "  \"Type\": \"Update\",\n",
      "  \"UpdateType\": \"Unspecified\",\n",
      "  \"DoNotConflate\": true,\n",
      "  \"Key\": {\n",
      "    \"Service\": \"ELEKTRON_DD\",\n",
      "    \"Name\": \"EUR=\"\n",
      "  },\n",
      "  \"SeqNumber\": 1982,\n",
      "  \"Fields\": {\n",
      "    \"BID\": 1.1276,\n",
      "    \"ASK\": 1.1277,\n",
      "    \"TIMACT\": \"12:16:00\"\n",
      "  }\n",
      "}\n",
      "----------------------------------------------------------\n",
      ">>> Update event received at 12:16:01.849395\n",
      "{\n",
      "  \"ID\": 1,\n",
      "  \"Type\": \"Update\",\n",
      "  \"UpdateType\": \"Unspecified\",\n",
      "  \"DoNotConflate\": true,\n",
      "  \"Key\": {\n",
      "    \"Service\": \"ELEKTRON_DD\",\n",
      "    \"Name\": \"EUR=\"\n",
      "  },\n",
      "  \"SeqNumber\": 2046,\n",
      "  \"Fields\": {\n",
      "    \"BID\": 1.1275,\n",
      "    \"ASK\": 1.1279,\n",
      "    \"TIMACT\": \"12:16:00\"\n",
      "  }\n",
      "}\n",
      "----------------------------------------------------------\n",
      ">>> Update event received at 12:16:02.838731\n",
      "{\n",
      "  \"ID\": 1,\n",
      "  \"Type\": \"Update\",\n",
      "  \"UpdateType\": \"Unspecified\",\n",
      "  \"DoNotConflate\": true,\n",
      "  \"Key\": {\n",
      "    \"Service\": \"ELEKTRON_DD\",\n",
      "    \"Name\": \"EUR=\"\n",
      "  },\n",
      "  \"SeqNumber\": 2110,\n",
      "  \"Fields\": {\n",
      "    \"BID\": 1.1275,\n",
      "    \"ASK\": 1.1279,\n",
      "    \"TIMACT\": \"12:16:00\"\n",
      "  }\n",
      "}\n",
      "----------------------------------------------------------\n",
      ">>> Update event received at 12:16:03.348669\n",
      "{\n",
      "  \"ID\": 1,\n",
      "  \"Type\": \"Update\",\n",
      "  \"UpdateType\": \"Unspecified\",\n",
      "  \"DoNotConflate\": true,\n",
      "  \"Key\": {\n",
      "    \"Service\": \"ELEKTRON_DD\",\n",
      "    \"Name\": \"EUR=\"\n",
      "  },\n",
      "  \"SeqNumber\": 2174,\n",
      "  \"Fields\": {\n",
      "    \"BID\": 1.1275,\n",
      "    \"ASK\": 1.1278,\n",
      "    \"TIMACT\": \"12:16:00\"\n",
      "  }\n",
      "}\n",
      "----------------------------------------------------------\n",
      ">>> Update event received at 12:16:04.928779\n",
      "{\n",
      "  \"ID\": 1,\n",
      "  \"Type\": \"Update\",\n",
      "  \"UpdateType\": \"Unspecified\",\n",
      "  \"DoNotConflate\": true,\n",
      "  \"Key\": {\n",
      "    \"Service\": \"ELEKTRON_DD\",\n",
      "    \"Name\": \"EUR=\"\n",
      "  },\n",
      "  \"SeqNumber\": 2238,\n",
      "  \"Fields\": {\n",
      "    \"BID\": 1.1275,\n",
      "    \"ASK\": 1.1278,\n",
      "    \"TIMACT\": \"12:16:00\"\n",
      "  }\n",
      "}\n",
      "----------------------------------------------------------\n",
      ">>> Update event received at 12:16:05.849336\n",
      "{\n",
      "  \"ID\": 1,\n",
      "  \"Type\": \"Update\",\n",
      "  \"UpdateType\": \"Unspecified\",\n",
      "  \"DoNotConflate\": true,\n",
      "  \"Key\": {\n",
      "    \"Service\": \"ELEKTRON_DD\",\n",
      "    \"Name\": \"EUR=\"\n",
      "  },\n",
      "  \"SeqNumber\": 2302,\n",
      "  \"Fields\": {\n",
      "    \"BID\": 1.1275,\n",
      "    \"ASK\": 1.1279,\n",
      "    \"TIMACT\": \"12:16:00\"\n",
      "  }\n",
      "}\n"
     ]
    }
   ],
   "source": [
    "# Send request to server and open stream\n",
    "stream.open()\n",
    "# We should receive the initial Refresh for the current field values\n",
    "# followed by updates for the fields as and when they occur"
   ]
  },
  {
   "cell_type": "markdown",
   "metadata": {},
   "source": [
    "## Close Stream"
   ]
  },
  {
   "cell_type": "code",
   "execution_count": 7,
   "metadata": {
    "scrolled": true,
    "tags": []
   },
   "outputs": [
    {
     "data": {
      "text/plain": [
       "<OpenState.Closed: 3>"
      ]
     },
     "execution_count": 7,
     "metadata": {},
     "output_type": "execute_result"
    }
   ],
   "source": [
    "stream.close()"
   ]
  },
  {
   "cell_type": "markdown",
   "metadata": {},
   "source": [
    "## Close the session"
   ]
  },
  {
   "cell_type": "code",
   "execution_count": 9,
   "metadata": {},
   "outputs": [],
   "source": [
    "rd.close_session()"
   ]
  },
  {
   "cell_type": "code",
   "execution_count": null,
   "metadata": {},
   "outputs": [],
   "source": []
  }
 ],
 "metadata": {
  "kernelspec": {
   "display_name": "RevData39",
   "language": "python",
   "name": "rd39"
  },
  "language_info": {
   "codemirror_mode": {
    "name": "ipython",
    "version": 3
   },
   "file_extension": ".py",
   "mimetype": "text/x-python",
   "name": "python",
   "nbconvert_exporter": "python",
   "pygments_lexer": "ipython3",
   "version": "3.9.4"
  }
 },
 "nbformat": 4,
 "nbformat_minor": 4
}
