{
 "cells": [
  {
   "cell_type": "markdown",
   "metadata": {},
   "source": [
    "# Refinitiv Data Library for Python\n",
    "## Content - Pricing - Synchronous calls\n",
    "\n",
    "This notebook demonstrates how to use the Pricing interface to retrieve snapshot data from the Refinitiv Data Platform."
   ]
  },
  {
   "cell_type": "markdown",
   "metadata": {},
   "source": [
    "## Import the library and load credentials\n",
    "\n",
    "Credentials used by this and the other tutorials notebooks are stored in the **Configuration/credentials.ipynb** file.     \n",
    "\n",
    "You should have edited the **Configuration/credentials.ipynb** to set your credentials as part of the **Quick Start** step."
   ]
  },
  {
   "cell_type": "code",
   "execution_count": 1,
   "metadata": {
    "pycharm": {
     "name": "#%%\n"
    }
   },
   "outputs": [],
   "source": [
    "import refinitiv.data as rd\n",
    "from pandas import DataFrame\n",
    "from IPython.display import display, clear_output\n",
    "\n",
    "%run ../../Configuration/credentials.ipynb"
   ]
  },
  {
   "cell_type": "markdown",
   "metadata": {},
   "source": [
    "## Open the session of your choice\n",
    "\n",
    "Use our helper function in the Credentials notebook, **open_session(session_type)**, to create and open a session to connect to the \n",
    "- Refinitiv Data Platform directly (session_type=\"rdp\") or via \n",
    "- Eikon 4 or Refinitiv Workspace (session_type=\"desktop\") or via a \n",
    "- local realtime infrastructure (session_type=\"deployed\").\n",
    "\n",
    "You can also set a default in the **credentials** notebook"
   ]
  },
  {
   "cell_type": "code",
   "execution_count": 3,
   "metadata": {
    "collapsed": false,
    "jupyter": {
     "outputs_hidden": false
    },
    "pycharm": {
     "name": "#%%\n"
    }
   },
   "outputs": [
    {
     "data": {
      "text/plain": [
       "<refinitiv.data.session._platform_session.Definition object at 0x2619cfa7f40 {session_name='default-session'}>"
      ]
     },
     "execution_count": 3,
     "metadata": {},
     "output_type": "execute_result"
    }
   ],
   "source": [
    "open_session('rdp')"
   ]
  },
  {
   "cell_type": "markdown",
   "metadata": {},
   "source": [
    "## Get Price Snapshot\n",
    "The following gets a snapshot from the non-streaming RDP Pricing API - note the **get_data()** call"
   ]
  },
  {
   "cell_type": "code",
   "execution_count": 4,
   "metadata": {
    "pycharm": {
     "name": "#%%\n"
    }
   },
   "outputs": [
    {
     "data": {
      "text/html": [
       "<div>\n",
       "<style scoped>\n",
       "    .dataframe tbody tr th:only-of-type {\n",
       "        vertical-align: middle;\n",
       "    }\n",
       "\n",
       "    .dataframe tbody tr th {\n",
       "        vertical-align: top;\n",
       "    }\n",
       "\n",
       "    .dataframe thead th {\n",
       "        text-align: right;\n",
       "    }\n",
       "</style>\n",
       "<table border=\"1\" class=\"dataframe\">\n",
       "  <thead>\n",
       "    <tr style=\"text-align: right;\">\n",
       "      <th></th>\n",
       "      <th>Instruments</th>\n",
       "      <th>BID</th>\n",
       "      <th>ASK</th>\n",
       "    </tr>\n",
       "  </thead>\n",
       "  <tbody>\n",
       "    <tr>\n",
       "      <th>0</th>\n",
       "      <td>EUR=</td>\n",
       "      <td>1.1852</td>\n",
       "      <td>1.1853</td>\n",
       "    </tr>\n",
       "    <tr>\n",
       "      <th>1</th>\n",
       "      <td>GBP=</td>\n",
       "      <td>1.3792</td>\n",
       "      <td>1.3793</td>\n",
       "    </tr>\n",
       "    <tr>\n",
       "      <th>2</th>\n",
       "      <td>JPY=</td>\n",
       "      <td>109.96</td>\n",
       "      <td>109.99</td>\n",
       "    </tr>\n",
       "    <tr>\n",
       "      <th>3</th>\n",
       "      <td>CAD=</td>\n",
       "      <td>1.2598</td>\n",
       "      <td>1.2602</td>\n",
       "    </tr>\n",
       "  </tbody>\n",
       "</table>\n",
       "</div>"
      ],
      "text/plain": [
       "  Instruments     BID     ASK\n",
       "0        EUR=  1.1852  1.1853\n",
       "1        GBP=  1.3792  1.3793\n",
       "2        JPY=  109.96  109.99\n",
       "3        CAD=  1.2598  1.2602"
      ]
     },
     "metadata": {},
     "output_type": "display_data"
    }
   ],
   "source": [
    "# Define our RDP Snapshot Price object\n",
    "response = rd.content.pricing.Definition(\n",
    "    ['EUR=', 'GBP=', 'JPY=', 'CAD='],\n",
    "    fields=['BID', 'ASK']\n",
    ").get_data()\n",
    "\n",
    "if (response.is_success):\n",
    "    display(response.data.df)\n",
    "else:\n",
    "    print(response.http_status)"
   ]
  },
  {
   "cell_type": "markdown",
   "metadata": {},
   "source": [
    "## Alternative method for Snapshot data\n",
    "If the above code generates an error, this could be because you are not licensed for the RDP Snapshot API OR you are using a **Deployed** session.   \n",
    "If this is the case, then the following can be used to request a Snapshot from the Streaming data feed (assuming you have a Streaming Data licence) - note the **get_stream()** call"
   ]
  },
  {
   "cell_type": "code",
   "execution_count": 5,
   "metadata": {},
   "outputs": [
    {
     "name": "stdout",
     "output_type": "stream",
     "text": [
      "[2021-09-02 12:51:50,815] - [INFO] - [default-session] - [8004] | WebSocket 0 - OMM Protocol - PRICING\n",
      "Login to websocket wss://apac-3-t3.streaming-pricing-api.refinitiv.com:443/WebSocket successful\n"
     ]
    },
    {
     "data": {
      "text/html": [
       "<div>\n",
       "<style scoped>\n",
       "    .dataframe tbody tr th:only-of-type {\n",
       "        vertical-align: middle;\n",
       "    }\n",
       "\n",
       "    .dataframe tbody tr th {\n",
       "        vertical-align: top;\n",
       "    }\n",
       "\n",
       "    .dataframe thead th {\n",
       "        text-align: right;\n",
       "    }\n",
       "</style>\n",
       "<table border=\"1\" class=\"dataframe\">\n",
       "  <thead>\n",
       "    <tr style=\"text-align: right;\">\n",
       "      <th></th>\n",
       "      <th>Instrument</th>\n",
       "      <th>BID</th>\n",
       "      <th>ASK</th>\n",
       "    </tr>\n",
       "  </thead>\n",
       "  <tbody>\n",
       "    <tr>\n",
       "      <th>0</th>\n",
       "      <td>EUR=</td>\n",
       "      <td>1.1852</td>\n",
       "      <td>1.1855</td>\n",
       "    </tr>\n",
       "    <tr>\n",
       "      <th>1</th>\n",
       "      <td>GBP=</td>\n",
       "      <td>1.3791</td>\n",
       "      <td>1.3796</td>\n",
       "    </tr>\n",
       "    <tr>\n",
       "      <th>2</th>\n",
       "      <td>JPY=</td>\n",
       "      <td>109.97</td>\n",
       "      <td>109.98</td>\n",
       "    </tr>\n",
       "    <tr>\n",
       "      <th>3</th>\n",
       "      <td>CAD=</td>\n",
       "      <td>1.2603</td>\n",
       "      <td>1.2604</td>\n",
       "    </tr>\n",
       "  </tbody>\n",
       "</table>\n",
       "</div>"
      ],
      "text/plain": [
       "  Instrument     BID     ASK\n",
       "0       EUR=  1.1852  1.1855\n",
       "1       GBP=  1.3791  1.3796\n",
       "2       JPY=  109.97  109.98\n",
       "3       CAD=  1.2603  1.2604"
      ]
     },
     "execution_count": 5,
     "metadata": {},
     "output_type": "execute_result"
    }
   ],
   "source": [
    "# Define our Streaming Price object\n",
    "non_streaming = rd.content.pricing.Definition(\n",
    "    ['EUR=', 'GBP=', 'JPY=', 'CAD='],\n",
    "    fields=['BID', 'ASK']\n",
    ").get_stream()\n",
    "\n",
    "# We want to just snap the current prices, don't need updates\n",
    "# Open the instrument in non-streaming mode\n",
    "non_streaming.open(with_updates=False)\n",
    "# Snapshot the prices at the time of the open() call\n",
    "non_streaming.get_snapshot()"
   ]
  },
  {
   "cell_type": "markdown",
   "metadata": {},
   "source": [
    "The non-streaming requests are closed by the server - **no need to close them**.   \n",
    "\n",
    "### Alternative ways of accessing instruments + values"
   ]
  },
  {
   "cell_type": "markdown",
   "metadata": {},
   "source": [
    "#### Direct Access to fields"
   ]
  },
  {
   "cell_type": "code",
   "execution_count": 11,
   "metadata": {},
   "outputs": [
    {
     "data": {
      "text/plain": [
       "1.1852"
      ]
     },
     "execution_count": 11,
     "metadata": {},
     "output_type": "execute_result"
    }
   ],
   "source": [
    "non_streaming['EUR=']['BID']"
   ]
  },
  {
   "cell_type": "code",
   "execution_count": 12,
   "metadata": {},
   "outputs": [
    {
     "data": {
      "text/plain": [
       "1.1855"
      ]
     },
     "execution_count": 12,
     "metadata": {},
     "output_type": "execute_result"
    }
   ],
   "source": [
    "eur = non_streaming['EUR=']\n",
    "eur['ASK']"
   ]
  },
  {
   "cell_type": "markdown",
   "metadata": {},
   "source": [
    "#### Iterate on fields"
   ]
  },
  {
   "cell_type": "code",
   "execution_count": 13,
   "metadata": {},
   "outputs": [
    {
     "name": "stdout",
     "output_type": "stream",
     "text": [
      "JPY=\n",
      "\tBID : 109.97\n",
      "\tASK : 109.98\n"
     ]
    }
   ],
   "source": [
    "print('JPY=')\n",
    "for field_name, field_value in non_streaming['JPY=']:\n",
    "    print(f\"\\t{field_name} : {field_value}\")"
   ]
  },
  {
   "cell_type": "markdown",
   "metadata": {},
   "source": [
    "#### Iterate on instruments and fields"
   ]
  },
  {
   "cell_type": "code",
   "execution_count": 14,
   "metadata": {},
   "outputs": [
    {
     "name": "stdout",
     "output_type": "stream",
     "text": [
      "EUR=\n",
      "\tBID : 1.1852\n",
      "\tASK : 1.1855\n",
      "GBP=\n",
      "\tBID : 1.3791\n",
      "\tASK : 1.3796\n",
      "JPY=\n",
      "\tBID : 109.97\n",
      "\tASK : 109.98\n",
      "CAD=\n",
      "\tBID : 1.2603\n",
      "\tASK : 1.2604\n"
     ]
    }
   ],
   "source": [
    "for instrument in non_streaming:\n",
    "    print(instrument.name)\n",
    "    for field_name, field_value in instrument:\n",
    "        print(f\"\\t{field_name} : {field_value}\")"
   ]
  },
  {
   "cell_type": "markdown",
   "metadata": {},
   "source": [
    "## Close the session"
   ]
  },
  {
   "cell_type": "code",
   "execution_count": 15,
   "metadata": {
    "pycharm": {
     "name": "#%%\n"
    }
   },
   "outputs": [],
   "source": [
    "close_session()"
   ]
  },
  {
   "cell_type": "code",
   "execution_count": null,
   "metadata": {},
   "outputs": [],
   "source": []
  }
 ],
 "metadata": {
  "kernelspec": {
   "display_name": "RevData39",
   "language": "python",
   "name": "rd39"
  },
  "language_info": {
   "codemirror_mode": {
    "name": "ipython",
    "version": 3
   },
   "file_extension": ".py",
   "mimetype": "text/x-python",
   "name": "python",
   "nbconvert_exporter": "python",
   "pygments_lexer": "ipython3",
   "version": "3.9.4"
  }
 },
 "nbformat": 4,
 "nbformat_minor": 4
}
