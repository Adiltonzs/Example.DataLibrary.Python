{
 "cells": [
  {
   "cell_type": "markdown",
   "metadata": {},
   "source": [
    "# Refinitiv Data Platform Library for Python\n",
    "## Content - Pricing - Chain constituents\n",
    "\n",
    "This notebook demonstrates how to use the Pricing interface to retrieve the consituents of a Chain instrument :\n",
    "- either as a static snapshot of the current Constituent RICs\n",
    "- or streaming updates for any changes to Constituent RICs"
   ]
  },
  {
   "cell_type": "markdown",
   "metadata": {},
   "source": [
    "## Import the library and load credentials\n",
    "\n",
    "Credentials used by this and the other tutorials notebooks are stored in the **Configuration/credentials.ipynb** file.     \n",
    "\n",
    "You should have edited the **Configuration/credentials.ipynb** to set your credentials as part of the **Quick Start** step."
   ]
  },
  {
   "cell_type": "code",
   "execution_count": 3,
   "metadata": {
    "pycharm": {
     "name": "#%%\n"
    }
   },
   "outputs": [],
   "source": [
    "from refinitiv.data.content import pricing\n",
    "from IPython.display import display, clear_output\n",
    "\n",
    "%run ../../Configuration/credentials.ipynb"
   ]
  },
  {
   "cell_type": "markdown",
   "metadata": {},
   "source": [
    "## Open the session of your choice\n",
    "\n",
    "Use our helper function in the Credentials notebook, **open_session(session_type)**, to create and open a session to connect to the \n",
    "- Refinitiv Data Platform directly (session_type=\"rdp\") or via \n",
    "- Eikon 4 or Refinitiv Workspace (session_type=\"desktop\") or via a \n",
    "- local realtime infrastructure (session_type=\"deployed\").\n",
    "\n",
    "You can also set a default in the **credentials** notebook"
   ]
  },
  {
   "cell_type": "code",
   "execution_count": 4,
   "metadata": {},
   "outputs": [
    {
     "data": {
      "text/plain": [
       "<refinitiv.data._data.core.session._platform_session.PlatformSession at 0x1fdf76afd30>"
      ]
     },
     "execution_count": 4,
     "metadata": {},
     "output_type": "execute_result"
    }
   ],
   "source": [
    "open_session()"
   ]
  },
  {
   "cell_type": "markdown",
   "metadata": {},
   "source": [
    "## Define and open Chain\n",
    "Define a streaming price object for the FTSE index. "
   ]
  },
  {
   "cell_type": "code",
   "execution_count": 5,
   "metadata": {},
   "outputs": [],
   "source": [
    "ftse = pricing.chain.Definition(universe=\"0#.FTSE\").get_stream()"
   ]
  },
  {
   "cell_type": "markdown",
   "metadata": {},
   "source": [
    "Then open method tells the Chain object to subscribe to a stream of the constituent RICs."
   ]
  },
  {
   "cell_type": "code",
   "execution_count": 6,
   "metadata": {},
   "outputs": [
    {
     "data": {
      "text/plain": [
       "<StreamState.Closed: 1>"
      ]
     },
     "execution_count": 6,
     "metadata": {},
     "output_type": "execute_result"
    }
   ],
   "source": [
    "ftse.open()"
   ]
  },
  {
   "cell_type": "markdown",
   "metadata": {},
   "source": [
    "#### Get a list of the current Constituent RICs"
   ]
  },
  {
   "cell_type": "markdown",
   "metadata": {},
   "source": [
    "Once the open method returns, the Chain object is ready to be used. Its internal cache will be updated as and when the list of Consituent changes - which for many Chains is not that often - e.g. the FTSE constituents don't change that often.\n",
    "However, for some chains, the constituents can change more often."
   ]
  },
  {
   "cell_type": "code",
   "execution_count": 7,
   "metadata": {},
   "outputs": [
    {
     "data": {
      "text/plain": [
       "['AAL.L',\n",
       " 'ABF.L',\n",
       " 'ADML.L',\n",
       " 'AHT.L',\n",
       " 'ANTO.L',\n",
       " 'AUTOA.L',\n",
       " 'AV.L',\n",
       " 'AVST.L',\n",
       " 'AVV.L',\n",
       " 'AZN.L',\n",
       " 'BAES.L',\n",
       " 'BARC.L',\n",
       " 'BATS.L',\n",
       " 'BDEV.L',\n",
       " 'BHPB.L',\n",
       " 'BKGH.L',\n",
       " 'BLND.L',\n",
       " 'BMEB.L',\n",
       " 'BNZL.L',\n",
       " 'BP.L',\n",
       " 'BRBY.L',\n",
       " 'BT.L',\n",
       " 'CCH.L',\n",
       " 'CPG.L',\n",
       " 'CRDA.L',\n",
       " 'CRH.L',\n",
       " 'DCC.L',\n",
       " 'DGE.L',\n",
       " 'ENT.L',\n",
       " 'EVRE.L',\n",
       " 'EXPN.L',\n",
       " 'FERG.L',\n",
       " 'FLTRF.L',\n",
       " 'FRES.L',\n",
       " 'GLEN.L',\n",
       " 'GSK.L',\n",
       " 'HIK.L',\n",
       " 'HLMA.L',\n",
       " 'HRGV.L',\n",
       " 'HSBA.L',\n",
       " 'ICAG.L',\n",
       " 'ICP.L',\n",
       " 'IHG.L',\n",
       " 'III.L',\n",
       " 'IMB.L',\n",
       " 'INF.L',\n",
       " 'ITRK.L',\n",
       " 'JD.L',\n",
       " 'JETJ.L',\n",
       " 'JMAT.L',\n",
       " 'KGF.L',\n",
       " 'LAND.L',\n",
       " 'LGEN.L',\n",
       " 'LLOY.L',\n",
       " 'LSEG.L',\n",
       " 'MNDI.L',\n",
       " 'MNG.L',\n",
       " 'MRON.L',\n",
       " 'NG.L',\n",
       " 'NWG.L',\n",
       " 'NXT.L',\n",
       " 'OCDO.L',\n",
       " 'PHNX.L',\n",
       " 'POLYP.L',\n",
       " 'PRU.L',\n",
       " 'PSHP.L',\n",
       " 'PSN.L',\n",
       " 'PSON.L',\n",
       " 'RDSa.L',\n",
       " 'RDSb.L',\n",
       " 'REL.L',\n",
       " 'RIO.L',\n",
       " 'RKT.L',\n",
       " 'RMG.L',\n",
       " 'RMV.L',\n",
       " 'RR.L',\n",
       " 'RSW.L',\n",
       " 'RTO.L',\n",
       " 'SBRY.L',\n",
       " 'SDR.L',\n",
       " 'SGE.L',\n",
       " 'SGRO.L',\n",
       " 'SJP.L',\n",
       " 'SKG.L',\n",
       " 'SLA.L',\n",
       " 'SMDS.L',\n",
       " 'SMIN.L',\n",
       " 'SMT.L',\n",
       " 'SN.L',\n",
       " 'SPX.L',\n",
       " 'SSE.L',\n",
       " 'STAN.L',\n",
       " 'SVT.L',\n",
       " 'TSCO.L',\n",
       " 'TW.L',\n",
       " 'ULVR.L',\n",
       " 'UU.L',\n",
       " 'VOD.L',\n",
       " 'WEIR.L',\n",
       " 'WPP.L',\n",
       " 'WTB.L']"
      ]
     },
     "metadata": {},
     "output_type": "display_data"
    }
   ],
   "source": [
    "constituent_list = ftse.get_constituents()\n",
    "display(constituent_list)"
   ]
  },
  {
   "cell_type": "markdown",
   "metadata": {},
   "source": [
    "### Other means of accessing the list of constituents"
   ]
  },
  {
   "cell_type": "markdown",
   "metadata": {},
   "source": [
    "##### Check if the Stream really is for a chain instrument?"
   ]
  },
  {
   "cell_type": "code",
   "execution_count": 8,
   "metadata": {},
   "outputs": [
    {
     "name": "stdout",
     "output_type": "stream",
     "text": [
      "<StreamingChain 0#.FTSE> is_chain : True\n"
     ]
    }
   ],
   "source": [
    "# check is this a chain or not?\n",
    "print(f\"{ftse} is_chain :\", ftse.is_chain )"
   ]
  },
  {
   "cell_type": "markdown",
   "metadata": {},
   "source": [
    "#### Get constituent in the chain record"
   ]
  },
  {
   "cell_type": "code",
   "execution_count": 9,
   "metadata": {},
   "outputs": [
    {
     "name": "stdout",
     "output_type": "stream",
     "text": [
      "<StreamingChain 0#.FTSE> constituent at index 1 : ABF.L\n"
     ]
    }
   ],
   "source": [
    "# at this point we do snapshot here be aware it might be changed\n",
    "constituent_at_index_1 = ftse[1]\n",
    "print(f\"{ftse} constituent at index 1 :\", constituent_at_index_1 )"
   ]
  },
  {
   "cell_type": "code",
   "execution_count": 10,
   "metadata": {},
   "outputs": [
    {
     "name": "stdout",
     "output_type": "stream",
     "text": [
      "0 = AAL.L\n",
      "1 = ABF.L\n",
      "2 = ADML.L\n",
      "3 = AHT.L\n",
      "4 = ANTO.L\n",
      "5 = AUTOA.L\n",
      "6 = AV.L\n",
      "7 = AVST.L\n",
      "8 = AVV.L\n",
      "9 = AZN.L\n",
      "10 = BAES.L\n",
      "11 = BARC.L\n",
      "12 = BATS.L\n",
      "13 = BDEV.L\n",
      "14 = BHPB.L\n",
      "15 = BKGH.L\n",
      "16 = BLND.L\n",
      "17 = BMEB.L\n",
      "18 = BNZL.L\n",
      "19 = BP.L\n",
      "20 = BRBY.L\n",
      "21 = BT.L\n",
      "22 = CCH.L\n",
      "23 = CPG.L\n",
      "24 = CRDA.L\n",
      "25 = CRH.L\n",
      "26 = DCC.L\n",
      "27 = DGE.L\n",
      "28 = ENT.L\n",
      "29 = EVRE.L\n",
      "30 = EXPN.L\n",
      "31 = FERG.L\n",
      "32 = FLTRF.L\n",
      "33 = FRES.L\n",
      "34 = GLEN.L\n",
      "35 = GSK.L\n",
      "36 = HIK.L\n",
      "37 = HLMA.L\n",
      "38 = HRGV.L\n",
      "39 = HSBA.L\n",
      "40 = ICAG.L\n",
      "41 = ICP.L\n",
      "42 = IHG.L\n",
      "43 = III.L\n",
      "44 = IMB.L\n",
      "45 = INF.L\n",
      "46 = ITRK.L\n",
      "47 = JD.L\n",
      "48 = JETJ.L\n",
      "49 = JMAT.L\n",
      "50 = KGF.L\n",
      "51 = LAND.L\n",
      "52 = LGEN.L\n",
      "53 = LLOY.L\n",
      "54 = LSEG.L\n",
      "55 = MNDI.L\n",
      "56 = MNG.L\n",
      "57 = MRON.L\n",
      "58 = NG.L\n",
      "59 = NWG.L\n",
      "60 = NXT.L\n",
      "61 = OCDO.L\n",
      "62 = PHNX.L\n",
      "63 = POLYP.L\n",
      "64 = PRU.L\n",
      "65 = PSHP.L\n",
      "66 = PSN.L\n",
      "67 = PSON.L\n",
      "68 = RDSa.L\n",
      "69 = RDSb.L\n",
      "70 = REL.L\n",
      "71 = RIO.L\n",
      "72 = RKT.L\n",
      "73 = RMG.L\n",
      "74 = RMV.L\n",
      "75 = RR.L\n",
      "76 = RSW.L\n",
      "77 = RTO.L\n",
      "78 = SBRY.L\n",
      "79 = SDR.L\n",
      "80 = SGE.L\n",
      "81 = SGRO.L\n",
      "82 = SJP.L\n",
      "83 = SKG.L\n",
      "84 = SLA.L\n",
      "85 = SMDS.L\n",
      "86 = SMIN.L\n",
      "87 = SMT.L\n",
      "88 = SN.L\n",
      "89 = SPX.L\n",
      "90 = SSE.L\n",
      "91 = STAN.L\n",
      "92 = SVT.L\n",
      "93 = TSCO.L\n",
      "94 = TW.L\n",
      "95 = ULVR.L\n",
      "96 = UU.L\n",
      "97 = VOD.L\n",
      "98 = WEIR.L\n",
      "99 = WPP.L\n",
      "100 = WTB.L\n"
     ]
    }
   ],
   "source": [
    "# loop over all constituents in the chain record\n",
    "for index, constituent in enumerate( ftse ):\n",
    "    print(f\"{index} = {constituent}\")"
   ]
  },
  {
   "cell_type": "markdown",
   "metadata": {},
   "source": [
    "#### Get the summary links of the chain record"
   ]
  },
  {
   "cell_type": "code",
   "execution_count": 11,
   "metadata": {},
   "outputs": [
    {
     "name": "stdout",
     "output_type": "stream",
     "text": [
      "summary links of the chain are : ['.FTSE', '.AD.FTSE']\n"
     ]
    }
   ],
   "source": [
    "summary_links = ftse.summary_links\n",
    "print(f\"summary links of the chain are : {summary_links}\")"
   ]
  },
  {
   "cell_type": "markdown",
   "metadata": {},
   "source": [
    "### Close the StreamingChains"
   ]
  },
  {
   "cell_type": "code",
   "execution_count": 12,
   "metadata": {},
   "outputs": [
    {
     "data": {
      "text/plain": [
       "<StreamState.Closed: 1>"
      ]
     },
     "execution_count": 12,
     "metadata": {},
     "output_type": "execute_result"
    }
   ],
   "source": [
    "ftse.close()"
   ]
  },
  {
   "cell_type": "markdown",
   "metadata": {},
   "source": [
    "Once closed is called the Chain stops updating its internal cache of Constituents . The get_constituents function can still be called but it will always return the same values. "
   ]
  },
  {
   "cell_type": "markdown",
   "metadata": {},
   "source": [
    "#### Additional Parameters\n",
    "You can control whether to skip summary Links and/or empty constituents - with the optional parameters which default to True."
   ]
  },
  {
   "cell_type": "code",
   "execution_count": 13,
   "metadata": {},
   "outputs": [],
   "source": [
    "ftse = rd.content.pricing.chain.Definition(universe=\"0#.FTSE\").get_stream(\n",
    "    session=session,\n",
    "    skip_summary_links=True,  # Default True\n",
    "    skip_empty=True,  # Default True\n",
    ")"
   ]
  },
  {
   "cell_type": "markdown",
   "metadata": {},
   "source": [
    "If you are not planning to use the Chain over an extended period of time and just want to snap the current Constituents, you can open it without updates."
   ]
  },
  {
   "cell_type": "code",
   "execution_count": 14,
   "metadata": {},
   "outputs": [
    {
     "data": {
      "text/plain": [
       "<StreamState.Closed: 1>"
      ]
     },
     "execution_count": 14,
     "metadata": {},
     "output_type": "execute_result"
    }
   ],
   "source": [
    "ftse.open(with_updates=False)"
   ]
  },
  {
   "cell_type": "markdown",
   "metadata": {},
   "source": [
    "The Library will request the Chain and then close the stream once it has received a response from the server."
   ]
  },
  {
   "cell_type": "markdown",
   "metadata": {},
   "source": [
    "## Close the session"
   ]
  },
  {
   "cell_type": "code",
   "execution_count": null,
   "metadata": {},
   "outputs": [],
   "source": [
    "close_session()"
   ]
  },
  {
   "cell_type": "code",
   "execution_count": null,
   "metadata": {},
   "outputs": [],
   "source": []
  }
 ],
 "metadata": {
  "kernelspec": {
   "display_name": "RevData39",
   "language": "python",
   "name": "rd39"
  },
  "language_info": {
   "codemirror_mode": {
    "name": "ipython",
    "version": 3
   },
   "file_extension": ".py",
   "mimetype": "text/x-python",
   "name": "python",
   "nbconvert_exporter": "python",
   "pygments_lexer": "ipython3",
   "version": "3.9.4"
  }
 },
 "nbformat": 4,
 "nbformat_minor": 4
}
