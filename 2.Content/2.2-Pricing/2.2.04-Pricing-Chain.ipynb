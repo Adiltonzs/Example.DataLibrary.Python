{
 "cells": [
  {
   "cell_type": "markdown",
   "metadata": {},
   "source": [
    "# Refinitiv Data Library for Python\n",
    "## Content - Pricing - Chain constituents\n",
    "\n",
    "This notebook demonstrates how to use the Pricing interface to retrieve the consituents of a Chain instrument :\n",
    "- either as a static snapshot of the current Constituent RICs\n",
    "- or streaming updates for any changes to Constituent RICs"
   ]
  },
  {
   "cell_type": "markdown",
   "metadata": {},
   "source": [
    "## Import the library and load credentials\n",
    "\n",
    "Credentials used by this and the other tutorials notebooks are stored in the **Configuration/credentials.ipynb** file.     \n",
    "\n",
    "You should have edited the **Configuration/credentials.ipynb** to set your credentials as part of the **Quick Start** step."
   ]
  },
  {
   "cell_type": "code",
   "execution_count": 1,
   "metadata": {
    "pycharm": {
     "name": "#%%\n"
    }
   },
   "outputs": [],
   "source": [
    "from refinitiv.data.content import pricing\n",
    "from IPython.display import display, clear_output\n",
    "\n",
    "%run ../../Configuration/credentials.ipynb"
   ]
  },
  {
   "cell_type": "markdown",
   "metadata": {},
   "source": [
    "## Open the session of your choice\n",
    "\n",
    "Use our helper function in the Credentials notebook, **open_session(session_type)**, to create and open a session to connect to the \n",
    "- Refinitiv Data Platform directly (session_type=\"rdp\") or via \n",
    "- Eikon 4 or Refinitiv Workspace (session_type=\"desktop\") or via a \n",
    "- local realtime infrastructure (session_type=\"deployed\").\n",
    "\n",
    "You can also set a default in the **credentials** notebook"
   ]
  },
  {
   "cell_type": "code",
   "execution_count": 2,
   "metadata": {},
   "outputs": [
    {
     "data": {
      "text/plain": [
       "<refinitiv.data.session._platform_session.Definition object at 0x20a7b9464f0 {session_name='default-session'}>"
      ]
     },
     "execution_count": 2,
     "metadata": {},
     "output_type": "execute_result"
    }
   ],
   "source": [
    "open_session()"
   ]
  },
  {
   "cell_type": "markdown",
   "metadata": {},
   "source": [
    "## Define and open Chain\n",
    "Define a streaming price object for the FTSE index. "
   ]
  },
  {
   "cell_type": "code",
   "execution_count": 3,
   "metadata": {},
   "outputs": [],
   "source": [
    "# define a chain to fetch FTSE constituent RICs\n",
    "ftse = pricing.chain.Definition(universe=\"0#.FTSE\").get_stream()"
   ]
  },
  {
   "cell_type": "markdown",
   "metadata": {},
   "source": [
    "Then open method tells the Chain object to subscribe to a stream of the constituent RICs."
   ]
  },
  {
   "cell_type": "code",
   "execution_count": 4,
   "metadata": {},
   "outputs": [
    {
     "name": "stdout",
     "output_type": "stream",
     "text": [
      "[2021-09-02 12:57:02,928] - [INFO] - [default-session] - [31140] | WebSocket 0 - OMM Protocol - PRICING\n",
      "Login to websocket wss://apac-3-t3.streaming-pricing-api.refinitiv.com:443/WebSocket successful\n"
     ]
    },
    {
     "data": {
      "text/plain": [
       "<StreamState.Open: 3>"
      ]
     },
     "execution_count": 4,
     "metadata": {},
     "output_type": "execute_result"
    }
   ],
   "source": [
    "ftse.open()"
   ]
  },
  {
   "cell_type": "markdown",
   "metadata": {},
   "source": [
    "#### Get a list of the current Constituent RICs"
   ]
  },
  {
   "cell_type": "markdown",
   "metadata": {},
   "source": [
    "Once the open method returns, the Chain object is ready to be used. Its internal cache will be updated as and when the list of Consituent changes - which for many Chains is not that often - e.g. the FTSE constituents don't change that often.\n",
    "However, for some chains, the constituents can change more often."
   ]
  },
  {
   "cell_type": "code",
   "execution_count": 5,
   "metadata": {},
   "outputs": [
    {
     "data": {
      "text/plain": [
       "['AAL.L',\n",
       " 'ABDN.L',\n",
       " 'ABF.L',\n",
       " 'ADML.L',\n",
       " 'AHT.L',\n",
       " 'ANTO.L',\n",
       " 'AUTOA.L',\n",
       " 'AV.L',\n",
       " 'AVST.L',\n",
       " 'AVV.L',\n",
       " 'AZN.L',\n",
       " 'BAES.L',\n",
       " 'BARC.L',\n",
       " 'BATS.L',\n",
       " 'BDEV.L',\n",
       " 'BHPB.L',\n",
       " 'BKGH.L',\n",
       " 'BLND.L',\n",
       " 'BMEB.L',\n",
       " 'BNZL.L',\n",
       " 'BP.L',\n",
       " 'BRBY.L',\n",
       " 'BT.L',\n",
       " 'CCH.L',\n",
       " 'CPG.L',\n",
       " 'CRDA.L',\n",
       " 'CRH.L',\n",
       " 'DCC.L',\n",
       " 'DGE.L',\n",
       " 'ENT.L',\n",
       " 'EVRE.L',\n",
       " 'EXPN.L',\n",
       " 'FERG.L',\n",
       " 'FLTRF.L',\n",
       " 'FRES.L',\n",
       " 'GLEN.L',\n",
       " 'GSK.L',\n",
       " 'HIK.L',\n",
       " 'HLMA.L',\n",
       " 'HRGV.L',\n",
       " 'HSBA.L',\n",
       " 'ICAG.L',\n",
       " 'ICP.L',\n",
       " 'IHG.L',\n",
       " 'III.L',\n",
       " 'IMB.L',\n",
       " 'INF.L',\n",
       " 'ITRK.L',\n",
       " 'ITV.L',\n",
       " 'JD.L',\n",
       " 'JETJ.L',\n",
       " 'JMAT.L',\n",
       " 'KGF.L',\n",
       " 'LAND.L',\n",
       " 'LGEN.L',\n",
       " 'LLOY.L',\n",
       " 'LSEG.L',\n",
       " 'MNDI.L',\n",
       " 'MNG.L',\n",
       " 'MRON.L',\n",
       " 'NG.L',\n",
       " 'NWG.L',\n",
       " 'NXT.L',\n",
       " 'OCDO.L',\n",
       " 'PHNX.L',\n",
       " 'POLYP.L',\n",
       " 'PRU.L',\n",
       " 'PSHP.L',\n",
       " 'PSN.L',\n",
       " 'PSON.L',\n",
       " 'RDSa.L',\n",
       " 'RDSb.L',\n",
       " 'REL.L',\n",
       " 'RIO.L',\n",
       " 'RKT.L',\n",
       " 'RMG.L',\n",
       " 'RMV.L',\n",
       " 'RR.L',\n",
       " 'RTO.L',\n",
       " 'SBRY.L',\n",
       " 'SDR.L',\n",
       " 'SGE.L',\n",
       " 'SGRO.L',\n",
       " 'SJP.L',\n",
       " 'SKG.L',\n",
       " 'SMDS.L',\n",
       " 'SMIN.L',\n",
       " 'SMT.L',\n",
       " 'SN.L',\n",
       " 'SPX.L',\n",
       " 'SSE.L',\n",
       " 'STAN.L',\n",
       " 'SVT.L',\n",
       " 'TSCO.L',\n",
       " 'TW.L',\n",
       " 'ULVR.L',\n",
       " 'UU.L',\n",
       " 'VOD.L',\n",
       " 'WEIR.L',\n",
       " 'WPP.L',\n",
       " 'WTB.L']"
      ]
     },
     "metadata": {},
     "output_type": "display_data"
    }
   ],
   "source": [
    "constituent_list = ftse.get_constituents()\n",
    "display(constituent_list)"
   ]
  },
  {
   "cell_type": "markdown",
   "metadata": {},
   "source": [
    "### Other means of accessing the list of constituents"
   ]
  },
  {
   "cell_type": "markdown",
   "metadata": {},
   "source": [
    "##### Check if the Stream really is for a chain instrument?"
   ]
  },
  {
   "cell_type": "code",
   "execution_count": 6,
   "metadata": {},
   "outputs": [
    {
     "name": "stdout",
     "output_type": "stream",
     "text": [
      "<StreamingChain 0#.FTSE> is_chain : True\n"
     ]
    }
   ],
   "source": [
    "# check is this a chain or not?\n",
    "print(f\"{ftse} is_chain :\", ftse.is_chain )"
   ]
  },
  {
   "cell_type": "markdown",
   "metadata": {},
   "source": [
    "#### Get constituent in the chain record"
   ]
  },
  {
   "cell_type": "code",
   "execution_count": 7,
   "metadata": {},
   "outputs": [
    {
     "name": "stdout",
     "output_type": "stream",
     "text": [
      "<StreamingChain 0#.FTSE> constituent at index 0 : AAL.L\n"
     ]
    }
   ],
   "source": [
    "# at this point we do snapshot for 1st RIC - as its a streaming request, it may different to the above\n",
    "first_constituent = ftse[0]\n",
    "print(f\"{ftse} constituent at index 0 :\", first_constituent )"
   ]
  },
  {
   "cell_type": "code",
   "execution_count": 8,
   "metadata": {},
   "outputs": [
    {
     "name": "stdout",
     "output_type": "stream",
     "text": [
      "0 = AAL.L\n",
      "1 = ABDN.L\n",
      "2 = ABF.L\n",
      "3 = ADML.L\n",
      "4 = AHT.L\n",
      "5 = ANTO.L\n",
      "6 = AUTOA.L\n",
      "7 = AV.L\n",
      "8 = AVST.L\n",
      "9 = AVV.L\n",
      "10 = AZN.L\n",
      "11 = BAES.L\n",
      "12 = BARC.L\n",
      "13 = BATS.L\n",
      "14 = BDEV.L\n",
      "15 = BHPB.L\n",
      "16 = BKGH.L\n",
      "17 = BLND.L\n",
      "18 = BMEB.L\n",
      "19 = BNZL.L\n",
      "20 = BP.L\n",
      "21 = BRBY.L\n",
      "22 = BT.L\n",
      "23 = CCH.L\n",
      "24 = CPG.L\n",
      "25 = CRDA.L\n",
      "26 = CRH.L\n",
      "27 = DCC.L\n",
      "28 = DGE.L\n",
      "29 = ENT.L\n",
      "30 = EVRE.L\n",
      "31 = EXPN.L\n",
      "32 = FERG.L\n",
      "33 = FLTRF.L\n",
      "34 = FRES.L\n",
      "35 = GLEN.L\n",
      "36 = GSK.L\n",
      "37 = HIK.L\n",
      "38 = HLMA.L\n",
      "39 = HRGV.L\n",
      "40 = HSBA.L\n",
      "41 = ICAG.L\n",
      "42 = ICP.L\n",
      "43 = IHG.L\n",
      "44 = III.L\n",
      "45 = IMB.L\n",
      "46 = INF.L\n",
      "47 = ITRK.L\n",
      "48 = ITV.L\n",
      "49 = JD.L\n",
      "50 = JETJ.L\n",
      "51 = JMAT.L\n",
      "52 = KGF.L\n",
      "53 = LAND.L\n",
      "54 = LGEN.L\n",
      "55 = LLOY.L\n",
      "56 = LSEG.L\n",
      "57 = MNDI.L\n",
      "58 = MNG.L\n",
      "59 = MRON.L\n",
      "60 = NG.L\n",
      "61 = NWG.L\n",
      "62 = NXT.L\n",
      "63 = OCDO.L\n",
      "64 = PHNX.L\n",
      "65 = POLYP.L\n",
      "66 = PRU.L\n",
      "67 = PSHP.L\n",
      "68 = PSN.L\n",
      "69 = PSON.L\n",
      "70 = RDSa.L\n",
      "71 = RDSb.L\n",
      "72 = REL.L\n",
      "73 = RIO.L\n",
      "74 = RKT.L\n",
      "75 = RMG.L\n",
      "76 = RMV.L\n",
      "77 = RR.L\n",
      "78 = RTO.L\n",
      "79 = SBRY.L\n",
      "80 = SDR.L\n",
      "81 = SGE.L\n",
      "82 = SGRO.L\n",
      "83 = SJP.L\n",
      "84 = SKG.L\n",
      "85 = SMDS.L\n",
      "86 = SMIN.L\n",
      "87 = SMT.L\n",
      "88 = SN.L\n",
      "89 = SPX.L\n",
      "90 = SSE.L\n",
      "91 = STAN.L\n",
      "92 = SVT.L\n",
      "93 = TSCO.L\n",
      "94 = TW.L\n",
      "95 = ULVR.L\n",
      "96 = UU.L\n",
      "97 = VOD.L\n",
      "98 = WEIR.L\n",
      "99 = WPP.L\n",
      "100 = WTB.L\n"
     ]
    }
   ],
   "source": [
    "# loop over all constituents in the chain record\n",
    "for index, constituent in enumerate( ftse ):\n",
    "    print(f\"{index} = {constituent}\")"
   ]
  },
  {
   "cell_type": "markdown",
   "metadata": {},
   "source": [
    "#### Get the summary links of the chain record"
   ]
  },
  {
   "cell_type": "code",
   "execution_count": 9,
   "metadata": {},
   "outputs": [
    {
     "name": "stdout",
     "output_type": "stream",
     "text": [
      "summary links of the chain are : ['.FTSE', '.AD.FTSE']\n"
     ]
    }
   ],
   "source": [
    "# Chains often have Summary RICs for the chain\n",
    "summary_links = ftse.summary_links\n",
    "print(f\"summary links of the chain are : {summary_links}\")"
   ]
  },
  {
   "cell_type": "markdown",
   "metadata": {},
   "source": [
    "### Close the Streaming Chain instrument"
   ]
  },
  {
   "cell_type": "code",
   "execution_count": 10,
   "metadata": {},
   "outputs": [
    {
     "data": {
      "text/plain": [
       "<StreamState.Closed: 1>"
      ]
     },
     "execution_count": 10,
     "metadata": {},
     "output_type": "execute_result"
    }
   ],
   "source": [
    "ftse.close()"
   ]
  },
  {
   "cell_type": "markdown",
   "metadata": {},
   "source": [
    "Once close() is called the Chain stops updating its internal cache of Constituents. The get_constituents function can still be called but it will always return the state of the chaing before the close was called. "
   ]
  },
  {
   "cell_type": "markdown",
   "metadata": {},
   "source": [
    "#### Additional Parameters\n",
    "You can control whether to skip summary Links and/or empty constituents - with the optional parameters which default to True."
   ]
  },
  {
   "cell_type": "code",
   "execution_count": 11,
   "metadata": {},
   "outputs": [],
   "source": [
    "ftse = rd.content.pricing.chain.Definition(universe=\"0#.FTSE\").get_stream(\n",
    "    session=session,\n",
    "    skip_summary_links=True,  # Default True\n",
    "    skip_empty=True,  # Default True\n",
    ")"
   ]
  },
  {
   "cell_type": "markdown",
   "metadata": {},
   "source": [
    "#### Snap the Chain constituents\n",
    "If you are not planning to use the Chain over an extended period of time and/or just want to snap the current Constituents, you can open it without updates."
   ]
  },
  {
   "cell_type": "code",
   "execution_count": 12,
   "metadata": {},
   "outputs": [
    {
     "data": {
      "text/plain": [
       "<StreamState.Open: 3>"
      ]
     },
     "execution_count": 12,
     "metadata": {},
     "output_type": "execute_result"
    }
   ],
   "source": [
    "ftse.open(with_updates=False)"
   ]
  },
  {
   "cell_type": "markdown",
   "metadata": {},
   "source": [
    "The Library will request the Chain and then close the stream once it has received a response from the server.   \n",
    "You can then use the get_constituents function to access the consituent list as they were at the time of open() call."
   ]
  },
  {
   "cell_type": "markdown",
   "metadata": {},
   "source": [
    "## Close the session"
   ]
  },
  {
   "cell_type": "code",
   "execution_count": 13,
   "metadata": {
    "tags": []
   },
   "outputs": [],
   "source": [
    "close_session()"
   ]
  },
  {
   "cell_type": "code",
   "execution_count": null,
   "metadata": {},
   "outputs": [],
   "source": []
  }
 ],
 "metadata": {
  "kernelspec": {
   "display_name": "RevData39",
   "language": "python",
   "name": "rd39"
  },
  "language_info": {
   "codemirror_mode": {
    "name": "ipython",
    "version": 3
   },
   "file_extension": ".py",
   "mimetype": "text/x-python",
   "name": "python",
   "nbconvert_exporter": "python",
   "pygments_lexer": "ipython3",
   "version": "3.9.4"
  }
 },
 "nbformat": 4,
 "nbformat_minor": 4
}
