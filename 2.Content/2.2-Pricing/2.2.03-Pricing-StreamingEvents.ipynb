{
 "cells": [
  {
   "cell_type": "markdown",
   "metadata": {},
   "source": [
    "# Refinitiv Data Library for Python\n",
    "## Content - Pricing - Streaming\n",
    "\n",
    "This notebook demonstrates how a Price object to receive streaming real-time data.  "
   ]
  },
  {
   "cell_type": "markdown",
   "metadata": {},
   "source": [
    "## Import the library and load credentials\n",
    "\n",
    "Credentials used by this and the other tutorials notebooks are stored in the **Configuration/credentials.ipynb** file.     \n",
    "\n",
    "You should have edited the **Configuration/credentials.ipynb** to set your credentials as part of the **Quick Start** step."
   ]
  },
  {
   "cell_type": "code",
   "execution_count": 1,
   "metadata": {
    "collapsed": false,
    "jupyter": {
     "outputs_hidden": false
    },
    "pycharm": {
     "name": "#%%\n"
    }
   },
   "outputs": [],
   "source": [
    "from refinitiv.data.content import pricing\n",
    "from pandas import DataFrame\n",
    "from IPython.display import display, clear_output\n",
    "\n",
    "%run ../../Configuration/credentials.ipynb"
   ]
  },
  {
   "cell_type": "markdown",
   "metadata": {},
   "source": [
    "## Open the session of your choice\n",
    "\n",
    "Use our helper function in the Credentials notebook, **open_session(session_type)**, to create and open a session to connect to the \n",
    "- Refinitiv Data Platform directly (session_type=\"rdp\") or via \n",
    "- Eikon 4 or Refinitiv Workspace (session_type=\"desktop\") or via a \n",
    "- local realtime infrastructure (session_type=\"deployed\").\n",
    "\n",
    "You can also set a default in the **credentials** notebook - which I have done, and so I don't need to specify a session_type:"
   ]
  },
  {
   "cell_type": "code",
   "execution_count": 2,
   "metadata": {
    "collapsed": false,
    "jupyter": {
     "outputs_hidden": false
    },
    "pycharm": {
     "name": "#%%\n"
    }
   },
   "outputs": [
    {
     "data": {
      "text/plain": [
       "<refinitiv.data.session._platform_session.Definition object at 0x23bd00c7eb0 {session_name='session.platform.1'}>"
      ]
     },
     "execution_count": 2,
     "metadata": {},
     "output_type": "execute_result"
    }
   ],
   "source": [
    "# I have defined a default Session type in the Credentials notebook - so no need to provide one here\n",
    "open_session()"
   ]
  },
  {
   "cell_type": "markdown",
   "metadata": {},
   "source": [
    "### Define a callback to receive streaming data"
   ]
  },
  {
   "cell_type": "code",
   "execution_count": 3,
   "metadata": {},
   "outputs": [],
   "source": [
    "# Function to handle the intial Refresh for each item\n",
    "def handle_refresh(streaming_prices, instrument_name, fields):\n",
    "    # One way to access data - get dataframe\n",
    "    print(f\"Refresh : {streaming_prices.get_snapshot()}\")\n",
    "    return\n",
    "\n",
    "# Function to update dataframe, when we receive updates for individual items\n",
    "def handle_update(streaming_prices, instrument_name, fields):\n",
    "    # Alternative way of accesing data - access the updated fields\n",
    "    print(f\"Update : {instrument_name}:{fields}\")\n",
    "    \n",
    "# Function to extract status code for an item as & when received from server\n",
    "# Status contains a 'code' and a more detailed 'message'\n",
    "def handle_status(streaming_prices, instrument_name, status):\n",
    "    print(f\"Status : {instrument_name}:{status['code']}:{status['message']}\")"
   ]
  },
  {
   "cell_type": "markdown",
   "metadata": {},
   "source": [
    "### Create streams for our RICs and open them"
   ]
  },
  {
   "cell_type": "code",
   "execution_count": 4,
   "metadata": {},
   "outputs": [
    {
     "name": "stdout",
     "output_type": "stream",
     "text": [
      "Refresh :   Instrument     BID     ASK\n",
      "0       EUR=  1.1845  1.1849\n",
      "1       GBP=    <NA>    <NA>\n",
      "2       JPY=    <NA>    <NA>\n",
      "3     BADRIC    <NA>    <NA>\n",
      "Refresh :   Instrument     BID     ASK\n",
      "0       EUR=  1.1845  1.1849\n",
      "1       GBP=  1.3922  1.3926\n",
      "2       JPY=    <NA>    <NA>\n",
      "3     BADRIC    <NA>    <NA>\n",
      "Refresh :   Instrument     BID     ASK\n",
      "0       EUR=  1.1845  1.1849\n",
      "1       GBP=  1.3922  1.3926\n",
      "2       JPY=  109.44  109.47\n",
      "3     BADRIC    <NA>    <NA>\n",
      "Update : EUR=:{'BID': 1.1846, 'ASK': 1.1847}\n",
      "Status : BADRIC:NotFound:**The record could not be found\n"
     ]
    },
    {
     "data": {
      "text/plain": [
       "<StreamState.Open: 3>"
      ]
     },
     "execution_count": 4,
     "metadata": {},
     "output_type": "execute_result"
    },
    {
     "name": "stdout",
     "output_type": "stream",
     "text": [
      "Update : GBP=:{'BID': 1.3922, 'ASK': 1.3926}\n",
      "Update : EUR=:{'BID': 1.1845, 'ASK': 1.1849}\n",
      "Update : GBP=:{'BID': 1.3922, 'ASK': 1.3926}\n",
      "Update : EUR=:{'BID': 1.1846, 'ASK': 1.1847}\n",
      "Update : EUR=:{'BID': 1.1844, 'ASK': 1.1848}\n",
      "Update : JPY=:{'BID': 109.44, 'ASK': 109.46}\n",
      "Update : EUR=:{'BID': 1.1844, 'ASK': 1.1848}\n"
     ]
    }
   ],
   "source": [
    "# Define our Streaming Price object - including a bad ric for illustrative purposes\n",
    "streams = rd.content.pricing.Definition(\n",
    "    ['EUR=', 'GBP=', 'JPY=', 'BADRIC'],\n",
    "    fields=['BID', 'ASK']\n",
    ").get_stream()\n",
    "\n",
    "# Callback for if we wanted to handle invidiual Refresh for each item\n",
    "streams.on_refresh(handle_refresh)\n",
    "# Specify callback handler for any updates\n",
    "streams.on_update(handle_update)\n",
    "# Specify callback handler for any updates\n",
    "streams.on_status(handle_status)\n",
    "\n",
    "# Send the requests to the server and open the streams for all items\n",
    "streams.open()"
   ]
  },
  {
   "cell_type": "markdown",
   "metadata": {},
   "source": [
    "## Close the stream"
   ]
  },
  {
   "cell_type": "code",
   "execution_count": 5,
   "metadata": {},
   "outputs": [
    {
     "name": "stdout",
     "output_type": "stream",
     "text": [
      "Update : JPY=:{'BID': 109.44, 'ASK': 109.47}\n"
     ]
    },
    {
     "data": {
      "text/plain": [
       "<StreamState.Closed: 1>"
      ]
     },
     "execution_count": 5,
     "metadata": {},
     "output_type": "execute_result"
    }
   ],
   "source": [
    "streams.close()"
   ]
  },
  {
   "cell_type": "markdown",
   "metadata": {},
   "source": [
    "## Close the session"
   ]
  },
  {
   "cell_type": "code",
   "execution_count": 6,
   "metadata": {},
   "outputs": [],
   "source": [
    "close_session()"
   ]
  },
  {
   "cell_type": "code",
   "execution_count": null,
   "metadata": {},
   "outputs": [],
   "source": []
  }
 ],
 "metadata": {
  "kernelspec": {
   "display_name": "rddev6",
   "language": "python",
   "name": "rddev6"
  },
  "language_info": {
   "codemirror_mode": {
    "name": "ipython",
    "version": 3
   },
   "file_extension": ".py",
   "mimetype": "text/x-python",
   "name": "python",
   "nbconvert_exporter": "python",
   "pygments_lexer": "ipython3",
   "version": "3.8.10"
  }
 },
 "nbformat": 4,
 "nbformat_minor": 4
}
