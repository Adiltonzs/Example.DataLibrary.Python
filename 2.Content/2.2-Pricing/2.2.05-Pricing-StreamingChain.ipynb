{
 "cells": [
  {
   "cell_type": "markdown",
   "metadata": {},
   "source": [
    "# Refinitiv Data Library for Python\n",
    "## Content - Pricing - Chain + Streaming Constituents\n",
    "\n",
    "This notebook demonstrates how to use the Pricing interface to \n",
    "- retrieve the constituents of a Chain instrument\n",
    "- and then request Streaming data for the Constituents themselves"
   ]
  },
  {
   "cell_type": "markdown",
   "metadata": {},
   "source": [
    "## Import the library and load credentials\n",
    "\n",
    "Credentials used by this and the other tutorials notebooks are stored in the **Configuration/credentials.ipynb** file.     \n",
    "\n",
    "You should have edited the **Configuration/credentials.ipynb** to set your credentials as part of the **Quick Start** step."
   ]
  },
  {
   "cell_type": "code",
   "execution_count": 1,
   "metadata": {
    "collapsed": false,
    "jupyter": {
     "outputs_hidden": false
    },
    "pycharm": {
     "name": "#%%\n"
    }
   },
   "outputs": [],
   "source": [
    "from refinitiv.data.content import pricing\n",
    "from pandas import DataFrame\n",
    "from IPython.display import display, clear_output\n",
    "\n",
    "%run ../../Configuration/credentials.ipynb"
   ]
  },
  {
   "cell_type": "markdown",
   "metadata": {},
   "source": [
    "## Open the session of your choice\n",
    "\n",
    "Use our helper function in the Credentials notebook, **open_session(session_type)**, to create and open a session to connect to the \n",
    "- Refinitiv Data Platform directly (session_type=\"rdp\") or via \n",
    "- Eikon 4 or Refinitiv Workspace (session_type=\"desktop\") or via a \n",
    "- local realtime infrastructure (session_type=\"deployed\").\n",
    "\n",
    "You can also set a default in the **credentials** notebook (which I have done)"
   ]
  },
  {
   "cell_type": "code",
   "execution_count": 2,
   "metadata": {
    "collapsed": false,
    "jupyter": {
     "outputs_hidden": false
    },
    "pycharm": {
     "name": "#%%\n"
    }
   },
   "outputs": [
    {
     "data": {
      "text/plain": [
       "<refinitiv.data.session._platform_session.Definition object at 0x1f5345774c0 {session_name='session.platform.1'}>"
      ]
     },
     "execution_count": 2,
     "metadata": {},
     "output_type": "execute_result"
    }
   ],
   "source": [
    "open_session()"
   ]
  },
  {
   "cell_type": "markdown",
   "metadata": {},
   "source": [
    "### Define callbacks to display the streaming Constituents data\n",
    "We will use these later to display the streaming data for the Constituent RICs"
   ]
  },
  {
   "cell_type": "code",
   "execution_count": 3,
   "metadata": {},
   "outputs": [],
   "source": [
    "df = DataFrame()\n",
    "\n",
    "# Function to initially populate Dataframe, once initial values received for all items\n",
    "def create_dataframe(streaming_prices):\n",
    "    global df\n",
    "    snapshot = streaming_prices.get_snapshot()\n",
    "    field_names = snapshot.columns[1:]\n",
    "    instrument_names = snapshot['Instrument'].values\n",
    "    df = DataFrame(index=instrument_names, columns=field_names)\n",
    "    for price in streaming_prices:\n",
    "        for field_name, field_value in price.get_fields().items():\n",
    "            df.at[price.name, field_name] = field_value\n",
    "    display(df)\n",
    "\n",
    "# Function to update dataframe, when we receive updates for individual items\n",
    "def update_dataframe(streaming_prices, instrument_name, fields):\n",
    "    global df\n",
    "    clear_output(wait=True)\n",
    "    for field_name, field_value in fields.items():\n",
    "        df.at[instrument_name, field_name] = field_value\n",
    "    display(df)"
   ]
  },
  {
   "cell_type": "markdown",
   "metadata": {},
   "source": [
    "### Get the Chain's constituent RICs\n",
    "Define & snap the current constituents of the Chain and then display them"
   ]
  },
  {
   "cell_type": "code",
   "execution_count": 4,
   "metadata": {},
   "outputs": [
    {
     "name": "stdout",
     "output_type": "stream",
     "text": [
      "['AAPL.OQ', 'AMGN.OQ', 'AXP.N', 'BA.N', 'CAT.N', 'CRM.N', 'CSCO.OQ', 'CVX.N', 'DIS.N', 'DOW.N', 'GS.N', 'HD.N', 'HON.OQ', 'IBM.N', 'INTC.OQ', 'JNJ.N', 'JPM.N', 'KO.N', 'MCD.N', 'MMM.N', 'MRK.N', 'MSFT.OQ', 'NKE.N', 'PG.N', 'TRV.N', 'UNH.N', 'V.N', 'VZ.N', 'WBA.OQ', 'WMT.N']\n"
     ]
    }
   ],
   "source": [
    "# Define a Chain object for the Dow Jones Index\n",
    "dow = pricing.chain.Definition(universe=\"0#.DJI\").get_stream(session=session)\n",
    "# We just want a snapshot of the current Index\n",
    "dow.open(with_updates=False)\n",
    "## Extract the consituent RICs and display\n",
    "dow_constituents = dow.get_constituents()\n",
    "print(dow_constituents)"
   ]
  },
  {
   "cell_type": "markdown",
   "metadata": {},
   "source": [
    "## Create Streams for the consitutuents\n",
    "Define streams for all the consituents of the above chain, specifying two fields.   \n",
    "Specify callbacks to display the field values:\n",
    "- Call *create_dataframe* once we can received the intial response for all the constituents\n",
    "- Call *update_dataframe* as and when we receive field update for any of the consituents"
   ]
  },
  {
   "cell_type": "code",
   "execution_count": 5,
   "metadata": {},
   "outputs": [
    {
     "data": {
      "text/plain": [
       "<refinitiv.data.content.pricing.Stream object at 0x1f534577790 {name='['AAPL.OQ', 'AMGN.OQ', 'AXP.N', 'BA.N', 'CAT.N', 'CRM.N', 'CSCO.OQ', 'CVX.N', 'DIS.N', 'DOW.N', 'GS.N', 'HD.N', 'HON.OQ', 'IBM.N', 'INTC.OQ', 'JNJ.N', 'JPM.N', 'KO.N', 'MCD.N', 'MMM.N', 'MRK.N', 'MSFT.OQ', 'NKE.N', 'PG.N', 'TRV.N', 'UNH.N', 'V.N', 'VZ.N', 'WBA.OQ', 'WMT.N']'}>"
      ]
     },
     "execution_count": 5,
     "metadata": {},
     "output_type": "execute_result"
    }
   ],
   "source": [
    "# Define our Streaming Price object for all the consituents\n",
    "pricing_stream = pricing.Definition(universe=dow_constituents, fields=[\"BID\", \"ASK\"]).get_stream()\n",
    "# Specify the callback to create and display a dataframe \n",
    "# on_complete is invoked once we receive the initial image for all our instruments\n",
    "pricing_stream.on_complete(create_dataframe)\n",
    "#Specify the callback to display subsequent updates as and when received\n",
    "pricing_stream.on_update(update_dataframe)\n"
   ]
  },
  {
   "cell_type": "markdown",
   "metadata": {},
   "source": [
    "## Open the streams for all our constituents"
   ]
  },
  {
   "cell_type": "code",
   "execution_count": 6,
   "metadata": {},
   "outputs": [
    {
     "data": {
      "text/html": [
       "<div>\n",
       "<style scoped>\n",
       "    .dataframe tbody tr th:only-of-type {\n",
       "        vertical-align: middle;\n",
       "    }\n",
       "\n",
       "    .dataframe tbody tr th {\n",
       "        vertical-align: top;\n",
       "    }\n",
       "\n",
       "    .dataframe thead th {\n",
       "        text-align: right;\n",
       "    }\n",
       "</style>\n",
       "<table border=\"1\" class=\"dataframe\">\n",
       "  <thead>\n",
       "    <tr style=\"text-align: right;\">\n",
       "      <th></th>\n",
       "      <th>BID</th>\n",
       "      <th>ASK</th>\n",
       "    </tr>\n",
       "  </thead>\n",
       "  <tbody>\n",
       "    <tr>\n",
       "      <th>AAPL.OQ</th>\n",
       "      <td>146.95</td>\n",
       "      <td>147.06</td>\n",
       "    </tr>\n",
       "    <tr>\n",
       "      <th>AMGN.OQ</th>\n",
       "      <td>0.0</td>\n",
       "      <td>247.77</td>\n",
       "    </tr>\n",
       "    <tr>\n",
       "      <th>AXP.N</th>\n",
       "      <td>None</td>\n",
       "      <td>None</td>\n",
       "    </tr>\n",
       "    <tr>\n",
       "      <th>BA.N</th>\n",
       "      <td>None</td>\n",
       "      <td>None</td>\n",
       "    </tr>\n",
       "    <tr>\n",
       "      <th>CAT.N</th>\n",
       "      <td>None</td>\n",
       "      <td>None</td>\n",
       "    </tr>\n",
       "    <tr>\n",
       "      <th>CRM.N</th>\n",
       "      <td>None</td>\n",
       "      <td>None</td>\n",
       "    </tr>\n",
       "    <tr>\n",
       "      <th>CSCO.OQ</th>\n",
       "      <td>55.75</td>\n",
       "      <td>56.77</td>\n",
       "    </tr>\n",
       "    <tr>\n",
       "      <th>CVX.N</th>\n",
       "      <td>None</td>\n",
       "      <td>None</td>\n",
       "    </tr>\n",
       "    <tr>\n",
       "      <th>DIS.N</th>\n",
       "      <td>None</td>\n",
       "      <td>None</td>\n",
       "    </tr>\n",
       "    <tr>\n",
       "      <th>DOW.N</th>\n",
       "      <td>None</td>\n",
       "      <td>None</td>\n",
       "    </tr>\n",
       "    <tr>\n",
       "      <th>GS.N</th>\n",
       "      <td>None</td>\n",
       "      <td>None</td>\n",
       "    </tr>\n",
       "    <tr>\n",
       "      <th>HD.N</th>\n",
       "      <td>None</td>\n",
       "      <td>None</td>\n",
       "    </tr>\n",
       "    <tr>\n",
       "      <th>HON.OQ</th>\n",
       "      <td>None</td>\n",
       "      <td>None</td>\n",
       "    </tr>\n",
       "    <tr>\n",
       "      <th>IBM.N</th>\n",
       "      <td>None</td>\n",
       "      <td>None</td>\n",
       "    </tr>\n",
       "    <tr>\n",
       "      <th>INTC.OQ</th>\n",
       "      <td>53.82</td>\n",
       "      <td>53.94</td>\n",
       "    </tr>\n",
       "    <tr>\n",
       "      <th>JNJ.N</th>\n",
       "      <td>None</td>\n",
       "      <td>None</td>\n",
       "    </tr>\n",
       "    <tr>\n",
       "      <th>JPM.N</th>\n",
       "      <td>None</td>\n",
       "      <td>None</td>\n",
       "    </tr>\n",
       "    <tr>\n",
       "      <th>KO.N</th>\n",
       "      <td>None</td>\n",
       "      <td>None</td>\n",
       "    </tr>\n",
       "    <tr>\n",
       "      <th>MCD.N</th>\n",
       "      <td>None</td>\n",
       "      <td>None</td>\n",
       "    </tr>\n",
       "    <tr>\n",
       "      <th>MMM.N</th>\n",
       "      <td>None</td>\n",
       "      <td>None</td>\n",
       "    </tr>\n",
       "    <tr>\n",
       "      <th>MRK.N</th>\n",
       "      <td>None</td>\n",
       "      <td>None</td>\n",
       "    </tr>\n",
       "    <tr>\n",
       "      <th>MSFT.OQ</th>\n",
       "      <td>286.71</td>\n",
       "      <td>288.0</td>\n",
       "    </tr>\n",
       "    <tr>\n",
       "      <th>NKE.N</th>\n",
       "      <td>None</td>\n",
       "      <td>None</td>\n",
       "    </tr>\n",
       "    <tr>\n",
       "      <th>PG.N</th>\n",
       "      <td>None</td>\n",
       "      <td>None</td>\n",
       "    </tr>\n",
       "    <tr>\n",
       "      <th>TRV.N</th>\n",
       "      <td>None</td>\n",
       "      <td>None</td>\n",
       "    </tr>\n",
       "    <tr>\n",
       "      <th>UNH.N</th>\n",
       "      <td>None</td>\n",
       "      <td>None</td>\n",
       "    </tr>\n",
       "    <tr>\n",
       "      <th>V.N</th>\n",
       "      <td>None</td>\n",
       "      <td>None</td>\n",
       "    </tr>\n",
       "    <tr>\n",
       "      <th>VZ.N</th>\n",
       "      <td>None</td>\n",
       "      <td>None</td>\n",
       "    </tr>\n",
       "    <tr>\n",
       "      <th>WBA.OQ</th>\n",
       "      <td>0.0</td>\n",
       "      <td>55.0</td>\n",
       "    </tr>\n",
       "    <tr>\n",
       "      <th>WMT.N</th>\n",
       "      <td>None</td>\n",
       "      <td>None</td>\n",
       "    </tr>\n",
       "  </tbody>\n",
       "</table>\n",
       "</div>"
      ],
      "text/plain": [
       "            BID     ASK\n",
       "AAPL.OQ  146.95  147.06\n",
       "AMGN.OQ     0.0  247.77\n",
       "AXP.N      None    None\n",
       "BA.N       None    None\n",
       "CAT.N      None    None\n",
       "CRM.N      None    None\n",
       "CSCO.OQ   55.75   56.77\n",
       "CVX.N      None    None\n",
       "DIS.N      None    None\n",
       "DOW.N      None    None\n",
       "GS.N       None    None\n",
       "HD.N       None    None\n",
       "HON.OQ     None    None\n",
       "IBM.N      None    None\n",
       "INTC.OQ   53.82   53.94\n",
       "JNJ.N      None    None\n",
       "JPM.N      None    None\n",
       "KO.N       None    None\n",
       "MCD.N      None    None\n",
       "MMM.N      None    None\n",
       "MRK.N      None    None\n",
       "MSFT.OQ  286.71   288.0\n",
       "NKE.N      None    None\n",
       "PG.N       None    None\n",
       "TRV.N      None    None\n",
       "UNH.N      None    None\n",
       "V.N        None    None\n",
       "VZ.N       None    None\n",
       "WBA.OQ      0.0    55.0\n",
       "WMT.N      None    None"
      ]
     },
     "metadata": {},
     "output_type": "display_data"
    }
   ],
   "source": [
    "# Request all instrument from server and open streams\n",
    "pricing_stream.open()\n",
    "# The callbacks we declared earlier should be invoked as and when we receive server responses\n",
    "# i.e. create_dataframe will be called once we have the initial values for each instrument\n",
    "# after which, update_dataframe will be invoked as and when any instrument's BID/ASK fields are updated"
   ]
  },
  {
   "cell_type": "markdown",
   "metadata": {},
   "source": [
    "## Close the streams for the constituents"
   ]
  },
  {
   "cell_type": "code",
   "execution_count": 7,
   "metadata": {},
   "outputs": [
    {
     "data": {
      "text/plain": [
       "<StreamState.Closed: 1>"
      ]
     },
     "execution_count": 7,
     "metadata": {},
     "output_type": "execute_result"
    }
   ],
   "source": [
    "pricing_stream.close()"
   ]
  },
  {
   "cell_type": "markdown",
   "metadata": {},
   "source": [
    "## Close the session"
   ]
  },
  {
   "cell_type": "code",
   "execution_count": 8,
   "metadata": {},
   "outputs": [],
   "source": [
    "close_session()"
   ]
  },
  {
   "cell_type": "code",
   "execution_count": null,
   "metadata": {},
   "outputs": [],
   "source": []
  }
 ],
 "metadata": {
  "kernelspec": {
   "display_name": "rddev6",
   "language": "python",
   "name": "rddev6"
  },
  "language_info": {
   "codemirror_mode": {
    "name": "ipython",
    "version": 3
   },
   "file_extension": ".py",
   "mimetype": "text/x-python",
   "name": "python",
   "nbconvert_exporter": "python",
   "pygments_lexer": "ipython3",
   "version": "3.8.10"
  }
 },
 "nbformat": 4,
 "nbformat_minor": 4
}
