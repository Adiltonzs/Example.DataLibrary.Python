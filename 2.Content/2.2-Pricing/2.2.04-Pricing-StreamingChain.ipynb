{
 "cells": [
  {
   "cell_type": "markdown",
   "metadata": {},
   "source": [
    "# Refinitiv Data Library for Python\n",
    "## Content - Pricing - Chain + Streaming Constituents\n",
    "\n",
    "This notebook demonstrates how to use the Pricing interface to \n",
    "- retrieve the constituents of a Chain instrument\n",
    "- and then request Streaming data for the Constituents themselves"
   ]
  },
  {
   "cell_type": "markdown",
   "metadata": {},
   "source": [
    "## Import the library and load credentials\n",
    "\n",
    "Credentials used by this notebook are stored in the ./credentials.ipynb. Please edit ./credentials.ipynb to set your credentials and run the next cell to continue with this scripts"
   ]
  },
  {
   "cell_type": "code",
   "execution_count": 1,
   "metadata": {
    "collapsed": false,
    "jupyter": {
     "outputs_hidden": false
    },
    "pycharm": {
     "name": "#%%\n"
    }
   },
   "outputs": [],
   "source": [
    "from refinitiv.data.content import pricing\n",
    "from pandas import DataFrame\n",
    "from IPython.display import display, clear_output\n",
    "\n",
    "%run ../../Configuration/credentials.ipynb"
   ]
  },
  {
   "cell_type": "markdown",
   "metadata": {},
   "source": [
    "## Open the session of your choice\n",
    "\n",
    "Use our helper function in the Credentials notebook, **open_session(session_type)**, to create and open a session to connect to the \n",
    "- Refinitiv Data Platform directly (session_type=\"rdp\") or via \n",
    "- Eikon 4 or Refinitiv Workspace (session_type=\"desktop\") or via a \n",
    "- local realtime infrastructure (session_type=\"deployed\").\n",
    "\n",
    "You can also set a default in the **credentials** notebook (which I have done)"
   ]
  },
  {
   "cell_type": "code",
   "execution_count": 2,
   "metadata": {
    "collapsed": false,
    "jupyter": {
     "outputs_hidden": false
    },
    "pycharm": {
     "name": "#%%\n"
    }
   },
   "outputs": [
    {
     "data": {
      "text/plain": [
       "<refinitiv.data._data.core.session._platform_session.PlatformSession at 0x20cc839f3d0>"
      ]
     },
     "execution_count": 2,
     "metadata": {},
     "output_type": "execute_result"
    }
   ],
   "source": [
    "open_session()"
   ]
  },
  {
   "cell_type": "markdown",
   "metadata": {},
   "source": [
    "### Define callbacks to handle streaming data\n",
    "We will use these later to display the streaming data for the Constituent RICs"
   ]
  },
  {
   "cell_type": "code",
   "execution_count": 3,
   "metadata": {},
   "outputs": [],
   "source": [
    "df = DataFrame()\n",
    "\n",
    "# Function to initially populate Dataframe, once initial values received for all items\n",
    "def create_dataframe(streaming_prices):\n",
    "    global df\n",
    "    snapshot = streaming_prices.get_snapshot()\n",
    "    field_names = snapshot.columns[1:]\n",
    "    instrument_names = snapshot['Instrument'].values\n",
    "    df = DataFrame(index=instrument_names, columns=field_names)\n",
    "    for price in streaming_prices:\n",
    "        for field_name, field_value in price.get_fields().items():\n",
    "            df.at[price.name, field_name] = field_value\n",
    "    display(df)\n",
    "\n",
    "# Function to update dataframe, when we receive updates for individual items\n",
    "def update_dataframe(streaming_prices, instrument_name, fields):\n",
    "    global df\n",
    "    clear_output(wait=True)\n",
    "    for field_name, field_value in fields.items():\n",
    "        df.at[instrument_name, field_name] = field_value\n",
    "    display(df)"
   ]
  },
  {
   "cell_type": "markdown",
   "metadata": {},
   "source": [
    "## Get the Chain's constituent RICs"
   ]
  },
  {
   "cell_type": "code",
   "execution_count": 4,
   "metadata": {},
   "outputs": [
    {
     "name": "stdout",
     "output_type": "stream",
     "text": [
      "['AAPL.OQ', 'AMGN.OQ', 'AXP.N', 'BA.N', 'CAT.N', 'CRM.N', 'CSCO.OQ', 'CVX.N', 'DIS.N', 'DOW.N', 'GS.N', 'HD.N', 'HON.OQ', 'IBM.N', 'INTC.OQ', 'JNJ.N', 'JPM.N', 'KO.N', 'MCD.N', 'MMM.N', 'MRK.N', 'MSFT.OQ', 'NKE.N', 'PG.N', 'TRV.N', 'UNH.N', 'V.N', 'VZ.N', 'WBA.OQ', 'WMT.N']\n"
     ]
    }
   ],
   "source": [
    "# Define a Chain object for the Dow Jones Index\n",
    "dow = pricing.chain.Definition(universe=\"0#.DJI\").get_stream(session=session)\n",
    "# We just want a snapshot of the current Index\n",
    "dow.open(with_updates=False)\n",
    "## Extract the consituent RICs and display\n",
    "dow_constituents = dow.get_constituents()\n",
    "print(dow_constituents)"
   ]
  },
  {
   "cell_type": "markdown",
   "metadata": {},
   "source": [
    "## Create Streams for all the consitutuents and specify callbacks to display them"
   ]
  },
  {
   "cell_type": "code",
   "execution_count": 5,
   "metadata": {},
   "outputs": [
    {
     "data": {
      "text/plain": [
       "<refinitiv.data._data.pricing.pricing.Stream at 0x20cc852adf0>"
      ]
     },
     "execution_count": 5,
     "metadata": {},
     "output_type": "execute_result"
    }
   ],
   "source": [
    "# Define our Streaming Price object for all the consituents\n",
    "pricing_stream = pricing.Definition(universe=dow_constituents, fields=[\"BID\", \"ASK\"]).get_stream()\n",
    "# Specify the callback to create and display a dataframe \n",
    "# on_complete is invoked once we receive the initial image for all our instruments\n",
    "pricing_stream.on_complete(create_dataframe)\n",
    "#Specify the callback to display subsequent updates as and when received\n",
    "pricing_stream.on_update(update_dataframe)\n"
   ]
  },
  {
   "cell_type": "markdown",
   "metadata": {},
   "source": [
    "## Open the streams for all our constituents"
   ]
  },
  {
   "cell_type": "code",
   "execution_count": 6,
   "metadata": {},
   "outputs": [
    {
     "data": {
      "text/html": [
       "<div>\n",
       "<style scoped>\n",
       "    .dataframe tbody tr th:only-of-type {\n",
       "        vertical-align: middle;\n",
       "    }\n",
       "\n",
       "    .dataframe tbody tr th {\n",
       "        vertical-align: top;\n",
       "    }\n",
       "\n",
       "    .dataframe thead th {\n",
       "        text-align: right;\n",
       "    }\n",
       "</style>\n",
       "<table border=\"1\" class=\"dataframe\">\n",
       "  <thead>\n",
       "    <tr style=\"text-align: right;\">\n",
       "      <th></th>\n",
       "      <th>BID</th>\n",
       "      <th>ASK</th>\n",
       "    </tr>\n",
       "  </thead>\n",
       "  <tbody>\n",
       "    <tr>\n",
       "      <th>AAPL.OQ</th>\n",
       "      <td>129.79</td>\n",
       "      <td>129.8</td>\n",
       "    </tr>\n",
       "    <tr>\n",
       "      <th>AMGN.OQ</th>\n",
       "      <td>239.46</td>\n",
       "      <td>239.49</td>\n",
       "    </tr>\n",
       "    <tr>\n",
       "      <th>AXP.N</th>\n",
       "      <td>165.22</td>\n",
       "      <td>165.24</td>\n",
       "    </tr>\n",
       "    <tr>\n",
       "      <th>BA.N</th>\n",
       "      <td>245.39</td>\n",
       "      <td>245.45</td>\n",
       "    </tr>\n",
       "    <tr>\n",
       "      <th>CAT.N</th>\n",
       "      <td>216.62</td>\n",
       "      <td>216.71</td>\n",
       "    </tr>\n",
       "    <tr>\n",
       "      <th>CRM.N</th>\n",
       "      <td>244.3</td>\n",
       "      <td>244.41</td>\n",
       "    </tr>\n",
       "    <tr>\n",
       "      <th>CSCO.OQ</th>\n",
       "      <td>53.85</td>\n",
       "      <td>53.86</td>\n",
       "    </tr>\n",
       "    <tr>\n",
       "      <th>CVX.N</th>\n",
       "      <td>109.56</td>\n",
       "      <td>109.57</td>\n",
       "    </tr>\n",
       "    <tr>\n",
       "      <th>DIS.N</th>\n",
       "      <td>176.91</td>\n",
       "      <td>176.95</td>\n",
       "    </tr>\n",
       "    <tr>\n",
       "      <th>DOW.N</th>\n",
       "      <td>66.63</td>\n",
       "      <td>66.66</td>\n",
       "    </tr>\n",
       "    <tr>\n",
       "      <th>GS.N</th>\n",
       "      <td>369.21</td>\n",
       "      <td>369.37</td>\n",
       "    </tr>\n",
       "    <tr>\n",
       "      <th>HD.N</th>\n",
       "      <td>305.01</td>\n",
       "      <td>305.05</td>\n",
       "    </tr>\n",
       "    <tr>\n",
       "      <th>HON.OQ</th>\n",
       "      <td>222.5</td>\n",
       "      <td>222.66</td>\n",
       "    </tr>\n",
       "    <tr>\n",
       "      <th>IBM.N</th>\n",
       "      <td>149.37</td>\n",
       "      <td>149.4</td>\n",
       "    </tr>\n",
       "    <tr>\n",
       "      <th>INTC.OQ</th>\n",
       "      <td>57.85</td>\n",
       "      <td>57.86</td>\n",
       "    </tr>\n",
       "    <tr>\n",
       "      <th>JNJ.N</th>\n",
       "      <td>164.77</td>\n",
       "      <td>164.79</td>\n",
       "    </tr>\n",
       "    <tr>\n",
       "      <th>JPM.N</th>\n",
       "      <td>154.51</td>\n",
       "      <td>154.55</td>\n",
       "    </tr>\n",
       "    <tr>\n",
       "      <th>KO.N</th>\n",
       "      <td>55.36</td>\n",
       "      <td>55.37</td>\n",
       "    </tr>\n",
       "    <tr>\n",
       "      <th>MCD.N</th>\n",
       "      <td>237.17</td>\n",
       "      <td>237.19</td>\n",
       "    </tr>\n",
       "    <tr>\n",
       "      <th>MMM.N</th>\n",
       "      <td>200.06</td>\n",
       "      <td>200.18</td>\n",
       "    </tr>\n",
       "    <tr>\n",
       "      <th>MRK.N</th>\n",
       "      <td>74.91</td>\n",
       "      <td>74.92</td>\n",
       "    </tr>\n",
       "    <tr>\n",
       "      <th>MSFT.OQ</th>\n",
       "      <td>259.15</td>\n",
       "      <td>259.18</td>\n",
       "    </tr>\n",
       "    <tr>\n",
       "      <th>NKE.N</th>\n",
       "      <td>130.29</td>\n",
       "      <td>130.31</td>\n",
       "    </tr>\n",
       "    <tr>\n",
       "      <th>PG.N</th>\n",
       "      <td>135.08</td>\n",
       "      <td>135.1</td>\n",
       "    </tr>\n",
       "    <tr>\n",
       "      <th>TRV.N</th>\n",
       "      <td>152.93</td>\n",
       "      <td>153.01</td>\n",
       "    </tr>\n",
       "    <tr>\n",
       "      <th>UNH.N</th>\n",
       "      <td>397.02</td>\n",
       "      <td>397.1</td>\n",
       "    </tr>\n",
       "    <tr>\n",
       "      <th>V.N</th>\n",
       "      <td>233.41</td>\n",
       "      <td>233.46</td>\n",
       "    </tr>\n",
       "    <tr>\n",
       "      <th>VZ.N</th>\n",
       "      <td>57.32</td>\n",
       "      <td>57.33</td>\n",
       "    </tr>\n",
       "    <tr>\n",
       "      <th>WBA.OQ</th>\n",
       "      <td>54.33</td>\n",
       "      <td>54.34</td>\n",
       "    </tr>\n",
       "    <tr>\n",
       "      <th>WMT.N</th>\n",
       "      <td>139.75</td>\n",
       "      <td>139.78</td>\n",
       "    </tr>\n",
       "  </tbody>\n",
       "</table>\n",
       "</div>"
      ],
      "text/plain": [
       "            BID     ASK\n",
       "AAPL.OQ  129.79   129.8\n",
       "AMGN.OQ  239.46  239.49\n",
       "AXP.N    165.22  165.24\n",
       "BA.N     245.39  245.45\n",
       "CAT.N    216.62  216.71\n",
       "CRM.N     244.3  244.41\n",
       "CSCO.OQ   53.85   53.86\n",
       "CVX.N    109.56  109.57\n",
       "DIS.N    176.91  176.95\n",
       "DOW.N     66.63   66.66\n",
       "GS.N     369.21  369.37\n",
       "HD.N     305.01  305.05\n",
       "HON.OQ    222.5  222.66\n",
       "IBM.N    149.37   149.4\n",
       "INTC.OQ   57.85   57.86\n",
       "JNJ.N    164.77  164.79\n",
       "JPM.N    154.51  154.55\n",
       "KO.N      55.36   55.37\n",
       "MCD.N    237.17  237.19\n",
       "MMM.N    200.06  200.18\n",
       "MRK.N     74.91   74.92\n",
       "MSFT.OQ  259.15  259.18\n",
       "NKE.N    130.29  130.31\n",
       "PG.N     135.08   135.1\n",
       "TRV.N    152.93  153.01\n",
       "UNH.N    397.02   397.1\n",
       "V.N      233.41  233.46\n",
       "VZ.N      57.32   57.33\n",
       "WBA.OQ    54.33   54.34\n",
       "WMT.N    139.75  139.78"
      ]
     },
     "metadata": {},
     "output_type": "display_data"
    }
   ],
   "source": [
    "# Request all instrument from server and open streams\n",
    "pricing_stream.open()\n",
    "# The callbacks we declared earlier should be invoked as and when we receive server responses\n",
    "# i.e. create_dataframe will be called once we have the initial values for each instrument\n",
    "# after which, update_dataframe will be invoked as and when any instrument's BID/ASK fields are updated"
   ]
  },
  {
   "cell_type": "markdown",
   "metadata": {},
   "source": [
    "## Close the streams for the constituents"
   ]
  },
  {
   "cell_type": "code",
   "execution_count": 7,
   "metadata": {},
   "outputs": [
    {
     "data": {
      "text/plain": [
       "<StreamState.Closed: 1>"
      ]
     },
     "execution_count": 7,
     "metadata": {},
     "output_type": "execute_result"
    }
   ],
   "source": [
    "pricing_stream.close()"
   ]
  },
  {
   "cell_type": "markdown",
   "metadata": {},
   "source": [
    "## Close the session"
   ]
  },
  {
   "cell_type": "code",
   "execution_count": 8,
   "metadata": {},
   "outputs": [],
   "source": [
    "close_session()"
   ]
  },
  {
   "cell_type": "code",
   "execution_count": null,
   "metadata": {},
   "outputs": [],
   "source": []
  }
 ],
 "metadata": {
  "kernelspec": {
   "display_name": "RevData39",
   "language": "python",
   "name": "rd39"
  },
  "language_info": {
   "codemirror_mode": {
    "name": "ipython",
    "version": 3
   },
   "file_extension": ".py",
   "mimetype": "text/x-python",
   "name": "python",
   "nbconvert_exporter": "python",
   "pygments_lexer": "ipython3",
   "version": "3.9.4"
  }
 },
 "nbformat": 4,
 "nbformat_minor": 4
}
