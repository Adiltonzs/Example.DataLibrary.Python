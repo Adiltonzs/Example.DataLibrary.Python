{
 "cells": [
  {
   "cell_type": "markdown",
   "id": "84834efe",
   "metadata": {},
   "source": [
    "# Refinitiv Data Library for Python\n",
    "## Content - Symbol Conversion\n",
    "This notebook demonstrates how to convert between different Symbology types using the Refinitiv Data Platform OR via Refinitiv Eikon/Workspace.  \n",
    "\n",
    "#### Currently supported Symbol Types - rd.SymbolTypes enum\n",
    "- rd.content.symbol_conversion.RIC => RIC\n",
    "- rd.content.symbol_conversion.ISIN => IssueISIN\n",
    "- rd.content.symbol_conversion.CUSIP => CUSIP\n",
    "- rd.content.symbol_conversion.SEDOL => SEDOL\n",
    "- rd.content.symbol_conversion.TICKER_SYMBOL => TickerSymbol\n",
    "- rd.content.symbol_conversion.OA_PERM_ID => IssuerOAPermID\n",
    "- rd.content.symbol_conversion.LIPPER_ID => FundClassLipperID"
   ]
  },
  {
   "cell_type": "markdown",
   "id": "07a26256-ae4d-416d-a0f4-d050794f5c67",
   "metadata": {},
   "source": [
    "## Import the library and load credentials\n",
    "\n",
    "Credentials used by this and the other tutorials notebooks are stored in the **Configuration/credentials.ipynb** file.     \n",
    "\n",
    "You should have edited the **Configuration/credentials.ipynb** to set your credentials as part of the **Quick Start** step."
   ]
  },
  {
   "cell_type": "code",
   "execution_count": null,
   "id": "dcfd08f5",
   "metadata": {},
   "outputs": [],
   "source": [
    "from refinitiv.data.content import symbol_conversion\n",
    "\n",
    "%run ../../Configuration/credentials.ipynb"
   ]
  },
  {
   "cell_type": "markdown",
   "id": "63ed65c7-5a3e-4f8a-9e67-d869a756dab4",
   "metadata": {},
   "source": [
    "## Open the session of your choice\n",
    "\n",
    "Use our helper function in the Credentials notebook, **open_session(session_type)**, to create and open a session to connect to the \n",
    "- Refinitiv Data Platform directly (session_type=\"rdp\") or via \n",
    "- Eikon 4 or Refinitiv Workspace (session_type=\"desktop\")   \n",
    "\n",
    "You can also set a default in the **credentials** notebook\n",
    "\n",
    "**Note**: You cannot currently perform Symbology Conversion using a Deployed session"
   ]
  },
  {
   "cell_type": "code",
   "execution_count": null,
   "id": "67bb3ab8",
   "metadata": {},
   "outputs": [],
   "source": [
    "open_session()"
   ]
  },
  {
   "cell_type": "markdown",
   "id": "c371b95a",
   "metadata": {},
   "source": [
    "### Default conversion of one symbol (default input symbol type is RIC)"
   ]
  },
  {
   "cell_type": "code",
   "execution_count": null,
   "id": "9c3c7f63",
   "metadata": {},
   "outputs": [],
   "source": [
    "response = symbol_conversion.Definition(\"MSFT.O\").get_data()\n",
    "response.data.df"
   ]
  },
  {
   "cell_type": "markdown",
   "id": "dded17b6",
   "metadata": {},
   "source": [
    "### Conversion of multiple symbols "
   ]
  },
  {
   "cell_type": "code",
   "execution_count": null,
   "id": "028e873d",
   "metadata": {},
   "outputs": [],
   "source": [
    "response = symbol_conversion.Definition(symbols=[\"MSFT.O\", \"AAPL.O\", \"GOOG.O\", \"IBM.N\"]).get_data()\n",
    "#response = symbol_conversion.Definition(symbols=[\"IBM\", \"US5949181045\", \"037833100\", \"BH4HKS3\"]).get_data()\n",
    "response.data.df"
   ]
  },
  {
   "cell_type": "markdown",
   "id": "54dcafc5",
   "metadata": {},
   "source": [
    "### Conversion using symbol types"
   ]
  },
  {
   "cell_type": "code",
   "execution_count": null,
   "id": "a3d5c0b1",
   "metadata": {},
   "outputs": [],
   "source": [
    "# Symbol types:\n",
    "# - symbol_conversion.RIC => RIC\n",
    "# - symbol_conversion.ISIN => IssueISIN\n",
    "# - symbol_conversion.CUSIP => CUSIP\n",
    "# - symbol_conversion.SEDOL => SEDOL\n",
    "# - symbol_conversion.TICKER_SYMBOL => TickerSymbol\n",
    "# - symbol_conversion.OA_PERM_ID => IssuerOAPermID\n",
    "# - symbol_conversion.LIPPER_ID => FundClassLipperID\n",
    "\n",
    "response = symbol_conversion.Definition(\n",
    "    symbols=[\"US5949181045\", \"US02079K1079\"],\n",
    "    from_symbol_type=symbol_conversion.SymbolTypes.ISIN,\n",
    "    to_symbol_types=[\n",
    "        symbol_conversion.SymbolTypes.RIC,\n",
    "        symbol_conversion.SymbolTypes.OA_PERM_ID\n",
    "    ],\n",
    ").get_data()\n",
    "\n",
    "response.data.df"
   ]
  },
  {
   "cell_type": "code",
   "execution_count": null,
   "id": "875d9c34",
   "metadata": {},
   "outputs": [],
   "source": [
    "response = symbol_conversion.Definition(\n",
    "    symbols = [\"60000008\", \"60003513\"],\n",
    "    from_symbol_type = symbol_conversion.SymbolTypes.LIPPER_ID\n",
    ").get_data()"
   ]
  },
  {
   "cell_type": "markdown",
   "id": "b786b615-44ae-4886-9330-bef5ec892b27",
   "metadata": {},
   "source": [
    "### Checking the Response Data\n",
    "How to check if we got a sucessful Response and the data formats it contains"
   ]
  },
  {
   "cell_type": "code",
   "execution_count": null,
   "id": "d202aeff-9881-49c3-b8b7-d4adcbde41a7",
   "metadata": {},
   "outputs": [],
   "source": [
    "# Check if request was successful\n",
    "if (response.is_success):\n",
    "    # Should have raw data when is_success==true\n",
    "    if response.data.raw:\n",
    "        display(response.data.raw)\n",
    "    else:\n",
    "        print(\"Response does not contain raw data\")    \n",
    "    # Check if the response contains a Dataframe too?\n",
    "    if (not response.data.df.empty):\n",
    "        display(response.data.df)\n",
    "    else:\n",
    "        print(\"\\nResponse does not contain DataFrame\")\n",
    "else: \n",
    "    # Something went wrong\n",
    "    print(f\"Not Sucessful : {response.http_status}\")"
   ]
  },
  {
   "cell_type": "markdown",
   "id": "58c9bc68",
   "metadata": {},
   "source": [
    "## Close the default session"
   ]
  },
  {
   "cell_type": "code",
   "execution_count": null,
   "id": "24902d47",
   "metadata": {},
   "outputs": [],
   "source": [
    "close_session()"
   ]
  },
  {
   "cell_type": "code",
   "execution_count": null,
   "id": "091849dd",
   "metadata": {},
   "outputs": [],
   "source": []
  }
 ],
 "metadata": {
  "kernelspec": {
   "display_name": "RevData39",
   "language": "python",
   "name": "rd39"
  },
  "language_info": {
   "codemirror_mode": {
    "name": "ipython",
    "version": 3
   },
   "file_extension": ".py",
   "mimetype": "text/x-python",
   "name": "python",
   "nbconvert_exporter": "python",
   "pygments_lexer": "ipython3",
   "version": "3.9.4"
  }
 },
 "nbformat": 4,
 "nbformat_minor": 5
}
