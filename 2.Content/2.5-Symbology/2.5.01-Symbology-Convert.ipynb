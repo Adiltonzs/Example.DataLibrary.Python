{
 "cells": [
  {
   "cell_type": "markdown",
   "id": "84834efe",
   "metadata": {},
   "source": [
    "# Refinitiv Data Library for Python\n",
    "## Content - Symbol Conversion\n",
    "This notebook demonstrates how to retrieve Historical Pricing data from the Refinitiv Data Platform OR via Eikon or Refinitiv Workspace.  \n",
    "\n",
    "#### **Available Symbol Types stored in rd.SymbolTypes enum**\n",
    "- rd.content.symbol_conversion.RIC => RIC\n",
    "- rd.content.symbol_conversion.ISIN => IssueISIN\n",
    "- rd.content.symbol_conversion.CUSIP => CUSIP\n",
    "- rd.content.symbol_conversion.SEDOL => SEDOL\n",
    "- rd.content.symbol_conversion.TICKER_SYMBOL => TickerSymbol\n",
    "- rd.content.symbol_conversion.OA_PERM_ID => IssuerOAPermID\n",
    "- rd.content.symbol_conversion.LIPPER_ID => FundClassLipperID"
   ]
  },
  {
   "cell_type": "markdown",
   "id": "b87574d5",
   "metadata": {},
   "source": [
    "## Import the library and load credentials\n",
    "\n",
    "Credentials used by this notebook are stored in the **./credentials.ipynb**. Please edit **./credentials.ipynb** to set your credentials and run the next cell to continue with this scripts"
   ]
  },
  {
   "cell_type": "code",
   "execution_count": 1,
   "id": "dcfd08f5",
   "metadata": {},
   "outputs": [],
   "source": [
    "from refinitiv.data.content import symbol_conversion\n",
    "\n",
    "%run ../../Configuration/credentials.ipynb"
   ]
  },
  {
   "cell_type": "markdown",
   "id": "63ed65c7-5a3e-4f8a-9e67-d869a756dab4",
   "metadata": {},
   "source": [
    "## Open the session of your choice\n",
    "\n",
    "Use our helper function in the Credentials notebook, **open_session(session_type)**, to create and open a session to connect to the \n",
    "- Refinitiv Data Platform directly (session_type=\"rdp\") or via \n",
    "- Eikon 4 or Refinitiv Workspace (session_type=\"desktop\")   \n",
    "\n",
    "You can also set a default in the **credentials** notebook\n",
    "\n",
    "**Note**: You cannot currently perform Symbology Conversion using a Deployed session"
   ]
  },
  {
   "cell_type": "code",
   "execution_count": 2,
   "id": "67bb3ab8",
   "metadata": {},
   "outputs": [
    {
     "data": {
      "text/plain": [
       "<refinitiv.data._data.core.session._platform_session.PlatformSession at 0x17adca790d0>"
      ]
     },
     "execution_count": 2,
     "metadata": {},
     "output_type": "execute_result"
    }
   ],
   "source": [
    "open_session()"
   ]
  },
  {
   "cell_type": "markdown",
   "id": "c371b95a",
   "metadata": {},
   "source": [
    "### Default conversion of one symbol (default input symbol type is RIC)"
   ]
  },
  {
   "cell_type": "code",
   "execution_count": 3,
   "id": "9c3c7f63",
   "metadata": {},
   "outputs": [
    {
     "data": {
      "text/html": [
       "<div>\n",
       "<style scoped>\n",
       "    .dataframe tbody tr th:only-of-type {\n",
       "        vertical-align: middle;\n",
       "    }\n",
       "\n",
       "    .dataframe tbody tr th {\n",
       "        vertical-align: top;\n",
       "    }\n",
       "\n",
       "    .dataframe thead th {\n",
       "        text-align: right;\n",
       "    }\n",
       "</style>\n",
       "<table border=\"1\" class=\"dataframe\">\n",
       "  <thead>\n",
       "    <tr style=\"text-align: right;\">\n",
       "      <th></th>\n",
       "      <th>DocumentTitle</th>\n",
       "      <th>CUSIP</th>\n",
       "      <th>TickerSymbol</th>\n",
       "      <th>IssuerOAPermID</th>\n",
       "      <th>RIC</th>\n",
       "      <th>IssueISIN</th>\n",
       "    </tr>\n",
       "  </thead>\n",
       "  <tbody>\n",
       "    <tr>\n",
       "      <th>MSFT.O</th>\n",
       "      <td>Microsoft Corp, Ordinary Share, NASDAQ Global ...</td>\n",
       "      <td>594918104</td>\n",
       "      <td>MSFT</td>\n",
       "      <td>4295907168</td>\n",
       "      <td>MSFT.O</td>\n",
       "      <td>US5949181045</td>\n",
       "    </tr>\n",
       "  </tbody>\n",
       "</table>\n",
       "</div>"
      ],
      "text/plain": [
       "                                            DocumentTitle      CUSIP  \\\n",
       "MSFT.O  Microsoft Corp, Ordinary Share, NASDAQ Global ...  594918104   \n",
       "\n",
       "       TickerSymbol IssuerOAPermID     RIC     IssueISIN  \n",
       "MSFT.O         MSFT     4295907168  MSFT.O  US5949181045  "
      ]
     },
     "execution_count": 3,
     "metadata": {},
     "output_type": "execute_result"
    }
   ],
   "source": [
    "response = symbol_conversion.Definition(\"MSFT.O\").get_data()\n",
    "response.data.df"
   ]
  },
  {
   "cell_type": "markdown",
   "id": "dded17b6",
   "metadata": {},
   "source": [
    "### Conversion of multiple symbols "
   ]
  },
  {
   "cell_type": "code",
   "execution_count": 4,
   "id": "028e873d",
   "metadata": {},
   "outputs": [
    {
     "data": {
      "text/html": [
       "<div>\n",
       "<style scoped>\n",
       "    .dataframe tbody tr th:only-of-type {\n",
       "        vertical-align: middle;\n",
       "    }\n",
       "\n",
       "    .dataframe tbody tr th {\n",
       "        vertical-align: top;\n",
       "    }\n",
       "\n",
       "    .dataframe thead th {\n",
       "        text-align: right;\n",
       "    }\n",
       "</style>\n",
       "<table border=\"1\" class=\"dataframe\">\n",
       "  <thead>\n",
       "    <tr style=\"text-align: right;\">\n",
       "      <th></th>\n",
       "      <th>DocumentTitle</th>\n",
       "      <th>CUSIP</th>\n",
       "      <th>SEDOL</th>\n",
       "      <th>TickerSymbol</th>\n",
       "      <th>IssuerOAPermID</th>\n",
       "      <th>RIC</th>\n",
       "      <th>IssueISIN</th>\n",
       "    </tr>\n",
       "  </thead>\n",
       "  <tbody>\n",
       "    <tr>\n",
       "      <th>MSFT.O</th>\n",
       "      <td>Microsoft Corp, Ordinary Share, NASDAQ Global ...</td>\n",
       "      <td>594918104</td>\n",
       "      <td>&lt;NA&gt;</td>\n",
       "      <td>MSFT</td>\n",
       "      <td>4295907168</td>\n",
       "      <td>MSFT.O</td>\n",
       "      <td>US5949181045</td>\n",
       "    </tr>\n",
       "    <tr>\n",
       "      <th>AAPL.O</th>\n",
       "      <td>Apple Inc, Ordinary Share, NASDAQ Global Selec...</td>\n",
       "      <td>037833100</td>\n",
       "      <td>&lt;NA&gt;</td>\n",
       "      <td>AAPL</td>\n",
       "      <td>4295905573</td>\n",
       "      <td>AAPL.O</td>\n",
       "      <td>US0378331005</td>\n",
       "    </tr>\n",
       "    <tr>\n",
       "      <th>GOOG.O</th>\n",
       "      <td>Alphabet Inc, Ordinary Share, Class C, NASDAQ ...</td>\n",
       "      <td>02079K107</td>\n",
       "      <td>&lt;NA&gt;</td>\n",
       "      <td>GOOG</td>\n",
       "      <td>5030853586</td>\n",
       "      <td>GOOG.O</td>\n",
       "      <td>US02079K1079</td>\n",
       "    </tr>\n",
       "    <tr>\n",
       "      <th>IBM.N</th>\n",
       "      <td>International Business Machines Corp, Ordinary...</td>\n",
       "      <td>459200101</td>\n",
       "      <td>2005973</td>\n",
       "      <td>IBM</td>\n",
       "      <td>4295904307</td>\n",
       "      <td>IBM.N</td>\n",
       "      <td>US4592001014</td>\n",
       "    </tr>\n",
       "  </tbody>\n",
       "</table>\n",
       "</div>"
      ],
      "text/plain": [
       "                                            DocumentTitle      CUSIP    SEDOL  \\\n",
       "MSFT.O  Microsoft Corp, Ordinary Share, NASDAQ Global ...  594918104     <NA>   \n",
       "AAPL.O  Apple Inc, Ordinary Share, NASDAQ Global Selec...  037833100     <NA>   \n",
       "GOOG.O  Alphabet Inc, Ordinary Share, Class C, NASDAQ ...  02079K107     <NA>   \n",
       "IBM.N   International Business Machines Corp, Ordinary...  459200101  2005973   \n",
       "\n",
       "       TickerSymbol IssuerOAPermID     RIC     IssueISIN  \n",
       "MSFT.O         MSFT     4295907168  MSFT.O  US5949181045  \n",
       "AAPL.O         AAPL     4295905573  AAPL.O  US0378331005  \n",
       "GOOG.O         GOOG     5030853586  GOOG.O  US02079K1079  \n",
       "IBM.N           IBM     4295904307   IBM.N  US4592001014  "
      ]
     },
     "execution_count": 4,
     "metadata": {},
     "output_type": "execute_result"
    }
   ],
   "source": [
    "response = symbol_conversion.Definition(symbols=[\"MSFT.O\", \"AAPL.O\", \"GOOG.O\", \"IBM.N\"]).get_data()\n",
    "response.data.df"
   ]
  },
  {
   "cell_type": "markdown",
   "id": "54dcafc5",
   "metadata": {},
   "source": [
    "### Conversion using symbol types"
   ]
  },
  {
   "cell_type": "code",
   "execution_count": 6,
   "id": "a3d5c0b1",
   "metadata": {},
   "outputs": [
    {
     "data": {
      "text/html": [
       "<div>\n",
       "<style scoped>\n",
       "    .dataframe tbody tr th:only-of-type {\n",
       "        vertical-align: middle;\n",
       "    }\n",
       "\n",
       "    .dataframe tbody tr th {\n",
       "        vertical-align: top;\n",
       "    }\n",
       "\n",
       "    .dataframe thead th {\n",
       "        text-align: right;\n",
       "    }\n",
       "</style>\n",
       "<table border=\"1\" class=\"dataframe\">\n",
       "  <thead>\n",
       "    <tr style=\"text-align: right;\">\n",
       "      <th></th>\n",
       "      <th>IssuerOAPermID</th>\n",
       "      <th>RIC</th>\n",
       "    </tr>\n",
       "  </thead>\n",
       "  <tbody>\n",
       "    <tr>\n",
       "      <th>US5949181045</th>\n",
       "      <td>4295907168</td>\n",
       "      <td>MSFT.O</td>\n",
       "    </tr>\n",
       "    <tr>\n",
       "      <th>US02079K1079</th>\n",
       "      <td>5030853586</td>\n",
       "      <td>GOOG.O</td>\n",
       "    </tr>\n",
       "  </tbody>\n",
       "</table>\n",
       "</div>"
      ],
      "text/plain": [
       "             IssuerOAPermID     RIC\n",
       "US5949181045     4295907168  MSFT.O\n",
       "US02079K1079     5030853586  GOOG.O"
      ]
     },
     "execution_count": 6,
     "metadata": {},
     "output_type": "execute_result"
    }
   ],
   "source": [
    "# Symbol types:\n",
    "# - symbol_conversion.RIC => RIC\n",
    "# - symbol_conversion.ISIN => IssueISIN\n",
    "# - symbol_conversion.CUSIP => CUSIP\n",
    "# - symbol_conversion.SEDOL => SEDOL\n",
    "# - symbol_conversion.TICKER_SYMBOL => TickerSymbol\n",
    "# - symbol_conversion.OA_PERM_ID => IssuerOAPermID\n",
    "# - symbol_conversion.LIPPER_ID => FundClassLipperID\n",
    "\n",
    "response = symbol_conversion.Definition(\n",
    "    symbols=[\"US5949181045\", \"US02079K1079\"],\n",
    "    from_symbol_type=symbol_conversion.SymbolTypes.ISIN,\n",
    "    to_symbol_types=[\n",
    "        symbol_conversion.SymbolTypes.RIC,\n",
    "        symbol_conversion.SymbolTypes.OA_PERM_ID\n",
    "    ],\n",
    ").get_data()\n",
    "\n",
    "response.data.df"
   ]
  },
  {
   "cell_type": "code",
   "execution_count": 7,
   "id": "875d9c34",
   "metadata": {},
   "outputs": [
    {
     "data": {
      "text/html": [
       "<div>\n",
       "<style scoped>\n",
       "    .dataframe tbody tr th:only-of-type {\n",
       "        vertical-align: middle;\n",
       "    }\n",
       "\n",
       "    .dataframe tbody tr th {\n",
       "        vertical-align: top;\n",
       "    }\n",
       "\n",
       "    .dataframe thead th {\n",
       "        text-align: right;\n",
       "    }\n",
       "</style>\n",
       "<table border=\"1\" class=\"dataframe\">\n",
       "  <thead>\n",
       "    <tr style=\"text-align: right;\">\n",
       "      <th></th>\n",
       "      <th>FundClassLipperID</th>\n",
       "      <th>RIC</th>\n",
       "      <th>DocumentTitle</th>\n",
       "      <th>IssueISIN</th>\n",
       "      <th>SEDOL</th>\n",
       "    </tr>\n",
       "  </thead>\n",
       "  <tbody>\n",
       "    <tr>\n",
       "      <th>60000008</th>\n",
       "      <td>60000008</td>\n",
       "      <td>LP60000008</td>\n",
       "      <td>AS SICAV I - American Focused Equity A Acc USD...</td>\n",
       "      <td>LU0011963831</td>\n",
       "      <td>4008817</td>\n",
       "    </tr>\n",
       "    <tr>\n",
       "      <th>60003513</th>\n",
       "      <td>60003513</td>\n",
       "      <td>LP60003513</td>\n",
       "      <td>JPM Japan Sustainable Equity A Acc JPY, Open-E...</td>\n",
       "      <td>LU0070214613</td>\n",
       "      <td>5408364</td>\n",
       "    </tr>\n",
       "  </tbody>\n",
       "</table>\n",
       "</div>"
      ],
      "text/plain": [
       "         FundClassLipperID         RIC  \\\n",
       "60000008          60000008  LP60000008   \n",
       "60003513          60003513  LP60003513   \n",
       "\n",
       "                                              DocumentTitle     IssueISIN  \\\n",
       "60000008  AS SICAV I - American Focused Equity A Acc USD...  LU0011963831   \n",
       "60003513  JPM Japan Sustainable Equity A Acc JPY, Open-E...  LU0070214613   \n",
       "\n",
       "            SEDOL  \n",
       "60000008  4008817  \n",
       "60003513  5408364  "
      ]
     },
     "execution_count": 7,
     "metadata": {},
     "output_type": "execute_result"
    }
   ],
   "source": [
    "response = symbol_conversion.Definition(\n",
    "    symbols = [\"60000008\", \"60003513\"],\n",
    "    from_symbol_type = symbol_conversion.SymbolTypes.LIPPER_ID\n",
    ").get_data()\n",
    "\n",
    "response.data.df"
   ]
  },
  {
   "cell_type": "markdown",
   "id": "58c9bc68",
   "metadata": {},
   "source": [
    "## Close the default session"
   ]
  },
  {
   "cell_type": "code",
   "execution_count": 8,
   "id": "24902d47",
   "metadata": {},
   "outputs": [],
   "source": [
    "close_session()"
   ]
  },
  {
   "cell_type": "code",
   "execution_count": null,
   "id": "091849dd",
   "metadata": {},
   "outputs": [],
   "source": []
  }
 ],
 "metadata": {
  "kernelspec": {
   "display_name": "RevData39",
   "language": "python",
   "name": "rd39"
  },
  "language_info": {
   "codemirror_mode": {
    "name": "ipython",
    "version": 3
   },
   "file_extension": ".py",
   "mimetype": "text/x-python",
   "name": "python",
   "nbconvert_exporter": "python",
   "pygments_lexer": "ipython3",
   "version": "3.9.4"
  }
 },
 "nbformat": 4,
 "nbformat_minor": 5
}
