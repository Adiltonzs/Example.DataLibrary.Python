{
 "cells": [
  {
   "cell_type": "markdown",
   "id": "84834efe",
   "metadata": {},
   "source": [
    "# Refinitiv Data Library for Python\n",
    "## Content - Symbol Conversion\n",
    "This notebook demonstrates how to convert between different Symbology types using the Refinitiv Data Platform OR via Refinitiv Eikon/Workspace.  \n",
    "\n",
    "#### Currently supported Symbol Types - rd.SymbolTypes enum\n",
    "- rd.content.symbol_conversion.RIC => RIC\n",
    "- rd.content.symbol_conversion.ISIN => IssueISIN\n",
    "- rd.content.symbol_conversion.CUSIP => CUSIP\n",
    "- rd.content.symbol_conversion.SEDOL => SEDOL\n",
    "- rd.content.symbol_conversion.TICKER_SYMBOL => TickerSymbol\n",
    "- rd.content.symbol_conversion.OA_PERM_ID => IssuerOAPermID\n",
    "- rd.content.symbol_conversion.LIPPER_ID => FundClassLipperID"
   ]
  },
  {
   "cell_type": "markdown",
   "id": "07a26256-ae4d-416d-a0f4-d050794f5c67",
   "metadata": {},
   "source": [
    "## Import the library and load credentials\n",
    "\n",
    "Credentials used by this and the other tutorials notebooks are stored in the **Configuration/credentials.ipynb** file.     \n",
    "\n",
    "You should have edited the **Configuration/credentials.ipynb** to set your credentials as part of the **Quick Start** step."
   ]
  },
  {
   "cell_type": "code",
   "execution_count": 1,
   "id": "dcfd08f5",
   "metadata": {},
   "outputs": [],
   "source": [
    "from refinitiv.data.content import symbol_conversion\n",
    "\n",
    "%run ../../Configuration/credentials.ipynb"
   ]
  },
  {
   "cell_type": "markdown",
   "id": "63ed65c7-5a3e-4f8a-9e67-d869a756dab4",
   "metadata": {},
   "source": [
    "## Open the session of your choice\n",
    "\n",
    "Use our helper function in the Credentials notebook, **open_session(session_type)**, to create and open a session to connect to the \n",
    "- Refinitiv Data Platform directly (session_type=\"rdp\") or via \n",
    "- Eikon 4 or Refinitiv Workspace (session_type=\"desktop\")   \n",
    "\n",
    "You can also set a default in the **credentials** notebook\n",
    "\n",
    "**Note**: You cannot currently perform Symbology Conversion using a Deployed session"
   ]
  },
  {
   "cell_type": "code",
   "execution_count": 2,
   "id": "67bb3ab8",
   "metadata": {},
   "outputs": [
    {
     "data": {
      "text/plain": [
       "<refinitiv.data.session._platform_session.Definition object at 0x1c434eb6580 {session_name='default-session'}>"
      ]
     },
     "execution_count": 2,
     "metadata": {},
     "output_type": "execute_result"
    }
   ],
   "source": [
    "open_session()"
   ]
  },
  {
   "cell_type": "markdown",
   "id": "c371b95a",
   "metadata": {},
   "source": [
    "### Default conversion of one symbol (default input symbol type is RIC)"
   ]
  },
  {
   "cell_type": "code",
   "execution_count": 3,
   "id": "9c3c7f63",
   "metadata": {},
   "outputs": [
    {
     "data": {
      "text/html": [
       "<div>\n",
       "<style scoped>\n",
       "    .dataframe tbody tr th:only-of-type {\n",
       "        vertical-align: middle;\n",
       "    }\n",
       "\n",
       "    .dataframe tbody tr th {\n",
       "        vertical-align: top;\n",
       "    }\n",
       "\n",
       "    .dataframe thead th {\n",
       "        text-align: right;\n",
       "    }\n",
       "</style>\n",
       "<table border=\"1\" class=\"dataframe\">\n",
       "  <thead>\n",
       "    <tr style=\"text-align: right;\">\n",
       "      <th></th>\n",
       "      <th>CUSIP</th>\n",
       "      <th>IssuerOAPermID</th>\n",
       "      <th>DocumentTitle</th>\n",
       "      <th>RIC</th>\n",
       "      <th>IssueISIN</th>\n",
       "      <th>TickerSymbol</th>\n",
       "    </tr>\n",
       "  </thead>\n",
       "  <tbody>\n",
       "    <tr>\n",
       "      <th>MSFT.O</th>\n",
       "      <td>594918104</td>\n",
       "      <td>4295907168</td>\n",
       "      <td>Microsoft Corp, Ordinary Share, NASDAQ Global ...</td>\n",
       "      <td>MSFT.O</td>\n",
       "      <td>US5949181045</td>\n",
       "      <td>MSFT</td>\n",
       "    </tr>\n",
       "  </tbody>\n",
       "</table>\n",
       "</div>"
      ],
      "text/plain": [
       "            CUSIP IssuerOAPermID  \\\n",
       "MSFT.O  594918104     4295907168   \n",
       "\n",
       "                                            DocumentTitle     RIC  \\\n",
       "MSFT.O  Microsoft Corp, Ordinary Share, NASDAQ Global ...  MSFT.O   \n",
       "\n",
       "           IssueISIN TickerSymbol  \n",
       "MSFT.O  US5949181045         MSFT  "
      ]
     },
     "execution_count": 3,
     "metadata": {},
     "output_type": "execute_result"
    }
   ],
   "source": [
    "response = symbol_conversion.Definition(\"MSFT.O\").get_data()\n",
    "response.data.df"
   ]
  },
  {
   "cell_type": "markdown",
   "id": "dded17b6",
   "metadata": {},
   "source": [
    "### Conversion of multiple symbols "
   ]
  },
  {
   "cell_type": "code",
   "execution_count": 4,
   "id": "028e873d",
   "metadata": {},
   "outputs": [
    {
     "data": {
      "text/html": [
       "<div>\n",
       "<style scoped>\n",
       "    .dataframe tbody tr th:only-of-type {\n",
       "        vertical-align: middle;\n",
       "    }\n",
       "\n",
       "    .dataframe tbody tr th {\n",
       "        vertical-align: top;\n",
       "    }\n",
       "\n",
       "    .dataframe thead th {\n",
       "        text-align: right;\n",
       "    }\n",
       "</style>\n",
       "<table border=\"1\" class=\"dataframe\">\n",
       "  <thead>\n",
       "    <tr style=\"text-align: right;\">\n",
       "      <th></th>\n",
       "      <th>SEDOL</th>\n",
       "      <th>CUSIP</th>\n",
       "      <th>IssuerOAPermID</th>\n",
       "      <th>DocumentTitle</th>\n",
       "      <th>RIC</th>\n",
       "      <th>IssueISIN</th>\n",
       "      <th>TickerSymbol</th>\n",
       "    </tr>\n",
       "  </thead>\n",
       "  <tbody>\n",
       "    <tr>\n",
       "      <th>MSFT.O</th>\n",
       "      <td>&lt;NA&gt;</td>\n",
       "      <td>594918104</td>\n",
       "      <td>4295907168</td>\n",
       "      <td>Microsoft Corp, Ordinary Share, NASDAQ Global ...</td>\n",
       "      <td>MSFT.O</td>\n",
       "      <td>US5949181045</td>\n",
       "      <td>MSFT</td>\n",
       "    </tr>\n",
       "    <tr>\n",
       "      <th>AAPL.O</th>\n",
       "      <td>&lt;NA&gt;</td>\n",
       "      <td>037833100</td>\n",
       "      <td>4295905573</td>\n",
       "      <td>Apple Inc, Ordinary Share, NASDAQ Global Selec...</td>\n",
       "      <td>AAPL.O</td>\n",
       "      <td>US0378331005</td>\n",
       "      <td>AAPL</td>\n",
       "    </tr>\n",
       "    <tr>\n",
       "      <th>GOOG.O</th>\n",
       "      <td>&lt;NA&gt;</td>\n",
       "      <td>02079K107</td>\n",
       "      <td>5030853586</td>\n",
       "      <td>Alphabet Inc, Ordinary Share, Class C, NASDAQ ...</td>\n",
       "      <td>GOOG.O</td>\n",
       "      <td>US02079K1079</td>\n",
       "      <td>GOOG</td>\n",
       "    </tr>\n",
       "    <tr>\n",
       "      <th>IBM.N</th>\n",
       "      <td>2005973</td>\n",
       "      <td>459200101</td>\n",
       "      <td>4295904307</td>\n",
       "      <td>International Business Machines Corp, Ordinary...</td>\n",
       "      <td>IBM.N</td>\n",
       "      <td>US4592001014</td>\n",
       "      <td>IBM</td>\n",
       "    </tr>\n",
       "  </tbody>\n",
       "</table>\n",
       "</div>"
      ],
      "text/plain": [
       "          SEDOL      CUSIP IssuerOAPermID  \\\n",
       "MSFT.O     <NA>  594918104     4295907168   \n",
       "AAPL.O     <NA>  037833100     4295905573   \n",
       "GOOG.O     <NA>  02079K107     5030853586   \n",
       "IBM.N   2005973  459200101     4295904307   \n",
       "\n",
       "                                            DocumentTitle     RIC  \\\n",
       "MSFT.O  Microsoft Corp, Ordinary Share, NASDAQ Global ...  MSFT.O   \n",
       "AAPL.O  Apple Inc, Ordinary Share, NASDAQ Global Selec...  AAPL.O   \n",
       "GOOG.O  Alphabet Inc, Ordinary Share, Class C, NASDAQ ...  GOOG.O   \n",
       "IBM.N   International Business Machines Corp, Ordinary...   IBM.N   \n",
       "\n",
       "           IssueISIN TickerSymbol  \n",
       "MSFT.O  US5949181045         MSFT  \n",
       "AAPL.O  US0378331005         AAPL  \n",
       "GOOG.O  US02079K1079         GOOG  \n",
       "IBM.N   US4592001014          IBM  "
      ]
     },
     "execution_count": 4,
     "metadata": {},
     "output_type": "execute_result"
    }
   ],
   "source": [
    "response = symbol_conversion.Definition(symbols=[\"MSFT.O\", \"AAPL.O\", \"GOOG.O\", \"IBM.N\"]).get_data()\n",
    "#response = symbol_conversion.Definition(symbols=[\"IBM\", \"US5949181045\", \"037833100\", \"BH4HKS3\"]).get_data()\n",
    "response.data.df"
   ]
  },
  {
   "cell_type": "markdown",
   "id": "54dcafc5",
   "metadata": {},
   "source": [
    "### Conversion using symbol types"
   ]
  },
  {
   "cell_type": "code",
   "execution_count": 5,
   "id": "a3d5c0b1",
   "metadata": {},
   "outputs": [
    {
     "data": {
      "text/html": [
       "<div>\n",
       "<style scoped>\n",
       "    .dataframe tbody tr th:only-of-type {\n",
       "        vertical-align: middle;\n",
       "    }\n",
       "\n",
       "    .dataframe tbody tr th {\n",
       "        vertical-align: top;\n",
       "    }\n",
       "\n",
       "    .dataframe thead th {\n",
       "        text-align: right;\n",
       "    }\n",
       "</style>\n",
       "<table border=\"1\" class=\"dataframe\">\n",
       "  <thead>\n",
       "    <tr style=\"text-align: right;\">\n",
       "      <th></th>\n",
       "      <th>RIC</th>\n",
       "      <th>IssuerOAPermID</th>\n",
       "    </tr>\n",
       "  </thead>\n",
       "  <tbody>\n",
       "    <tr>\n",
       "      <th>US5949181045</th>\n",
       "      <td>MSFT.O</td>\n",
       "      <td>4295907168</td>\n",
       "    </tr>\n",
       "    <tr>\n",
       "      <th>US02079K1079</th>\n",
       "      <td>GOOG.O</td>\n",
       "      <td>5030853586</td>\n",
       "    </tr>\n",
       "  </tbody>\n",
       "</table>\n",
       "</div>"
      ],
      "text/plain": [
       "                 RIC IssuerOAPermID\n",
       "US5949181045  MSFT.O     4295907168\n",
       "US02079K1079  GOOG.O     5030853586"
      ]
     },
     "execution_count": 5,
     "metadata": {},
     "output_type": "execute_result"
    }
   ],
   "source": [
    "# Symbol types:\n",
    "# - symbol_conversion.RIC => RIC\n",
    "# - symbol_conversion.ISIN => IssueISIN\n",
    "# - symbol_conversion.CUSIP => CUSIP\n",
    "# - symbol_conversion.SEDOL => SEDOL\n",
    "# - symbol_conversion.TICKER_SYMBOL => TickerSymbol\n",
    "# - symbol_conversion.OA_PERM_ID => IssuerOAPermID\n",
    "# - symbol_conversion.LIPPER_ID => FundClassLipperID\n",
    "\n",
    "response = symbol_conversion.Definition(\n",
    "    symbols=[\"US5949181045\", \"US02079K1079\"],\n",
    "    from_symbol_type=symbol_conversion.SymbolTypes.ISIN,\n",
    "    to_symbol_types=[\n",
    "        symbol_conversion.SymbolTypes.RIC,\n",
    "        symbol_conversion.SymbolTypes.OA_PERM_ID\n",
    "    ],\n",
    ").get_data()\n",
    "\n",
    "response.data.df"
   ]
  },
  {
   "cell_type": "markdown",
   "id": "3d11bd44-1970-4190-abf5-4a9d990be839",
   "metadata": {},
   "source": [
    "### Checking the Response Data\n",
    "How to check if we got a sucessful Response and the data formats it contains"
   ]
  },
  {
   "cell_type": "code",
   "execution_count": 6,
   "id": "875d9c34",
   "metadata": {},
   "outputs": [],
   "source": [
    "response = symbol_conversion.Definition(\n",
    "    symbols = [\"60000008\", \"60003513\"],\n",
    "    from_symbol_type = symbol_conversion.SymbolTypes.LIPPER_ID\n",
    ").get_data()"
   ]
  },
  {
   "cell_type": "code",
   "execution_count": 7,
   "id": "d202aeff-9881-49c3-b8b7-d4adcbde41a7",
   "metadata": {},
   "outputs": [
    {
     "data": {
      "text/plain": [
       "{'Matches': {'60000008': {'DocumentTitle': 'AS SICAV I - American Focused Equity A Acc USD, Open-End Fund, USD, Lipper',\n",
       "   'RIC': 'LP60000008',\n",
       "   'IssueISIN': 'LU0011963831',\n",
       "   'SEDOL': '4008817',\n",
       "   'FundClassLipperID': '60000008'},\n",
       "  '60003513': {'DocumentTitle': 'JPM Japan Sustainable Equity A Acc JPY, Open-End Fund, JPY, Lipper',\n",
       "   'RIC': 'LP60003513',\n",
       "   'IssueISIN': 'LU0070214613',\n",
       "   'SEDOL': '5408364',\n",
       "   'FundClassLipperID': '60003513'}}}"
      ]
     },
     "metadata": {},
     "output_type": "display_data"
    },
    {
     "data": {
      "text/html": [
       "<div>\n",
       "<style scoped>\n",
       "    .dataframe tbody tr th:only-of-type {\n",
       "        vertical-align: middle;\n",
       "    }\n",
       "\n",
       "    .dataframe tbody tr th {\n",
       "        vertical-align: top;\n",
       "    }\n",
       "\n",
       "    .dataframe thead th {\n",
       "        text-align: right;\n",
       "    }\n",
       "</style>\n",
       "<table border=\"1\" class=\"dataframe\">\n",
       "  <thead>\n",
       "    <tr style=\"text-align: right;\">\n",
       "      <th></th>\n",
       "      <th>SEDOL</th>\n",
       "      <th>FundClassLipperID</th>\n",
       "      <th>DocumentTitle</th>\n",
       "      <th>RIC</th>\n",
       "      <th>IssueISIN</th>\n",
       "    </tr>\n",
       "  </thead>\n",
       "  <tbody>\n",
       "    <tr>\n",
       "      <th>60000008</th>\n",
       "      <td>4008817</td>\n",
       "      <td>60000008</td>\n",
       "      <td>AS SICAV I - American Focused Equity A Acc USD...</td>\n",
       "      <td>LP60000008</td>\n",
       "      <td>LU0011963831</td>\n",
       "    </tr>\n",
       "    <tr>\n",
       "      <th>60003513</th>\n",
       "      <td>5408364</td>\n",
       "      <td>60003513</td>\n",
       "      <td>JPM Japan Sustainable Equity A Acc JPY, Open-E...</td>\n",
       "      <td>LP60003513</td>\n",
       "      <td>LU0070214613</td>\n",
       "    </tr>\n",
       "  </tbody>\n",
       "</table>\n",
       "</div>"
      ],
      "text/plain": [
       "            SEDOL FundClassLipperID  \\\n",
       "60000008  4008817          60000008   \n",
       "60003513  5408364          60003513   \n",
       "\n",
       "                                              DocumentTitle         RIC  \\\n",
       "60000008  AS SICAV I - American Focused Equity A Acc USD...  LP60000008   \n",
       "60003513  JPM Japan Sustainable Equity A Acc JPY, Open-E...  LP60003513   \n",
       "\n",
       "             IssueISIN  \n",
       "60000008  LU0011963831  \n",
       "60003513  LU0070214613  "
      ]
     },
     "metadata": {},
     "output_type": "display_data"
    }
   ],
   "source": [
    "# Check if request was successful\n",
    "if (response.is_success):\n",
    "    # Should have raw data when is_success==true\n",
    "    if response.data.raw:\n",
    "        display(response.data.raw)\n",
    "    else:\n",
    "        print(\"Response does not contain raw data\")    \n",
    "    # Check if the response contains a Dataframe too?\n",
    "    if (not response.data.df.empty):\n",
    "        display(response.data.df)\n",
    "    else:\n",
    "        print(\"\\nResponse does not contain DataFrame\")\n",
    "else: \n",
    "    # Something went wrong\n",
    "    print(f\"Not Sucessful : {response.http_status}\")"
   ]
  },
  {
   "cell_type": "markdown",
   "id": "58c9bc68",
   "metadata": {},
   "source": [
    "## Close the default session"
   ]
  },
  {
   "cell_type": "code",
   "execution_count": 8,
   "id": "24902d47",
   "metadata": {},
   "outputs": [],
   "source": [
    "close_session()"
   ]
  },
  {
   "cell_type": "code",
   "execution_count": null,
   "id": "091849dd",
   "metadata": {},
   "outputs": [],
   "source": []
  }
 ],
 "metadata": {
  "kernelspec": {
   "display_name": "RevData39",
   "language": "python",
   "name": "rd39"
  },
  "language_info": {
   "codemirror_mode": {
    "name": "ipython",
    "version": 3
   },
   "file_extension": ".py",
   "mimetype": "text/x-python",
   "name": "python",
   "nbconvert_exporter": "python",
   "pygments_lexer": "ipython3",
   "version": "3.9.4"
  }
 },
 "nbformat": 4,
 "nbformat_minor": 5
}
