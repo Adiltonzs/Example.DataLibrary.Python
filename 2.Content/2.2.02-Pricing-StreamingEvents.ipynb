{
 "cells": [
  {
   "cell_type": "markdown",
   "metadata": {},
   "source": [
    "# Refinitiv Data Platform Library for Python\n",
    "## Content - Pricing - Streaming"
   ]
  },
  {
   "cell_type": "markdown",
   "metadata": {},
   "source": [
    "This notebook demonstrates how a Price object to receive streaming real-time data.  "
   ]
  },
  {
   "cell_type": "markdown",
   "metadata": {},
   "source": [
    "## Import the library and load credentials\n",
    "\n",
    "Credentials used by this and the other tutorials notebooks are stored in the **Configuration/credentials.ipynb** file.     \n",
    "\n",
    "You should have edited the **Configuration/credentials.ipynb** to set your credentials as part of the **Quick Start** step."
   ]
  },
  {
   "cell_type": "code",
   "execution_count": 1,
   "metadata": {
    "collapsed": false,
    "jupyter": {
     "outputs_hidden": false
    },
    "pycharm": {
     "name": "#%%\n"
    }
   },
   "outputs": [],
   "source": [
    "from refinitiv.data.content import pricing\n",
    "from pandas import DataFrame\n",
    "from IPython.display import display, clear_output\n",
    "\n",
    "%run ../Configuration/credentials.ipynb"
   ]
  },
  {
   "cell_type": "markdown",
   "metadata": {},
   "source": [
    "## Open the session of your choice\n",
    "\n",
    "Use our helper function in the Credentials notebook, **open_session(session_type)**, to create and open a session to connect to the \n",
    "- Refinitiv Data Platform directly (session_type=\"rdp\") or via \n",
    "- Eikon 4 or Refinitiv Workspace (session_type=\"desktop\") or via a \n",
    "- local realtime infrastructure (session_type=\"deployed\").\n",
    "\n",
    "You can also set a default in the **credentials** notebook - which I have done, and so I don't need to specify a session_type:"
   ]
  },
  {
   "cell_type": "code",
   "execution_count": 6,
   "metadata": {
    "collapsed": false,
    "jupyter": {
     "outputs_hidden": false
    },
    "pycharm": {
     "name": "#%%\n"
    }
   },
   "outputs": [
    {
     "data": {
      "text/plain": [
       "<refinitiv.data._data.core.session._platform_session.PlatformSession at 0x1d87f1a50a0>"
      ]
     },
     "execution_count": 6,
     "metadata": {},
     "output_type": "execute_result"
    },
    {
     "name": "stderr",
     "output_type": "stream",
     "text": [
      "send: b'\\x81\\x90n\\xf4\\x98\\x9a\\x15\\xd6\\xcc\\xe3\\x1e\\x91\\xba\\xa0N\\xd6\\xc8\\xf5\\x00\\x93\\xba\\xe7'\n",
      "send: b'\\x81\\x90\\x9e&\\xf3\\x15\\xe5\\x04\\xa7l\\xeeC\\xd1/\\xbe\\x04\\xa3z\\xf0A\\xd1h'\n",
      "send: b'\\x81\\x90)\\xc7\\xcf_R\\xe5\\x9b&Y\\xa2\\xede\\t\\xe5\\x9f0G\\xa0\\xed\"'\n",
      "send: b'\\x81\\x90\\xb3TO\\x8b\\xc8v\\x1b\\xf2\\xc31m\\xb1\\x93v\\x1f\\xe4\\xdd3m\\xf6'\n",
      "send: b'\\x81\\x90\\x05\\xcbU\\xd9~\\xe9\\x01\\xa0u\\xaew\\xe3%\\xe9\\x05\\xb6k\\xacw\\xa4'\n",
      "send: b'\\x81\\x90\\x16v\\xeaUmT\\xbe,f\\x13\\xc8o6T\\xba:x\\x11\\xc8('\n",
      "send: b'\\x81\\xfe\\x11\\xc5hd\\x0f\\t\\x13FKf\\x05\\x05fgJ^/+$\\x0bh`\\x06F#)J-K+RD=%HFDl\\x11F5)\\x13FAh\\x05\\x01[p\\x18\\x01-3HFN|\\x1c\\x0ca]\\x07\\x0fjgJH/+-\\x08jd\\r\\n{zJ^/rJ%z}\\x00\\x01a}\\x01\\x07n}\\x01\\x0ba]\\x07\\x0fjgJ^/+\\r\\x1dE9\\r<N`\\'\\rEa\\x0c\\'{x\\x0cW^`$\\'Ea\\n#l`\\'\\rEZ=\\x1eF8&\\rFz!\\t{y2\\'F?!\\t]D\\x0c\"k;9T{J;\\'>G\\x0b\\x08Yp?\\t6P%<If\\x0cV\\x7fS9V{8\\r Y9>VUZ;V`=%!6\\x7f\\x0b\\x0ek\\\\1V7`\\x0e5!l\\x11.dP06g@\\x02\\x0bflY\\x13fPZ\\x08xh/2vm/2;m.\\x13fF\\x04\\x13f[\\x12\\x0c~j\\x12&\\x7fm[6LhY&|h?\\x00vS \\x14W[\\x12\\x00gmZ>US\\x066dF/\\x1c@h\\x04-{QZ\\x00DX\\x04\\x00>].&L[<.JX[6UZ0.fm\\x046__>\\x08]m?\\x1c^Z\\x03U[D=\\x1c{X<2zS\\x12!wj/\\x00]D\\x03\\x10^h\\x04!=k/={]>>^G\\x04\\x14LD\\x03UaD\\x02\\x0cvm?!vZ\\x05-:\\\\\\x02>u[X\\x00`P=\\x17=_\\x05!?\\\\\\x06%>j\\x06*_G\\x04>9F.\"UX\\x05\"{D\\x04>]_\\x03\\x10<XZ2U_0>`]-\\x0cuGZ>VQZ*V_\\x125<SZ>cZ,>>S.\"zj?Q:G,\\x00G_-Q|P=\\x14|D,\\x0cv]\\x02*=G?.LZ-*b[\\x12>E^-UUZ\\x05*IPZ\"EDX2Zk\\x04.\\\\h>&^Q[6wZ<.g[=2;QZ6IE>>L]\\x062K[0\\x0c`\\\\X-xZ?6}l.2D^\\x04*gZ0&HG \\x0c;]-5vmY\\x0bxkZ.]_-\\x14Mj0&Zh-\\x13vS\\x04)uP\\x12\";h/\\x14_h/\\x14]]?\\x0c|Z<\"JP\\x03\\x08nD/\\x0c\\\\G[2~G\\x05UVk\\x03\\x10Y\\\\\\x04]=_>-?ZY.`Q[\\x08v]\\x06\\x08LSY*[E?QDE?\\x0c]\\\\,&|m<\\x08cS02;X\\x05\\x0cIZ-PuX<\\x07;k0\\x14i^-UI_\\x05Uw].>bG-Q;h/\\x00;Z[%=G.\"fm 6AZZ\\x10Kj=]i_X=xl-.\\x7fjZ.^G/QzjZ\\x0fwS\\x062FD\\x05\\x10BF=\\x14;S\\x052zD<\\x0cX\\\\Y\\x03>m-2zX=\\x07{X?U@F<6@S\\x02\\x0c>_\\x052^l0\\x0ccD\\x04);j.]xZ\\x05\\x08]\\\\/UV\\\\\\x03\\\\:h<\\x0c{[\\x03\\x0c;^,*w[X.\\\\S\\x03*}E<\\x08ej0)>S[>xXXU<^-\\x00:X\\x026Zm=\\x00y\\\\.]<[Y\\x03xmX\\\\uG *__\\x03\\x0cY_=*uP<*FQ[&i^0\\x07:S\\x022Vk?={QX.n_-6?_\\x06\\x0cJm?1>G<\\x0cu[02YF.&WP?-:E>\"z^/\\x10_D<*Xl\\x05\\x00Kh\\x02\\x07v[0&VDX\\\\=F.\\x00Uh\\x01UZ[[\\x0cu]\\x04\"~k[\\x00dPZ\\x1cUX\\x066YG.\\x0f{ZX2}X\\x12\\x08iG=6:j,\\x03{SZ=wG\\x046\\x7f]<\\x0f;j/U;hZ\\x0c[m0>`j=!xG,2?XY\"WZ-2yG/.ak>2}GX\\x08y\\\\\\x045v^<\\x00{[>=>m<\\x00YG\\x06.`P;UXm?>>]>\\x08\\x7fl/\\x10V]<*bh-\\x10^],\\x08ZP=.L[.\\x08gl\\x04*x_Y2Vj06\\x7fj,\\x00}Z\\x03]eP\\x122=XY\\x00cj>\\x0f;X?-{[\\x02.gQ\\x12\\x0cISX*=],\\x07wk\\x04\\\\vG==u].\\x0f{[?\"Z\\\\[\\x0fuZ.6f[\\x02\"bj\\x05\\x14Yl.>e_\\x065w\\\\[\\x03w_Z1<hZ>I]Z]\\x7fj<6bF,2a].\\x14z^\\x02\"~k\\x05\\x00~Z=>xG\\x05P:G/>\\\\hZ.|]\\x035;X\\x03\"e].&dD\\x05\\x1cHS[)>hX.AP\\x12.@DZ\\x109l..@_\\x02>YG[=vm \"\\\\D\\x01UY_X\\x08fX[\\x0c\\x7fD\\x02&Xm\\x06&GX\\x022VD02:DZ\\x00;_0\\x08\\x7fk/.>m/\">j 2^]\\x035v]0\\x0cYZZ\\x10DGX\\x0c|[Y*Vl=5w]\\x066c]/]Cl,\\x08{D<1uZ/._G\\x02*JhY\\x00Jj?QBh[\\x14Vh\\x04&Lh[2IGX>YF=\\\\{m\\x04\\x00iP\\x05\\x10MZ[\\x00xS-\\x14uP?2fh\\x035vZ\\x12\\x08fS\\x02&GZ.-xS0)wZ>\\\\uD?\\x1c<k\\x04\\x08\\\\\\\\/\\x08fk-\\x0cw]\\x04\\x03?P\\x046YE<*`Z\\x03\\x0c^h-\\x14ijX6ES<6HP\\x05QAk,&bm,\\x07{XZ\\x1cHkY\\x00Zl-6\\x7fXZ\\x08\\x7fD\\x02\\x08AG-\\x08zP<&G\\\\Z\\x0czhY2^]-2y\\\\>\\x14n]-QWF >DGY]wS\\x03*DS\\x02-vF \\x00I_,&aP\\x03\\x13xX0)=[\\x06\\x00ik\\x12\\x08nZ<.gk\\x05\\x089h\\x026Fj<*x]\\x03\\x08_E;UIZ\\x03\\x14?];UgQY.MG>)xS \"}^\\x04\"u_>*>XZ6C^\\x02>?Z.*CDX\\\\;_?\\x08nj\\x06\\x0c_j \\x14`mZTxSZ]<D/\\x10^D[\\x0c}k?\"`^=]Mm>\"`]/\"E]\\x12==ZZ\\x0b<k\\x02&iD.->_\\x04\\x14LSZ\\x14dm\\x06\\x00d^,.@P?\\x00>G=\\x14_^?\\x13vm[\":G..Y[\\x05];[X-vl=2Y^\\x03\\x08K_ 6B\\\\\\x04&wh\\x12.gj0\\x08\\x7fj \\x08fF?>}F?Uy\\\\?6WZ=.v\\\\?QJ_X2fl0\\x0cuj/\\x10`\\\\\\x12\\x08Kk0&xk,\\x0cuQX\\x0fum0&D]\\x06\\x08MQ[>X[\\x05.Bl\\x05QUX=*cX0&Ek=\\x0c~]\\x04\\x00a^->~[-]H^-6y_\\x02\\x08d],.|[?\\x0b:k<\"XP=.Mm[\\x0b>\\\\\\x03\\x0cB\\\\Z.xl-2uD[6HD\\x02\\x00\\x7fX?\\x13u\\\\,.VZX\\\\wD0\\x0c{PY*`]/6bX\\x03\\x08AD.\\x00\\\\j[\\x0b:j<\\x03:k \"~P=\\x13ul \\x0cFkY\\x08Ah\\x06\\x0cV].\\x0c;]Z\\x00[X\\x05\\x1c~X\\x06\\x03?m\\x03.:l->vF-\\x1cwS \\x00^k,6ih,*:l,*uk<\\x0f=k/2]l &c^-\\x00J\\\\0&ZPX.9S,&H]\\x062zGZ\\x0f?F<\\x0c`k=>LF>*yQ+-|Q+.\\x7fm\\x04\\x13fF\\x04\\x13fZ\\x126Em?5=X\\x04*w^.*9h/\\x14aQY\\x13fE.\\x13fj .ym/2em/2dQ+-9Q+.cl=\\x14`P\\x03\\x00eh=]\\x7fZ\\x03.XD=Qb\\\\\\x041>[.\\x03w]\\x032[D<\\x08L]?\\x14YD\\x03\\x08\\x7fmZ\\x08n_\\x122~Z?\\x14yh>\"ZZ<\"@hZ6J_.*EjX\\x08zj &eXX\\x0f=Z?\\x10\\\\[\\x04.\\x7fZ\\x02\\x08l@\\x01\\x1cl@\\x06.cPZ\\x08xh?2zm *l@\\x02\\x14mlY\\x13fS?Qej\\x06\\x08xm/2dQZ\\x10cl>\\x13fF\\x04\\x13fX>\"EX\\x03\"Fh=]\\\\PZ\"^h.]\\x7f^\\x02*{hZ\\x14Ik>!=X?\\x0c9X\\x12\\x08f[[\\x0cvZ<6i_Z\\x0cXZ.\\x03>]X>vG\\x021;D.\"F\\\\X-v^\\x02\"Y]-\\x0c^\\\\/\\x10AZY.<\\\\\\x06\"|h\\x12>ZX=\"MX?>~X\\x02\\x0cLSZ\\x10wh/\\x10\\x7f[\\x12\\x08<D-.LmZ\"aP\\x06\\x14Lm-\"a[=\"A[Z\\x00GXY*w[Y*EP\\x02*J\\\\=2FX>6MS=.ak/\\x00`hZ\\x00L^\\x04\"A[=\"[G \\x00I\\\\>\"AD>]}k>\\x0buj\\x12\"\\x7fh\\x06\\x08UPZ\\x08b[X\"a[>\"a[ =;Z \\x14YmX\\x07xXX>_G\\x04\\x149l\\x02.`\\\\=\\x14F\\\\X=w][.xD\\x05]fZ?\\x08IX\\x035?k\\x12>{^<==[\\x032dG,.]h\\x02*XF/2DQ\\x126Cl<6CZ.6|S\\x12\\x08a\\\\/\\x08\\\\k\\x04.HSX\"Ej[&K^0*MQ+-|Q+.`S?\"dS0.l@\\x02\\x148Q+.}h?6l@\\x02\\x14l@\\x05\"vk\\x02\\x14gm[)9hZUuF\\x062uE?2gj[5{D<\\x0b;F<\\x03xF,5:F,5;G\\x12\\x079hZ2:E\\x12\"bS\\x05==G\\x12\\x0fuE<=>S/1{G,\\x00eG+UfG\\x12==E<\\x07=PZ5uP\\x12!:G/2bD>\\x13fo0T|lY\\x13fS?Qej\\x06\\x08xm/2dQZ\\x10cl>\\x13fF\\x04\\x13fX>\"EXX\"Fh-\\x1cGG\\x021;Q\\x12.wSY.B[/2xk 5{ZY=:D>%{D\\x04\"\\\\Z .eZY)wm\\x06-<j\\x02*Wj\\x04\\x14LF?\\x00HS/>eG\\x05*?G<\\x0fu\\\\0)wk-2[Z=\\x14:h=]VX=\"MX?>~X\\x02\\x0cLSZ\\x10wh/\\x10\\x7f[\\x12\\x08<D-.LmZ\"aP\\x06\\x14Lm-\"a[=\"A[Z\\x00GXY*w[Y*EP\\x02*J\\\\=2FX>6MS=.ak/\\x00`hZ\\x00L^\\x04\"A[=\"[G \\x00I\\\\>\"AD\\x06\\x0c:Z-\"[j\\x12\\x08}_..=m<.X\\\\\\x03\"a[>\"a[ 6w[?\\x0c>]\\x036V[\\x04&JX?\\x14HhX\\x10Vl0*Aj/\"AD--<m<2{jZ.MS.*Bk\\x04)vl\\x05UdGY\\x0ca[ \"[ZY2GX0\"?D\\x03UvS\\x05QEh-.Ll \\x08}QY6}]\\x065uh/U|XX2}QXUMQ+-|Q+.`S?\"dS0.l@\\x02\\x148Q+.}h?6l@\\x02\\x14l@\\x05\"vk\\x02\\x14gm[)9hZUuF\\x05\"xE0*ym06`S?\"um+TwF\\x02\\x03:F,%;G,\\x0f;G,\\x03<G\\x12\\x14}S0\\x0fyS<5;G\\x12&fD?){F?*eG\\x11T?G,\\x07;E?-:G<%{P\\x121=G<\\x08fG?)>G\\x02\\x0cbQ+.6o;\\x1c8Q+.ck\\x05*vl0&?S?6ihZ2:Q+-9Q+.M\\\\=\\x08LX=\\x0c\\x7f]Y.eP>&`QZ\\x08nDZU}h\\x032{\\\\<>Mh \\x14KF?.Gl .EG.]Wh.>F^,2_[\\x06-=G<\\x03x\\\\=\\x0c[X\\x02.nD>2BZ.&^hXUC\\\\\\x06\\x00\\\\j?\\x1c}G\\x046MX=\"MS\\x05\\x14LF-.ah[\"`hZ\\x08GF0\\x07xX\\x03.<P?\\x00fl\\x03.?X?\\x00IX=UGSX\\x00K\\\\[\"G\\\\X\\x08fDX6][=\\x0cM_-\"cX\\x05\\x00|SZ\\x0c}SX.n\\\\=UIX>)?mX2]\\\\=TwQZ\\x10{^\\x02*uD?\\x08~l>\\x08eh?>GX?\\x00I\\\\?\\x00Jm\\x02\\x0cFl\\x042<[\\x12&K[\\x03\\\\=^\\x06\\x149D\\x05\\x0c]Z\\x03\\x0c[[\\x02\"_j\\x06%vkZ.Eh=2L[,6yG\\x05UUG\\x02>H[?5?D\\x04\"~DY=;S=\\x14iG-\\x10:G-\\x10F_/\\x1caF?\\x00^h>.z\\\\\\x03>aX=\\x08uj-*UjX\"l@\\x01\\x1cl@\\x05\\x0ccP?6cj\\x04\\x13fF\\x06\\x10l@\\x05\\x10\\x7fS.\\x13fF\\x04\\x13fP0.zF\\x05\"<j\\x12\\x14}k0)9m0){S?\"um+TwF\\x02\\x03:F,%;G,\\x0f;G,\\x03<G\\x12\\x14}S0\\x0fyD?>bS\\x02=<F<){G\\x022dS;T?GZ)?E?-<G\\x02={G\\x12>eS,*eD<\\x0f?S?=wQ+.6o>T|Q+.?P?\\x00l@\\x02\\x14l@\\x03]um\\x02\"ZG?2LX0*@PX]K_<\\x08]Z?\\x00<^\\x03\"l@\\x06TfE+.vj\\x12!fF\\x01-xP\\x025<D/5;S<.fS<.eF?)>P?1xP?-uD\\x022bD\\x05!=F,\\x0f?D<5;G?!wS<%u@\\x01\\x13fP02d@\\x02\\x0bfD/=<P<.dD<*fS\\x02-<G,\\x07;F<\\x03<S,\"eG\\x122bD\\x05)>S\\x055;S\\x05)?G\\x02\\x0fxS\\x02\\x00cD;-|@\\x05\\x08uj\\x11-9@\\x05\\x0c?m &uF\\x01\\\\yS\\x05\\x08zP?Qeh?\"|E\\x066`kZUukZQvS02?S0.uE\\x05*yk;]gj/\\x0fyh?6ck\\x066\\x7fm \\x0fyj[6uQ[&vkZ5fE+.cl %fF\\x02!=D\\x02)?D\\x02\\x07wD<-|@\\x05\\x08gm+-9D<=vD\\x125vG\\x02\\x03wD\\x06T![E>kg\\x02<Xg\\x063;N\\x1f\\x00^L/59:&%ZA1\\x12cz\\x186LG*=E]:1y=Z\\x03M][0@P\\x01\\x07LO\\x0b\\x02Vx?\\x03;G2\\x1d[08/:S\\x1b2bd\\x1a\\x0eU\\\\\\r\\nI_;Vi]\\n3cf?T]d!,dq \\'P]7.\\\\ZQWUa\\x1f\\x1cD$\\x1a\\x1cIb\\x055WSZ&IC\\x1a\\x17G:P\\x13hX\\x0cWwO*\\x0f^=8>:o7 {p\\x1eR^z\\x10\\x0fK\\\\.\\x05h9P)JP>\\x00[FQ\\x12@F\\rWDX\\x101D[\\x05&w=^1H]0VnB*\\x1eyJ\\x18\\x1eW1\\x1b\\x16D}\\x00Uk[,\\x11v|8Ub~\\x1c\\x0cHO (xQ\\\\\\x12f{<\\x07_q\\x00\\x03c`\\x044Ug\\x1279$\\x1c-ExZ37k\\x020vlQ>[Q\\x00PY[7\\x1d6P\\x0eSdQ+Sy8\\n/=s\\n.fh\\x07+~c\\x19R|~0\\'\\x7f~\\x18]|\\\\!)IN\\x1b\\r]81\\\\Z1\\x07QaM\\x116lX$6:` VGM/-U0\\x1a\\nZJ;4dx\\x0fF#)J%\\x7fy\\x04\\rlh\\x1c\\r`g!\\x00-3HF=<^F#)J4`z\\x01\\x10ff\\x06F5)JU6;FU91FV!8XKX@&IH@QUDY!->O)Frt\\x15'\n",
      "send: b'\\x81\\x903\\xea\\x1aRH\\xc8N+C\\x8f8h\\x13\\xc8J=]\\x8d8/'\n",
      "send: b'\\x81\\x90\\x81\\xd1m\\xba\\xfa\\xf39\\xc3\\xf1\\xb4O\\x80\\xa1\\xf3=\\xd5\\xef\\xb6O\\xc7'\n",
      "send: b\"\\x81\\x90{\\xd6w\\xfb\\x00\\xf4#\\x82\\x0b\\xb3U\\xc1[\\xf4'\\x94\\x15\\xb1U\\x86\"\n"
     ]
    }
   ],
   "source": [
    "# I have defined a default Session type in the Credentials notebook - so no need to provide one here\n",
    "open_session()"
   ]
  },
  {
   "cell_type": "markdown",
   "metadata": {},
   "source": [
    "### Define a callback to receive streaming data"
   ]
  },
  {
   "cell_type": "code",
   "execution_count": 7,
   "metadata": {},
   "outputs": [],
   "source": [
    "# declare a DataFrame to use for storing our streaming data\n",
    "df = DataFrame()\n",
    "\n",
    "# Function to initially populate Dataframe, once initial values received for all items\n",
    "def create_dataframe(streaming_prices):\n",
    "    global df\n",
    "    snapshot = streaming_prices.get_snapshot()\n",
    "    field_names = snapshot.columns[1:]\n",
    "    instrument_names = snapshot['Instrument'].values\n",
    "    df = DataFrame(index=instrument_names, columns=field_names)\n",
    "    for price in streaming_prices:\n",
    "        for field_name, field_value in price.get_fields().items():\n",
    "            df.at[price.name, field_name] = field_value\n",
    "    display(df)\n",
    "\n",
    "# Function to update dataframe, when we receive updates for individual items\n",
    "def update_dataframe(streaming_prices, instrument_name, fields):\n",
    "    global df\n",
    "    clear_output(wait=True)\n",
    "    for field_name, field_value in fields.items():\n",
    "        df.at[instrument_name, field_name] = field_value\n",
    "    display(df)"
   ]
  },
  {
   "cell_type": "markdown",
   "metadata": {},
   "source": [
    "## Create a stream and open it"
   ]
  },
  {
   "cell_type": "code",
   "execution_count": 8,
   "metadata": {},
   "outputs": [
    {
     "data": {
      "text/html": [
       "<div>\n",
       "<style scoped>\n",
       "    .dataframe tbody tr th:only-of-type {\n",
       "        vertical-align: middle;\n",
       "    }\n",
       "\n",
       "    .dataframe tbody tr th {\n",
       "        vertical-align: top;\n",
       "    }\n",
       "\n",
       "    .dataframe thead th {\n",
       "        text-align: right;\n",
       "    }\n",
       "</style>\n",
       "<table border=\"1\" class=\"dataframe\">\n",
       "  <thead>\n",
       "    <tr style=\"text-align: right;\">\n",
       "      <th></th>\n",
       "      <th>BID</th>\n",
       "      <th>ASK</th>\n",
       "    </tr>\n",
       "  </thead>\n",
       "  <tbody>\n",
       "    <tr>\n",
       "      <th>EUR=</th>\n",
       "      <td>1.2099</td>\n",
       "      <td>1.2101</td>\n",
       "    </tr>\n",
       "    <tr>\n",
       "      <th>GBP=</th>\n",
       "      <td>1.4114</td>\n",
       "      <td>1.4116</td>\n",
       "    </tr>\n",
       "    <tr>\n",
       "      <th>JPY=</th>\n",
       "      <td>109.75</td>\n",
       "      <td>109.76</td>\n",
       "    </tr>\n",
       "    <tr>\n",
       "      <th>CAD=</th>\n",
       "      <td>1.2159</td>\n",
       "      <td>1.216</td>\n",
       "    </tr>\n",
       "  </tbody>\n",
       "</table>\n",
       "</div>"
      ],
      "text/plain": [
       "         BID     ASK\n",
       "EUR=  1.2099  1.2101\n",
       "GBP=  1.4114  1.4116\n",
       "JPY=  109.75  109.76\n",
       "CAD=  1.2159   1.216"
      ]
     },
     "metadata": {},
     "output_type": "display_data"
    }
   ],
   "source": [
    "# Define our Streaming Price object\n",
    "streams = rd.content.pricing.Definition(\n",
    "    ['EUR=', 'GBP=', 'JPY=', 'CAD='],\n",
    "    fields=['BID', 'ASK']\n",
    ").get_stream()\n",
    "\n",
    "# Specify callback handler for any updates\n",
    "streams.on_update(update_dataframe)\n",
    "# Callback for when we have received initial values for all items\n",
    "streams.on_complete(create_dataframe)\n",
    "# Send the requests to the server and open the streams for all items\n",
    "streams.open()"
   ]
  },
  {
   "cell_type": "markdown",
   "metadata": {},
   "source": [
    "## Close the stream"
   ]
  },
  {
   "cell_type": "code",
   "execution_count": 9,
   "metadata": {},
   "outputs": [
    {
     "name": "stderr",
     "output_type": "stream",
     "text": [
      "send: b'\\x81\\x9aG\\x9d\\xefC<\\xbf\\xa6\\x07e\\xa7\\xcfuk\\xbd\\xcd\\x17>\\xed\\x8aa}\\xbd\\xcd\\x00+\\xf2\\x9c&e\\xe0'\n",
      "send: b\"\\x81\\x9a\\x84\\x07)u\\xff%`1\\xa6=\\tB\\xa8'\\x0b!\\xfdwLW\\xbe'\\x0b6\\xe8hZ\\x10\\xa6z\"\n",
      "send: b'\\x81\\x9a\\x90\\xd2x\\xe8\\xeb\\xf01\\xac\\xb2\\xe8X\\xd0\\xbc\\xf2Z\\xbc\\xe9\\xa2\\x1d\\xca\\xaa\\xf2Z\\xab\\xfc\\xbd\\x0b\\x8d\\xb2\\xaf'\n",
      "send: b'\\x81\\x9a\\x93\\xdcw\\xe9\\xe8\\xfe>\\xad\\xb1\\xe6W\\xd0\\xbf\\xfcU\\xbd\\xea\\xac\\x12\\xcb\\xa9\\xfcU\\xaa\\xff\\xb3\\x04\\x8c\\xb1\\xa1'\n"
     ]
    },
    {
     "data": {
      "text/plain": [
       "<StreamState.Closed: 1>"
      ]
     },
     "execution_count": 9,
     "metadata": {},
     "output_type": "execute_result"
    }
   ],
   "source": [
    "streams.close()"
   ]
  },
  {
   "cell_type": "markdown",
   "metadata": {},
   "source": [
    "## Close the session"
   ]
  },
  {
   "cell_type": "code",
   "execution_count": 10,
   "metadata": {},
   "outputs": [
    {
     "name": "stderr",
     "output_type": "stream",
     "text": [
      "send: b'\\x81\\xad\\xd6#\\xaa\"\\xad\\x01\\xeeM\\xbbB\\xc3L\\xf4\\x19\\x8a\\x00\\x9aL\\xcdK\\xb8\\x01\\x86\\x02\\xf4j\\xee\\x00\\xec\\x03\\x98\\x0e\\xf6\\x01\\xfe[\\xa6F\\x88\\x18\\xf6\\x01\\xe9N\\xb9P\\xcf\\x00\\xab'\n",
      "send: b'\\x88\\x82\\xcb\\xd1\\xb0\\xbc\\xc89'\n"
     ]
    }
   ],
   "source": [
    "close_session()"
   ]
  },
  {
   "cell_type": "code",
   "execution_count": null,
   "metadata": {},
   "outputs": [],
   "source": []
  }
 ],
 "metadata": {
  "kernelspec": {
   "display_name": "RevData39",
   "language": "python",
   "name": "rd39"
  },
  "language_info": {
   "codemirror_mode": {
    "name": "ipython",
    "version": 3
   },
   "file_extension": ".py",
   "mimetype": "text/x-python",
   "name": "python",
   "nbconvert_exporter": "python",
   "pygments_lexer": "ipython3",
   "version": "3.9.4"
  }
 },
 "nbformat": 4,
 "nbformat_minor": 4
}
