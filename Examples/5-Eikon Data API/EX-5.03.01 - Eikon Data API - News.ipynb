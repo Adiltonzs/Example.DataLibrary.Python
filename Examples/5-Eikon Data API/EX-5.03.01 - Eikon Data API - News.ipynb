{
 "cells": [
  {
   "cell_type": "markdown",
   "metadata": {},
   "source": [
    "# Eikon Data API - News examples\n",
    "This notebook demonstrates how to retrieve News Headlines and News Stories from Eikon or Refinitiv Workspace.\n",
    "\n",
    "#### Learn more\n",
    "To learn more about the Data API just connect to the Refinitiv Developer Community. By [registering](https://developers.refinitiv.com/iam/register) and [login](https://developers.refinitiv.com/iam/login) to the Refinitiv Developer Community portal you will get free access to a number of learning materials like [Quick Start guides](https://developers.refinitiv.com/eikon-apis/eikon-data-api/quick-start), [Tutorials](https://developers.refinitiv.com/eikon-apis/eikon-data-api/learning), [Documentation](https://developers.refinitiv.com/eikon-apis/eikon-data-api/docs) and much more.  \n",
    "\n",
    "#### About the \"eikon\" module of the Refinitiv Data Platform Library\n",
    "The \"eikon\" module of the Refinitiv Data Platform Library for Python embeds all functions of the classical Eikon Data API (\"eikon\" python library). This module works the same as the Eikon Data API and can be used by applications that need the best of the Eikon Data API while taking advantage of the latest features offered by the Refinitiv Data Platform Library for Python. \n",
    "\n",
    "#### Getting Help and Support\n",
    "If you have any questions regarding the API usage, please post them on the [Eikon Data API Q&A Forum](https://community.developers.thomsonreuters.com/spaces/92/index.html). The Refinitiv Developer Community will be happy to help.\n"
   ]
  },
  {
   "cell_type": "markdown",
   "metadata": {},
   "source": [
    "## Import the library and connect to Eikon or Refinitiv Workspace"
   ]
  },
  {
   "cell_type": "code",
   "execution_count": 1,
   "metadata": {},
   "outputs": [],
   "source": [
    "import refinitiv.data.eikon as ek\n",
    "from IPython.display import HTML\n",
    "\n",
    "ek.set_app_key('YOUR APP KEY GOES HERE!')"
   ]
  },
  {
   "cell_type": "markdown",
   "metadata": {},
   "source": [
    "## Get News HeadLines"
   ]
  },
  {
   "cell_type": "code",
   "execution_count": 2,
   "metadata": {},
   "outputs": [
    {
     "data": {
      "text/html": [
       "<div>\n",
       "<style scoped>\n",
       "    .dataframe tbody tr th:only-of-type {\n",
       "        vertical-align: middle;\n",
       "    }\n",
       "\n",
       "    .dataframe tbody tr th {\n",
       "        vertical-align: top;\n",
       "    }\n",
       "\n",
       "    .dataframe thead th {\n",
       "        text-align: right;\n",
       "    }\n",
       "</style>\n",
       "<table border=\"1\" class=\"dataframe\">\n",
       "  <thead>\n",
       "    <tr style=\"text-align: right;\">\n",
       "      <th></th>\n",
       "      <th>versionCreated</th>\n",
       "      <th>text</th>\n",
       "      <th>storyId</th>\n",
       "      <th>sourceCode</th>\n",
       "    </tr>\n",
       "  </thead>\n",
       "  <tbody>\n",
       "    <tr>\n",
       "      <th>2021-12-06 15:18:33.631</th>\n",
       "      <td>2021-12-06 15:18:33.631000+00:00</td>\n",
       "      <td>NEW YORK: ELBILSBOLAG I BOTTEN, TURISM I TOPP,...</td>\n",
       "      <td>urn:newsml:reuters.com:20211206:nDIR5C6qPs:1</td>\n",
       "      <td>NS:DIR</td>\n",
       "    </tr>\n",
       "    <tr>\n",
       "      <th>2021-12-06 14:46:21.077</th>\n",
       "      <td>2021-12-06 14:46:21.077000+00:00</td>\n",
       "      <td>DJ Amgen Inc., Apple Inc. Share Gains Contribu...</td>\n",
       "      <td>urn:newsml:reuters.com:20211206:nDJR7xMnJY:2</td>\n",
       "      <td>NS:DJN</td>\n",
       "    </tr>\n",
       "    <tr>\n",
       "      <th>2021-12-06 14:37:53.000</th>\n",
       "      <td>2021-12-06 14:37:53+00:00</td>\n",
       "      <td>BRIEF-Apple Teams Up With Boys &amp; Girls Clubs O...</td>\n",
       "      <td>urn:newsml:reuters.com:20211206:nFWN2SR0OC:1</td>\n",
       "      <td>NS:RTRS</td>\n",
       "    </tr>\n",
       "    <tr>\n",
       "      <th>2021-12-04 00:58:21.000</th>\n",
       "      <td>2021-12-06 14:37:15+00:00</td>\n",
       "      <td>CORRECTED-REUTERS NEXT- U.S. labor movement's ...</td>\n",
       "      <td>urn:newsml:reuters.com:20211204:nL1N2SP004:4</td>\n",
       "      <td>NS:RTRS</td>\n",
       "    </tr>\n",
       "    <tr>\n",
       "      <th>2021-12-06 07:32:34.000</th>\n",
       "      <td>2021-12-06 14:34:34+00:00</td>\n",
       "      <td>U.S. RESEARCH ROUNDUP-Boston Properties, Meta ...</td>\n",
       "      <td>urn:newsml:reuters.com:20211206:nL4N2SR1O7:4</td>\n",
       "      <td>NS:RTRS</td>\n",
       "    </tr>\n",
       "    <tr>\n",
       "      <th>2021-12-06 14:29:51.723</th>\n",
       "      <td>2021-12-06 14:34:01.803000+00:00</td>\n",
       "      <td>Refinitiv Newscasts - Apple in lawsuit against...</td>\n",
       "      <td>urn:newsml:reuters.com:20211206:nRTV3SWD6Z:8</td>\n",
       "      <td>NS:RTRS</td>\n",
       "    </tr>\n",
       "    <tr>\n",
       "      <th>2021-12-06 14:09:47.081</th>\n",
       "      <td>2021-12-06 14:09:47.081000+00:00</td>\n",
       "      <td>Jamf Announces Upcoming Conference Participation</td>\n",
       "      <td>urn:newsml:reuters.com:20211206:nGNX2Q253x:1</td>\n",
       "      <td>NS:GNW</td>\n",
       "    </tr>\n",
       "    <tr>\n",
       "      <th>2021-12-06 14:04:57.070</th>\n",
       "      <td>2021-12-06 14:04:57.070000+00:00</td>\n",
       "      <td>APPLE TEAMS UP WITH BOYS &amp; GIRLS CLUBS OF AMER...</td>\n",
       "      <td>urn:newsml:reuters.com:20211206:nFWN2SR0OC:1</td>\n",
       "      <td>NS:RTRS</td>\n",
       "    </tr>\n",
       "    <tr>\n",
       "      <th>2021-12-06 14:04:07.000</th>\n",
       "      <td>2021-12-06 14:04:07+00:00</td>\n",
       "      <td>Apple Inc. - Apple, Boys &amp; Girls Clubs team up...</td>\n",
       "      <td>urn:newsml:reuters.com:20211206:nNDL2TMpx3:1</td>\n",
       "      <td>NS:PUBT</td>\n",
       "    </tr>\n",
       "    <tr>\n",
       "      <th>2021-12-06 14:01:34.000</th>\n",
       "      <td>2021-12-06 14:01:34+00:00</td>\n",
       "      <td>BUZZ-KeyBanc says iPhone sales 'have not peake...</td>\n",
       "      <td>urn:newsml:reuters.com:20211206:nL4N2SR2XA:1</td>\n",
       "      <td>NS:RTRS</td>\n",
       "    </tr>\n",
       "  </tbody>\n",
       "</table>\n",
       "</div>"
      ],
      "text/plain": [
       "                                          versionCreated  \\\n",
       "2021-12-06 15:18:33.631 2021-12-06 15:18:33.631000+00:00   \n",
       "2021-12-06 14:46:21.077 2021-12-06 14:46:21.077000+00:00   \n",
       "2021-12-06 14:37:53.000        2021-12-06 14:37:53+00:00   \n",
       "2021-12-04 00:58:21.000        2021-12-06 14:37:15+00:00   \n",
       "2021-12-06 07:32:34.000        2021-12-06 14:34:34+00:00   \n",
       "2021-12-06 14:29:51.723 2021-12-06 14:34:01.803000+00:00   \n",
       "2021-12-06 14:09:47.081 2021-12-06 14:09:47.081000+00:00   \n",
       "2021-12-06 14:04:57.070 2021-12-06 14:04:57.070000+00:00   \n",
       "2021-12-06 14:04:07.000        2021-12-06 14:04:07+00:00   \n",
       "2021-12-06 14:01:34.000        2021-12-06 14:01:34+00:00   \n",
       "\n",
       "                                                                      text  \\\n",
       "2021-12-06 15:18:33.631  NEW YORK: ELBILSBOLAG I BOTTEN, TURISM I TOPP,...   \n",
       "2021-12-06 14:46:21.077  DJ Amgen Inc., Apple Inc. Share Gains Contribu...   \n",
       "2021-12-06 14:37:53.000  BRIEF-Apple Teams Up With Boys & Girls Clubs O...   \n",
       "2021-12-04 00:58:21.000  CORRECTED-REUTERS NEXT- U.S. labor movement's ...   \n",
       "2021-12-06 07:32:34.000  U.S. RESEARCH ROUNDUP-Boston Properties, Meta ...   \n",
       "2021-12-06 14:29:51.723  Refinitiv Newscasts - Apple in lawsuit against...   \n",
       "2021-12-06 14:09:47.081   Jamf Announces Upcoming Conference Participation   \n",
       "2021-12-06 14:04:57.070  APPLE TEAMS UP WITH BOYS & GIRLS CLUBS OF AMER...   \n",
       "2021-12-06 14:04:07.000  Apple Inc. - Apple, Boys & Girls Clubs team up...   \n",
       "2021-12-06 14:01:34.000  BUZZ-KeyBanc says iPhone sales 'have not peake...   \n",
       "\n",
       "                                                              storyId  \\\n",
       "2021-12-06 15:18:33.631  urn:newsml:reuters.com:20211206:nDIR5C6qPs:1   \n",
       "2021-12-06 14:46:21.077  urn:newsml:reuters.com:20211206:nDJR7xMnJY:2   \n",
       "2021-12-06 14:37:53.000  urn:newsml:reuters.com:20211206:nFWN2SR0OC:1   \n",
       "2021-12-04 00:58:21.000  urn:newsml:reuters.com:20211204:nL1N2SP004:4   \n",
       "2021-12-06 07:32:34.000  urn:newsml:reuters.com:20211206:nL4N2SR1O7:4   \n",
       "2021-12-06 14:29:51.723  urn:newsml:reuters.com:20211206:nRTV3SWD6Z:8   \n",
       "2021-12-06 14:09:47.081  urn:newsml:reuters.com:20211206:nGNX2Q253x:1   \n",
       "2021-12-06 14:04:57.070  urn:newsml:reuters.com:20211206:nFWN2SR0OC:1   \n",
       "2021-12-06 14:04:07.000  urn:newsml:reuters.com:20211206:nNDL2TMpx3:1   \n",
       "2021-12-06 14:01:34.000  urn:newsml:reuters.com:20211206:nL4N2SR2XA:1   \n",
       "\n",
       "                        sourceCode  \n",
       "2021-12-06 15:18:33.631     NS:DIR  \n",
       "2021-12-06 14:46:21.077     NS:DJN  \n",
       "2021-12-06 14:37:53.000    NS:RTRS  \n",
       "2021-12-04 00:58:21.000    NS:RTRS  \n",
       "2021-12-06 07:32:34.000    NS:RTRS  \n",
       "2021-12-06 14:29:51.723    NS:RTRS  \n",
       "2021-12-06 14:09:47.081     NS:GNW  \n",
       "2021-12-06 14:04:57.070    NS:RTRS  \n",
       "2021-12-06 14:04:07.000    NS:PUBT  \n",
       "2021-12-06 14:01:34.000    NS:RTRS  "
      ]
     },
     "execution_count": 2,
     "metadata": {},
     "output_type": "execute_result"
    }
   ],
   "source": [
    "ek.get_news_headlines(query = 'AAPL.O', count=10)"
   ]
  },
  {
   "cell_type": "markdown",
   "metadata": {},
   "source": [
    "## Get News Story"
   ]
  },
  {
   "cell_type": "markdown",
   "metadata": {},
   "source": [
    "#### Get the Story ID of the first headline for Apple"
   ]
  },
  {
   "cell_type": "code",
   "execution_count": 3,
   "metadata": {},
   "outputs": [
    {
     "data": {
      "text/plain": [
       "'urn:newsml:reuters.com:20211206:nDIR5C6qPs:1'"
      ]
     },
     "execution_count": 3,
     "metadata": {},
     "output_type": "execute_result"
    }
   ],
   "source": [
    "headlines = ek.get_news_headlines('AAPL.O',1)\n",
    "story_id = headlines.iat[0,2]\n",
    "story_id"
   ]
  },
  {
   "cell_type": "markdown",
   "metadata": {},
   "source": [
    "#### Get the News story for this Story ID"
   ]
  },
  {
   "cell_type": "code",
   "execution_count": 4,
   "metadata": {},
   "outputs": [
    {
     "data": {
      "text/html": [
       "<div class=\"storyContent\" lang=\"sv\"><style type=\"text/css\">.storyContent * {border-color:inherit !important;outline-color:inherit !important;}</style><p class=\"Text\">STOCKHOLM (Nyhetsbyrån Direkt) De amerikanska börserna inledde måndagens handel blandat. Bland förlorarna fanns elbilsbolag, där två av dem nu ska utredas av den amerikanska finansinspektionen. </p><p class=\"Text\">Vid klockan 16.10 var Dow Jones industriindex upp 1,5 procent till 35.088. Nasdaqs kompositindex var oförändrad vid 15.085, samtidigt som S&amp;P 500 steg 0,6 procent till 4.564.</p><p class=\"Text\">Elbilsbolaget Lucid Group rasade 10,4 procent efter beskedet att finansinspektionen SEC initierat en utredning som av allt att döma rör sommarens börsnotering. Av dokument hos SEC framgår att Lucid Group den 3 december beordrades överlämna vissa dokument relaterade till myndighetens utredning.</p><p class=\"Text\">\"Utredningen tycks handla om fusionen mellan Churchill Capital Corp och Atieva och vissa prognoser och uttalanden i samband med detta\", skrev Lucid, som uppger sig samarbeta fullt ut med SEC.</p><p class=\"Text\">Även Tesla utreds av SEC. En visselblåsare har sagt att elbilsbolaget inte har meddelat aktieägare och allmänheten om defekter i solpaneler, vilka kan vara brandfarliga. Tesla-aktien sjönk 3,2 procent. </p><p class=\"Text\">Kinesiska techkonglomeratet Alibaba handlades däremot upp 7,2 procent. Techjätten ska omorganisera koncernen och bilda två enheter, där den internationella e-handeln läggs i ett bolag och Kina-verksamheten ska drivas separat för att få till smidigare hantering och därigenom accelerera tillväxten.</p><p class=\"Text\">Även teknikgiganten Apple såg aktiekursen stiga, om 3,4 procent. Keybanc har inlett bevakning av bolaget med en överviktsrekommendation och en riktkurs på 191 dollar. Aktien bytte händer vid 167:36 dollar i den inledande måndagshandeln. </p><p class=\"Text\">En annan aktie som fick en positiv stämpel var gamingbolaget Electronic Arts. Aktien blev uppgraderad till köp av Citi, med motiveringen att analyshuset ser en attraktiv riskjusterad avkastning. Electronic Arts-aktien ökade 1 procent. </p><p class=\"Text\">Varuhuskedjan Kohl's förekom i en artikel i Wall Street Journal, där ägaraktivister kräver att bolaget överväger en avyttring eller en avknoppning av sin snabbväxande e-handelsverksamhet. Kohl's-aktien var upp 7,4 procent.</p><p class=\"Text\">Andra vinnare var flyg- och kryssningsaktier. American Airlines toppade S&amp;P 500-indexet med en uppgång på 8,2 procent, samtidigt som kryssningsbolaget Carnival låg en plats bakom med en ökning på 7,7 procent. </p><p class=\"Text\">Den tioåriga räntan var upp 3 punkter till 1,38 procent.</p><pre class=\"linespace\"><p class=\"Text\">Graf: S&amp;P 500 måndagen den 6 december</p><p class=\"Text\"><a href=\"https://i.direkt.se/211206/607877601.png\"><div class=\"tr-image\"><div class=\"tr-image-components\"><img alt=\"image\" src=\"https://i.direkt.se/211206/607877601.png\" style=\"max-width:100%;max-height:364px\" data-internal-src=\"https://rp.cp.dtc.reuint.com/Apps/NewsServices/images?apiKey=95a7d790-a5d1-4907-9c62-c9d7a1d29f80&amp;type=base64Url&amp;id=aHR0cHM6Ly9pLmRpcmVrdC5zZS8yMTEyMDYvNjA3ODc3NjAxLnBuZw==&amp;key=06d13539e833279edb8e5995ce95eceb59cc5be878570f2d43b30ebbc439ac20c482bc43db64b1300c1a5c2239764c4bb9f5ec497a8bfb92c6433d34b77f4dd6\"/></div></div></a></p><p class=\"Text\">Källa: Infront</p><pre class=\"linespace\"><hr/><p class=\"Byline\">Casper Sirén +46 8 5191 7926</p><p class=\"Byline\">Nyhetsbyrån Direkt</p><pre class=\"linespace\"><pre class=\"linespace\"></pre></pre></pre></pre></div>"
      ],
      "text/plain": [
       "<IPython.core.display.HTML object>"
      ]
     },
     "execution_count": 4,
     "metadata": {},
     "output_type": "execute_result"
    }
   ],
   "source": [
    "story = ek.get_news_story(story_id)\n",
    "HTML(story)"
   ]
  },
  {
   "cell_type": "code",
   "execution_count": null,
   "metadata": {},
   "outputs": [],
   "source": []
  }
 ],
 "metadata": {
  "kernelspec": {
   "display_name": "Python 3",
   "language": "python",
   "name": "python3"
  },
  "language_info": {
   "codemirror_mode": {
    "name": "ipython",
    "version": 3
   },
   "file_extension": ".py",
   "mimetype": "text/x-python",
   "name": "python",
   "nbconvert_exporter": "python",
   "pygments_lexer": "ipython3",
   "version": "3.7.6"
  }
 },
 "nbformat": 4,
 "nbformat_minor": 4
}
