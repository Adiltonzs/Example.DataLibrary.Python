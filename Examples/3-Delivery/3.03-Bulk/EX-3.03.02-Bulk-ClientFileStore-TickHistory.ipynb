{
 "cells": [
  {
   "cell_type": "markdown",
   "metadata": {},
   "source": [
    "----\n",
    "<img src=\"../../../files/refinitiv.png\" width=\"20%\" style=\"vertical-align: top;\">\n",
    "\n",
    "# Data Library for Python\n",
    "\n",
    "----"
   ]
  },
  {
   "cell_type": "markdown",
   "metadata": {},
   "source": [
    "## Delivery layer - Bulk - Client File Store - Tick History\n",
    "This notebook demonstrates how to browse the Client File Store (CFS) of the Refinitiv Data Platform (RDP) using the Refintiv Data Library. The delivery.bulk.cfs module used in this example gives you an fine control on CFS operations. Unless you have a specific need, it is recommended to use the delivery.bulk.PackageManager instead. The Package manager provides you with a higher level API that manages for you the 3 types of activities generally invoved with bulk files (downloading files, populating databases, querying databases)."
   ]
  },
  {
   "cell_type": "markdown",
   "metadata": {},
   "source": [
    "#### Learn more\n",
    "\n",
    "To learn more about the Refinitiv Data Library for Python please join the Refinitiv Developer Community. By [registering](https://developers.refinitiv.com/iam/register) and [logging](https://developers.refinitiv.com/content/devportal/en_us/initCookie.html) into the Refinitiv Developer Community portal you will have free access to a number of learning materials like \n",
    " [Quick Start guides](https://developers.refinitiv.com/en/api-catalog/refinitiv-data-platform/refinitiv-data-library-for-python/quick-start), \n",
    " [Tutorials](https://developers.refinitiv.com/en/api-catalog/refinitiv-data-platform/refinitiv-data-library-for-python/learning), \n",
    " [Documentation](https://developers.refinitiv.com/en/api-catalog/refinitiv-data-platform/refinitiv-data-library-for-python/docs)\n",
    " and much more.\n",
    "\n",
    "#### Getting Help and Support\n",
    "\n",
    "If you have any questions regarding using the API, please post them on \n",
    "the [Refinitiv Data Q&A Forum](https://community.developers.refinitiv.com/spaces/321/index.html). \n",
    "The Refinitiv Developer Community will be happy to help. "
   ]
  },
  {
   "cell_type": "markdown",
   "metadata": {},
   "source": [
    "## Set the configuration file location\n",
    "For a better ease of use, you have the option to set initialization parameters of the Refinitiv Data Library in the _refinitiv-data.config.json_ configuration file. This file must be located beside your notebook, in your user folder or in a folder defined by the _RD_LIB_CONFIG_PATH_ environment variable. The _RD_LIB_CONFIG_PATH_ environment variable is the option used by this series of examples. The following code sets this environment variable.      "
   ]
  },
  {
   "cell_type": "code",
   "execution_count": 1,
   "metadata": {},
   "outputs": [],
   "source": [
    "import os\n",
    "os.environ[\"RD_LIB_CONFIG_PATH\"] = \"../../../Configuration\""
   ]
  },
  {
   "cell_type": "markdown",
   "metadata": {},
   "source": [
    "## Some Imports to start with"
   ]
  },
  {
   "cell_type": "code",
   "execution_count": 2,
   "metadata": {},
   "outputs": [],
   "source": [
    "import refinitiv.data as rd\n",
    "import refinitiv.data.delivery.bulk.cfs as cfs"
   ]
  },
  {
   "cell_type": "markdown",
   "metadata": {},
   "source": [
    "## Open the data session\n",
    "\n",
    "The open_session() function creates and open sessions based on the information contained in the refinitiv-data.config.json configuration file. Please edit this file to set the session type and other parameters required for the session you want to open."
   ]
  },
  {
   "cell_type": "code",
   "execution_count": 3,
   "metadata": {},
   "outputs": [
    {
     "data": {
      "text/plain": [
       "<refinitiv.data.session.platform.Definition object at 0x7f90b120dd50 {session_name='rdp'}>"
      ]
     },
     "execution_count": 3,
     "metadata": {},
     "output_type": "execute_result"
    }
   ],
   "source": [
    "rd.open_session('platform.rdp')"
   ]
  },
  {
   "cell_type": "markdown",
   "metadata": {},
   "source": [
    "## Retrieve Tick History data"
   ]
  },
  {
   "cell_type": "markdown",
   "metadata": {},
   "source": [
    "### Browse Tick History buckets"
   ]
  },
  {
   "cell_type": "code",
   "execution_count": 4,
   "metadata": {},
   "outputs": [
    {
     "name": "stdout",
     "output_type": "stream",
     "text": [
      "Bucket:  TICKHISTORY_VBD_NO_EMBARGO\n",
      "\tFile sets: \n",
      "\t\tICX_normalised_2012-11-24_UNLIMITED    ID:4000-0037-263d473f-920d-7d0b0396d012\n",
      "\t\tLSE_normalised_2014-09-24_UNLIMITED    ID:4000-007a-a23e2dbb-8e9d-1f576e3876f4\n",
      "\t\tKSC_rawLL2_2005-12-23_UNLIMITED    ID:4000-0087-4f771645-873b-6e1032de6468\n",
      "\t\tMLT_ref-data-sedol-gics_2020-12-13_UNLIMITED    ID:4000-00ae-9f577cad-a77f-ecd6d188d6af\n",
      "\t\tDIX_rawLL2_2006-08-26_UNLIMITED    ID:4000-00c8-0533d86d-9713-2bdc4e322488\n",
      "\t\tGER_sym-cusip-sedol_2020-12-08_UNLIMITED    ID:4000-00ca-f08bf853-9758-458c7a059c24\n",
      "\t\tTWB_CDS_normalised_2021-02-12_UNLIMITED    ID:4000-00d2-91ac4ed7-ae30-6d24ad47b342\n",
      "\t\tRTF_rawMP_2020-07-24_UNLIMITED    ID:4000-00d8-b88f519f-9c92-9e14cfb2829e\n",
      "\t\tCYS_normalised_2013-01-31_UNLIMITED    ID:4000-00e5-88ec7f50-9428-d6eb220055ab\n",
      "\t\tBTQ_ref-data-cusip_2018-11-23_UNLIMITED    ID:4000-00ec-06d6d5d3-9e30-8777971bdc6d\n",
      "\t\tIEO_ref-data-cusip-sedol_2021-10-09_UNLIMITED    ID:4000-0109-e322f504-9569-b4ba452f0655\n",
      "\t\tNYQ_corp-data_2021-01-11_UNLIMITED    ID:4000-010c-575a872e-99c7-6dce0d061262\n",
      "\t\tARC_normalisedLL2_2010-09-05_UNLIMITED    ID:4000-011b-e0a012d9-872a-bbc634d5a770\n",
      "\t\tBMF_ref-data-sedol-gics_2021-05-02_UNLIMITED    ID:4000-0126-acad6862-a3da-39a37bd3a929\n",
      "\t\tVTX_rawLL2_2002-02-17_UNLIMITED    ID:4000-0143-91bda9de-8dca-0bf4f87eb9b1\n",
      "\t\tEQD_ref-data-sedol-gics_2020-11-07_UNLIMITED    ID:4000-0172-fb94a726-b49e-0cfe23a7c1cb\n",
      "\t\tNMQ_normalised_2011-09-10_UNLIMITED    ID:4000-0184-14065855-8514-1f70376d5eaf\n",
      "\t\tAQE_ref-data-cusip_2021-01-24_UNLIMITED    ID:4000-01a8-576eb78a-b3cb-8de8dba72e21\n",
      "\t\tOSA_ref-data-sedol-gics_2020-10-17_UNLIMITED    ID:4000-01ba-552d749c-a89b-6e5de764501c\n",
      "\t\tBSE_normalised_2008-06-06_UNLIMITED    ID:4000-01ed-ed13a89e-b509-613cb7d423fa\n",
      "\t\tLCC_sym-gics_2018-11-05_UNLIMITED    ID:4000-0206-954d2442-845b-c33ae1afaebe\n",
      "\t\tMLT_normalisedLL2_2008-08-13_UNLIMITED    ID:4000-0208-6f7c3011-92d5-bb1f4e7dd48f\n",
      "\t\tLUX_rawMP_2014-10-11_UNLIMITED    ID:4000-0221-bff761a1-ae3c-2672a39bd029\n",
      "\t\tTEO_ref-data-cusip-sedol_2020-12-08_UNLIMITED    ID:4000-0224-9575dc11-a3dd-a1056353e9f1\n",
      "\t\tLUX_rawMP_1999-12-17_UNLIMITED    ID:4000-0245-73eedbfc-9115-e513354fd909\n",
      "Bucket:  TICKHISTORY_VBD_LIMITED\n",
      "\tFile sets: \n",
      "\t\tATH_normalised_1999-11-06    ID:4000-0014-872577f1-87aa-a64dab32c669\n",
      "\t\tTYO_rawMBP_2020-08-19    ID:4000-00ac-cc2b7824-a0dc-9594d5145fcf\n",
      "\t\tASQ_sym-sedol_2018-03-10    ID:4000-00c0-9686b792-b40b-b0564ac2d894\n",
      "\t\tOSL_rawLL2_2007-10-19    ID:4000-00e1-80cc8203-a4d0-e6f521a16797\n",
      "\t\tGSD_ref-data_2021-05-06    ID:4000-00e6-4ba6c937-9f53-4c7dc77c6fdd\n",
      "\t\tKLS_normalised_2007-11-13    ID:4000-0119-e7f728cd-a398-4f5563749859\n",
      "\t\tASX_ref-data-sedol-gics_2021-06-25    ID:4000-0138-1afca155-89c6-24bcb63f15f8\n",
      "\t\tPHS_ref-data-cusip-gics_2021-02-23    ID:4000-01be-e6e92660-b05d-1431e6f926b0\n",
      "\t\tTWB_CNVBND_ref-data-cusip-gics_2021-08-29    ID:4000-01d4-4aad5e73-836e-d0f92f213f20\n",
      "\t\tSNF_ref-data-cusip-sedol_2019-07-22    ID:4000-01db-c8264e3e-9ad0-e8cacabbae89\n",
      "\t\tCMX_sym-cusip_2018-08-31    ID:4000-01ea-a9701e63-9d57-d069cc555591\n",
      "\t\tDBX_normalisedLL2_2018-06-01    ID:4000-01fb-5fc5debf-9581-cc8a77b0d3ce\n",
      "\t\tSHZ_rawMBO_2019-02-27    ID:4000-020d-a40ce782-b124-be313c8fcdcd\n",
      "\t\tMCX_rawLL2_2012-05-08    ID:4000-0224-094f4424-b642-31a89bd31116\n",
      "\t\tNYQ_sym-cusip-sedol-gics_2021-09-25    ID:4000-024d-03598e75-8e5a-bffa5fe4f6c8\n",
      "\t\tBTQ_rawMP_2017-07-22    ID:4000-026e-613db1ec-9d53-6670e32b4e2c\n",
      "\t\tFRA_ref-init-cusip-gics_2021-08-27    ID:4000-028f-4d73652a-81a6-93e2076f95c0\n",
      "\t\tXPH_rawMP_2013-02-17    ID:4000-0290-cd9a347f-98ca-76f1f2b0c567\n",
      "\t\tLCB_ref-data-cusip-sedol_2020-06-09    ID:4000-02a9-72db2fff-99bb-2823e1be548a\n",
      "\t\tSCY_sym-sedol_2020-09-22    ID:4000-02ac-d875c235-bd7d-3e4af3c63188\n",
      "\t\tRTF_ref-init_2021-05-28    ID:4000-02ca-6fb48e60-8cbb-c3d4734f83d5\n",
      "\t\tBTQ_sym-cusip-sedol-gics_2021-04-11    ID:4000-02cd-6019fe7f-91ff-0738978e36ad\n",
      "\t\tSDA_rawMP_2013-12-09    ID:4000-02d0-13751056-bbeb-583152cfa058\n",
      "\t\tFXA_sym-sedol_2021-10-31    ID:4000-02f7-e77b30ba-9d37-6c9bfd18881a\n",
      "\t\tISE_rawLL2_2012-03-21    ID:4000-034b-a110d733-9ad2-428d51842c57\n",
      "Bucket:  TICKHISTORY_VBD\n",
      "\tFile sets: \n",
      "Bucket:  TICKHISTORY_VBD_UNLIMITED\n",
      "\tFile sets: \n",
      "\t\tPFT_ref-init-gics_2021-01-22    ID:4000-0016-6a7bd302-b5f7-60ef3be290ca\n",
      "\t\tCAI_corp-report_2019-02-22    ID:4000-001a-8c9d48cf-b865-d0a77ebcc1c6\n",
      "\t\tIST_ref-report_2020-10-05    ID:4000-0041-66363a80-a8ca-cd5a6f534f4e\n",
      "\t\tNGO_normalisedLL2_2018-01-14    ID:4000-006e-5f0eeff9-b0e9-bea51ee55bb3\n",
      "\t\tFKA_ref-data-cusip-sedol-gics_2019-01-15    ID:4000-0084-7aea8602-a070-5a8e4e88b94b\n",
      "\t\tRTF_sym-cusip-sedol_2019-08-26    ID:4000-00bd-7b752ed3-9b56-4d248d068998\n",
      "\t\tBRU_corp-data_2019-02-25    ID:4000-00c7-c7954c6a-9583-b7e1eb5e4f9e\n",
      "\t\tTFF_rawLL2_2009-02-25    ID:4000-00d2-f00f4407-9412-061923938274\n",
      "\t\tSGO_ref-data-sedol-gics_2018-11-30    ID:4000-00da-e5a7ca9c-83d4-d833f701f7fd\n",
      "\t\tSCA_ref-data-gics_2018-01-10    ID:4000-00f7-2b6079f5-bf8e-bdd89ef17659\n",
      "\t\tTHM_corp-report_2020-05-25    ID:4000-013e-501b5153-83a0-72f2023ac492\n",
      "\t\tA2X_normalisedLL2_2018-05-26    ID:4000-0149-c0acdfa7-a5db-0dda0162e4aa\n",
      "\t\tGDA_rawMP_2016-11-08    ID:4000-014a-87239328-9ef4-7808b04d7be7\n",
      "\t\tTWB_IRS_ref-report_2021-07-02    ID:4000-014c-fa1fa22a-b6da-506b3eac32db\n",
      "\t\tNAI_ref-data_2019-09-18    ID:4000-016a-e0e79a6c-aedc-ee843dfb3ba4\n",
      "\t\tISG_sym-cusip-gics_2020-12-26    ID:4000-017f-ef7e7a01-9da0-29c11700d9a9\n",
      "\t\tBUD_normalisedLL2_2005-09-25    ID:4000-0185-0342b591-86e9-ad8ef2364170\n",
      "\t\tMXP_ref-data-sedol-gics_2018-06-15    ID:4000-01dd-51941bf1-8f55-e4c4b43436f9\n",
      "\t\tTBE_ref-data-cusip-sedol-gics_2021-03-16    ID:4000-01f6-369a1b33-88c9-b5616bce6f50\n",
      "\t\tGSX_ref-data-cusip-sedol-gics_2021-11-24    ID:4000-021a-9440fb78-87dc-8ce4d1ad8d70\n",
      "\t\tCMX_normalisedLL2_2020-05-19    ID:4000-021e-58966668-9ccc-750f6240358d\n",
      "\t\tLAT_sym-cusip-sedol-gics_2020-12-09    ID:4000-022e-3e2bfe8a-af79-874488fe5c66\n",
      "\t\tFSI_ref-data-sedol-gics_2019-08-10    ID:4000-0238-fd5a33a1-a9da-86c5995ed4e0\n",
      "\t\tMAT_ref-report_2021-06-17    ID:4000-0258-41ca9e15-af8e-c787122e4e18\n",
      "\t\tMLT_sym-cusip-sedol_2021-01-28    ID:4000-0260-05a423d9-b0a5-e20a816de996\n"
     ]
    }
   ],
   "source": [
    "response = cfs.buckets.Definition('history').get_data()\n",
    "\n",
    "for bucket in response.data.buckets:\n",
    "    print(\"Bucket: \", bucket.name)\n",
    "    print(\"\\tFile sets: \")\n",
    "    for file_set in bucket:\n",
    "        print(\"\\t\\t{}    ID:{}\".format(file_set.name, file_set.id))"
   ]
  },
  {
   "cell_type": "markdown",
   "metadata": {},
   "source": [
    "### Get file set details"
   ]
  },
  {
   "cell_type": "code",
   "execution_count": 5,
   "metadata": {},
   "outputs": [
    {
     "data": {
      "text/html": [
       "<div>\n",
       "<style scoped>\n",
       "    .dataframe tbody tr th:only-of-type {\n",
       "        vertical-align: middle;\n",
       "    }\n",
       "\n",
       "    .dataframe tbody tr th {\n",
       "        vertical-align: top;\n",
       "    }\n",
       "\n",
       "    .dataframe thead th {\n",
       "        text-align: right;\n",
       "    }\n",
       "</style>\n",
       "<table border=\"1\" class=\"dataframe\">\n",
       "  <thead>\n",
       "    <tr style=\"text-align: right;\">\n",
       "      <th></th>\n",
       "      <th>filename</th>\n",
       "      <th>href</th>\n",
       "      <th>description</th>\n",
       "      <th>fileType</th>\n",
       "      <th>modified</th>\n",
       "      <th>fileSizeInBytes</th>\n",
       "      <th>storageLocation</th>\n",
       "      <th>id</th>\n",
       "      <th>md5</th>\n",
       "      <th>created</th>\n",
       "      <th>filesetId</th>\n",
       "    </tr>\n",
       "  </thead>\n",
       "  <tbody>\n",
       "    <tr>\n",
       "      <th>0</th>\n",
       "      <td>LSE-2014-09-24-NORMALIZEDMP-Report-1-of-1.csv.gz</td>\n",
       "      <td>https://api.refinitiv.com/file-store/v1/files/...</td>\n",
       "      <td>Merged data file</td>\n",
       "      <td>File</td>\n",
       "      <td>2021-04-26T10:17:21Z</td>\n",
       "      <td>262657</td>\n",
       "      <td>{'url': 'https://s3-us-west-1.amazonaws.com/ti...</td>\n",
       "      <td>4109-2431-7c4d8009-be11-d5802c7716a7</td>\n",
       "      <td>83464d0ec5749a1bdae1bc7258d7c45a</td>\n",
       "      <td>2021-04-26T10:17:21Z</td>\n",
       "      <td>4000-007a-a23e2dbb-8e9d-1f576e3876f4</td>\n",
       "    </tr>\n",
       "    <tr>\n",
       "      <th>1</th>\n",
       "      <td>LSE-2014-09-24-NORMALIZEDMP-Data-1-of-1.csv.gz</td>\n",
       "      <td>https://api.refinitiv.com/file-store/v1/files/...</td>\n",
       "      <td>Merged data file</td>\n",
       "      <td>File</td>\n",
       "      <td>2021-04-26T10:17:20Z</td>\n",
       "      <td>195705388</td>\n",
       "      <td>{'url': 'https://s3-us-west-1.amazonaws.com/ti...</td>\n",
       "      <td>48be-0437-dfd55d8f-b9d1-3e020c074bf9</td>\n",
       "      <td>aae7da66c12c724ed2499c921afbcf81</td>\n",
       "      <td>2021-04-26T10:17:20Z</td>\n",
       "      <td>4000-007a-a23e2dbb-8e9d-1f576e3876f4</td>\n",
       "    </tr>\n",
       "  </tbody>\n",
       "</table>\n",
       "</div>"
      ],
      "text/plain": [
       "                                           filename  \\\n",
       "0  LSE-2014-09-24-NORMALIZEDMP-Report-1-of-1.csv.gz   \n",
       "1    LSE-2014-09-24-NORMALIZEDMP-Data-1-of-1.csv.gz   \n",
       "\n",
       "                                                href       description  \\\n",
       "0  https://api.refinitiv.com/file-store/v1/files/...  Merged data file   \n",
       "1  https://api.refinitiv.com/file-store/v1/files/...  Merged data file   \n",
       "\n",
       "  fileType              modified  fileSizeInBytes  \\\n",
       "0     File  2021-04-26T10:17:21Z           262657   \n",
       "1     File  2021-04-26T10:17:20Z        195705388   \n",
       "\n",
       "                                     storageLocation  \\\n",
       "0  {'url': 'https://s3-us-west-1.amazonaws.com/ti...   \n",
       "1  {'url': 'https://s3-us-west-1.amazonaws.com/ti...   \n",
       "\n",
       "                                     id                               md5  \\\n",
       "0  4109-2431-7c4d8009-be11-d5802c7716a7  83464d0ec5749a1bdae1bc7258d7c45a   \n",
       "1  48be-0437-dfd55d8f-b9d1-3e020c074bf9  aae7da66c12c724ed2499c921afbcf81   \n",
       "\n",
       "                created                             filesetId  \n",
       "0  2021-04-26T10:17:21Z  4000-007a-a23e2dbb-8e9d-1f576e3876f4  \n",
       "1  2021-04-26T10:17:20Z  4000-007a-a23e2dbb-8e9d-1f576e3876f4  "
      ]
     },
     "execution_count": 5,
     "metadata": {},
     "output_type": "execute_result"
    }
   ],
   "source": [
    "fileset_id = '4000-007a-a23e2dbb-8e9d-1f576e3876f4'\n",
    "response = cfs.files.Definition(fileset_id).get_data()\n",
    "response.data.df"
   ]
  },
  {
   "cell_type": "markdown",
   "metadata": {},
   "source": [
    "### Download files"
   ]
  },
  {
   "cell_type": "code",
   "execution_count": null,
   "metadata": {},
   "outputs": [
    {
     "name": "stdout",
     "output_type": "stream",
     "text": [
      "Downloading \"LSE-2014-09-24-NORMALIZEDMP-Report-1-of-1.csv.gz\"...\n",
      "\t...Done\n",
      "Extracting \"LSE-2014-09-24-NORMALIZEDMP-Report-1-of-1.csv.gz\"...\n",
      "\t...Done\n",
      "Downloading \"LSE-2014-09-24-NORMALIZEDMP-Data-1-of-1.csv.gz\"...\n"
     ]
    }
   ],
   "source": [
    "for file in response.data.files:\n",
    "    print('Downloading \"{}\"...'.format(file.filename))\n",
    "    file_downloader = cfs.file_downloader.Definition(file).retrieve()\n",
    "    file_downloader.download()\n",
    "    print('\\t...Done')\n",
    "    print('Extracting \"{}\"...'.format(file.filename))\n",
    "    file_downloader.extract()\n",
    "    print('\\t...Done')"
   ]
  },
  {
   "cell_type": "markdown",
   "metadata": {},
   "source": [
    "## Close the session"
   ]
  },
  {
   "cell_type": "code",
   "execution_count": 5,
   "metadata": {
    "pycharm": {
     "name": "#%%\n"
    }
   },
   "outputs": [],
   "source": [
    "rd.close_session()"
   ]
  },
  {
   "cell_type": "code",
   "execution_count": null,
   "metadata": {},
   "outputs": [],
   "source": []
  }
 ],
 "metadata": {
  "kernelspec": {
   "display_name": "Python 3",
   "language": "python",
   "name": "python3"
  },
  "language_info": {
   "codemirror_mode": {
    "name": "ipython",
    "version": 3
   },
   "file_extension": ".py",
   "mimetype": "text/x-python",
   "name": "python",
   "nbconvert_exporter": "python",
   "pygments_lexer": "ipython3",
   "version": "3.7.6"
  }
 },
 "nbformat": 4,
 "nbformat_minor": 4
}
