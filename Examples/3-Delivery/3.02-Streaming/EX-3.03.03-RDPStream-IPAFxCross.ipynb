{
 "cells": [
  {
   "cell_type": "markdown",
   "metadata": {},
   "source": [
    "# Refinitiv Data Library for Python"
   ]
  },
  {
   "cell_type": "markdown",
   "metadata": {},
   "source": [
    "## Delivery layer - RDP Stream - IPA FX Cross\n",
    "This notebook demonstrates how to use an RDP stream to subscribe to an FX Cross Intrument Pricing Analytic."
   ]
  },
  {
   "cell_type": "markdown",
   "metadata": {},
   "source": [
    "#### Learn more\n",
    "\n",
    "To learn more about the Refinitiv Data Library for Python please join the Refinitiv Developer Community. By [registering](https://developers.refinitiv.com/iam/register) and [logging](https://developers.refinitiv.com/content/devportal/en_us/initCookie.html) into the Refinitiv Developer Community portal you will have free access to a number of learning materials like \n",
    " [Quick Start guides](https://developers.refinitiv.com/en/api-catalog/refinitiv-data-platform/refinitiv-data-library-for-python/quick-start), \n",
    " [Tutorials](https://developers.refinitiv.com/en/api-catalog/refinitiv-data-platform/refinitiv-data-library-for-python/learning), \n",
    " [Documentation](https://developers.refinitiv.com/en/api-catalog/refinitiv-data-platform/refinitiv-data-library-for-python/docs)\n",
    " and much more.\n",
    "\n",
    "#### Getting Help and Support\n",
    "\n",
    "If you have any questions regarding using the API, please post them on \n",
    "the [Refinitiv Data Q&A Forum](https://community.developers.refinitiv.com/spaces/321/index.html). \n",
    "The Refinitiv Developer Community will be happy to help. "
   ]
  },
  {
   "cell_type": "markdown",
   "metadata": {},
   "source": [
    "## Set the configuration file location\n",
    "For a better ease of use, you have the option to set initialization parameters of the Refinitiv Data Library in the _refinitiv-data.config.json_ configuration file. This file must be located beside your notebook, in your user folder or in a folder defined by the _RD_LIB_CONFIG_PATH_ environment variable. The _RD_LIB_CONFIG_PATH_ environment variable is the option used by this series of examples. The following code sets this environment variable.      "
   ]
  },
  {
   "cell_type": "code",
   "execution_count": 1,
   "metadata": {},
   "outputs": [],
   "source": [
    "import os\n",
    "os.environ[\"RD_LIB_CONFIG_PATH\"] = \"../../../Configuration\""
   ]
  },
  {
   "cell_type": "markdown",
   "metadata": {},
   "source": [
    "## Some Imports to start with"
   ]
  },
  {
   "cell_type": "code",
   "execution_count": 2,
   "metadata": {},
   "outputs": [],
   "source": [
    "import refinitiv.data as rd\n",
    "from refinitiv.data.delivery import rdp_stream\n",
    "import datetime"
   ]
  },
  {
   "cell_type": "markdown",
   "metadata": {},
   "source": [
    "## Open the data session\n",
    "\n",
    "The open_session() function creates and open sessions based on the information contained in the refinitiv-data.config.json configuration file. Please edit this file to set the session type and other parameters required for the session you want to open."
   ]
  },
  {
   "cell_type": "code",
   "execution_count": 3,
   "metadata": {},
   "outputs": [
    {
     "data": {
      "text/plain": [
       "<refinitiv.data.session.Definition object at 0x7fe6f220cb90 {name='workspace'}>"
      ]
     },
     "execution_count": 3,
     "metadata": {},
     "output_type": "execute_result"
    }
   ],
   "source": [
    "rd.open_session()"
   ]
  },
  {
   "cell_type": "markdown",
   "metadata": {},
   "source": [
    "## Retrieve data"
   ]
  },
  {
   "cell_type": "markdown",
   "metadata": {},
   "source": [
    "### Define a calback to display received events"
   ]
  },
  {
   "cell_type": "code",
   "execution_count": 4,
   "metadata": {},
   "outputs": [],
   "source": [
    "def display_event(stream, eventType, event):\n",
    "    currentTime = datetime.datetime.now().time()\n",
    "    print(\"----------------------------------------------------------\")\n",
    "    print(\">>> {} event received at {}\".format(eventType, currentTime))\n",
    "    print(event)"
   ]
  },
  {
   "cell_type": "markdown",
   "metadata": {},
   "source": [
    "### Create an RDP stream and register event callbacks"
   ]
  },
  {
   "cell_type": "code",
   "execution_count": 5,
   "metadata": {},
   "outputs": [],
   "source": [
    "stream = rdp_stream.Definition(\n",
    "    service = None,\n",
    "    api = \"streaming/quantitative-analytics/financial-contracts\",\n",
    "    universe = {\n",
    "        \"instrumentType\": \"FxCross\", \n",
    "        \"instrumentDefinition\": {\n",
    "            \"instrumentTag\": \"USDAUD\", \n",
    "            \"fxCrossType\": \"FxSpot\", \n",
    "            \"fxCrossCode\": \"USDAUD\"\n",
    "        }\n",
    "    }, \n",
    "    parameters = None,\n",
    "    extended_params = {\n",
    "        \"marketData\": {\n",
    "            \"fxSpots\": [\n",
    "                {\n",
    "                    \"spotDefinition\": {\n",
    "                        \"fxCrossCode\": \"AUDUSD\", \n",
    "                        \"Source\": \"Composite\"\n",
    "                    }\n",
    "                }\n",
    "            ]\n",
    "        }\n",
    "    },\n",
    "    view = [\"InstrumentTag\", \"FxSpot_BidMidAsk\", \"ErrorCode\", \"Ccy1SpotDate\", \"Ccy2SpotDate\"],\n",
    ").get_stream()"
   ]
  },
  {
   "cell_type": "code",
   "execution_count": 6,
   "metadata": {},
   "outputs": [
    {
     "data": {
      "text/plain": [
       "<refinitiv.data.delivery.rdp_stream.RDPStream object at 0x7fe6eec21310>"
      ]
     },
     "execution_count": 6,
     "metadata": {},
     "output_type": "execute_result"
    }
   ],
   "source": [
    "stream.on_response(lambda stream, event: display_event(stream, 'response', event))\n",
    "stream.on_update(lambda stream, event: display_event(stream, 'update', event))\n",
    "stream.on_alarm(lambda stream, event: display_event(stream, 'alarm', event))"
   ]
  },
  {
   "cell_type": "markdown",
   "metadata": {},
   "source": [
    "### Open the stream\n",
    "This example uses the open() synchronous call to open the stream. Because it is a synchronous call, the first notification (either via on_refresh(), on_status() or on_error()) happens before the open() method returns. If the open_async() asynchronous method is used instead, the first notification happens after open_async() returns."
   ]
  },
  {
   "cell_type": "code",
   "execution_count": 7,
   "metadata": {},
   "outputs": [
    {
     "name": "stdout",
     "output_type": "stream",
     "text": [
      "----------------------------------------------------------\n",
      ">>> response event received at 17:02:57.933885\n",
      "{'data': [['USDAUD', {'bid': 1.3906271728549577, 'ask': 1.3910140492418974, 'mid': 1.3908206110484276, 'processingInformation': ''}, '', '2021-12-20', '2021-12-20']], 'type': 'Response', 'streamID': '1'}\n"
     ]
    },
    {
     "data": {
      "text/plain": [
       "<OpenState.Opened: 1>"
      ]
     },
     "execution_count": 7,
     "metadata": {},
     "output_type": "execute_result"
    },
    {
     "name": "stdout",
     "output_type": "stream",
     "text": [
      "----------------------------------------------------------\n",
      ">>> update event received at 17:03:00.914925\n",
      "{'data': [['USDAUD', {'bid': 1.3906271728549577, 'ask': 1.3910140492418974, 'mid': 1.3908206110484276, 'processingInformation': ''}, '', '2021-12-20', '2021-12-20']], 'type': 'Update', 'streamID': '1'}\n",
      "----------------------------------------------------------\n",
      ">>> update event received at 17:03:01.913708\n",
      "{'data': [['USDAUD', {'bid': 1.3906271728549577, 'ask': 1.3910140492418974, 'mid': 1.3908206110484276, 'processingInformation': ''}, '', '2021-12-20', '2021-12-20']], 'type': 'Update', 'streamID': '1'}\n",
      "----------------------------------------------------------\n",
      ">>> update event received at 17:03:03.933867\n",
      "{'data': [['USDAUD', {'bid': 1.3906271728549577, 'ask': 1.3910140492418974, 'mid': 1.3908206110484276, 'processingInformation': ''}, '', '2021-12-20', '2021-12-20']], 'type': 'Update', 'streamID': '1'}\n",
      "----------------------------------------------------------\n",
      ">>> update event received at 17:03:04.975500\n",
      "{'data': [['USDAUD', {'bid': 1.3906271728549577, 'ask': 1.3908205841446455, 'mid': 1.3907238784998017, 'processingInformation': ''}, '', '2021-12-20', '2021-12-20']], 'type': 'Update', 'streamID': '1'}\n"
     ]
    }
   ],
   "source": [
    "stream.open()"
   ]
  },
  {
   "cell_type": "markdown",
   "metadata": {},
   "source": [
    "### Close the stream"
   ]
  },
  {
   "cell_type": "code",
   "execution_count": 8,
   "metadata": {},
   "outputs": [
    {
     "name": "stdout",
     "output_type": "stream",
     "text": [
      "----------------------------------------------------------\n",
      ">>> update event received at 17:03:05.909605\n",
      "{'data': [['USDAUD', {'bid': 1.3906271728549577, 'ask': 1.3910140492418974, 'mid': 1.3908206110484276, 'processingInformation': ''}, '', '2021-12-20', '2021-12-20']], 'type': 'Update', 'streamID': '1'}\n"
     ]
    },
    {
     "data": {
      "text/plain": [
       "<OpenState.Closed: 3>"
      ]
     },
     "execution_count": 8,
     "metadata": {},
     "output_type": "execute_result"
    }
   ],
   "source": [
    "stream.close()"
   ]
  },
  {
   "cell_type": "markdown",
   "metadata": {},
   "source": [
    "## Close the session"
   ]
  },
  {
   "cell_type": "code",
   "execution_count": 9,
   "metadata": {},
   "outputs": [],
   "source": [
    "rd.close_session()"
   ]
  },
  {
   "cell_type": "code",
   "execution_count": null,
   "metadata": {},
   "outputs": [],
   "source": []
  }
 ],
 "metadata": {
  "kernelspec": {
   "display_name": "Python 3",
   "language": "python",
   "name": "python3"
  },
  "language_info": {
   "codemirror_mode": {
    "name": "ipython",
    "version": 3
   },
   "file_extension": ".py",
   "mimetype": "text/x-python",
   "name": "python",
   "nbconvert_exporter": "python",
   "pygments_lexer": "ipython3",
   "version": "3.7.6"
  }
 },
 "nbformat": 4,
 "nbformat_minor": 4
}
