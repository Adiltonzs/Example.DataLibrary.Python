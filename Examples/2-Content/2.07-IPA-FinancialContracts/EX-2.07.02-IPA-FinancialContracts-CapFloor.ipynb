{
 "cells": [
  {
   "cell_type": "markdown",
   "metadata": {},
   "source": [
    "----\n",
    "<img src=\"../../../files/refinitiv.png\" width=\"20%\" style=\"vertical-align: top;\">\n",
    "\n",
    "# Data Library for Python\n",
    "\n",
    "----"
   ]
  },
  {
   "cell_type": "markdown",
   "metadata": {},
   "source": [
    "## Content layer - IPA - Cap Floor\n",
    "This notebook demonstrates how to use Cap Floor pricing analytics."
   ]
  },
  {
   "cell_type": "markdown",
   "metadata": {},
   "source": [
    "#### Learn more\n",
    "\n",
    "To learn more about the Refinitiv Data Library for Python please join the Refinitiv Developer Community. By [registering](https://developers.refinitiv.com/iam/register) and [logging](https://developers.refinitiv.com/content/devportal/en_us/initCookie.html) into the Refinitiv Developer Community portal you will have free access to a number of learning materials like \n",
    " [Quick Start guides](https://developers.refinitiv.com/en/api-catalog/refinitiv-data-platform/refinitiv-data-library-for-python/quick-start), \n",
    " [Tutorials](https://developers.refinitiv.com/en/api-catalog/refinitiv-data-platform/refinitiv-data-library-for-python/learning), \n",
    " [Documentation](https://developers.refinitiv.com/en/api-catalog/refinitiv-data-platform/refinitiv-data-library-for-python/docs)\n",
    " and much more.\n",
    "\n",
    "#### Getting Help and Support\n",
    "\n",
    "If you have any questions regarding using the API, please post them on \n",
    "the [Refinitiv Data Q&A Forum](https://community.developers.refinitiv.com/spaces/321/index.html). \n",
    "The Refinitiv Developer Community will be happy to help. "
   ]
  },
  {
   "cell_type": "markdown",
   "metadata": {},
   "source": [
    "## Set the configuration file location\n",
    "For a better ease of use, you have the option to set initialization parameters of the Refinitiv Data Library in the _refinitiv-data.config.json_ configuration file. This file must be located beside your notebook, in your user folder or in a folder defined by the _RD_LIB_CONFIG_PATH_ environment variable. The _RD_LIB_CONFIG_PATH_ environment variable is the option used by this series of examples. The following code sets this environment variable.      "
   ]
  },
  {
   "cell_type": "code",
   "execution_count": 1,
   "metadata": {},
   "outputs": [],
   "source": [
    "import os\n",
    "os.environ[\"RD_LIB_CONFIG_PATH\"] = \"../../../Configuration\""
   ]
  },
  {
   "cell_type": "markdown",
   "metadata": {},
   "source": [
    "## Some Imports to start with"
   ]
  },
  {
   "cell_type": "code",
   "execution_count": 2,
   "metadata": {},
   "outputs": [],
   "source": [
    "import refinitiv.data as rd\n",
    "from refinitiv.data.content.ipa.financial_contracts import cap_floor"
   ]
  },
  {
   "cell_type": "markdown",
   "metadata": {},
   "source": [
    "## Open the data session\n",
    "\n",
    "The open_session() function creates and open sessions based on the information contained in the refinitiv-data.config.json configuration file. Please edit this file to set the session type and other parameters required for the session you want to open."
   ]
  },
  {
   "cell_type": "code",
   "execution_count": 3,
   "metadata": {},
   "outputs": [
    {
     "data": {
      "text/plain": [
       "<refinitiv.data.session.Definition object at 0x7fc4a79f2b90 {name='workspace'}>"
      ]
     },
     "execution_count": 3,
     "metadata": {},
     "output_type": "execute_result"
    }
   ],
   "source": [
    "rd.open_session()"
   ]
  },
  {
   "cell_type": "markdown",
   "metadata": {},
   "source": [
    "## Retrieve data"
   ]
  },
  {
   "cell_type": "markdown",
   "metadata": {},
   "source": [
    "### Single"
   ]
  },
  {
   "cell_type": "code",
   "execution_count": 4,
   "metadata": {},
   "outputs": [
    {
     "data": {
      "text/html": [
       "<div>\n",
       "<style scoped>\n",
       "    .dataframe tbody tr th:only-of-type {\n",
       "        vertical-align: middle;\n",
       "    }\n",
       "\n",
       "    .dataframe tbody tr th {\n",
       "        vertical-align: top;\n",
       "    }\n",
       "\n",
       "    .dataframe thead th {\n",
       "        text-align: right;\n",
       "    }\n",
       "</style>\n",
       "<table border=\"1\" class=\"dataframe\">\n",
       "  <thead>\n",
       "    <tr style=\"text-align: right;\">\n",
       "      <th></th>\n",
       "      <th>InstrumentTag</th>\n",
       "      <th>InstrumentDescription</th>\n",
       "      <th>CallPut</th>\n",
       "      <th>ValuationDate</th>\n",
       "      <th>MarketDataDate</th>\n",
       "      <th>StartDate</th>\n",
       "      <th>EndDate</th>\n",
       "      <th>Tenor</th>\n",
       "      <th>InterestPaymentFrequency</th>\n",
       "      <th>IndexResetFrequency</th>\n",
       "      <th>...</th>\n",
       "      <th>ImpliedVolatilityBp</th>\n",
       "      <th>DeltaPercent</th>\n",
       "      <th>ForwardDeltaPercent</th>\n",
       "      <th>DV01AmountInDealCcy</th>\n",
       "      <th>GammaAmountInDealCcy</th>\n",
       "      <th>VegaAmountInDealCcy</th>\n",
       "      <th>ThetaAmountInDealCcy</th>\n",
       "      <th>ErrorCode</th>\n",
       "      <th>ErrorMessage</th>\n",
       "      <th>ProcessingInformation</th>\n",
       "    </tr>\n",
       "  </thead>\n",
       "  <tbody>\n",
       "    <tr>\n",
       "      <th>0</th>\n",
       "      <td>None</td>\n",
       "      <td>None</td>\n",
       "      <td>None</td>\n",
       "      <td>None</td>\n",
       "      <td>None</td>\n",
       "      <td>None</td>\n",
       "      <td>None</td>\n",
       "      <td>None</td>\n",
       "      <td>None</td>\n",
       "      <td>None</td>\n",
       "      <td>...</td>\n",
       "      <td>None</td>\n",
       "      <td>None</td>\n",
       "      <td>None</td>\n",
       "      <td>None</td>\n",
       "      <td>None</td>\n",
       "      <td>None</td>\n",
       "      <td>None</td>\n",
       "      <td>QPS-Pricer.1043</td>\n",
       "      <td>Invalid input: CalculationInput is invalid. Fo...</td>\n",
       "      <td></td>\n",
       "    </tr>\n",
       "  </tbody>\n",
       "</table>\n",
       "<p>1 rows × 28 columns</p>\n",
       "</div>"
      ],
      "text/plain": [
       "  InstrumentTag InstrumentDescription CallPut ValuationDate MarketDataDate  \\\n",
       "0          None                  None    None          None           None   \n",
       "\n",
       "  StartDate EndDate Tenor InterestPaymentFrequency IndexResetFrequency  ...  \\\n",
       "0      None    None  None                     None                None  ...   \n",
       "\n",
       "  ImpliedVolatilityBp DeltaPercent ForwardDeltaPercent DV01AmountInDealCcy  \\\n",
       "0                None         None                None                None   \n",
       "\n",
       "  GammaAmountInDealCcy VegaAmountInDealCcy ThetaAmountInDealCcy  \\\n",
       "0                 None                None                 None   \n",
       "\n",
       "         ErrorCode                                       ErrorMessage  \\\n",
       "0  QPS-Pricer.1043  Invalid input: CalculationInput is invalid. Fo...   \n",
       "\n",
       "  ProcessingInformation  \n",
       "0                        \n",
       "\n",
       "[1 rows x 28 columns]"
      ]
     },
     "execution_count": 4,
     "metadata": {},
     "output_type": "execute_result"
    }
   ],
   "source": [
    "response = cap_floor.Definition(\n",
    "    notional_ccy=\"EUR\",\n",
    "    start_date=\"2019-02-11\",\n",
    "    amortization_schedule=[\n",
    "        cap_floor.AmortizationItem(\n",
    "            start_date=\"2021-02-11\",\n",
    "            end_date=\"2022-02-11\",\n",
    "            amount=100000,\n",
    "            amortization_type=cap_floor.AmortizationType.SCHEDULE,\n",
    "        ),\n",
    "        cap_floor.AmortizationItem(\n",
    "            start_date=\"2021-02-11\",\n",
    "            end_date=\"2022-02-11\",\n",
    "            amount=-100000,\n",
    "            amortization_type=cap_floor.AmortizationType.SCHEDULE,\n",
    "        ),\n",
    "    ],\n",
    "    tenor=\"5Y\",\n",
    "    buy_sell=\"Sell\",\n",
    "    notional_amount=10000000,\n",
    "    interest_payment_frequency=cap_floor.Frequency.MONTHLY,\n",
    "    cap_strike_percent=1\n",
    ").get_data()\n",
    "\n",
    "response.data.df"
   ]
  },
  {
   "cell_type": "markdown",
   "metadata": {},
   "source": [
    "### Fields selection"
   ]
  },
  {
   "cell_type": "code",
   "execution_count": 5,
   "metadata": {},
   "outputs": [
    {
     "data": {
      "text/html": [
       "<div>\n",
       "<style scoped>\n",
       "    .dataframe tbody tr th:only-of-type {\n",
       "        vertical-align: middle;\n",
       "    }\n",
       "\n",
       "    .dataframe tbody tr th {\n",
       "        vertical-align: top;\n",
       "    }\n",
       "\n",
       "    .dataframe thead th {\n",
       "        text-align: right;\n",
       "    }\n",
       "</style>\n",
       "<table border=\"1\" class=\"dataframe\">\n",
       "  <thead>\n",
       "    <tr style=\"text-align: right;\">\n",
       "      <th></th>\n",
       "      <th>InstrumentTag</th>\n",
       "      <th>InstrumentDescription</th>\n",
       "      <th>FixedRate</th>\n",
       "      <th>MarketValueInDealCcy</th>\n",
       "      <th>MarketValueInReportCcy</th>\n",
       "      <th>ErrorMessage</th>\n",
       "    </tr>\n",
       "  </thead>\n",
       "  <tbody>\n",
       "    <tr>\n",
       "      <th>0</th>\n",
       "      <td>None</td>\n",
       "      <td>None</td>\n",
       "      <td>None</td>\n",
       "      <td>None</td>\n",
       "      <td>None</td>\n",
       "      <td>Invalid input: CalculationInput is invalid. Fo...</td>\n",
       "    </tr>\n",
       "  </tbody>\n",
       "</table>\n",
       "</div>"
      ],
      "text/plain": [
       "  InstrumentTag InstrumentDescription FixedRate MarketValueInDealCcy  \\\n",
       "0          None                  None      None                 None   \n",
       "\n",
       "  MarketValueInReportCcy                                       ErrorMessage  \n",
       "0                   None  Invalid input: CalculationInput is invalid. Fo...  "
      ]
     },
     "execution_count": 5,
     "metadata": {},
     "output_type": "execute_result"
    }
   ],
   "source": [
    "response = cap_floor.Definition(\n",
    "    notional_ccy=\"EUR\",\n",
    "    start_date=\"2019-02-11\",\n",
    "    amortization_schedule=[\n",
    "        cap_floor.AmortizationItem(\n",
    "            start_date=\"2021-02-11\",\n",
    "            end_date=\"2022-02-11\",\n",
    "            amount=100000,\n",
    "            amortization_type=cap_floor.AmortizationType.SCHEDULE,\n",
    "        ),\n",
    "        cap_floor.AmortizationItem(\n",
    "            start_date=\"2021-02-11\",\n",
    "            end_date=\"2022-02-11\",\n",
    "            amount=-100000,\n",
    "            amortization_type=cap_floor.AmortizationType.SCHEDULE,\n",
    "        ),\n",
    "    ],\n",
    "    tenor=\"5Y\",\n",
    "    buy_sell=\"Sell\",\n",
    "    notional_amount=10000000,\n",
    "    interest_payment_frequency=cap_floor.Frequency.MONTHLY,\n",
    "    cap_strike_percent=1,\n",
    "    fields=[\n",
    "        \"InstrumentTag\",\n",
    "        \"InstrumentDescription\",\n",
    "        \"FixedRate\",\n",
    "        \"MarketValueInDealCcy\",\n",
    "        \"MarketValueInReportCcy\",\n",
    "        \"ErrorMessage\"\n",
    "    ]\n",
    ").get_data()\n",
    "\n",
    "response.data.df"
   ]
  },
  {
   "cell_type": "markdown",
   "metadata": {},
   "source": [
    "### Pricing parameters"
   ]
  },
  {
   "cell_type": "code",
   "execution_count": 6,
   "metadata": {},
   "outputs": [
    {
     "data": {
      "text/html": [
       "<div>\n",
       "<style scoped>\n",
       "    .dataframe tbody tr th:only-of-type {\n",
       "        vertical-align: middle;\n",
       "    }\n",
       "\n",
       "    .dataframe tbody tr th {\n",
       "        vertical-align: top;\n",
       "    }\n",
       "\n",
       "    .dataframe thead th {\n",
       "        text-align: right;\n",
       "    }\n",
       "</style>\n",
       "<table border=\"1\" class=\"dataframe\">\n",
       "  <thead>\n",
       "    <tr style=\"text-align: right;\">\n",
       "      <th></th>\n",
       "      <th>InstrumentTag</th>\n",
       "      <th>InstrumentDescription</th>\n",
       "      <th>CallPut</th>\n",
       "      <th>ValuationDate</th>\n",
       "      <th>MarketDataDate</th>\n",
       "      <th>StartDate</th>\n",
       "      <th>EndDate</th>\n",
       "      <th>Tenor</th>\n",
       "      <th>InterestPaymentFrequency</th>\n",
       "      <th>IndexResetFrequency</th>\n",
       "      <th>...</th>\n",
       "      <th>ImpliedVolatilityBp</th>\n",
       "      <th>DeltaPercent</th>\n",
       "      <th>ForwardDeltaPercent</th>\n",
       "      <th>DV01AmountInDealCcy</th>\n",
       "      <th>GammaAmountInDealCcy</th>\n",
       "      <th>VegaAmountInDealCcy</th>\n",
       "      <th>ThetaAmountInDealCcy</th>\n",
       "      <th>ErrorCode</th>\n",
       "      <th>ErrorMessage</th>\n",
       "      <th>ProcessingInformation</th>\n",
       "    </tr>\n",
       "  </thead>\n",
       "  <tbody>\n",
       "    <tr>\n",
       "      <th>0</th>\n",
       "      <td>None</td>\n",
       "      <td>None</td>\n",
       "      <td>None</td>\n",
       "      <td>None</td>\n",
       "      <td>None</td>\n",
       "      <td>None</td>\n",
       "      <td>None</td>\n",
       "      <td>None</td>\n",
       "      <td>None</td>\n",
       "      <td>None</td>\n",
       "      <td>...</td>\n",
       "      <td>None</td>\n",
       "      <td>None</td>\n",
       "      <td>None</td>\n",
       "      <td>None</td>\n",
       "      <td>None</td>\n",
       "      <td>None</td>\n",
       "      <td>None</td>\n",
       "      <td>QPS-Pricer.1043</td>\n",
       "      <td>Invalid input: CalculationInput is invalid. Fo...</td>\n",
       "      <td></td>\n",
       "    </tr>\n",
       "  </tbody>\n",
       "</table>\n",
       "<p>1 rows × 28 columns</p>\n",
       "</div>"
      ],
      "text/plain": [
       "  InstrumentTag InstrumentDescription CallPut ValuationDate MarketDataDate  \\\n",
       "0          None                  None    None          None           None   \n",
       "\n",
       "  StartDate EndDate Tenor InterestPaymentFrequency IndexResetFrequency  ...  \\\n",
       "0      None    None  None                     None                None  ...   \n",
       "\n",
       "  ImpliedVolatilityBp DeltaPercent ForwardDeltaPercent DV01AmountInDealCcy  \\\n",
       "0                None         None                None                None   \n",
       "\n",
       "  GammaAmountInDealCcy VegaAmountInDealCcy ThetaAmountInDealCcy  \\\n",
       "0                 None                None                 None   \n",
       "\n",
       "         ErrorCode                                       ErrorMessage  \\\n",
       "0  QPS-Pricer.1043  Invalid input: CalculationInput is invalid. Fo...   \n",
       "\n",
       "  ProcessingInformation  \n",
       "0                        \n",
       "\n",
       "[1 rows x 28 columns]"
      ]
     },
     "execution_count": 6,
     "metadata": {},
     "output_type": "execute_result"
    }
   ],
   "source": [
    "response = cap_floor.Definition(\n",
    "    notional_ccy=\"EUR\",\n",
    "    start_date=\"2019-02-11\",\n",
    "    amortization_schedule=[\n",
    "        cap_floor.AmortizationItem(\n",
    "            start_date=\"2021-02-11\",\n",
    "            end_date=\"2022-02-11\",\n",
    "            amount=100000,\n",
    "            amortization_type=cap_floor.AmortizationType.SCHEDULE,\n",
    "        ),\n",
    "        cap_floor.AmortizationItem(\n",
    "            start_date=\"2021-02-11\",\n",
    "            end_date=\"2022-02-11\",\n",
    "            amount=-100000,\n",
    "            amortization_type=cap_floor.AmortizationType.SCHEDULE,\n",
    "        ),\n",
    "    ],\n",
    "    tenor=\"5Y\",\n",
    "    buy_sell=\"Sell\",\n",
    "    notional_amount=10000000,\n",
    "    interest_payment_frequency=cap_floor.Frequency.MONTHLY,\n",
    "    cap_strike_percent=1,\n",
    "    pricing_parameters=cap_floor.PricingParameters(\n",
    "        skip_first_cap_floorlet=True,\n",
    "        valuation_date=\"2020-02-07\"\n",
    "    )\n",
    ").get_data()\n",
    "\n",
    "response.data.df"
   ]
  },
  {
   "cell_type": "markdown",
   "metadata": {},
   "source": [
    "## Close the session"
   ]
  },
  {
   "cell_type": "code",
   "execution_count": 7,
   "metadata": {
    "pycharm": {
     "name": "#%%\n"
    }
   },
   "outputs": [],
   "source": [
    "rd.close_session()"
   ]
  },
  {
   "cell_type": "code",
   "execution_count": null,
   "metadata": {},
   "outputs": [],
   "source": []
  }
 ],
 "metadata": {
  "kernelspec": {
   "display_name": "Python 3",
   "language": "python",
   "name": "python3"
  },
  "language_info": {
   "codemirror_mode": {
    "name": "ipython",
    "version": 3
   },
   "file_extension": ".py",
   "mimetype": "text/x-python",
   "name": "python",
   "nbconvert_exporter": "python",
   "pygments_lexer": "ipython3",
   "version": "3.7.6"
  }
 },
 "nbformat": 4,
 "nbformat_minor": 4
}
