{
 "cells": [
  {
   "cell_type": "markdown",
   "metadata": {},
   "source": [
    "----\n",
    "<img src=\"../../../files/refinitiv.png\" width=\"20%\" style=\"vertical-align: top;\">\n",
    "\n",
    "# Data Library for Python\n",
    "\n",
    "----"
   ]
  },
  {
   "cell_type": "markdown",
   "metadata": {},
   "source": [
    "## Content layer - Chain stream - How to use streaming events\n",
    "The following example demonstrates how to use a chain stream to be notified in realtime of any chain constituent change. The example will show how to create a Chain stream object with registered callbacks so that your application is notified whenever the list of chain constituents changes.\n",
    "\n",
    "Using a Chain stream that way prevents your application from sending too many requests to RDP. This is particularly useful if your application needs to retrieve chain constituents at regular and short intervals."
   ]
  },
  {
   "cell_type": "markdown",
   "metadata": {},
   "source": [
    "#### Learn more\n",
    "\n",
    "To learn more about the Refinitiv Data Library for Python please join the Refinitiv Developer Community. By [registering](https://developers.refinitiv.com/iam/register) and [login](https://developers.refinitiv.com/content/devportal/en_us/initCookie.html) to the Refinitiv Developer Community portal you will get free access to a number of learning materials like \n",
    " [Quick Start guides](https://developers.refinitiv.com/en/api-catalog/refinitiv-data-platform/refinitiv-data-library-for-python/quick-start), \n",
    " [Tutorials](https://developers.refinitiv.com/en/api-catalog/refinitiv-data-platform/refinitiv-data-library-for-python/learning), \n",
    " [Documentation](https://developers.refinitiv.com/en/api-catalog/refinitiv-data-platform/refinitiv-data-library-for-python/docs)\n",
    " and much more.\n",
    "\n",
    "#### Getting Help and Support\n",
    "\n",
    "If you have any questions regarding the API usage, please post them on \n",
    "the [Refinitiv Data Q&A Forum](https://community.developers.refinitiv.com/spaces/321/index.html). \n",
    "The Refinitiv Developer Community will be happy to help."
   ]
  },
  {
   "cell_type": "markdown",
   "metadata": {},
   "source": [
    "## About events"
   ]
  },
  {
   "cell_type": "markdown",
   "metadata": {},
   "source": [
    "\n",
    "To use a Chain stream object with events, you need to define callback functions that are called by a background execution thread when new events are received for the chain you requested. There are 5 different types of callback functions you can use depending on the type of events you are interrested in. These callback functions are optionnal meaning that you do not have to use all of them.\n",
    "\n",
    "### The 5 events types and their related callback functions:\n",
    " - **add events:** add events happen when a new constituent is added to a chain. When several Add events are received for the same index, only the the last received constituent is kept in memory. Other constituents received from the same index are discarded. Chain stream objects automatically manage this logic for their internal cache, meaning that when you call get_constituent you always get the latest list of constituents.\n",
    " \n",
    " Callback functions used to receive Add events take 3 parameters: \n",
    "  - The Chain stream that received the event\n",
    "  - The index the constituent added to the chain\n",
    "  - The name of the constituent\n",
    " \n",
    " - **remove events:** remove events happen when a constituent is removed from a chain. Chain stream objects automatically manage this logic for their internal cache, meaning that when you call get_constituent you always get the latest values.\n",
    " \n",
    " Callback functions used to receive Remove events take 3 parameters: \n",
    "  - The Chain streaml that received the event\n",
    "  - The index of the constituent removed from the chain\n",
    "  - The name of the removed constituent\n",
    " \n",
    " \n",
    " - **update events:** Update events are received the name of a chain constituent is updated. When several Update events are received for the same index, only the the last received constituent is kept in memory. Other constituents received from the same index are discarded. Chain stream objects automatically manage this logic for their internal cache, meaning that when you call get_constituent you always get the latest list of constituents.\n",
    " \n",
    " Callback functions used to receive Update events take 3 parameters \n",
    "  - The Chains that received the event\n",
    "  - The name of the concerned chain record\n",
    "  - The updated fields with their new values\n",
    " \n",
    " - **complete events:** A Complete event is received once all constituents of the chain have been received. \n",
    "\n",
    " Callback functions used to receive Complete events take 1 parameter\n",
    "  - The Chains that received the event\n",
    "  - The constituents of the chain\n",
    "\n",
    "- **error events:** An Error event is received if the Chain failed to decode the chain completely.\n",
    "\n",
    "Callback functions used to receive Error events take 2 parameters\n",
    "  - The Chains that received the event\n",
    "  - The Received error\n",
    "\n",
    "\n",
    "### Typical events flow\n",
    "\n",
    "As an example, if you use a Chains stream with event for '0#.DJI'\n",
    "\n",
    "You may receive a flow of events like one:\n",
    " 1. **Add** event for 0#.DJI : 0 - TNXP.O\n",
    " 1. **Add** event for 0#.DJI : 1 - TQQQ.O\n",
    " 1. **Add** event for 0#.DJI : 2 - QQQ.O\n",
    " 1. **Add** event for 0#.DJI : 3 - AAPL.O\n",
    " 1. **Add** event for ...\n",
    " 1. **Add** event for ...\n",
    " 1. **Add** event for ...\n",
    " 1. **Complete** event 0#.DJI => Indicating that data (or status) has been received for all requested chain records\n",
    "\n",
    "  \n",
    "\n"
   ]
  },
  {
   "cell_type": "markdown",
   "metadata": {},
   "source": [
    "## Set the configuration file location\n",
    "For a better ease of use, you have the option to set initialization parameters of the Refinitiv Data Library in the _refinitiv-data.config.json_ configuration file. This file must be located beside your notebook, in your user folder or in a folder defined by the _RD_LIB_CONFIG_PATH_ environment variable. The _RD_LIB_CONFIG_PATH_ environment variable is the option used by this series of examples. The following code sets this environment variable.      "
   ]
  },
  {
   "cell_type": "code",
   "execution_count": 13,
   "metadata": {},
   "outputs": [],
   "source": [
    "import os\n",
    "os.environ[\"RD_LIB_CONFIG_PATH\"] = \"../../../Configuration\""
   ]
  },
  {
   "cell_type": "markdown",
   "metadata": {},
   "source": [
    "## Some Imports to start with"
   ]
  },
  {
   "cell_type": "code",
   "execution_count": 14,
   "metadata": {},
   "outputs": [],
   "source": [
    "import refinitiv.data as rd\n",
    "from refinitiv.data.content import pricing\n",
    "import datetime"
   ]
  },
  {
   "cell_type": "markdown",
   "metadata": {},
   "source": [
    "## Open the data session\n",
    "\n",
    "The open_session() function creates and open sessions based on the information contained in the refinitiv-data.config.json configuration file. Please edit this file to set the session type and other parameters required for the session you want to open."
   ]
  },
  {
   "cell_type": "code",
   "execution_count": 15,
   "metadata": {},
   "outputs": [
    {
     "data": {
      "text/plain": [
       "<refinitiv.data.session.Definition object at 0x7f80b72cd490 {name='workspace'}>"
      ]
     },
     "execution_count": 15,
     "metadata": {},
     "output_type": "execute_result"
    }
   ],
   "source": [
    "rd.open_session()"
   ]
  },
  {
   "cell_type": "markdown",
   "metadata": {},
   "source": [
    "## Retrieve data"
   ]
  },
  {
   "cell_type": "markdown",
   "metadata": {},
   "source": [
    "### Define callbacks to capture incoming events"
   ]
  },
  {
   "cell_type": "markdown",
   "metadata": {},
   "source": [
    "The following function will be used to capture Add events. It displays the name of the added constituent in the chain record."
   ]
  },
  {
   "cell_type": "code",
   "execution_count": 16,
   "metadata": {},
   "outputs": [],
   "source": [
    "def display_add(chain_stream, index, constituent):\n",
    "    time_now = datetime.datetime.now().time()\n",
    "    print(f\"{time_now}- Add event received for {chain_stream.name}. {index}: {constituent}\")"
   ]
  },
  {
   "cell_type": "markdown",
   "metadata": {},
   "source": [
    "The following function will be used to capture Remove events. It displays the name of the removed constituent from the chain record."
   ]
  },
  {
   "cell_type": "code",
   "execution_count": 17,
   "metadata": {},
   "outputs": [],
   "source": [
    "def display_remove(chain_stream, index, constituent):\n",
    "    current_time = datetime.datetime.now().time()\n",
    "    print(f\"{time_now}- Remove event received for {chain_stream.name}. {index}: {constituent}\")"
   ]
  },
  {
   "cell_type": "markdown",
   "metadata": {},
   "source": [
    "The following function will be used to capture Update events. It displays the name of the updated constituent on the chain record."
   ]
  },
  {
   "cell_type": "code",
   "execution_count": 18,
   "metadata": {},
   "outputs": [],
   "source": [
    "def display_update(chain_stream, index, old_constituent, new_constituent):\n",
    "    time_now = datetime.datetime.now().time()\n",
    "    print(\n",
    "        f\"{time_now}- Update event received for {chain_stream.name}.\"\n",
    "        f\"{index}: {old_constituent} => {new_constituent}\"\n",
    "    )"
   ]
  },
  {
   "cell_type": "markdown",
   "metadata": {},
   "source": [
    "The following function will be used to capture a complete decoded events. It calls get_constituents to pull out the memory cache of the Chain as a list of constituents and displays it. As a result, the latest values of all constituents of this chain record is displayed in a list."
   ]
  },
  {
   "cell_type": "code",
   "execution_count": 19,
   "metadata": {},
   "outputs": [],
   "source": [
    "def display_complete(chain_stream, constituents):\n",
    "    time_now = datetime.datetime.now().time()\n",
    "    print(\n",
    "        f\"{time_now}- Chain {chain_stream.name}\"\n",
    "        f\" is completely decoded.\\nconstituents:\\n{constituents}\"\n",
    "    )"
   ]
  },
  {
   "cell_type": "markdown",
   "metadata": {},
   "source": [
    "The following function will be used to capture Error events. It displays the name of the chain and the received error."
   ]
  },
  {
   "cell_type": "code",
   "execution_count": 20,
   "metadata": {},
   "outputs": [],
   "source": [
    "def display_error(chain_stream, chain_record, error):\n",
    "    time_now = datetime.datetime.now().time()\n",
    "    print(f\"{time_now}- Error received for Chain {chain_stream.name}. Chain Record: {chain_record}. Error: {error}\")   "
   ]
  },
  {
   "cell_type": "markdown",
   "metadata": {},
   "source": [
    "### Create and open a Chain stream\n",
    "\n",
    "A Chain stream object is created for a specific list of chain record. Note that skip_summary_links and skip_empty are optionals default are True. The override_summary_links is an opional argument, it is used for override the number of summary links for given chain record when the skip_summary_links is True."
   ]
  },
  {
   "cell_type": "code",
   "execution_count": 21,
   "metadata": {},
   "outputs": [
    {
     "data": {
      "text/plain": [
       "<refinitiv.data.content.pricing.chain.Stream object at 0x7f80b72ede10 {name='.AV.O'}>"
      ]
     },
     "execution_count": 21,
     "metadata": {},
     "output_type": "execute_result"
    }
   ],
   "source": [
    "nyse_active_volume_leaders = pricing.chain.Definition(\".AV.O\").get_stream()\n",
    "\n",
    "nyse_active_volume_leaders.on_add(display_add)\n",
    "nyse_active_volume_leaders.on_remove(display_remove)\n",
    "nyse_active_volume_leaders.on_update(display_update)\n",
    "nyse_active_volume_leaders.on_complete(display_complete)\n",
    "nyse_active_volume_leaders.on_error(display_error)"
   ]
  },
  {
   "cell_type": "markdown",
   "metadata": {},
   "source": [
    "The open method tells the Chain object to subscribe to the streams of the related chain elements."
   ]
  },
  {
   "cell_type": "markdown",
   "metadata": {},
   "source": [
    "### Open the chain stream and wait for events"
   ]
  },
  {
   "cell_type": "code",
   "execution_count": 22,
   "metadata": {},
   "outputs": [
    {
     "name": "stdout",
     "output_type": "stream",
     "text": [
      "14:58:36.569630- Chain .AV.O is completely decoded.\n",
      "constituents:\n",
      "{'ID': 4, 'Type': 'Refresh', 'Key': {'Service': 'IDN_RDFNTS_CF', 'Name': '.AV.O'}, 'State': {'Stream': 'Open', 'Data': 'Ok', 'Text': 'All is well'}, 'Qos': {'Timeliness': 'Realtime', 'Rate': 'JitConflated'}, 'PermData': 'AwD+dMA=', 'SeqNumber': 21904, 'Fields': {'PROD_PERM': 74, 'RDNDISPLAY': 173, 'DSPLY_NAME': 'TOP 25 BY VOLUME', 'RDN_EXCHID': 0, 'TIMACT': '13:58:31', 'ACTIV_DATE': '2021-12-16', 'NUM_MOVES': 1195, 'REF_COUNT': 14, 'RECORDTYPE': 117, 'LONGLINK1': 'KXIN.O', 'LONGLINK2': 'SQQQ.O', 'LONGLINK3': 'AVCT.O', 'LONGLINK4': 'FOUNW.O', 'LONGLINK5': 'FOUN.O', 'LONGLINK6': 'BCTX.O', 'LONGLINK7': 'AAPL.O', 'LONGLINK8': 'EVFM.O', 'LONGLINK9': 'GRTX.O', 'LONGLINK10': 'QQQ.O', 'LONGLINK11': 'TQQQ.O', 'LONGLINK12': 'PTPI.O', 'LONGLINK13': 'BMRA.O', 'LONGLINK14': 'FUTU.O', 'LONGPREVLR': None, 'LONGNEXTLR': '1#.AV.O', 'PREF_DISP': 0, 'PREF_LINK': None, 'RDN_EXCHD2': 559, 'PREV_DISP': 0, 'TIMACT1': '13:58:31', 'CONTEXT_ID': 3339, 'CF_DATE': '2021-12-16', 'CF_EXCHNG': 559, 'CF_SOURCE': '   ', 'CF_TIME': '13:58:31', 'CF_NAME': 'TOP 25 BY VOLUME', 'DDS_DSO_ID': 8288, 'SPS_SP_RIC': '.[SPSNSDQVAE1'}}\n",
      "14:58:36.569775- Add event received for .AV.O. 0: KXIN.O\n",
      "14:58:36.569814- Add event received for .AV.O. 1: SQQQ.O\n",
      "14:58:36.570170- Add event received for .AV.O. 2: AVCT.O\n",
      "14:58:36.570215- Add event received for .AV.O. 3: FOUNW.O\n",
      "14:58:36.570247- Add event received for .AV.O. 4: FOUN.O\n",
      "14:58:36.570274- Add event received for .AV.O. 5: BCTX.O\n",
      "14:58:36.570301- Add event received for .AV.O. 6: AAPL.O\n",
      "14:58:36.570323- Add event received for .AV.O. 7: EVFM.O\n",
      "14:58:36.572262- Add event received for .AV.O. 8: GRTX.O\n",
      "14:58:36.572367- Add event received for .AV.O. 9: QQQ.O\n",
      "14:58:36.572404- Add event received for .AV.O. 10: TQQQ.O\n",
      "14:58:36.572431- Add event received for .AV.O. 11: PTPI.O\n",
      "14:58:36.572458- Add event received for .AV.O. 12: BMRA.O\n",
      "14:58:36.572484- Add event received for .AV.O. 13: FUTU.O\n",
      "14:58:36.670040- Chain .AV.O is completely decoded.\n",
      "constituents:\n",
      "{'ID': 6, 'Type': 'Refresh', 'Key': {'Service': 'IDN_RDFNTS_CF', 'Name': '1#.AV.O'}, 'State': {'Stream': 'Open', 'Data': 'Ok', 'Text': 'All is well'}, 'Qos': {'Timeliness': 'Realtime', 'Rate': 'JitConflated'}, 'PermData': 'AwD+dMA=', 'SeqNumber': 21904, 'Fields': {'PROD_PERM': 74, 'RDNDISPLAY': 173, 'DSPLY_NAME': 'TOP 25 BY VOLUME', 'RDN_EXCHID': 0, 'TIMACT': '13:58:31', 'ACTIV_DATE': '2021-12-16', 'NUM_MOVES': 1195, 'REF_COUNT': 11, 'RECORDTYPE': 117, 'LONGLINK1': 'SNDL.O', 'LONGLINK2': 'CALT.O', 'LONGLINK3': 'NVDA.O', 'LONGLINK4': 'SEAC.O', 'LONGLINK5': 'PBTS.O', 'LONGLINK6': 'SOFI.O', 'LONGLINK7': 'LCID.O', 'LONGLINK8': 'AAL.O', 'LONGLINK9': 'FOUNU.O', 'LONGLINK10': 'AMD.O', 'LONGLINK11': 'NAKD.O', 'LONGLINK12': None, 'LONGLINK13': None, 'LONGLINK14': None, 'LONGPREVLR': '.AV.O', 'LONGNEXTLR': None, 'PREF_DISP': 0, 'PREF_LINK': None, 'RDN_EXCHD2': 559, 'PREV_DISP': 0, 'TIMACT1': '13:58:31', 'CONTEXT_ID': 3339, 'CF_DATE': '2021-12-16', 'CF_EXCHNG': 559, 'CF_SOURCE': '   ', 'CF_TIME': '13:58:31', 'CF_NAME': 'TOP 25 BY VOLUME', 'DDS_DSO_ID': 8288, 'SPS_SP_RIC': '.[SPSNSDQVAE1'}}\n",
      "14:58:36.670186- Add event received for .AV.O. 14: SNDL.O\n",
      "14:58:36.670227- Add event received for .AV.O. 15: CALT.O\n",
      "14:58:36.670259- Add event received for .AV.O. 16: NVDA.O\n",
      "14:58:36.670289- Add event received for .AV.O. 17: SEAC.O\n",
      "14:58:36.670319- Add event received for .AV.O. 18: PBTS.O\n",
      "14:58:36.670348- Add event received for .AV.O. 19: SOFI.O\n",
      "14:58:36.670377- Add event received for .AV.O. 20: LCID.O\n",
      "14:58:36.670406- Add event received for .AV.O. 21: AAL.O\n",
      "14:58:36.670434- Add event received for .AV.O. 22: FOUNU.O\n",
      "14:58:36.671839- Add event received for .AV.O. 23: AMD.O\n",
      "14:58:36.671882- Add event received for .AV.O. 24: NAKD.O\n",
      "14:58:36.671911- Chain .AV.O is completely decoded.\n",
      "constituents:\n",
      "['KXIN.O', 'SQQQ.O', 'AVCT.O', 'FOUNW.O', 'FOUN.O', 'BCTX.O', 'AAPL.O', 'EVFM.O', 'GRTX.O', 'QQQ.O', 'TQQQ.O', 'PTPI.O', 'BMRA.O', 'FUTU.O', 'SNDL.O', 'CALT.O', 'NVDA.O', 'SEAC.O', 'PBTS.O', 'SOFI.O', 'LCID.O', 'AAL.O', 'FOUNU.O', 'AMD.O', 'NAKD.O']\n"
     ]
    },
    {
     "data": {
      "text/plain": [
       "<OpenState.Opened: 1>"
      ]
     },
     "execution_count": 22,
     "metadata": {},
     "output_type": "execute_result"
    }
   ],
   "source": [
    "nyse_active_volume_leaders.open()"
   ]
  },
  {
   "cell_type": "markdown",
   "metadata": {},
   "source": [
    "As soon as the open method returns, the stream object is ready to be used. Its internal cache is constantly kept updated with the latest streaming information received from he platform. All this happens behind the scene, waiting for your application to pull out data from the cache.  "
   ]
  },
  {
   "cell_type": "markdown",
   "metadata": {},
   "source": [
    "### Close the stream"
   ]
  },
  {
   "cell_type": "code",
   "execution_count": 23,
   "metadata": {},
   "outputs": [
    {
     "data": {
      "text/plain": [
       "<OpenState.Closed: 3>"
      ]
     },
     "execution_count": 23,
     "metadata": {},
     "output_type": "execute_result"
    }
   ],
   "source": [
    "nyse_active_volume_leaders.close()"
   ]
  },
  {
   "cell_type": "markdown",
   "metadata": {},
   "source": [
    "## Close the session"
   ]
  },
  {
   "cell_type": "code",
   "execution_count": 24,
   "metadata": {},
   "outputs": [],
   "source": [
    "rd.close_session()"
   ]
  },
  {
   "cell_type": "code",
   "execution_count": null,
   "metadata": {},
   "outputs": [],
   "source": []
  }
 ],
 "metadata": {
  "kernelspec": {
   "display_name": "Python 3",
   "language": "python",
   "name": "python3"
  },
  "language_info": {
   "codemirror_mode": {
    "name": "ipython",
    "version": 3
   },
   "file_extension": ".py",
   "mimetype": "text/x-python",
   "name": "python",
   "nbconvert_exporter": "python",
   "pygments_lexer": "ipython3",
   "version": "3.7.6"
  }
 },
 "nbformat": 4,
 "nbformat_minor": 4
}
