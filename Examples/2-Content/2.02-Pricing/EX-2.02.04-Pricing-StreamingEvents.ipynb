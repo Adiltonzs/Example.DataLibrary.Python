{
 "cells": [
  {
   "cell_type": "markdown",
   "metadata": {},
   "source": [
    "----\n",
    "<img src=\"../../../files/refinitiv.png\" width=\"20%\" style=\"vertical-align: top;\">\n",
    "\n",
    "# Data Library for Python\n",
    "\n",
    "----"
   ]
  },
  {
   "cell_type": "markdown",
   "metadata": {},
   "source": [
    "## Content layer - Pricing stream - How to use streaming events\n",
    "This Notebook demonstrates how to retrieve level 1 streaming data (such as trades and quotes) either directly from the Refinitiv Data Platform or via Refinitiv Workspace or CodeBook. The example will show how to create a Pricing stream object with registered event handlers so that your application is notified when new data is coming in.\n",
    "\n",
    "Using Pricing streams this way allows your application to be updated in real-time when data changes on the market. With this event-driven mode, your application can still benefit from the Pricing stream data cache and use the get_snapshot function to pull out real-time snapshots as Pandas DataFrames."
   ]
  },
  {
   "cell_type": "markdown",
   "metadata": {},
   "source": [
    "#### Learn more\n",
    "\n",
    "To learn more about the Refinitiv Data Library for Python please join the Refinitiv Developer Community. By [registering](https://developers.refinitiv.com/iam/register) and [login](https://developers.refinitiv.com/content/devportal/en_us/initCookie.html) to the Refinitiv Developer Community portal you will get free access to a number of learning materials like \n",
    " [Quick Start guides](https://developers.refinitiv.com/en/api-catalog/refinitiv-data-platform/refinitiv-data-library-for-python/quick-start), \n",
    " [Tutorials](https://developers.refinitiv.com/en/api-catalog/refinitiv-data-platform/refinitiv-data-library-for-python/learning), \n",
    " [Documentation](https://developers.refinitiv.com/en/api-catalog/refinitiv-data-platform/refinitiv-data-library-for-python/docs)\n",
    " and much more.\n",
    "\n",
    "#### Getting Help and Support\n",
    "\n",
    "If you have any questions regarding the API usage, please post them on \n",
    "the [Refinitiv Data Q&A Forum](https://community.developers.refinitiv.com/spaces/321/index.html). \n",
    "The Refinitiv Developer Community will be happy to help."
   ]
  },
  {
   "cell_type": "markdown",
   "metadata": {},
   "source": [
    "## Introduction to streaming events\n",
    "\n",
    "Using a Pricing stream object with events requires you to define event handlers that are called by a background execution thread when new events are received for the instruments you requested. There are 4 different types of event handlers you can optionnaly define depending on the type to events your are interrested in.  \n",
    "\n",
    "### The 4 event types and their related event handlers:\n",
    " - **Refresh events:** Refresh events happen when all fields of one the requested instruments are received. This complete list of fields is sometimes called the 'image' of the instrument. This image that comes with Refresh messages can be later updated by subsequent Update events. When several Refresh events are received for the same instrument, the fields transported by the latest Refresh are considered as the new image. Fields received in previous Refresh events or Update events must be discarded. Pricing stream objects automatically manage this logic for their internal cache, meaning that when you call get_snapshot you always get the latest and relevant field values for the requested instruments. \n",
    " \n",
    " Refresh event handlers take 3 parameters: \n",
    "  - The Pricing stream object that received the event\n",
    "  - The name of the concerned instrument\n",
    "  - The fields and values of the Image\n",
    " \n",
    " \n",
    " - **Update events:** Update events are received when fields of a requested instrument change. Update events only contain the fields and values that changed. When the application receives an Update it must update its internal representation of the instrument (if any) accordingly. Pricing stream objects automatically manage this logic for their internal cache, meaning that when you call get_snapshot you always get the latest values of the requested instruments. \n",
    " \n",
    " Update event handlers take 3 parameters \n",
    "  - The Pricing stream object that received the event\n",
    "  - The name of the concerned instrument\n",
    "  - The updated fields with their new values\n",
    " \n",
    " \n",
    " - **Status events:** Status events are received when the status of one of the requested instruments changes.\n",
    " \n",
    " Status event handlers take 3 parameters \n",
    "  - The Pricing stream object that received the event\n",
    "  - The name of the concerned instrument\n",
    "  - The new status of the instrument\n",
    " \n",
    " \n",
    " - **Complete events:** A Complete event is received once all the requested instruments received either a Refresh or a Status event. The Complete event indicates that the Pricing stream object is complete and that it's internal cache contains the full data set (instruments and fields) that were requested.     \n",
    "\n",
    " Complete event handlers take one parameter\n",
    "  - The Pricing stream object that is complete\n",
    " \n",
    "**Side note:** As Refresh events and Update events use handlers with the same signature, the same handler can be used for these 2 event types if you do not need to distinguish them \n",
    " \n",
    "### Typical events flow\n",
    "\n",
    "As an example, if you use a Pricing stream object with event for the following instruments and fields: \n",
    " - Instruments: 'CAD=','GBP=', 'JPY=', 'JUNK'\n",
    " - Fields: 'CF_BID','CF_ASK','OPEN_PRC', 'CF_HIGH','CF_LOW', 'CF_CLOSE'\n",
    "\n",
    "You may receive a flow of events like this one:\n",
    " 1. **Refresh** event for GBP=\n",
    " 1. **Refresh** event for CAD=\n",
    " 1. **Status** event for JUNK\n",
    " 1. **Refresh** event for JPY=\n",
    " 1. **Complete** event => Indicating that data (or status) has been received for all requested instruments\n",
    " 1. **Update** event for JPY=\n",
    " 1. **Update** event for CAD=\n",
    " 1. **Refresh** event for CAD=\n",
    " 1. **Update** event for GBP=\n",
    " 1. **Update** event for CAD=\n",
    " 1. **Update** event for JPY=\n",
    " 1. ...\n"
   ]
  },
  {
   "cell_type": "markdown",
   "metadata": {},
   "source": [
    "## Set the configuration file location\n",
    "For a better ease of use, you have the option to set initialization parameters of the Refinitiv Data Library in the _refinitiv-data.config.json_ configuration file. This file must be located beside your notebook, in your user folder or in a folder defined by the _RD_LIB_CONFIG_PATH_ environment variable. The _RD_LIB_CONFIG_PATH_ environment variable is the option used by this series of examples. The following code sets this environment variable.      "
   ]
  },
  {
   "cell_type": "code",
   "execution_count": 1,
   "metadata": {},
   "outputs": [],
   "source": [
    "import os\n",
    "os.environ[\"RD_LIB_CONFIG_PATH\"] = \"../../../Configuration\""
   ]
  },
  {
   "cell_type": "markdown",
   "metadata": {},
   "source": [
    "## Some Imports to start with"
   ]
  },
  {
   "cell_type": "code",
   "execution_count": 2,
   "metadata": {},
   "outputs": [],
   "source": [
    "import refinitiv.data as rd\n",
    "from refinitiv.data.content import pricing\n",
    "import datetime"
   ]
  },
  {
   "cell_type": "markdown",
   "metadata": {},
   "source": [
    "## Open the data session\n",
    "\n",
    "The open_session() function creates and open sessions based on the information contained in the refinitiv-data.config.json configuration file. Please edit this file to set the session type and other parameters required for the session you want to open."
   ]
  },
  {
   "cell_type": "code",
   "execution_count": 3,
   "metadata": {},
   "outputs": [
    {
     "data": {
      "text/plain": [
       "<refinitiv.data.session.Definition object at 0x7fb58528ba90 {name='workspace'}>"
      ]
     },
     "execution_count": 3,
     "metadata": {},
     "output_type": "execute_result"
    }
   ],
   "source": [
    "rd.open_session()"
   ]
  },
  {
   "cell_type": "markdown",
   "metadata": {},
   "source": [
    "## Retrieve data"
   ]
  },
  {
   "cell_type": "markdown",
   "metadata": {},
   "source": [
    "### Define callbacks to capture incoming events"
   ]
  },
  {
   "cell_type": "markdown",
   "metadata": {},
   "source": [
    "The following function will be used to capture Refresh events. It displays the name of the refreshed instrument and its full image (complete list of requested fields)."
   ]
  },
  {
   "cell_type": "code",
   "execution_count": 4,
   "metadata": {},
   "outputs": [],
   "source": [
    "def display_refreshed_fields(pricing_stream, instrument_name, fields):\n",
    "    current_time = datetime.datetime.now().time()\n",
    "    print(current_time, \"- Refresh received for\", instrument_name, \":\", fields)    "
   ]
  },
  {
   "cell_type": "markdown",
   "metadata": {},
   "source": [
    "The following function will be used to capture Update events. It displays the name of the updated instrument and the updated fields."
   ]
  },
  {
   "cell_type": "code",
   "execution_count": 5,
   "metadata": {},
   "outputs": [],
   "source": [
    "def display_updated_fields(pricing_stream, instrument_name, fields):\n",
    "    current_time = datetime.datetime.now().time()\n",
    "    print(current_time, \"- Update received for\", instrument_name, \":\", fields)    "
   ]
  },
  {
   "cell_type": "markdown",
   "metadata": {},
   "source": [
    "The following function will be used to capture Status events. It displays the name of the instrument and the received status."
   ]
  },
  {
   "cell_type": "code",
   "execution_count": 6,
   "metadata": {},
   "outputs": [],
   "source": [
    "def display_status(pricing_stream, instrument_name, status):\n",
    "    current_time = datetime.datetime.now().time()\n",
    "    print(current_time, \"- Status received for\", instrument_name, \":\", status)    "
   ]
  },
  {
   "cell_type": "markdown",
   "metadata": {},
   "source": [
    "The following function will be used to capture Complete events. It calls get_snapshot to pull out the memory cache of the Pricing stream as a Pandas DataFrame and displays it. As a result, the latest values of all requested fields and instruments are displayed in a table. "
   ]
  },
  {
   "cell_type": "code",
   "execution_count": 7,
   "metadata": {},
   "outputs": [],
   "source": [
    "def display_complete_snapshot(pricing_stream):\n",
    "    current_time = datetime.datetime.now().time()\n",
    "    print(current_time, \"- Pricing stream is complete. Full snapshot:\")\n",
    "    display(pricing_stream.get_snapshot())"
   ]
  },
  {
   "cell_type": "markdown",
   "metadata": {},
   "source": [
    "### Create a Pricing stream and register event callbacks"
   ]
  },
  {
   "cell_type": "code",
   "execution_count": 8,
   "metadata": {},
   "outputs": [
    {
     "data": {
      "text/plain": [
       "<refinitiv.data.content.pricing.Stream object at 0x7fb58241de90 {name='['EUR=', 'GBP=', 'JPY=', 'CAD=']'}>"
      ]
     },
     "execution_count": 8,
     "metadata": {},
     "output_type": "execute_result"
    }
   ],
   "source": [
    "stream = rd.content.pricing.Definition(\n",
    "    ['EUR=', 'GBP=', 'JPY=', 'CAD='],\n",
    "    fields=['BID', 'ASK']\n",
    ").get_stream()\n",
    "\n",
    "\n",
    "stream.on_refresh(display_refreshed_fields)\n",
    "stream.on_update(display_updated_fields)\n",
    "stream.on_status(display_status)\n",
    "stream.on_complete(display_complete_snapshot)"
   ]
  },
  {
   "cell_type": "markdown",
   "metadata": {},
   "source": [
    "### Open the stream"
   ]
  },
  {
   "cell_type": "code",
   "execution_count": 9,
   "metadata": {},
   "outputs": [
    {
     "name": "stdout",
     "output_type": "stream",
     "text": [
      "14:10:04.230524 - Refresh received for EUR= : {'BID': 1.1332, 'ASK': 1.1333}\n",
      "14:10:04.294298 - Refresh received for GBP= : {'BID': 1.3353, 'ASK': 1.3355}\n",
      "14:10:04.296576 - Refresh received for JPY= : {'BID': 114.14, 'ASK': 114.15}\n",
      "14:10:04.319355 - Refresh received for CAD= : {'BID': 1.2779, 'ASK': 1.2783}\n",
      "14:10:04.319584 - Pricing stream is complete. Full snapshot:\n"
     ]
    },
    {
     "data": {
      "text/html": [
       "<div>\n",
       "<style scoped>\n",
       "    .dataframe tbody tr th:only-of-type {\n",
       "        vertical-align: middle;\n",
       "    }\n",
       "\n",
       "    .dataframe tbody tr th {\n",
       "        vertical-align: top;\n",
       "    }\n",
       "\n",
       "    .dataframe thead th {\n",
       "        text-align: right;\n",
       "    }\n",
       "</style>\n",
       "<table border=\"1\" class=\"dataframe\">\n",
       "  <thead>\n",
       "    <tr style=\"text-align: right;\">\n",
       "      <th></th>\n",
       "      <th>Instrument</th>\n",
       "      <th>ASK</th>\n",
       "      <th>BID</th>\n",
       "    </tr>\n",
       "  </thead>\n",
       "  <tbody>\n",
       "    <tr>\n",
       "      <th>0</th>\n",
       "      <td>EUR=</td>\n",
       "      <td>1.1333</td>\n",
       "      <td>1.1332</td>\n",
       "    </tr>\n",
       "    <tr>\n",
       "      <th>1</th>\n",
       "      <td>GBP=</td>\n",
       "      <td>1.3355</td>\n",
       "      <td>1.3353</td>\n",
       "    </tr>\n",
       "    <tr>\n",
       "      <th>2</th>\n",
       "      <td>JPY=</td>\n",
       "      <td>114.15</td>\n",
       "      <td>114.14</td>\n",
       "    </tr>\n",
       "    <tr>\n",
       "      <th>3</th>\n",
       "      <td>CAD=</td>\n",
       "      <td>1.2783</td>\n",
       "      <td>1.2779</td>\n",
       "    </tr>\n",
       "  </tbody>\n",
       "</table>\n",
       "</div>"
      ],
      "text/plain": [
       "  Instrument     ASK     BID\n",
       "0       EUR=  1.1333  1.1332\n",
       "1       GBP=  1.3355  1.3353\n",
       "2       JPY=  114.15  114.14\n",
       "3       CAD=  1.2783  1.2779"
      ]
     },
     "metadata": {},
     "output_type": "display_data"
    },
    {
     "data": {
      "text/plain": [
       "<OpenState.Opened: 1>"
      ]
     },
     "execution_count": 9,
     "metadata": {},
     "output_type": "execute_result"
    },
    {
     "name": "stdout",
     "output_type": "stream",
     "text": [
      "14:10:04.358514 - Update received for GBP= : {'BID': 1.3352, 'ASK': 1.3356}\n",
      "14:10:04.359312 - Update received for JPY= : {'BID': 114.13, 'ASK': 114.16}\n",
      "14:10:04.747091 - Update received for CAD= : {'BID': 1.2782, 'ASK': 1.2786}\n",
      "14:10:04.778022 - Update received for EUR= : {'BID': 1.1331, 'ASK': 1.1335}\n",
      "14:10:04.914487 - Update received for GBP= : {'BID': 1.3355, 'ASK': 1.3356}\n",
      "14:10:05.259574 - Update received for GBP= : {'BID': 1.3353, 'ASK': 1.3354}\n",
      "14:10:05.267195 - Update received for JPY= : {'BID': 114.13, 'ASK': 114.16}\n",
      "14:10:05.918976 - Update received for CAD= : {'BID': 1.2779, 'ASK': 1.2783}\n",
      "14:10:05.965406 - Update received for GBP= : {'BID': 1.3353, 'ASK': 1.3356}\n",
      "14:10:05.966023 - Update received for EUR= : {'BID': 1.1332, 'ASK': 1.1334}\n",
      "14:10:06.238758 - Update received for EUR= : {'BID': 1.1331, 'ASK': 1.1335}\n",
      "14:10:06.289881 - Update received for JPY= : {'BID': 114.14, 'ASK': 114.15}\n"
     ]
    }
   ],
   "source": [
    "stream.open()"
   ]
  },
  {
   "cell_type": "markdown",
   "metadata": {},
   "source": [
    "### Close the stream"
   ]
  },
  {
   "cell_type": "code",
   "execution_count": 10,
   "metadata": {},
   "outputs": [
    {
     "name": "stdout",
     "output_type": "stream",
     "text": [
      "14:10:06.528086 - Update received for EUR= : {'BID': 1.133, 'ASK': 1.1334}\n"
     ]
    },
    {
     "data": {
      "text/plain": [
       "<OpenState.Closed: 3>"
      ]
     },
     "execution_count": 10,
     "metadata": {},
     "output_type": "execute_result"
    }
   ],
   "source": [
    "stream.close()"
   ]
  },
  {
   "cell_type": "markdown",
   "metadata": {},
   "source": [
    "## Close the session"
   ]
  },
  {
   "cell_type": "code",
   "execution_count": 11,
   "metadata": {},
   "outputs": [],
   "source": [
    "rd.close_session()"
   ]
  },
  {
   "cell_type": "code",
   "execution_count": null,
   "metadata": {},
   "outputs": [],
   "source": []
  }
 ],
 "metadata": {
  "kernelspec": {
   "display_name": "Python 3",
   "language": "python",
   "name": "python3"
  },
  "language_info": {
   "codemirror_mode": {
    "name": "ipython",
    "version": 3
   },
   "file_extension": ".py",
   "mimetype": "text/x-python",
   "name": "python",
   "nbconvert_exporter": "python",
   "pygments_lexer": "ipython3",
   "version": "3.7.6"
  }
 },
 "nbformat": 4,
 "nbformat_minor": 4
}
