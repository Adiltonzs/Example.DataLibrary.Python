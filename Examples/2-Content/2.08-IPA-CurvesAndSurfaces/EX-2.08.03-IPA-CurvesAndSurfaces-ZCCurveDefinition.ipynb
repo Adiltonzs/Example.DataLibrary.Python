{
 "cells": [
  {
   "cell_type": "markdown",
   "metadata": {},
   "source": [
    "# Refinitiv Data Library for Python"
   ]
  },
  {
   "cell_type": "markdown",
   "metadata": {},
   "source": [
    "## Content layer - IPA - ZC Curve Definition\n",
    "This notebook demonstrates how to retrieve Zero Coupon Curve Definitions."
   ]
  },
  {
   "cell_type": "markdown",
   "metadata": {},
   "source": [
    "#### Learn more\n",
    "\n",
    "To learn more about the Refinitiv Data Library for Python please join the Refinitiv Developer Community. By [registering](https://developers.refinitiv.com/iam/register) and [logging](https://developers.refinitiv.com/content/devportal/en_us/initCookie.html) into the Refinitiv Developer Community portal you will have free access to a number of learning materials like \n",
    " [Quick Start guides](https://developers.refinitiv.com/en/api-catalog/refinitiv-data-platform/refinitiv-data-library-for-python/quick-start), \n",
    " [Tutorials](https://developers.refinitiv.com/en/api-catalog/refinitiv-data-platform/refinitiv-data-library-for-python/learning), \n",
    " [Documentation](https://developers.refinitiv.com/en/api-catalog/refinitiv-data-platform/refinitiv-data-library-for-python/docs)\n",
    " and much more.\n",
    "\n",
    "#### Getting Help and Support\n",
    "\n",
    "If you have any questions regarding using the API, please post them on \n",
    "the [Refinitiv Data Q&A Forum](https://community.developers.refinitiv.com/spaces/321/index.html). \n",
    "The Refinitiv Developer Community will be happy to help. "
   ]
  },
  {
   "cell_type": "markdown",
   "metadata": {},
   "source": [
    "## Set the configuration file location\n",
    "For a better ease of use, you have the option to set initialization parameters of the Refinitiv Data Library in the _refinitiv-data.config.json_ configuration file. This file must be located beside your notebook, in your user folder or in a folder defined by the _RD_LIB_CONFIG_PATH_ environment variable. The _RD_LIB_CONFIG_PATH_ environment variable is the option used by this series of examples. The following code sets this environment variable.      "
   ]
  },
  {
   "cell_type": "code",
   "execution_count": 1,
   "metadata": {},
   "outputs": [],
   "source": [
    "import os\n",
    "os.environ[\"RD_LIB_CONFIG_PATH\"] = \"../../../Configuration\""
   ]
  },
  {
   "cell_type": "markdown",
   "metadata": {},
   "source": [
    "## Some Imports to start with"
   ]
  },
  {
   "cell_type": "code",
   "execution_count": 2,
   "metadata": {},
   "outputs": [],
   "source": [
    "import refinitiv.data as rd\n",
    "from refinitiv.data.content.ipa.curves import zc_curve_definition"
   ]
  },
  {
   "cell_type": "markdown",
   "metadata": {},
   "source": [
    "## Open the data session\n",
    "\n",
    "The open_session() function creates and open sessions based on the information contained in the refinitiv-data.config.json configuration file. Please edit this file to set the session type and other parameters required for the session you want to open."
   ]
  },
  {
   "cell_type": "code",
   "execution_count": 3,
   "metadata": {},
   "outputs": [
    {
     "data": {
      "text/plain": [
       "<refinitiv.data.session.Definition object at 0x7fc33620cbd0 {name='workspace'}>"
      ]
     },
     "execution_count": 3,
     "metadata": {},
     "output_type": "execute_result"
    }
   ],
   "source": [
    "rd.open_session()"
   ]
  },
  {
   "cell_type": "markdown",
   "metadata": {},
   "source": [
    "## Retrieve data"
   ]
  },
  {
   "cell_type": "code",
   "execution_count": 4,
   "metadata": {},
   "outputs": [
    {
     "data": {
      "text/html": [
       "<div>\n",
       "<style scoped>\n",
       "    .dataframe tbody tr th:only-of-type {\n",
       "        vertical-align: middle;\n",
       "    }\n",
       "\n",
       "    .dataframe tbody tr th {\n",
       "        vertical-align: top;\n",
       "    }\n",
       "\n",
       "    .dataframe thead th {\n",
       "        text-align: right;\n",
       "    }\n",
       "</style>\n",
       "<table border=\"1\" class=\"dataframe\">\n",
       "  <thead>\n",
       "    <tr style=\"text-align: right;\">\n",
       "      <th></th>\n",
       "      <th>currency</th>\n",
       "      <th>mainConstituentAssetClass</th>\n",
       "      <th>riskType</th>\n",
       "      <th>indexName</th>\n",
       "      <th>source</th>\n",
       "      <th>name</th>\n",
       "      <th>firstHistoricalAvailabilityDate</th>\n",
       "      <th>id</th>\n",
       "      <th>owner</th>\n",
       "      <th>availableTenors</th>\n",
       "      <th>availableDiscountingTenors</th>\n",
       "      <th>marketDataLocation</th>\n",
       "    </tr>\n",
       "  </thead>\n",
       "  <tbody>\n",
       "    <tr>\n",
       "      <th>0</th>\n",
       "      <td>PKR</td>\n",
       "      <td>Swap</td>\n",
       "      <td>InterestRate</td>\n",
       "      <td>REPO</td>\n",
       "      <td>Refinitiv</td>\n",
       "      <td>PKR REPO Swap ZC Curve</td>\n",
       "      <td>2004-07-15</td>\n",
       "      <td>3c49f39f-276d-478d-a0bc-17c89e577bf6</td>\n",
       "      <td>Refinitiv</td>\n",
       "      <td>[6M]</td>\n",
       "      <td>[6M]</td>\n",
       "      <td>&lt;NA&gt;</td>\n",
       "    </tr>\n",
       "    <tr>\n",
       "      <th>1</th>\n",
       "      <td>ISK</td>\n",
       "      <td>Swap</td>\n",
       "      <td>InterestRate</td>\n",
       "      <td>REIBOR</td>\n",
       "      <td>Refinitiv</td>\n",
       "      <td>ISK REIBOR Swap ZC Curve</td>\n",
       "      <td>2006-12-05</td>\n",
       "      <td>d22031bd-0ae7-47d5-b4a0-fd79d5f8bc4e</td>\n",
       "      <td>Refinitiv</td>\n",
       "      <td>[3M]</td>\n",
       "      <td>[3M]</td>\n",
       "      <td>&lt;NA&gt;</td>\n",
       "    </tr>\n",
       "    <tr>\n",
       "      <th>2</th>\n",
       "      <td>CNY</td>\n",
       "      <td>Swap</td>\n",
       "      <td>InterestRate</td>\n",
       "      <td>REPO</td>\n",
       "      <td>Refinitiv</td>\n",
       "      <td>CNY REPO Swap ZC Curve</td>\n",
       "      <td>2007-02-28</td>\n",
       "      <td>cdcec3d8-6fc5-4c37-b9e4-969c8f2ae82f</td>\n",
       "      <td>Refinitiv</td>\n",
       "      <td>[7D]</td>\n",
       "      <td>[7D]</td>\n",
       "      <td>&lt;NA&gt;</td>\n",
       "    </tr>\n",
       "    <tr>\n",
       "      <th>3</th>\n",
       "      <td>CNY</td>\n",
       "      <td>Swap</td>\n",
       "      <td>InterestRate</td>\n",
       "      <td>SHIBOR</td>\n",
       "      <td>Refinitiv</td>\n",
       "      <td>CNY SHIBOR Swap ZC Curve</td>\n",
       "      <td>2007-07-03</td>\n",
       "      <td>ad8b3fd3-ae1b-4e2e-aabb-706ce0facd08</td>\n",
       "      <td>Refinitiv</td>\n",
       "      <td>[3M]</td>\n",
       "      <td>[3M]</td>\n",
       "      <td>&lt;NA&gt;</td>\n",
       "    </tr>\n",
       "    <tr>\n",
       "      <th>4</th>\n",
       "      <td>ZAR</td>\n",
       "      <td>Swap</td>\n",
       "      <td>InterestRate</td>\n",
       "      <td>JIBAR</td>\n",
       "      <td>Refinitiv</td>\n",
       "      <td>ZAR JIBAR Swap ZC Curve</td>\n",
       "      <td>2007-07-09</td>\n",
       "      <td>cddabbc7-5e83-4c01-93d7-51da53ee6f64</td>\n",
       "      <td>Refinitiv</td>\n",
       "      <td>[3M]</td>\n",
       "      <td>[3M]</td>\n",
       "      <td>&lt;NA&gt;</td>\n",
       "    </tr>\n",
       "    <tr>\n",
       "      <th>...</th>\n",
       "      <td>...</td>\n",
       "      <td>...</td>\n",
       "      <td>...</td>\n",
       "      <td>...</td>\n",
       "      <td>...</td>\n",
       "      <td>...</td>\n",
       "      <td>...</td>\n",
       "      <td>...</td>\n",
       "      <td>...</td>\n",
       "      <td>...</td>\n",
       "      <td>...</td>\n",
       "      <td>...</td>\n",
       "    </tr>\n",
       "    <tr>\n",
       "      <th>73</th>\n",
       "      <td>GBP</td>\n",
       "      <td>Swap</td>\n",
       "      <td>InterestRate</td>\n",
       "      <td>LIBOR</td>\n",
       "      <td>Refinitiv</td>\n",
       "      <td>GBP LIBOR Swap ZC Curve</td>\n",
       "      <td>2011-02-09</td>\n",
       "      <td>69348bb7-d0b3-49b3-b2b2-782ab4ad29f8</td>\n",
       "      <td>Refinitiv</td>\n",
       "      <td>[6M, 1Y, OIS, 3M, 1M]</td>\n",
       "      <td>[6M, 1Y, OIS, 3M, 1M]</td>\n",
       "      <td>&lt;NA&gt;</td>\n",
       "    </tr>\n",
       "    <tr>\n",
       "      <th>74</th>\n",
       "      <td>RUB</td>\n",
       "      <td>Swap</td>\n",
       "      <td>InterestRate</td>\n",
       "      <td>MOSPRIME</td>\n",
       "      <td>Refinitiv</td>\n",
       "      <td>RUB MOSPRIME Swap ZC Curve</td>\n",
       "      <td>2016-09-20</td>\n",
       "      <td>5fa84708-c6dc-4ffc-ba6a-352e0c31db1e</td>\n",
       "      <td>Refinitiv</td>\n",
       "      <td>[OIS, 3M]</td>\n",
       "      <td>[OIS, 3M]</td>\n",
       "      <td>&lt;NA&gt;</td>\n",
       "    </tr>\n",
       "    <tr>\n",
       "      <th>75</th>\n",
       "      <td>NZD</td>\n",
       "      <td>Swap</td>\n",
       "      <td>InterestRate</td>\n",
       "      <td>BKBM</td>\n",
       "      <td>Refinitiv</td>\n",
       "      <td>NZD BKBM Swap ZC Curve</td>\n",
       "      <td>2020-07-24</td>\n",
       "      <td>9cd49772-0f5f-4602-be33-12efa905230c</td>\n",
       "      <td>Refinitiv</td>\n",
       "      <td>[6M, OIS, 3M, 1M]</td>\n",
       "      <td>[6M, OIS, 3M, 1M]</td>\n",
       "      <td>&lt;NA&gt;</td>\n",
       "    </tr>\n",
       "    <tr>\n",
       "      <th>76</th>\n",
       "      <td>RON</td>\n",
       "      <td>Swap</td>\n",
       "      <td>InterestRate</td>\n",
       "      <td>ROBOR</td>\n",
       "      <td>Refinitiv</td>\n",
       "      <td>RON ROBOR Swap ZC Curve</td>\n",
       "      <td>2014-09-09</td>\n",
       "      <td>407ef256-fcb0-46cb-a4f8-b980e93bdbec</td>\n",
       "      <td>Refinitiv</td>\n",
       "      <td>[3M]</td>\n",
       "      <td>[3M]</td>\n",
       "      <td>&lt;NA&gt;</td>\n",
       "    </tr>\n",
       "    <tr>\n",
       "      <th>77</th>\n",
       "      <td>HKD</td>\n",
       "      <td>Swap</td>\n",
       "      <td>InterestRate</td>\n",
       "      <td>HONIA</td>\n",
       "      <td>Refinitiv</td>\n",
       "      <td>HKD HONIA Swap ZC Curve</td>\n",
       "      <td>2021-09-24</td>\n",
       "      <td>1f09e77f-d3ba-4013-870a-3f7e5675ed82</td>\n",
       "      <td>Refinitiv</td>\n",
       "      <td>[OIS]</td>\n",
       "      <td>[OIS]</td>\n",
       "      <td>&lt;NA&gt;</td>\n",
       "    </tr>\n",
       "  </tbody>\n",
       "</table>\n",
       "<p>78 rows × 12 columns</p>\n",
       "</div>"
      ],
      "text/plain": [
       "   currency mainConstituentAssetClass      riskType indexName     source  \\\n",
       "0       PKR                      Swap  InterestRate      REPO  Refinitiv   \n",
       "1       ISK                      Swap  InterestRate    REIBOR  Refinitiv   \n",
       "2       CNY                      Swap  InterestRate      REPO  Refinitiv   \n",
       "3       CNY                      Swap  InterestRate    SHIBOR  Refinitiv   \n",
       "4       ZAR                      Swap  InterestRate     JIBAR  Refinitiv   \n",
       "..      ...                       ...           ...       ...        ...   \n",
       "73      GBP                      Swap  InterestRate     LIBOR  Refinitiv   \n",
       "74      RUB                      Swap  InterestRate  MOSPRIME  Refinitiv   \n",
       "75      NZD                      Swap  InterestRate      BKBM  Refinitiv   \n",
       "76      RON                      Swap  InterestRate     ROBOR  Refinitiv   \n",
       "77      HKD                      Swap  InterestRate     HONIA  Refinitiv   \n",
       "\n",
       "                          name firstHistoricalAvailabilityDate  \\\n",
       "0       PKR REPO Swap ZC Curve                      2004-07-15   \n",
       "1     ISK REIBOR Swap ZC Curve                      2006-12-05   \n",
       "2       CNY REPO Swap ZC Curve                      2007-02-28   \n",
       "3     CNY SHIBOR Swap ZC Curve                      2007-07-03   \n",
       "4      ZAR JIBAR Swap ZC Curve                      2007-07-09   \n",
       "..                         ...                             ...   \n",
       "73     GBP LIBOR Swap ZC Curve                      2011-02-09   \n",
       "74  RUB MOSPRIME Swap ZC Curve                      2016-09-20   \n",
       "75      NZD BKBM Swap ZC Curve                      2020-07-24   \n",
       "76     RON ROBOR Swap ZC Curve                      2014-09-09   \n",
       "77     HKD HONIA Swap ZC Curve                      2021-09-24   \n",
       "\n",
       "                                      id      owner        availableTenors  \\\n",
       "0   3c49f39f-276d-478d-a0bc-17c89e577bf6  Refinitiv                   [6M]   \n",
       "1   d22031bd-0ae7-47d5-b4a0-fd79d5f8bc4e  Refinitiv                   [3M]   \n",
       "2   cdcec3d8-6fc5-4c37-b9e4-969c8f2ae82f  Refinitiv                   [7D]   \n",
       "3   ad8b3fd3-ae1b-4e2e-aabb-706ce0facd08  Refinitiv                   [3M]   \n",
       "4   cddabbc7-5e83-4c01-93d7-51da53ee6f64  Refinitiv                   [3M]   \n",
       "..                                   ...        ...                    ...   \n",
       "73  69348bb7-d0b3-49b3-b2b2-782ab4ad29f8  Refinitiv  [6M, 1Y, OIS, 3M, 1M]   \n",
       "74  5fa84708-c6dc-4ffc-ba6a-352e0c31db1e  Refinitiv              [OIS, 3M]   \n",
       "75  9cd49772-0f5f-4602-be33-12efa905230c  Refinitiv      [6M, OIS, 3M, 1M]   \n",
       "76  407ef256-fcb0-46cb-a4f8-b980e93bdbec  Refinitiv                   [3M]   \n",
       "77  1f09e77f-d3ba-4013-870a-3f7e5675ed82  Refinitiv                  [OIS]   \n",
       "\n",
       "   availableDiscountingTenors marketDataLocation  \n",
       "0                        [6M]               <NA>  \n",
       "1                        [3M]               <NA>  \n",
       "2                        [7D]               <NA>  \n",
       "3                        [3M]               <NA>  \n",
       "4                        [3M]               <NA>  \n",
       "..                        ...                ...  \n",
       "73      [6M, 1Y, OIS, 3M, 1M]               <NA>  \n",
       "74                  [OIS, 3M]               <NA>  \n",
       "75          [6M, OIS, 3M, 1M]               <NA>  \n",
       "76                       [3M]               <NA>  \n",
       "77                      [OIS]               <NA>  \n",
       "\n",
       "[78 rows x 12 columns]"
      ]
     },
     "execution_count": 4,
     "metadata": {},
     "output_type": "execute_result"
    }
   ],
   "source": [
    "response = zc_curve_definition.Definition(source=\"Refinitiv\").get_data()\n",
    "response.data.df"
   ]
  },
  {
   "cell_type": "markdown",
   "metadata": {},
   "source": [
    "## Close the session"
   ]
  },
  {
   "cell_type": "code",
   "execution_count": 5,
   "metadata": {
    "pycharm": {
     "name": "#%%\n"
    }
   },
   "outputs": [],
   "source": [
    "rd.close_session()"
   ]
  },
  {
   "cell_type": "code",
   "execution_count": null,
   "metadata": {},
   "outputs": [],
   "source": []
  }
 ],
 "metadata": {
  "kernelspec": {
   "display_name": "Python 3",
   "language": "python",
   "name": "python3"
  },
  "language_info": {
   "codemirror_mode": {
    "name": "ipython",
    "version": 3
   },
   "file_extension": ".py",
   "mimetype": "text/x-python",
   "name": "python",
   "nbconvert_exporter": "python",
   "pygments_lexer": "ipython3",
   "version": "3.7.6"
  }
 },
 "nbformat": 4,
 "nbformat_minor": 4
}
