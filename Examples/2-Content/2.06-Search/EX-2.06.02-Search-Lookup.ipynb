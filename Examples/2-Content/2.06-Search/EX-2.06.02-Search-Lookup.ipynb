{
 "cells": [
  {
   "cell_type": "markdown",
   "metadata": {},
   "source": [
    "# Refinitiv Data Library for Python"
   ]
  },
  {
   "cell_type": "markdown",
   "metadata": {},
   "source": [
    "## Content layer - Search Lookup\n",
    "This notebook demonstrates how to use the Search service of the Refinitiv Data Platform."
   ]
  },
  {
   "cell_type": "markdown",
   "metadata": {},
   "source": [
    "#### Learn more\n",
    "\n",
    "To learn more about the Refinitiv Data Library for Python please join the Refinitiv Developer Community. By [registering](https://developers.refinitiv.com/iam/register) and [logging](https://developers.refinitiv.com/content/devportal/en_us/initCookie.html) into the Refinitiv Developer Community portal you will have free access to a number of learning materials like \n",
    " [Quick Start guides](https://developers.refinitiv.com/en/api-catalog/refinitiv-data-platform/refinitiv-data-library-for-python/quick-start), \n",
    " [Tutorials](https://developers.refinitiv.com/en/api-catalog/refinitiv-data-platform/refinitiv-data-library-for-python/learning), \n",
    " [Documentation](https://developers.refinitiv.com/en/api-catalog/refinitiv-data-platform/refinitiv-data-library-for-python/docs)\n",
    " and much more.\n",
    "\n",
    "#### Getting Help and Support\n",
    "\n",
    "If you have any questions regarding using the API, please post them on \n",
    "the [Refinitiv Data Q&A Forum](https://community.developers.refinitiv.com/spaces/321/index.html). \n",
    "The Refinitiv Developer Community will be happy to help. "
   ]
  },
  {
   "cell_type": "markdown",
   "metadata": {},
   "source": [
    "## Set the configuration file location\n",
    "For a better ease of use, you have the option to set initialization parameters of the Refinitiv Data Library in the _refinitiv-data.config.json_ configuration file. This file must be located beside your notebook, in your user folder or in a folder defined by the _RD_LIB_CONFIG_PATH_ environment variable. The _RD_LIB_CONFIG_PATH_ environment variable is the option used by this series of examples. The following code sets this environment variable.      "
   ]
  },
  {
   "cell_type": "code",
   "execution_count": 1,
   "metadata": {},
   "outputs": [],
   "source": [
    "import os\n",
    "os.environ[\"RD_LIB_CONFIG_PATH\"] = \"../../../Configuration\""
   ]
  },
  {
   "cell_type": "markdown",
   "metadata": {},
   "source": [
    "## Some Imports to start with"
   ]
  },
  {
   "cell_type": "code",
   "execution_count": 2,
   "metadata": {},
   "outputs": [],
   "source": [
    "import refinitiv.data as rd\n",
    "from refinitiv.data.content import search"
   ]
  },
  {
   "cell_type": "markdown",
   "metadata": {},
   "source": [
    "## Open the data session\n",
    "\n",
    "The open_session() function creates and open sessions based on the information contained in the refinitiv-data.config.json configuration file. Please edit this file to set the session type and other parameters required for the session you want to open."
   ]
  },
  {
   "cell_type": "code",
   "execution_count": 3,
   "metadata": {},
   "outputs": [
    {
     "data": {
      "text/plain": [
       "<refinitiv.data.session.Definition object at 0x7f8bf818ecd0 {name='workspace'}>"
      ]
     },
     "execution_count": 3,
     "metadata": {},
     "output_type": "execute_result"
    }
   ],
   "source": [
    "rd.open_session()"
   ]
  },
  {
   "cell_type": "markdown",
   "metadata": {},
   "source": [
    "## Retrieve data"
   ]
  },
  {
   "cell_type": "markdown",
   "metadata": {},
   "source": [
    "### Lookup"
   ]
  },
  {
   "cell_type": "code",
   "execution_count": 4,
   "metadata": {},
   "outputs": [
    {
     "data": {
      "text/html": [
       "<div>\n",
       "<style scoped>\n",
       "    .dataframe tbody tr th:only-of-type {\n",
       "        vertical-align: middle;\n",
       "    }\n",
       "\n",
       "    .dataframe tbody tr th {\n",
       "        vertical-align: top;\n",
       "    }\n",
       "\n",
       "    .dataframe thead th {\n",
       "        text-align: right;\n",
       "    }\n",
       "</style>\n",
       "<table border=\"1\" class=\"dataframe\">\n",
       "  <thead>\n",
       "    <tr style=\"text-align: right;\">\n",
       "      <th></th>\n",
       "      <th>DocumentTitle</th>\n",
       "      <th>BusinessEntity</th>\n",
       "      <th>SEDOL</th>\n",
       "      <th>CUSIP</th>\n",
       "    </tr>\n",
       "  </thead>\n",
       "  <tbody>\n",
       "    <tr>\n",
       "      <th>MSFT.O</th>\n",
       "      <td>Microsoft Corp, Ordinary Share</td>\n",
       "      <td>INSTRUMENTxEQUITY</td>\n",
       "      <td>&lt;NA&gt;</td>\n",
       "      <td>594918104</td>\n",
       "    </tr>\n",
       "    <tr>\n",
       "      <th>AAPL.O</th>\n",
       "      <td>Apple Inc, Ordinary Share</td>\n",
       "      <td>INSTRUMENTxEQUITY</td>\n",
       "      <td>&lt;NA&gt;</td>\n",
       "      <td>037833100</td>\n",
       "    </tr>\n",
       "    <tr>\n",
       "      <th>GOOG.O</th>\n",
       "      <td>Alphabet Inc, Ordinary Share</td>\n",
       "      <td>INSTRUMENTxEQUITY</td>\n",
       "      <td>&lt;NA&gt;</td>\n",
       "      <td>02079K107</td>\n",
       "    </tr>\n",
       "    <tr>\n",
       "      <th>KBANK.BK</th>\n",
       "      <td>Kasikornbank PCL, Ordinary Share</td>\n",
       "      <td>INSTRUMENTxEQUITY</td>\n",
       "      <td>6888783</td>\n",
       "      <td>&lt;NA&gt;</td>\n",
       "    </tr>\n",
       "    <tr>\n",
       "      <th>SCC.BK</th>\n",
       "      <td>Siam Cement PCL, Ordinary Share</td>\n",
       "      <td>INSTRUMENTxEQUITY</td>\n",
       "      <td>6609917</td>\n",
       "      <td>&lt;NA&gt;</td>\n",
       "    </tr>\n",
       "  </tbody>\n",
       "</table>\n",
       "</div>"
      ],
      "text/plain": [
       "                             DocumentTitle     BusinessEntity    SEDOL  \\\n",
       "MSFT.O      Microsoft Corp, Ordinary Share  INSTRUMENTxEQUITY     <NA>   \n",
       "AAPL.O           Apple Inc, Ordinary Share  INSTRUMENTxEQUITY     <NA>   \n",
       "GOOG.O        Alphabet Inc, Ordinary Share  INSTRUMENTxEQUITY     <NA>   \n",
       "KBANK.BK  Kasikornbank PCL, Ordinary Share  INSTRUMENTxEQUITY  6888783   \n",
       "SCC.BK     Siam Cement PCL, Ordinary Share  INSTRUMENTxEQUITY  6609917   \n",
       "\n",
       "              CUSIP  \n",
       "MSFT.O    594918104  \n",
       "AAPL.O    037833100  \n",
       "GOOG.O    02079K107  \n",
       "KBANK.BK       <NA>  \n",
       "SCC.BK         <NA>  "
      ]
     },
     "execution_count": 4,
     "metadata": {},
     "output_type": "execute_result"
    }
   ],
   "source": [
    "response = search.lookup.Definition(\n",
    "    view=search.SearchViews.INSTRUMENTS,                               # Required parameter\n",
    "    scope=\"RIC\",                                                       # Required parameter\n",
    "    terms=\"MSFT.O,AAPL.O,GOOG.O,IBM.N,KBANK.BK,SCC.BK\",                # Required parameter\n",
    "    select=\"BusinessEntity,DocumentTitle,CUSIP,SEDOL\",                 # Required parameter\n",
    ").get_data()\n",
    "\n",
    "response.data.df"
   ]
  },
  {
   "cell_type": "code",
   "execution_count": 5,
   "metadata": {
    "scrolled": true
   },
   "outputs": [
    {
     "data": {
      "text/html": [
       "<div>\n",
       "<style scoped>\n",
       "    .dataframe tbody tr th:only-of-type {\n",
       "        vertical-align: middle;\n",
       "    }\n",
       "\n",
       "    .dataframe tbody tr th {\n",
       "        vertical-align: top;\n",
       "    }\n",
       "\n",
       "    .dataframe thead th {\n",
       "        text-align: right;\n",
       "    }\n",
       "</style>\n",
       "<table border=\"1\" class=\"dataframe\">\n",
       "  <thead>\n",
       "    <tr style=\"text-align: right;\">\n",
       "      <th></th>\n",
       "      <th>DocumentTitle</th>\n",
       "      <th>BusinessEntity</th>\n",
       "    </tr>\n",
       "  </thead>\n",
       "  <tbody>\n",
       "    <tr>\n",
       "      <th>A</th>\n",
       "      <td>Agilent Technologies Inc, Ordinary Share, NYSE...</td>\n",
       "      <td>QUOTExEQUITY</td>\n",
       "    </tr>\n",
       "    <tr>\n",
       "      <th>B</th>\n",
       "      <td>Barnes Group Inc, Ordinary Share, NYSE Consoli...</td>\n",
       "      <td>QUOTExEQUITY</td>\n",
       "    </tr>\n",
       "    <tr>\n",
       "      <th>C</th>\n",
       "      <td>Citigroup Inc, Ordinary Share, NYSE Consolidated</td>\n",
       "      <td>QUOTExEQUITY</td>\n",
       "    </tr>\n",
       "    <tr>\n",
       "      <th>D</th>\n",
       "      <td>Dominion Energy Inc, Ordinary Share, NYSE Cons...</td>\n",
       "      <td>QUOTExEQUITY</td>\n",
       "    </tr>\n",
       "  </tbody>\n",
       "</table>\n",
       "</div>"
      ],
      "text/plain": [
       "                                       DocumentTitle BusinessEntity\n",
       "A  Agilent Technologies Inc, Ordinary Share, NYSE...   QUOTExEQUITY\n",
       "B  Barnes Group Inc, Ordinary Share, NYSE Consoli...   QUOTExEQUITY\n",
       "C   Citigroup Inc, Ordinary Share, NYSE Consolidated   QUOTExEQUITY\n",
       "D  Dominion Energy Inc, Ordinary Share, NYSE Cons...   QUOTExEQUITY"
      ]
     },
     "execution_count": 5,
     "metadata": {},
     "output_type": "execute_result"
    }
   ],
   "source": [
    "response = search.lookup.Definition(\n",
    "    view=search.SearchViews.SEARCH_ALL,                              # Required parameter\n",
    "    scope=\"RIC\",                                                     # Required parameter\n",
    "    terms=\"A,B,NOSUCHRIC,C,D\",                                       # Required parameter\n",
    "    select=\"BusinessEntity,DocumentTitle\",                           # Required parameter\n",
    ").get_data()\n",
    "\n",
    "response.data.df"
   ]
  },
  {
   "cell_type": "markdown",
   "metadata": {},
   "source": [
    "## Close the session"
   ]
  },
  {
   "cell_type": "code",
   "execution_count": 6,
   "metadata": {},
   "outputs": [],
   "source": [
    "rd.close_session()"
   ]
  },
  {
   "cell_type": "code",
   "execution_count": null,
   "metadata": {},
   "outputs": [],
   "source": []
  }
 ],
 "metadata": {
  "kernelspec": {
   "display_name": "Python 3",
   "language": "python",
   "name": "python3"
  },
  "language_info": {
   "codemirror_mode": {
    "name": "ipython",
    "version": 3
   },
   "file_extension": ".py",
   "mimetype": "text/x-python",
   "name": "python",
   "nbconvert_exporter": "python",
   "pygments_lexer": "ipython3",
   "version": "3.7.6"
  }
 },
 "nbformat": 4,
 "nbformat_minor": 4
}
