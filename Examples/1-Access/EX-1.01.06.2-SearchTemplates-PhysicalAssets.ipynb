{
 "cells": [
  {
   "cell_type": "markdown",
   "id": "c5b30ef8-32e8-4422-a8c2-ba4daa1c1466",
   "metadata": {},
   "source": [
    "----\n",
    "<img src=\"../../files/refinitiv.png\" width=\"20%\" style=\"vertical-align: top;\">\n",
    "\n",
    "# Data Library for Python\n",
    "\n",
    "----"
   ]
  },
  {
   "cell_type": "markdown",
   "id": "39e8ef94-7bca-43d7-945a-f883bdfd4622",
   "metadata": {
    "tags": []
   },
   "source": [
    "## Access layer - Search templates examples - Physical Assets Search\n",
    "\n",
    "This notebook illustrates the Search Template functionality of the Refinitiv Data Library. The \"Mines\" and \"VesselsBoundFor\" templates shown here are template examples that you can modify and adapt to your needs. They are defined in the \"search-templates.config.json\" configuration file. Below is a brief description of the parameters you can use for each template definition."
   ]
  },
  {
   "cell_type": "markdown",
   "id": "0eb115d7-2c74-401a-890e-1abc71275e72",
   "metadata": {
    "tags": []
   },
   "source": [
    "Search templates are defined using the following JSON structure:\n",
    "    - **description** (string): Description of the template.\n",
    "    - **parameters** (object): Parameters of the template. These parameters can be used as placeholders in the request_body of the template and as named parameters of the search() method of the template. Each parameter has a name, a description, and an optional default value.\n",
    "    - **request_body** (object): Body of the request sent to the Search REST API. This request body can include template parameters surrounded by '#{' and '}' (for example:  “#{my_param}”). More details on the structure of the request body can be found in the [Search API reference guide](https://apidocs.refinitiv.com/Apps/ApiDocs#/details/L2Rpc2NvdmVyeS9zZWFyY2gvdjE=/Lw==/POST/README) (access to this guide requires a Refinitiv Workspace account or RDP account to log in).\n",
    "  \n",
    "**Template example:**\n",
    "  \n",
    "```json\n",
    "\"MyTemplate\": {\n",
    "    \"description\": \"Search template example.\",\n",
    "    \"parameters\": {\n",
    "        \"name\": {\n",
    "            \"description\": \"Name of the person to search for.\",\n",
    "            \"default\": \"Edison\"\n",
    "        }\n",
    "    },\n",
    "    \"request_body\": {\n",
    "       \"Query\": \"#{name}\",\n",
    "       \"View\":\"People\",\n",
    "       \"Top\":10\n",
    "    }\n",
    "} \n",
    "```  \n",
    "\n",
    "**Example of usage:**\n",
    "\n",
    "```  \n",
    "rd.discovery.search_templates[\"MyTemplate\"].search(name=\"Pasteur\")\n",
    "```  \n",
    "  "
   ]
  },
  {
   "cell_type": "markdown",
   "id": "4ab0a65a-f510-4171-879b-06026af5cd4c",
   "metadata": {},
   "source": [
    "#### Learn more\n",
    "\n",
    "To learn more about the Refinitiv Data Library for Python please join the Refinitiv Developer Community. By [registering](https://developers.refinitiv.com/iam/register) and [logging](https://developers.refinitiv.com/content/devportal/en_us/initCookie.html) into the Refinitiv Developer Community portal you will have free access to a number of learning materials like \n",
    " [Quick Start guides](https://developers.refinitiv.com/en/api-catalog/refinitiv-data-platform/refinitiv-data-library-for-python/quick-start), \n",
    " [Tutorials](https://developers.refinitiv.com/en/api-catalog/refinitiv-data-platform/refinitiv-data-library-for-python/learning), \n",
    " [Documentation](https://developers.refinitiv.com/en/api-catalog/refinitiv-data-platform/refinitiv-data-library-for-python/docs)\n",
    " and much more.\n",
    "\n",
    "#### Getting Help and Support\n",
    "\n",
    "If you have any questions regarding using the API, please post them on \n",
    "the [Refinitiv Data Q&A Forum](https://community.developers.refinitiv.com/spaces/321/index.html). \n",
    "The Refinitiv Developer Community will be happy to help. "
   ]
  },
  {
   "cell_type": "markdown",
   "id": "aed98a52-aa48-40e6-b24a-cac10621063c",
   "metadata": {},
   "source": [
    "## Set the configuration file location\n",
    "For a better ease of use, you have the option to set initialization parameters of the Refinitiv Data Library in the _refinitiv-data.config.json_ configuration file. This file must be located beside your notebook, in your user folder or in a folder defined by the _RD_LIB_CONFIG_PATH_ environment variable. The _RD_LIB_CONFIG_PATH_ environment variable is the option used by this series of examples. The following code sets this environment variable.      "
   ]
  },
  {
   "cell_type": "code",
   "execution_count": null,
   "id": "87b64fb5-c161-4551-8424-1284b1154d15",
   "metadata": {},
   "outputs": [],
   "source": [
    "import os\n",
    "os.environ[\"RD_LIB_CONFIG_PATH\"] = \"../../../Configuration\""
   ]
  },
  {
   "cell_type": "markdown",
   "id": "018d3917-d879-4651-961f-067e47ec1f2f",
   "metadata": {},
   "source": [
    "## Some Imports to start with"
   ]
  },
  {
   "cell_type": "code",
   "execution_count": 1,
   "id": "72e9936a-da3c-439f-a4c7-4a86c017581a",
   "metadata": {},
   "outputs": [],
   "source": [
    "import refinitiv.data as rd\n",
    "from physical_assets_map import PhysicalAssetsMap"
   ]
  },
  {
   "cell_type": "markdown",
   "id": "9a4038d0-89fa-46e2-93aa-513e04a8643e",
   "metadata": {},
   "source": [
    "## Open the data session\n",
    "\n",
    "The open_session() function creates and open sessions based on the information contained in the refinitiv-data.config.json configuration file. Please edit this file to set the session type and other parameters required for the session you want to open."
   ]
  },
  {
   "cell_type": "code",
   "execution_count": 2,
   "id": "9807577a-b58e-449a-863d-cff7b55050c5",
   "metadata": {},
   "outputs": [
    {
     "data": {
      "text/plain": [
       "<refinitiv.data.session.Definition object at 0x7fe6f05ac880 {name='workspace'}>"
      ]
     },
     "execution_count": 2,
     "metadata": {},
     "output_type": "execute_result"
    }
   ],
   "source": [
    "rd.open_session()"
   ]
  },
  {
   "cell_type": "markdown",
   "id": "8483d5d5-c4d2-41e0-831d-8141788ac740",
   "metadata": {},
   "source": [
    "## Load the search templates configuration file"
   ]
  },
  {
   "cell_type": "code",
   "execution_count": 3,
   "id": "5cd7d982-ac37-43e5-a420-09246c0e74df",
   "metadata": {
    "tags": []
   },
   "outputs": [
    {
     "data": {
      "text/plain": [
       "<ConfigurationSet: 0x7fe6ecb22a30>"
      ]
     },
     "execution_count": 3,
     "metadata": {},
     "output_type": "execute_result"
    }
   ],
   "source": [
    "rd.load_config(\"search-templates.config.json\")"
   ]
  },
  {
   "cell_type": "markdown",
   "id": "9e4763b3-8258-4b30-bb35-2169c0beac6d",
   "metadata": {},
   "source": [
    "## Mines Search Template example"
   ]
  },
  {
   "cell_type": "markdown",
   "id": "3304dcdd-c4c9-4c5f-b8fe-ebd5312a7ee3",
   "metadata": {},
   "source": [
    "### Access the template"
   ]
  },
  {
   "cell_type": "code",
   "execution_count": 4,
   "id": "4213c4fd",
   "metadata": {},
   "outputs": [],
   "source": [
    "mines = rd.discovery.search_templates[\"Mines\"]"
   ]
  },
  {
   "cell_type": "markdown",
   "id": "932cbe35-96b4-47f4-a311-f5e5399dbea8",
   "metadata": {
    "tags": []
   },
   "source": [
    "### Get help about this template"
   ]
  },
  {
   "cell_type": "code",
   "execution_count": 5,
   "id": "ff38bf27",
   "metadata": {},
   "outputs": [
    {
     "name": "stdout",
     "output_type": "stream",
     "text": [
      "Help on SearchTemplate in module refinitiv.data.discovery._search_templates:\n",
      "\n",
      "<SearchTemplate 'Mines'>\n",
      "    Find coordinates of mines in a region.\n",
      "    \n",
      "    Methods\n",
      "    -------\n",
      "    search\n",
      "        commodity\n",
      "            Commodity extracted from the mine. For example: 'Gold', 'Nickel', 'Zinc', 'Cooper', 'Palladium', 'Lead', etc.\n",
      "            default: 'Gold'\n",
      "    \n",
      "        region\n",
      "            Region to search in. For example: 'Botswana', 'Brazil', 'Canada', 'Chile', 'Costa Rica', 'Cuba', 'United States', 'Guyana', 'Peru', 'South Africa', etc\n",
      "            default: 'South Africa'\n",
      "\n"
     ]
    }
   ],
   "source": [
    "help(mines)"
   ]
  },
  {
   "cell_type": "markdown",
   "id": "5bb0c4b9-072f-47fc-a5f7-182a39b5cf5b",
   "metadata": {
    "tags": []
   },
   "source": [
    "### Use the predefined parameters of the template to search for gold mines in south Africa"
   ]
  },
  {
   "cell_type": "code",
   "execution_count": 6,
   "id": "632a8500-bf51-4c39-8d83-360d9c6500aa",
   "metadata": {},
   "outputs": [
    {
     "data": {
      "application/vnd.jupyter.widget-view+json": {
       "model_id": "76547c81a18a4f4ebe2e98964df6d18b",
       "version_major": 2,
       "version_minor": 0
      },
      "text/plain": [
       "Map(center=[-26.416700363159, 27.666700363159], controls=(ZoomControl(options=['position', 'zoom_in_text', 'zo…"
      ]
     },
     "metadata": {},
     "output_type": "display_data"
    },
    {
     "data": {
      "text/html": [
       "<div>\n",
       "<style scoped>\n",
       "    .dataframe tbody tr th:only-of-type {\n",
       "        vertical-align: middle;\n",
       "    }\n",
       "\n",
       "    .dataframe tbody tr th {\n",
       "        vertical-align: top;\n",
       "    }\n",
       "\n",
       "    .dataframe thead th {\n",
       "        text-align: right;\n",
       "    }\n",
       "</style>\n",
       "<table border=\"1\" class=\"dataframe\">\n",
       "  <thead>\n",
       "    <tr style=\"text-align: right;\">\n",
       "      <th></th>\n",
       "      <th>RIC</th>\n",
       "      <th>DTSubjectName</th>\n",
       "      <th>Latitude</th>\n",
       "      <th>Longitude</th>\n",
       "      <th>PhysicalAssetStatus</th>\n",
       "    </tr>\n",
       "  </thead>\n",
       "  <tbody>\n",
       "    <tr>\n",
       "      <th>0</th>\n",
       "      <td>C}PX7309413492</td>\n",
       "      <td>South Deep</td>\n",
       "      <td>-26.4167</td>\n",
       "      <td>27.6667</td>\n",
       "      <td>Normal Operation</td>\n",
       "    </tr>\n",
       "    <tr>\n",
       "      <th>1</th>\n",
       "      <td>C}PX7309413493</td>\n",
       "      <td>Target</td>\n",
       "      <td>-27.76</td>\n",
       "      <td>26.629999</td>\n",
       "      <td>Normal Operation</td>\n",
       "    </tr>\n",
       "    <tr>\n",
       "      <th>2</th>\n",
       "      <td>C}PX7309413494</td>\n",
       "      <td>Tshepong</td>\n",
       "      <td>-27.866699</td>\n",
       "      <td>26.6833</td>\n",
       "      <td>Normal Operation</td>\n",
       "    </tr>\n",
       "    <tr>\n",
       "      <th>3</th>\n",
       "      <td>C}PX7309413495</td>\n",
       "      <td>Tau Lekoa</td>\n",
       "      <td>-27.0</td>\n",
       "      <td>26.613001</td>\n",
       "      <td>Normal Operation</td>\n",
       "    </tr>\n",
       "    <tr>\n",
       "      <th>4</th>\n",
       "      <td>C}PX7309413496</td>\n",
       "      <td>Kopanang</td>\n",
       "      <td>-26.98</td>\n",
       "      <td>26.745001</td>\n",
       "      <td>Normal Operation</td>\n",
       "    </tr>\n",
       "    <tr>\n",
       "      <th>...</th>\n",
       "      <td>...</td>\n",
       "      <td>...</td>\n",
       "      <td>...</td>\n",
       "      <td>...</td>\n",
       "      <td>...</td>\n",
       "    </tr>\n",
       "    <tr>\n",
       "      <th>87</th>\n",
       "      <td>C}PX7310050420</td>\n",
       "      <td>Mispah</td>\n",
       "      <td>-26.996561</td>\n",
       "      <td>26.785402</td>\n",
       "      <td>Prefeasibility</td>\n",
       "    </tr>\n",
       "    <tr>\n",
       "      <th>88</th>\n",
       "      <td>C}PX7310050444</td>\n",
       "      <td>Bloemhoek</td>\n",
       "      <td>-27.534979</td>\n",
       "      <td>27.196499</td>\n",
       "      <td>Feasibility</td>\n",
       "    </tr>\n",
       "    <tr>\n",
       "      <th>89</th>\n",
       "      <td>C}PX7310050445</td>\n",
       "      <td>De Bron Merriespruit</td>\n",
       "      <td>-27.571728</td>\n",
       "      <td>27.19503</td>\n",
       "      <td>Feasibility</td>\n",
       "    </tr>\n",
       "    <tr>\n",
       "      <th>90</th>\n",
       "      <td>C}PX7310050461</td>\n",
       "      <td>Moab MOD</td>\n",
       "      <td>-26.989622</td>\n",
       "      <td>26.802376</td>\n",
       "      <td>Normal Operation</td>\n",
       "    </tr>\n",
       "    <tr>\n",
       "      <th>91</th>\n",
       "      <td>C}PX7310054031</td>\n",
       "      <td>Far West Gold Recoveries (FWGR)</td>\n",
       "      <td>-26.389465</td>\n",
       "      <td>27.360319</td>\n",
       "      <td>Normal Operation</td>\n",
       "    </tr>\n",
       "  </tbody>\n",
       "</table>\n",
       "<p>92 rows × 5 columns</p>\n",
       "</div>"
      ],
      "text/plain": [
       "               RIC                    DTSubjectName   Latitude  Longitude  \\\n",
       "0   C}PX7309413492                       South Deep   -26.4167    27.6667   \n",
       "1   C}PX7309413493                           Target     -27.76  26.629999   \n",
       "2   C}PX7309413494                         Tshepong -27.866699    26.6833   \n",
       "3   C}PX7309413495                        Tau Lekoa      -27.0  26.613001   \n",
       "4   C}PX7309413496                         Kopanang     -26.98  26.745001   \n",
       "..             ...                              ...        ...        ...   \n",
       "87  C}PX7310050420                           Mispah -26.996561  26.785402   \n",
       "88  C}PX7310050444                        Bloemhoek -27.534979  27.196499   \n",
       "89  C}PX7310050445             De Bron Merriespruit -27.571728   27.19503   \n",
       "90  C}PX7310050461                         Moab MOD -26.989622  26.802376   \n",
       "91  C}PX7310054031  Far West Gold Recoveries (FWGR) -26.389465  27.360319   \n",
       "\n",
       "   PhysicalAssetStatus  \n",
       "0     Normal Operation  \n",
       "1     Normal Operation  \n",
       "2     Normal Operation  \n",
       "3     Normal Operation  \n",
       "4     Normal Operation  \n",
       "..                 ...  \n",
       "87      Prefeasibility  \n",
       "88         Feasibility  \n",
       "89         Feasibility  \n",
       "90    Normal Operation  \n",
       "91    Normal Operation  \n",
       "\n",
       "[92 rows x 5 columns]"
      ]
     },
     "metadata": {},
     "output_type": "display_data"
    }
   ],
   "source": [
    "mines_coordinates = mines.search(commodity=\"Gold\", region=\"South Africa\")\n",
    "\n",
    "PhysicalAssetsMap().plot(mines_coordinates).show()\n",
    "display(mines_coordinates)"
   ]
  },
  {
   "cell_type": "markdown",
   "id": "c43add9f-dc22-4309-bbc4-1f030cfcea99",
   "metadata": {},
   "source": [
    "## VesselsBoundFor Search Template example"
   ]
  },
  {
   "cell_type": "markdown",
   "id": "2b426576-4679-4bf9-bf9e-caaf71e39455",
   "metadata": {},
   "source": [
    "### Access the template"
   ]
  },
  {
   "cell_type": "code",
   "execution_count": 7,
   "id": "236edd44-4a3d-41c5-8850-f4e69af95e75",
   "metadata": {},
   "outputs": [],
   "source": [
    "vessels = rd.discovery.search_templates[\"VesselsBoundFor\"]"
   ]
  },
  {
   "cell_type": "markdown",
   "id": "c5cab7bf-5759-415f-9d85-4954e1c867eb",
   "metadata": {
    "tags": []
   },
   "source": [
    "### Get help about this template"
   ]
  },
  {
   "cell_type": "code",
   "execution_count": 8,
   "id": "1a03cf21-4a98-441a-baa6-f00e1dbe744b",
   "metadata": {},
   "outputs": [
    {
     "name": "stdout",
     "output_type": "stream",
     "text": [
      "Help on SearchTemplate in module refinitiv.data.discovery._search_templates:\n",
      "\n",
      "<SearchTemplate 'VesselsBoundFor'>\n",
      "    Search for vessels heading to a destination.\n",
      "    \n",
      "    Methods\n",
      "    -------\n",
      "    search\n",
      "        destination\n",
      "            Vessel's destination\n",
      "            default: 'Le Havre'\n",
      "\n"
     ]
    }
   ],
   "source": [
    "help(vessels)"
   ]
  },
  {
   "cell_type": "markdown",
   "id": "b4a54bbb-7a0f-42d3-925b-db93e3ab5e88",
   "metadata": {
    "tags": []
   },
   "source": [
    "### Use the predefined parameters of the template to search for vessels heading to Le Havre"
   ]
  },
  {
   "cell_type": "code",
   "execution_count": 9,
   "id": "d67bdfb3-8559-4bc0-908c-5fb1fd38d6a4",
   "metadata": {},
   "outputs": [
    {
     "data": {
      "application/vnd.jupyter.widget-view+json": {
       "model_id": "c5ceda5aace84dcca989eb416934f973",
       "version_major": 2,
       "version_minor": 0
      },
      "text/plain": [
       "Map(center=[49.580833435059, -0.27009832859], controls=(ZoomControl(options=['position', 'zoom_in_text', 'zoom…"
      ]
     },
     "metadata": {},
     "output_type": "display_data"
    },
    {
     "data": {
      "text/html": [
       "<div>\n",
       "<style scoped>\n",
       "    .dataframe tbody tr th:only-of-type {\n",
       "        vertical-align: middle;\n",
       "    }\n",
       "\n",
       "    .dataframe tbody tr th {\n",
       "        vertical-align: top;\n",
       "    }\n",
       "\n",
       "    .dataframe thead th {\n",
       "        text-align: right;\n",
       "    }\n",
       "</style>\n",
       "<table border=\"1\" class=\"dataframe\">\n",
       "  <thead>\n",
       "    <tr style=\"text-align: right;\">\n",
       "      <th></th>\n",
       "      <th>RIC</th>\n",
       "      <th>DTSubjectName</th>\n",
       "      <th>DTSimpleType</th>\n",
       "      <th>Latitude</th>\n",
       "      <th>Longitude</th>\n",
       "      <th>AISStatus</th>\n",
       "      <th>GrossTonnage</th>\n",
       "    </tr>\n",
       "  </thead>\n",
       "  <tbody>\n",
       "    <tr>\n",
       "      <th>0</th>\n",
       "      <td>C}KV7309502197</td>\n",
       "      <td>OLYMPIC LEOPARD</td>\n",
       "      <td>VLCC</td>\n",
       "      <td>49.580833</td>\n",
       "      <td>-0.270098</td>\n",
       "      <td>At Anchor</td>\n",
       "      <td>170611.0</td>\n",
       "    </tr>\n",
       "    <tr>\n",
       "      <th>1</th>\n",
       "      <td>C}KV7309957461</td>\n",
       "      <td>EAGLE VALLERY</td>\n",
       "      <td>VLCC</td>\n",
       "      <td>49.75919</td>\n",
       "      <td>-0.227743</td>\n",
       "      <td>At Anchor</td>\n",
       "      <td>158244.0</td>\n",
       "    </tr>\n",
       "    <tr>\n",
       "      <th>2</th>\n",
       "      <td>C}CC7309501973</td>\n",
       "      <td>MSC LAURENCE</td>\n",
       "      <td>Container</td>\n",
       "      <td>49.244526</td>\n",
       "      <td>-4.344807</td>\n",
       "      <td>Underway Using Engine</td>\n",
       "      <td>140096.0</td>\n",
       "    </tr>\n",
       "    <tr>\n",
       "      <th>3</th>\n",
       "      <td>C}CC7309695199</td>\n",
       "      <td>MSC ELODIE</td>\n",
       "      <td>Container</td>\n",
       "      <td>49.765675</td>\n",
       "      <td>-4.072597</td>\n",
       "      <td>Underway Using Engine</td>\n",
       "      <td>95403.0</td>\n",
       "    </tr>\n",
       "    <tr>\n",
       "      <th>4</th>\n",
       "      <td>C}CC7309500560</td>\n",
       "      <td>NORTHERN JUBILEE</td>\n",
       "      <td>Container</td>\n",
       "      <td>49.601742</td>\n",
       "      <td>-0.276777</td>\n",
       "      <td>At Anchor</td>\n",
       "      <td>94419.0</td>\n",
       "    </tr>\n",
       "    <tr>\n",
       "      <th>...</th>\n",
       "      <td>...</td>\n",
       "      <td>...</td>\n",
       "      <td>...</td>\n",
       "      <td>...</td>\n",
       "      <td>...</td>\n",
       "      <td>...</td>\n",
       "      <td>...</td>\n",
       "    </tr>\n",
       "    <tr>\n",
       "      <th>64</th>\n",
       "      <td>C}VX7309985382</td>\n",
       "      <td>FV PARTI DE RIEN</td>\n",
       "      <td>Other Miscellaneous</td>\n",
       "      <td>50.724537</td>\n",
       "      <td>1.585865</td>\n",
       "      <td>Underway Using Engine</td>\n",
       "      <td>&lt;NA&gt;</td>\n",
       "    </tr>\n",
       "    <tr>\n",
       "      <th>65</th>\n",
       "      <td>C}BT7309985659</td>\n",
       "      <td>ROUEN BEN0</td>\n",
       "      <td>Other Dry</td>\n",
       "      <td>49.48555</td>\n",
       "      <td>0.114852</td>\n",
       "      <td>Underway Using Engine</td>\n",
       "      <td>&lt;NA&gt;</td>\n",
       "    </tr>\n",
       "    <tr>\n",
       "      <th>66</th>\n",
       "      <td>C}VX7309986488</td>\n",
       "      <td>FV LOCEAN</td>\n",
       "      <td>Other Miscellaneous</td>\n",
       "      <td>50.400105</td>\n",
       "      <td>0.308875</td>\n",
       "      <td>Engaged In Fishing</td>\n",
       "      <td>&lt;NA&gt;</td>\n",
       "    </tr>\n",
       "    <tr>\n",
       "      <th>67</th>\n",
       "      <td>C}VX7310029866</td>\n",
       "      <td>MA VICTOIRE</td>\n",
       "      <td>Other Miscellaneous</td>\n",
       "      <td>50.643097</td>\n",
       "      <td>1.29945</td>\n",
       "      <td>Engaged In Fishing</td>\n",
       "      <td>&lt;NA&gt;</td>\n",
       "    </tr>\n",
       "    <tr>\n",
       "      <th>68</th>\n",
       "      <td>C}VX7310029871</td>\n",
       "      <td>FV MALOU</td>\n",
       "      <td>Other Miscellaneous</td>\n",
       "      <td>49.364449</td>\n",
       "      <td>0.08031</td>\n",
       "      <td>Underway Using Engine</td>\n",
       "      <td>&lt;NA&gt;</td>\n",
       "    </tr>\n",
       "  </tbody>\n",
       "</table>\n",
       "<p>69 rows × 7 columns</p>\n",
       "</div>"
      ],
      "text/plain": [
       "               RIC     DTSubjectName         DTSimpleType   Latitude  \\\n",
       "0   C}KV7309502197   OLYMPIC LEOPARD                 VLCC  49.580833   \n",
       "1   C}KV7309957461     EAGLE VALLERY                 VLCC   49.75919   \n",
       "2   C}CC7309501973      MSC LAURENCE            Container  49.244526   \n",
       "3   C}CC7309695199        MSC ELODIE            Container  49.765675   \n",
       "4   C}CC7309500560  NORTHERN JUBILEE            Container  49.601742   \n",
       "..             ...               ...                  ...        ...   \n",
       "64  C}VX7309985382  FV PARTI DE RIEN  Other Miscellaneous  50.724537   \n",
       "65  C}BT7309985659        ROUEN BEN0            Other Dry   49.48555   \n",
       "66  C}VX7309986488         FV LOCEAN  Other Miscellaneous  50.400105   \n",
       "67  C}VX7310029866       MA VICTOIRE  Other Miscellaneous  50.643097   \n",
       "68  C}VX7310029871          FV MALOU  Other Miscellaneous  49.364449   \n",
       "\n",
       "   Longitude              AISStatus GrossTonnage  \n",
       "0  -0.270098              At Anchor     170611.0  \n",
       "1  -0.227743              At Anchor     158244.0  \n",
       "2  -4.344807  Underway Using Engine     140096.0  \n",
       "3  -4.072597  Underway Using Engine      95403.0  \n",
       "4  -0.276777              At Anchor      94419.0  \n",
       "..       ...                    ...          ...  \n",
       "64  1.585865  Underway Using Engine         <NA>  \n",
       "65  0.114852  Underway Using Engine         <NA>  \n",
       "66  0.308875     Engaged In Fishing         <NA>  \n",
       "67   1.29945     Engaged In Fishing         <NA>  \n",
       "68   0.08031  Underway Using Engine         <NA>  \n",
       "\n",
       "[69 rows x 7 columns]"
      ]
     },
     "metadata": {},
     "output_type": "display_data"
    }
   ],
   "source": [
    "vessels_coordinates = vessels.search(destination=\"Le Havre\")\n",
    "\n",
    "PhysicalAssetsMap().plot(vessels_coordinates).show()\n",
    "display(vessels_coordinates)"
   ]
  },
  {
   "cell_type": "markdown",
   "id": "3374548d-a4dd-4210-9635-3e4aa4a884a7",
   "metadata": {},
   "source": [
    "## Close the session"
   ]
  },
  {
   "cell_type": "code",
   "execution_count": 10,
   "id": "1dc09a74-816f-4229-8d47-4a49573a2668",
   "metadata": {
    "tags": []
   },
   "outputs": [],
   "source": [
    "rd.close_session()"
   ]
  },
  {
   "cell_type": "code",
   "execution_count": null,
   "id": "9cd3e0fe-bd42-4838-b3ec-a45f26e75943",
   "metadata": {},
   "outputs": [],
   "source": []
  }
 ],
 "metadata": {
  "kernelspec": {
   "display_name": "Python 3 (ipykernel)",
   "language": "python",
   "name": "python3"
  },
  "language_info": {
   "codemirror_mode": {
    "name": "ipython",
    "version": 3
   },
   "file_extension": ".py",
   "mimetype": "text/x-python",
   "name": "python",
   "nbconvert_exporter": "python",
   "pygments_lexer": "ipython3",
   "version": "3.9.7"
  }
 },
 "nbformat": 4,
 "nbformat_minor": 5
}
