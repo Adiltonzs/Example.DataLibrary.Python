{
 "cells": [
  {
   "cell_type": "markdown",
   "metadata": {},
   "source": [
    "----\n",
    "<img src=\"../../files/refinitiv.png\" width=\"20%\" style=\"vertical-align: top;\">\n",
    "\n",
    "# Data Library for Python\n",
    "\n",
    "----"
   ]
  },
  {
   "cell_type": "markdown",
   "metadata": {},
   "source": [
    "## Access layer - Get data\n",
    "This notebook demonstrates how to retrieve Pricing snapshots and Fundamental & Reference data using the get_data() function."
   ]
  },
  {
   "cell_type": "markdown",
   "metadata": {},
   "source": [
    "#### About the get_data function\n",
    "The get_data() function allows you to retrieve pricing snapshots as well as Fundamental & Reference data via a single function call.\n",
    "\n",
    "\n",
    "***get_data()*** parameters: \n",
    "- ***universe***: Single instrument or list of instruments to request\n",
    "    - Type: String or list\n",
    "    - Optionnal: No  \n",
    "- ***fields***: Single field or list of fields to request\n",
    "    - Type: String or list\n",
    "    - Optionnal: Yes  \n",
    "- ***parameters***: Additional parameters specific applied to Fundamental & Reference fields (a.k.a. \"TR.\" fields)\n",
    "    - Type: Dictionary\n",
    "    - Optionnal: Yes  \n",
    "    \n",
    "**get_data()** returns a pandas.DataFrame with fields in columns and instruments as row index.  \n",
    "It raises exceptions on error and when no data is available"
   ]
  },
  {
   "cell_type": "markdown",
   "metadata": {},
   "source": [
    "#### Learn more\n",
    "\n",
    "To learn more about the Refinitiv Data Library for Python please join the Refinitiv Developer Community. By [registering](https://developers.refinitiv.com/iam/register) and [logging](https://developers.refinitiv.com/content/devportal/en_us/initCookie.html) into the Refinitiv Developer Community portal you will have free access to a number of learning materials like \n",
    " [Quick Start guides](https://developers.refinitiv.com/en/api-catalog/refinitiv-data-platform/refinitiv-data-library-for-python/quick-start), \n",
    " [Tutorials](https://developers.refinitiv.com/en/api-catalog/refinitiv-data-platform/refinitiv-data-library-for-python/learning), \n",
    " [Documentation](https://developers.refinitiv.com/en/api-catalog/refinitiv-data-platform/refinitiv-data-library-for-python/docs)\n",
    " and much more.\n",
    "\n",
    "#### Getting Help and Support\n",
    "\n",
    "If you have any questions regarding using the API, please post them on \n",
    "the [Refinitiv Data Q&A Forum](https://community.developers.refinitiv.com/spaces/321/index.html). \n",
    "The Refinitiv Developer Community will be happy to help. \n",
    "\n",
    "----"
   ]
  },
  {
   "cell_type": "markdown",
   "metadata": {},
   "source": [
    "## Set the configuration file location\n",
    "For a better ease of use, you have the option to set initialization parameters of the Refinitiv Data Library in the _refinitiv-data.config.json_ configuration file. This file must be located beside your notebook, in your user folder or in a folder defined by the _RD_LIB_CONFIG_PATH_ environment variable. The _RD_LIB_CONFIG_PATH_ environment variable is the option used by this series of examples. The following code sets this environment variable.      "
   ]
  },
  {
   "cell_type": "code",
   "execution_count": 1,
   "metadata": {},
   "outputs": [],
   "source": [
    "import os\n",
    "os.environ[\"RD_LIB_CONFIG_PATH\"] = \"../../Configuration\""
   ]
  },
  {
   "cell_type": "markdown",
   "metadata": {},
   "source": [
    "## Some Imports to start with"
   ]
  },
  {
   "cell_type": "code",
   "execution_count": 2,
   "metadata": {},
   "outputs": [],
   "source": [
    "import refinitiv.data as rd"
   ]
  },
  {
   "cell_type": "markdown",
   "metadata": {},
   "source": [
    "## Open the data session\n",
    "\n",
    "The open_session() function creates and open sessions based on the information contained in the refinitiv-data.config.json configuration file. Please edit this file to set the session type and other parameters required for the session you want to open."
   ]
  },
  {
   "cell_type": "code",
   "execution_count": 3,
   "metadata": {},
   "outputs": [
    {
     "data": {
      "text/plain": [
       "<refinitiv.data.session.Definition object at 0x7fdefb29fc50 {name='workspace'}>"
      ]
     },
     "execution_count": 3,
     "metadata": {},
     "output_type": "execute_result"
    }
   ],
   "source": [
    "rd.open_session()"
   ]
  },
  {
   "cell_type": "markdown",
   "metadata": {},
   "source": [
    "## Retrieve data"
   ]
  },
  {
   "cell_type": "markdown",
   "metadata": {},
   "source": [
    "### Pricing snapshots"
   ]
  },
  {
   "cell_type": "code",
   "execution_count": 4,
   "metadata": {},
   "outputs": [
    {
     "data": {
      "text/html": [
       "<div>\n",
       "<style scoped>\n",
       "    .dataframe tbody tr th:only-of-type {\n",
       "        vertical-align: middle;\n",
       "    }\n",
       "\n",
       "    .dataframe tbody tr th {\n",
       "        vertical-align: top;\n",
       "    }\n",
       "\n",
       "    .dataframe thead th {\n",
       "        text-align: right;\n",
       "    }\n",
       "</style>\n",
       "<table border=\"1\" class=\"dataframe\">\n",
       "  <thead>\n",
       "    <tr style=\"text-align: right;\">\n",
       "      <th></th>\n",
       "      <th>Instrument</th>\n",
       "      <th>SEE_RIC</th>\n",
       "      <th>ASK_TIM_NS</th>\n",
       "      <th>ACT_FLAG5</th>\n",
       "      <th>CRS_SEQNO</th>\n",
       "      <th>QUOTIM_MS</th>\n",
       "      <th>HLT_RSM_NS</th>\n",
       "      <th>GEN_VAL10</th>\n",
       "      <th>IRGPRC</th>\n",
       "      <th>HLT_RSM_MS</th>\n",
       "      <th>...</th>\n",
       "      <th>OF_NUM_MOV</th>\n",
       "      <th>TOT_MOVES</th>\n",
       "      <th>IMB_ACT_TP</th>\n",
       "      <th>LIST_DATE</th>\n",
       "      <th>OFFBK_HIGH</th>\n",
       "      <th>OFF_CD_IN2</th>\n",
       "      <th>BLKTIM_NS</th>\n",
       "      <th>HALT_RSN</th>\n",
       "      <th>PROV_SYMB</th>\n",
       "      <th>CAN_PRC</th>\n",
       "    </tr>\n",
       "  </thead>\n",
       "  <tbody>\n",
       "    <tr>\n",
       "      <th>0</th>\n",
       "      <td>LSEG.L</td>\n",
       "      <td>None</td>\n",
       "      <td>14:39:41.762</td>\n",
       "      <td>A</td>\n",
       "      <td>None</td>\n",
       "      <td>52781762</td>\n",
       "      <td>08:20:00.015</td>\n",
       "      <td>88.11</td>\n",
       "      <td>&lt;NA&gt;</td>\n",
       "      <td>08:20:00.015</td>\n",
       "      <td>...</td>\n",
       "      <td>158</td>\n",
       "      <td>3641</td>\n",
       "      <td>6</td>\n",
       "      <td>2006-05-15</td>\n",
       "      <td>6790.0</td>\n",
       "      <td>25</td>\n",
       "      <td>None</td>\n",
       "      <td>1</td>\n",
       "      <td>5864</td>\n",
       "      <td>&lt;NA&gt;</td>\n",
       "    </tr>\n",
       "    <tr>\n",
       "      <th>1</th>\n",
       "      <td>VOD.L</td>\n",
       "      <td>None</td>\n",
       "      <td>14:39:52.714149</td>\n",
       "      <td>R</td>\n",
       "      <td>None</td>\n",
       "      <td>52793124</td>\n",
       "      <td>08:20:00.0121</td>\n",
       "      <td>25.77</td>\n",
       "      <td>113.0059</td>\n",
       "      <td>08:20:00.012</td>\n",
       "      <td>...</td>\n",
       "      <td>743</td>\n",
       "      <td>10391</td>\n",
       "      <td>6</td>\n",
       "      <td>2014-02-24</td>\n",
       "      <td>114.354</td>\n",
       "      <td>25</td>\n",
       "      <td>None</td>\n",
       "      <td>1</td>\n",
       "      <td>133215</td>\n",
       "      <td>113.0059</td>\n",
       "    </tr>\n",
       "  </tbody>\n",
       "</table>\n",
       "<p>2 rows × 387 columns</p>\n",
       "</div>"
      ],
      "text/plain": [
       "  Instrument SEE_RIC       ASK_TIM_NS ACT_FLAG5 CRS_SEQNO  QUOTIM_MS  \\\n",
       "0     LSEG.L    None     14:39:41.762         A      None   52781762   \n",
       "1      VOD.L    None  14:39:52.714149         R      None   52793124   \n",
       "\n",
       "      HLT_RSM_NS  GEN_VAL10    IRGPRC    HLT_RSM_MS  ...  OF_NUM_MOV  \\\n",
       "0   08:20:00.015      88.11      <NA>  08:20:00.015  ...         158   \n",
       "1  08:20:00.0121      25.77  113.0059  08:20:00.012  ...         743   \n",
       "\n",
       "   TOT_MOVES  IMB_ACT_TP   LIST_DATE  OFFBK_HIGH  OFF_CD_IN2  BLKTIM_NS  \\\n",
       "0       3641           6  2006-05-15      6790.0          25       None   \n",
       "1      10391           6  2014-02-24     114.354          25       None   \n",
       "\n",
       "  HALT_RSN PROV_SYMB   CAN_PRC  \n",
       "0        1      5864      <NA>  \n",
       "1        1    133215  113.0059  \n",
       "\n",
       "[2 rows x 387 columns]"
      ]
     },
     "execution_count": 4,
     "metadata": {},
     "output_type": "execute_result"
    }
   ],
   "source": [
    "rd.get_data(['LSEG.L', 'VOD.L'])"
   ]
  },
  {
   "cell_type": "code",
   "execution_count": 5,
   "metadata": {},
   "outputs": [
    {
     "data": {
      "text/html": [
       "<div>\n",
       "<style scoped>\n",
       "    .dataframe tbody tr th:only-of-type {\n",
       "        vertical-align: middle;\n",
       "    }\n",
       "\n",
       "    .dataframe tbody tr th {\n",
       "        vertical-align: top;\n",
       "    }\n",
       "\n",
       "    .dataframe thead th {\n",
       "        text-align: right;\n",
       "    }\n",
       "</style>\n",
       "<table border=\"1\" class=\"dataframe\">\n",
       "  <thead>\n",
       "    <tr style=\"text-align: right;\">\n",
       "      <th></th>\n",
       "      <th>Instrument</th>\n",
       "      <th>BID</th>\n",
       "      <th>ASK</th>\n",
       "    </tr>\n",
       "  </thead>\n",
       "  <tbody>\n",
       "    <tr>\n",
       "      <th>0</th>\n",
       "      <td>LSEG.L</td>\n",
       "      <td>6764.0</td>\n",
       "      <td>6770.0</td>\n",
       "    </tr>\n",
       "    <tr>\n",
       "      <th>1</th>\n",
       "      <td>VOD.L</td>\n",
       "      <td>113.94</td>\n",
       "      <td>113.98</td>\n",
       "    </tr>\n",
       "  </tbody>\n",
       "</table>\n",
       "</div>"
      ],
      "text/plain": [
       "  Instrument     BID     ASK\n",
       "0     LSEG.L  6764.0  6770.0\n",
       "1      VOD.L  113.94  113.98"
      ]
     },
     "execution_count": 5,
     "metadata": {},
     "output_type": "execute_result"
    }
   ],
   "source": [
    "rd.get_data(\n",
    "    universe=['LSEG.L', 'VOD.L'],\n",
    "    fields=['BID', 'ASK']\n",
    ")"
   ]
  },
  {
   "cell_type": "markdown",
   "metadata": {},
   "source": [
    "### Fundamental data"
   ]
  },
  {
   "cell_type": "code",
   "execution_count": 6,
   "metadata": {},
   "outputs": [
    {
     "data": {
      "text/html": [
       "<div>\n",
       "<style scoped>\n",
       "    .dataframe tbody tr th:only-of-type {\n",
       "        vertical-align: middle;\n",
       "    }\n",
       "\n",
       "    .dataframe tbody tr th {\n",
       "        vertical-align: top;\n",
       "    }\n",
       "\n",
       "    .dataframe thead th {\n",
       "        text-align: right;\n",
       "    }\n",
       "</style>\n",
       "<table border=\"1\" class=\"dataframe\">\n",
       "  <thead>\n",
       "    <tr style=\"text-align: right;\">\n",
       "      <th></th>\n",
       "      <th>Instrument</th>\n",
       "      <th>Date</th>\n",
       "      <th>Revenue</th>\n",
       "    </tr>\n",
       "  </thead>\n",
       "  <tbody>\n",
       "    <tr>\n",
       "      <th>0</th>\n",
       "      <td>LSEG.L</td>\n",
       "      <td>2020-12-31T00:00:00Z</td>\n",
       "      <td>2444000000</td>\n",
       "    </tr>\n",
       "    <tr>\n",
       "      <th>1</th>\n",
       "      <td>VOD.L</td>\n",
       "      <td>2021-03-31T00:00:00Z</td>\n",
       "      <td>43809000000</td>\n",
       "    </tr>\n",
       "  </tbody>\n",
       "</table>\n",
       "</div>"
      ],
      "text/plain": [
       "  Instrument                  Date      Revenue\n",
       "0     LSEG.L  2020-12-31T00:00:00Z   2444000000\n",
       "1      VOD.L  2021-03-31T00:00:00Z  43809000000"
      ]
     },
     "execution_count": 6,
     "metadata": {},
     "output_type": "execute_result"
    }
   ],
   "source": [
    "rd.get_data(\n",
    "    universe=['LSEG.L', 'VOD.L'],\n",
    "    fields=['TR.Revenue']    \n",
    ")"
   ]
  },
  {
   "cell_type": "markdown",
   "metadata": {},
   "source": [
    "### Mix of pricing snapshots and fundamental data"
   ]
  },
  {
   "cell_type": "code",
   "execution_count": 7,
   "metadata": {},
   "outputs": [
    {
     "data": {
      "text/html": [
       "<div>\n",
       "<style scoped>\n",
       "    .dataframe tbody tr th:only-of-type {\n",
       "        vertical-align: middle;\n",
       "    }\n",
       "\n",
       "    .dataframe tbody tr th {\n",
       "        vertical-align: top;\n",
       "    }\n",
       "\n",
       "    .dataframe thead th {\n",
       "        text-align: right;\n",
       "    }\n",
       "</style>\n",
       "<table border=\"1\" class=\"dataframe\">\n",
       "  <thead>\n",
       "    <tr style=\"text-align: right;\">\n",
       "      <th></th>\n",
       "      <th>Instrument</th>\n",
       "      <th>BID</th>\n",
       "      <th>ASK</th>\n",
       "      <th>Date</th>\n",
       "      <th>Revenue</th>\n",
       "    </tr>\n",
       "  </thead>\n",
       "  <tbody>\n",
       "    <tr>\n",
       "      <th>0</th>\n",
       "      <td>LSEG.L</td>\n",
       "      <td>6764.0</td>\n",
       "      <td>6770.0</td>\n",
       "      <td>2020-12-31T00:00:00Z</td>\n",
       "      <td>2444000000</td>\n",
       "    </tr>\n",
       "    <tr>\n",
       "      <th>1</th>\n",
       "      <td>VOD.L</td>\n",
       "      <td>113.94</td>\n",
       "      <td>113.98</td>\n",
       "      <td>2021-03-31T00:00:00Z</td>\n",
       "      <td>43809000000</td>\n",
       "    </tr>\n",
       "  </tbody>\n",
       "</table>\n",
       "</div>"
      ],
      "text/plain": [
       "  Instrument     BID     ASK                  Date      Revenue\n",
       "0     LSEG.L  6764.0  6770.0  2020-12-31T00:00:00Z   2444000000\n",
       "1      VOD.L  113.94  113.98  2021-03-31T00:00:00Z  43809000000"
      ]
     },
     "execution_count": 7,
     "metadata": {},
     "output_type": "execute_result"
    }
   ],
   "source": [
    "rd.get_data(\n",
    "    universe=['LSEG.L', 'VOD.L'], \n",
    "    fields=['BID', 'ASK', 'TR.Revenue']\n",
    ")"
   ]
  },
  {
   "cell_type": "markdown",
   "metadata": {},
   "source": [
    "### Fundamental fields with parameters"
   ]
  },
  {
   "cell_type": "code",
   "execution_count": 8,
   "metadata": {},
   "outputs": [
    {
     "data": {
      "text/html": [
       "<div>\n",
       "<style scoped>\n",
       "    .dataframe tbody tr th:only-of-type {\n",
       "        vertical-align: middle;\n",
       "    }\n",
       "\n",
       "    .dataframe tbody tr th {\n",
       "        vertical-align: top;\n",
       "    }\n",
       "\n",
       "    .dataframe thead th {\n",
       "        text-align: right;\n",
       "    }\n",
       "</style>\n",
       "<table border=\"1\" class=\"dataframe\">\n",
       "  <thead>\n",
       "    <tr style=\"text-align: right;\">\n",
       "      <th></th>\n",
       "      <th>Instrument</th>\n",
       "      <th>Date</th>\n",
       "      <th>Price Target - Mean</th>\n",
       "    </tr>\n",
       "  </thead>\n",
       "  <tbody>\n",
       "    <tr>\n",
       "      <th>0</th>\n",
       "      <td>LSEG.L</td>\n",
       "      <td>2021-12-14T00:00:00Z</td>\n",
       "      <td>8835.64286</td>\n",
       "    </tr>\n",
       "    <tr>\n",
       "      <th>1</th>\n",
       "      <td>VOD.L</td>\n",
       "      <td>2021-12-14T00:00:00Z</td>\n",
       "      <td>166.09836</td>\n",
       "    </tr>\n",
       "  </tbody>\n",
       "</table>\n",
       "</div>"
      ],
      "text/plain": [
       "  Instrument                  Date  Price Target - Mean\n",
       "0     LSEG.L  2021-12-14T00:00:00Z           8835.64286\n",
       "1      VOD.L  2021-12-14T00:00:00Z            166.09836"
      ]
     },
     "execution_count": 8,
     "metadata": {},
     "output_type": "execute_result"
    }
   ],
   "source": [
    "rd.get_data(\n",
    "    universe=['LSEG.L', 'VOD.L'],\n",
    "    fields=['TR.PriceTargetMean(Source=ThomsonReuters)']\n",
    ")"
   ]
  },
  {
   "cell_type": "markdown",
   "metadata": {},
   "source": [
    "### Fundamental fields with global parameters "
   ]
  },
  {
   "cell_type": "code",
   "execution_count": 9,
   "metadata": {},
   "outputs": [
    {
     "data": {
      "text/html": [
       "<div>\n",
       "<style scoped>\n",
       "    .dataframe tbody tr th:only-of-type {\n",
       "        vertical-align: middle;\n",
       "    }\n",
       "\n",
       "    .dataframe tbody tr th {\n",
       "        vertical-align: top;\n",
       "    }\n",
       "\n",
       "    .dataframe thead th {\n",
       "        text-align: right;\n",
       "    }\n",
       "</style>\n",
       "<table border=\"1\" class=\"dataframe\">\n",
       "  <thead>\n",
       "    <tr style=\"text-align: right;\">\n",
       "      <th></th>\n",
       "      <th>Instrument</th>\n",
       "      <th>Date</th>\n",
       "      <th>Enterprise Value (Daily Time Series)</th>\n",
       "      <th>Enterprise Value To Sales (Daily Time Series Ratio)</th>\n",
       "    </tr>\n",
       "  </thead>\n",
       "  <tbody>\n",
       "    <tr>\n",
       "      <th>0</th>\n",
       "      <td>LSEG.L</td>\n",
       "      <td>2020-12-31T00:00:00Z</td>\n",
       "      <td>56552769131.751801</td>\n",
       "      <td>14.755207</td>\n",
       "    </tr>\n",
       "    <tr>\n",
       "      <th>1</th>\n",
       "      <td>VOD.L</td>\n",
       "      <td>2020-12-31T00:00:00Z</td>\n",
       "      <td>140836307372.359009</td>\n",
       "      <td>2.037394</td>\n",
       "    </tr>\n",
       "  </tbody>\n",
       "</table>\n",
       "</div>"
      ],
      "text/plain": [
       "  Instrument                  Date  Enterprise Value (Daily Time Series)  \\\n",
       "0     LSEG.L  2020-12-31T00:00:00Z                    56552769131.751801   \n",
       "1      VOD.L  2020-12-31T00:00:00Z                   140836307372.359009   \n",
       "\n",
       "   Enterprise Value To Sales (Daily Time Series Ratio)  \n",
       "0                                          14.755207    \n",
       "1                                           2.037394    "
      ]
     },
     "execution_count": 9,
     "metadata": {},
     "output_type": "execute_result"
    }
   ],
   "source": [
    "rd.get_data(\n",
    "    universe=['LSEG.L', 'VOD.L'],\n",
    "    fields=['TR.EV','TR.EVToSales'],\n",
    "    parameters = {'SDate': '0CY', 'Curn': 'CAD'}\n",
    ")"
   ]
  },
  {
   "cell_type": "markdown",
   "metadata": {},
   "source": [
    "### Close the session"
   ]
  },
  {
   "cell_type": "code",
   "execution_count": 10,
   "metadata": {},
   "outputs": [],
   "source": [
    "rd.close_session()"
   ]
  }
 ],
 "metadata": {
  "kernelspec": {
   "display_name": "Python 3",
   "language": "python",
   "name": "python3"
  },
  "language_info": {
   "codemirror_mode": {
    "name": "ipython",
    "version": 3
   },
   "file_extension": ".py",
   "mimetype": "text/x-python",
   "name": "python",
   "nbconvert_exporter": "python",
   "pygments_lexer": "ipython3",
   "version": "3.7.6"
  }
 },
 "nbformat": 4,
 "nbformat_minor": 4
}
