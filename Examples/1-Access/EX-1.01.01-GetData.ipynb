{
 "cells": [
  {
   "cell_type": "markdown",
   "metadata": {},
   "source": [
    "# Refinitiv Data Library for Python"
   ]
  },
  {
   "cell_type": "markdown",
   "metadata": {},
   "source": [
    "## Access layer - Get data\n",
    "This notebook demonstrates how to retrieve Pricing snapshots and Fundamental & Reference data using the get_data() function."
   ]
  },
  {
   "cell_type": "markdown",
   "metadata": {},
   "source": [
    "#### About the get_data function\n",
    "The get_data() function allows you to retrieve pricing snapshots as well as Fundamental & Reference data via a single function call.\n",
    "\n",
    "\n",
    "***get_data()*** parameters: \n",
    "- ***universe***: Single instrument or list of instruments to request\n",
    "    - Type: String or list\n",
    "    - Optionnal: No  \n",
    "- ***fields***: Single field or list of fields to request\n",
    "    - Type: String or list\n",
    "    - Optionnal: Yes  \n",
    "- ***parameters***: Additional parameters specific applied to Fundamental & Reference fields (a.k.a. \"TR.\" fields)\n",
    "    - Type: Dictionary\n",
    "    - Optionnal: Yes  \n",
    "    \n",
    "**get_data()** returns a pandas.DataFrame with fields in columns and instruments as row index.  \n",
    "It raises exceptions on error and when no data is available"
   ]
  },
  {
   "cell_type": "markdown",
   "metadata": {},
   "source": [
    "#### Learn more\n",
    "\n",
    "To learn more about the Refinitiv Data Library for Python please join the Refinitiv Developer Community. By [registering](https://developers.refinitiv.com/iam/register) and [logging](https://developers.refinitiv.com/content/devportal/en_us/initCookie.html) into the Refinitiv Developer Community portal you will have free access to a number of learning materials like \n",
    " [Quick Start guides](https://developers.refinitiv.com/en/api-catalog/refinitiv-data-platform/refinitiv-data-library-for-python/quick-start), \n",
    " [Tutorials](https://developers.refinitiv.com/en/api-catalog/refinitiv-data-platform/refinitiv-data-library-for-python/learning), \n",
    " [Documentation](https://developers.refinitiv.com/en/api-catalog/refinitiv-data-platform/refinitiv-data-library-for-python/docs)\n",
    " and much more.\n",
    "\n",
    "#### Getting Help and Support\n",
    "\n",
    "If you have any questions regarding using the API, please post them on \n",
    "the [Refinitiv Data Q&A Forum](https://community.developers.refinitiv.com/spaces/321/index.html). \n",
    "The Refinitiv Developer Community will be happy to help. "
   ]
  },
  {
   "cell_type": "markdown",
   "metadata": {},
   "source": [
    "## Set the configuration file location\n",
    "For a better ease of use, you have the option to set initialization parameters of the Refinitiv Data Library in the _refinitiv-data.config.json_ configuration file. This file must be located beside your notebook, in your user folder or in a folder defined by the _RD_LIB_CONFIG_PATH_ environment variable. The _RD_LIB_CONFIG_PATH_ environment variable is the option used by this series of examples. The following code sets this environment variable.      "
   ]
  },
  {
   "cell_type": "code",
   "execution_count": 1,
   "metadata": {},
   "outputs": [],
   "source": [
    "import os\n",
    "os.environ[\"RD_LIB_CONFIG_PATH\"] = \"../../Configuration\""
   ]
  },
  {
   "cell_type": "markdown",
   "metadata": {},
   "source": [
    "## Some Imports to start with"
   ]
  },
  {
   "cell_type": "code",
   "execution_count": 2,
   "metadata": {},
   "outputs": [],
   "source": [
    "import refinitiv.data as rd"
   ]
  },
  {
   "cell_type": "markdown",
   "metadata": {},
   "source": [
    "## Open the data session\n",
    "\n",
    "The open_session() function creates and open sessions based on the information contained in the refinitiv-data.config.json configuration file. Please edit this file to set the session type and other parameters required for the session you want to open."
   ]
  },
  {
   "cell_type": "code",
   "execution_count": 3,
   "metadata": {},
   "outputs": [
    {
     "data": {
      "text/plain": [
       "<refinitiv.data.session.Definition object at 0x7f88af996c10 {name='workspace'}>"
      ]
     },
     "execution_count": 3,
     "metadata": {},
     "output_type": "execute_result"
    }
   ],
   "source": [
    "rd.open_session()"
   ]
  },
  {
   "cell_type": "markdown",
   "metadata": {},
   "source": [
    "## Retrieve data"
   ]
  },
  {
   "cell_type": "markdown",
   "metadata": {},
   "source": [
    "### Pricing snapshots"
   ]
  },
  {
   "cell_type": "code",
   "execution_count": 4,
   "metadata": {},
   "outputs": [
    {
     "data": {
      "text/html": [
       "<div>\n",
       "<style scoped>\n",
       "    .dataframe tbody tr th:only-of-type {\n",
       "        vertical-align: middle;\n",
       "    }\n",
       "\n",
       "    .dataframe tbody tr th {\n",
       "        vertical-align: top;\n",
       "    }\n",
       "\n",
       "    .dataframe thead th {\n",
       "        text-align: right;\n",
       "    }\n",
       "</style>\n",
       "<table border=\"1\" class=\"dataframe\">\n",
       "  <thead>\n",
       "    <tr style=\"text-align: right;\">\n",
       "      <th></th>\n",
       "      <th>Instrument</th>\n",
       "      <th>BR_LINK5</th>\n",
       "      <th>GV1_DATE</th>\n",
       "      <th>GEN_VAL10</th>\n",
       "      <th>DELIST_DAT</th>\n",
       "      <th>TRDTIM_MS</th>\n",
       "      <th>BID_ASK_DT</th>\n",
       "      <th>PROD_PERM</th>\n",
       "      <th>CB_INST_T2</th>\n",
       "      <th>BLKTRDVOL</th>\n",
       "      <th>...</th>\n",
       "      <th>BLK_TRDID</th>\n",
       "      <th>SUS_DATE</th>\n",
       "      <th>52W_HIND</th>\n",
       "      <th>CUM_EX_MKR</th>\n",
       "      <th>CF_LOW</th>\n",
       "      <th>CF_BID</th>\n",
       "      <th>LOW_T_MS</th>\n",
       "      <th>IND_AUC_TP</th>\n",
       "      <th>SEC_ACT_4</th>\n",
       "      <th>OFF_CD_IN2</th>\n",
       "    </tr>\n",
       "  </thead>\n",
       "  <tbody>\n",
       "    <tr>\n",
       "      <th>0</th>\n",
       "      <td>LSEG.L</td>\n",
       "      <td>LSEGl.TRE</td>\n",
       "      <td>2021-12-16</td>\n",
       "      <td>83.71</td>\n",
       "      <td>None</td>\n",
       "      <td>46165258</td>\n",
       "      <td>2021-12-15</td>\n",
       "      <td>5625</td>\n",
       "      <td>3</td>\n",
       "      <td>None</td>\n",
       "      <td>...</td>\n",
       "      <td>None</td>\n",
       "      <td>None</td>\n",
       "      <td>None</td>\n",
       "      <td>0</td>\n",
       "      <td>6802.0</td>\n",
       "      <td>6848.0</td>\n",
       "      <td>29119612</td>\n",
       "      <td>O</td>\n",
       "      <td>6851.0</td>\n",
       "      <td>25</td>\n",
       "    </tr>\n",
       "    <tr>\n",
       "      <th>1</th>\n",
       "      <td>VOD.L</td>\n",
       "      <td>VODl.TRE</td>\n",
       "      <td>2021-12-16</td>\n",
       "      <td>29.55</td>\n",
       "      <td>None</td>\n",
       "      <td>46174152</td>\n",
       "      <td>2021-12-15</td>\n",
       "      <td>5625</td>\n",
       "      <td>3</td>\n",
       "      <td>None</td>\n",
       "      <td>...</td>\n",
       "      <td>None</td>\n",
       "      <td>None</td>\n",
       "      <td>None</td>\n",
       "      <td>1</td>\n",
       "      <td>110.66</td>\n",
       "      <td>110.78</td>\n",
       "      <td>45893354</td>\n",
       "      <td>O</td>\n",
       "      <td>110.79</td>\n",
       "      <td>25</td>\n",
       "    </tr>\n",
       "  </tbody>\n",
       "</table>\n",
       "<p>2 rows × 387 columns</p>\n",
       "</div>"
      ],
      "text/plain": [
       "  Instrument   BR_LINK5    GV1_DATE  GEN_VAL10 DELIST_DAT  TRDTIM_MS  \\\n",
       "0     LSEG.L  LSEGl.TRE  2021-12-16      83.71       None   46165258   \n",
       "1      VOD.L   VODl.TRE  2021-12-16      29.55       None   46174152   \n",
       "\n",
       "   BID_ASK_DT  PROD_PERM  CB_INST_T2 BLKTRDVOL  ...  BLK_TRDID SUS_DATE  \\\n",
       "0  2021-12-15       5625           3      None  ...       None     None   \n",
       "1  2021-12-15       5625           3      None  ...       None     None   \n",
       "\n",
       "   52W_HIND CUM_EX_MKR  CF_LOW  CF_BID  LOW_T_MS IND_AUC_TP SEC_ACT_4  \\\n",
       "0      None          0  6802.0  6848.0  29119612          O    6851.0   \n",
       "1      None          1  110.66  110.78  45893354          O    110.79   \n",
       "\n",
       "  OFF_CD_IN2  \n",
       "0         25  \n",
       "1         25  \n",
       "\n",
       "[2 rows x 387 columns]"
      ]
     },
     "execution_count": 4,
     "metadata": {},
     "output_type": "execute_result"
    }
   ],
   "source": [
    "rd.get_data(['LSEG.L', 'VOD.L'])"
   ]
  },
  {
   "cell_type": "code",
   "execution_count": 5,
   "metadata": {},
   "outputs": [
    {
     "data": {
      "text/html": [
       "<div>\n",
       "<style scoped>\n",
       "    .dataframe tbody tr th:only-of-type {\n",
       "        vertical-align: middle;\n",
       "    }\n",
       "\n",
       "    .dataframe tbody tr th {\n",
       "        vertical-align: top;\n",
       "    }\n",
       "\n",
       "    .dataframe thead th {\n",
       "        text-align: right;\n",
       "    }\n",
       "</style>\n",
       "<table border=\"1\" class=\"dataframe\">\n",
       "  <thead>\n",
       "    <tr style=\"text-align: right;\">\n",
       "      <th></th>\n",
       "      <th>Instrument</th>\n",
       "      <th>BID</th>\n",
       "      <th>ASK</th>\n",
       "    </tr>\n",
       "  </thead>\n",
       "  <tbody>\n",
       "    <tr>\n",
       "      <th>0</th>\n",
       "      <td>LSEG.L</td>\n",
       "      <td>6848.0</td>\n",
       "      <td>6852.0</td>\n",
       "    </tr>\n",
       "    <tr>\n",
       "      <th>1</th>\n",
       "      <td>VOD.L</td>\n",
       "      <td>110.82</td>\n",
       "      <td>110.86</td>\n",
       "    </tr>\n",
       "  </tbody>\n",
       "</table>\n",
       "</div>"
      ],
      "text/plain": [
       "  Instrument     BID     ASK\n",
       "0     LSEG.L  6848.0  6852.0\n",
       "1      VOD.L  110.82  110.86"
      ]
     },
     "execution_count": 5,
     "metadata": {},
     "output_type": "execute_result"
    }
   ],
   "source": [
    "rd.get_data(\n",
    "    universe=['LSEG.L', 'VOD.L'],\n",
    "    fields=['BID', 'ASK']\n",
    ")"
   ]
  },
  {
   "cell_type": "markdown",
   "metadata": {},
   "source": [
    "### Fundamental data"
   ]
  },
  {
   "cell_type": "code",
   "execution_count": 6,
   "metadata": {},
   "outputs": [
    {
     "data": {
      "text/html": [
       "<div>\n",
       "<style scoped>\n",
       "    .dataframe tbody tr th:only-of-type {\n",
       "        vertical-align: middle;\n",
       "    }\n",
       "\n",
       "    .dataframe tbody tr th {\n",
       "        vertical-align: top;\n",
       "    }\n",
       "\n",
       "    .dataframe thead th {\n",
       "        text-align: right;\n",
       "    }\n",
       "</style>\n",
       "<table border=\"1\" class=\"dataframe\">\n",
       "  <thead>\n",
       "    <tr style=\"text-align: right;\">\n",
       "      <th></th>\n",
       "      <th>Instrument</th>\n",
       "      <th>Date</th>\n",
       "      <th>Revenue</th>\n",
       "    </tr>\n",
       "  </thead>\n",
       "  <tbody>\n",
       "    <tr>\n",
       "      <th>0</th>\n",
       "      <td>LSEG.L</td>\n",
       "      <td>2020-12-31T00:00:00</td>\n",
       "      <td>2444000000</td>\n",
       "    </tr>\n",
       "    <tr>\n",
       "      <th>1</th>\n",
       "      <td>VOD.L</td>\n",
       "      <td>2021-03-31T00:00:00</td>\n",
       "      <td>43809000000</td>\n",
       "    </tr>\n",
       "  </tbody>\n",
       "</table>\n",
       "</div>"
      ],
      "text/plain": [
       "  Instrument                 Date      Revenue\n",
       "0     LSEG.L  2020-12-31T00:00:00   2444000000\n",
       "1      VOD.L  2021-03-31T00:00:00  43809000000"
      ]
     },
     "execution_count": 6,
     "metadata": {},
     "output_type": "execute_result"
    }
   ],
   "source": [
    "rd.get_data(\n",
    "    universe=['LSEG.L', 'VOD.L'],\n",
    "    fields=['TR.Revenue']    \n",
    ")"
   ]
  },
  {
   "cell_type": "markdown",
   "metadata": {},
   "source": [
    "### Mix of pricing snapshots and fundamental data"
   ]
  },
  {
   "cell_type": "code",
   "execution_count": 7,
   "metadata": {},
   "outputs": [
    {
     "data": {
      "text/html": [
       "<div>\n",
       "<style scoped>\n",
       "    .dataframe tbody tr th:only-of-type {\n",
       "        vertical-align: middle;\n",
       "    }\n",
       "\n",
       "    .dataframe tbody tr th {\n",
       "        vertical-align: top;\n",
       "    }\n",
       "\n",
       "    .dataframe thead th {\n",
       "        text-align: right;\n",
       "    }\n",
       "</style>\n",
       "<table border=\"1\" class=\"dataframe\">\n",
       "  <thead>\n",
       "    <tr style=\"text-align: right;\">\n",
       "      <th></th>\n",
       "      <th>Instrument</th>\n",
       "      <th>BID</th>\n",
       "      <th>ASK</th>\n",
       "      <th>Date</th>\n",
       "      <th>Revenue</th>\n",
       "    </tr>\n",
       "  </thead>\n",
       "  <tbody>\n",
       "    <tr>\n",
       "      <th>0</th>\n",
       "      <td>LSEG.L</td>\n",
       "      <td>6848.0</td>\n",
       "      <td>6852.0</td>\n",
       "      <td>2020-12-31T00:00:00</td>\n",
       "      <td>2444000000</td>\n",
       "    </tr>\n",
       "    <tr>\n",
       "      <th>1</th>\n",
       "      <td>VOD.L</td>\n",
       "      <td>110.82</td>\n",
       "      <td>110.84</td>\n",
       "      <td>2021-03-31T00:00:00</td>\n",
       "      <td>43809000000</td>\n",
       "    </tr>\n",
       "  </tbody>\n",
       "</table>\n",
       "</div>"
      ],
      "text/plain": [
       "  Instrument     BID     ASK                 Date      Revenue\n",
       "0     LSEG.L  6848.0  6852.0  2020-12-31T00:00:00   2444000000\n",
       "1      VOD.L  110.82  110.84  2021-03-31T00:00:00  43809000000"
      ]
     },
     "execution_count": 7,
     "metadata": {},
     "output_type": "execute_result"
    }
   ],
   "source": [
    "rd.get_data(\n",
    "    universe=['LSEG.L', 'VOD.L'], \n",
    "    fields=['BID', 'ASK', 'TR.Revenue']\n",
    ")"
   ]
  },
  {
   "cell_type": "markdown",
   "metadata": {},
   "source": [
    "### Fundamental fields with parameters"
   ]
  },
  {
   "cell_type": "code",
   "execution_count": 8,
   "metadata": {},
   "outputs": [
    {
     "data": {
      "text/html": [
       "<div>\n",
       "<style scoped>\n",
       "    .dataframe tbody tr th:only-of-type {\n",
       "        vertical-align: middle;\n",
       "    }\n",
       "\n",
       "    .dataframe tbody tr th {\n",
       "        vertical-align: top;\n",
       "    }\n",
       "\n",
       "    .dataframe thead th {\n",
       "        text-align: right;\n",
       "    }\n",
       "</style>\n",
       "<table border=\"1\" class=\"dataframe\">\n",
       "  <thead>\n",
       "    <tr style=\"text-align: right;\">\n",
       "      <th></th>\n",
       "      <th>Instrument</th>\n",
       "      <th>Date</th>\n",
       "      <th>Price Target - Mean</th>\n",
       "    </tr>\n",
       "  </thead>\n",
       "  <tbody>\n",
       "    <tr>\n",
       "      <th>0</th>\n",
       "      <td>LSEG.L</td>\n",
       "      <td>2021-12-14T00:00:00</td>\n",
       "      <td>8835.64286</td>\n",
       "    </tr>\n",
       "    <tr>\n",
       "      <th>1</th>\n",
       "      <td>VOD.L</td>\n",
       "      <td>2021-12-14T00:00:00</td>\n",
       "      <td>166.09836</td>\n",
       "    </tr>\n",
       "  </tbody>\n",
       "</table>\n",
       "</div>"
      ],
      "text/plain": [
       "  Instrument                 Date Price Target - Mean\n",
       "0     LSEG.L  2021-12-14T00:00:00          8835.64286\n",
       "1      VOD.L  2021-12-14T00:00:00           166.09836"
      ]
     },
     "execution_count": 8,
     "metadata": {},
     "output_type": "execute_result"
    }
   ],
   "source": [
    "rd.get_data(\n",
    "    universe=['LSEG.L', 'VOD.L'],\n",
    "    fields=['TR.PriceTargetMean(Source=ThomsonReuters)']\n",
    ")"
   ]
  },
  {
   "cell_type": "markdown",
   "metadata": {},
   "source": [
    "### Fundamental fields with global parameters "
   ]
  },
  {
   "cell_type": "code",
   "execution_count": 9,
   "metadata": {},
   "outputs": [
    {
     "data": {
      "text/html": [
       "<div>\n",
       "<style scoped>\n",
       "    .dataframe tbody tr th:only-of-type {\n",
       "        vertical-align: middle;\n",
       "    }\n",
       "\n",
       "    .dataframe tbody tr th {\n",
       "        vertical-align: top;\n",
       "    }\n",
       "\n",
       "    .dataframe thead th {\n",
       "        text-align: right;\n",
       "    }\n",
       "</style>\n",
       "<table border=\"1\" class=\"dataframe\">\n",
       "  <thead>\n",
       "    <tr style=\"text-align: right;\">\n",
       "      <th></th>\n",
       "      <th>Instrument</th>\n",
       "      <th>Date</th>\n",
       "      <th>Enterprise Value (Daily Time Series)</th>\n",
       "      <th>Enterprise Value To Sales (Daily Time Series Ratio)</th>\n",
       "    </tr>\n",
       "  </thead>\n",
       "  <tbody>\n",
       "    <tr>\n",
       "      <th>0</th>\n",
       "      <td>LSEG.L</td>\n",
       "      <td>2020-12-31T00:00:00</td>\n",
       "      <td>56552769131.7518</td>\n",
       "      <td>14.7552067426703</td>\n",
       "    </tr>\n",
       "    <tr>\n",
       "      <th>1</th>\n",
       "      <td>VOD.L</td>\n",
       "      <td>2020-12-31T00:00:00</td>\n",
       "      <td>140836307372.359</td>\n",
       "      <td>2.03739420079185</td>\n",
       "    </tr>\n",
       "  </tbody>\n",
       "</table>\n",
       "</div>"
      ],
      "text/plain": [
       "  Instrument                 Date Enterprise Value (Daily Time Series)  \\\n",
       "0     LSEG.L  2020-12-31T00:00:00                     56552769131.7518   \n",
       "1      VOD.L  2020-12-31T00:00:00                     140836307372.359   \n",
       "\n",
       "  Enterprise Value To Sales (Daily Time Series Ratio)  \n",
       "0                                   14.7552067426703   \n",
       "1                                   2.03739420079185   "
      ]
     },
     "execution_count": 9,
     "metadata": {},
     "output_type": "execute_result"
    }
   ],
   "source": [
    "rd.get_data(\n",
    "    universe=['LSEG.L', 'VOD.L'],\n",
    "    fields=['TR.EV','TR.EVToSales'],\n",
    "    parameters = {'SDate': '0CY', 'Curn': 'CAD'}\n",
    ")"
   ]
  },
  {
   "cell_type": "markdown",
   "metadata": {},
   "source": [
    "### Close the session"
   ]
  },
  {
   "cell_type": "code",
   "execution_count": 10,
   "metadata": {},
   "outputs": [],
   "source": [
    "rd.close_session()"
   ]
  },
  {
   "cell_type": "code",
   "execution_count": null,
   "metadata": {},
   "outputs": [],
   "source": []
  }
 ],
 "metadata": {
  "kernelspec": {
   "display_name": "Python 3",
   "language": "python",
   "name": "python3"
  },
  "language_info": {
   "codemirror_mode": {
    "name": "ipython",
    "version": 3
   },
   "file_extension": ".py",
   "mimetype": "text/x-python",
   "name": "python",
   "nbconvert_exporter": "python",
   "pygments_lexer": "ipython3",
   "version": "3.7.6"
  }
 },
 "nbformat": 4,
 "nbformat_minor": 4
}
