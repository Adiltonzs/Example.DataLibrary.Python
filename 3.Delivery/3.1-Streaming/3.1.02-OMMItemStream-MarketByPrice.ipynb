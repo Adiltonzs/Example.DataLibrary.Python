{
 "cells": [
  {
   "cell_type": "markdown",
   "metadata": {},
   "source": [
    "# Refinitiv Data Library for Python\n",
    "## Delivery - OMMItemStream - Market By Price data via callback\n",
    "\n",
    "This notebook demonstrates how to use the OMM Item Stream interface to request streaming Full Depth Orderbook data"
   ]
  },
  {
   "cell_type": "markdown",
   "metadata": {},
   "source": [
    "## Import the library and load credentials\n",
    "\n",
    "Credentials used by this and the other tutorials notebooks are stored in the **Configuration/credentials.ipynb** file.     \n",
    "\n",
    "You should have edited the **Configuration/credentials.ipynb** to set your credentials as part of the **Quick Start** step."
   ]
  },
  {
   "cell_type": "code",
   "execution_count": 1,
   "metadata": {},
   "outputs": [],
   "source": [
    "from refinitiv.data.delivery import omm_item_stream\n",
    "import datetime\n",
    "import json\n",
    "%run ../../Configuration/credentials.ipynb"
   ]
  },
  {
   "cell_type": "markdown",
   "metadata": {},
   "source": [
    "## Open the session of your choice\n",
    "\n",
    "Use our helper function in the Credentials notebook, **open_session(session_type)**, to create and open a session to connect to the \n",
    "- Refinitiv Data Platform directly (session_type=\"rdp\") or via \n",
    "- Eikon 4 or Refinitiv Workspace (session_type=\"desktop\") or via a \n",
    "- local realtime infrastructure (session_type=\"deployed\").\n",
    "\n",
    "You can also set a default in the **credentials** notebook"
   ]
  },
  {
   "cell_type": "code",
   "execution_count": 2,
   "metadata": {},
   "outputs": [
    {
     "data": {
      "text/plain": [
       "<refinitiv.data._data.core.session._platform_session.PlatformSession at 0x212efc1f0a0>"
      ]
     },
     "execution_count": 2,
     "metadata": {},
     "output_type": "execute_result"
    }
   ],
   "source": [
    "open_session()"
   ]
  },
  {
   "cell_type": "markdown",
   "metadata": {},
   "source": [
    "# Example"
   ]
  },
  {
   "cell_type": "markdown",
   "metadata": {},
   "source": [
    "## Define a function to display events"
   ]
  },
  {
   "cell_type": "code",
   "execution_count": 3,
   "metadata": {},
   "outputs": [],
   "source": [
    "# Callback function to display data or status events\n",
    "def display_event(eventType, event):\n",
    "    currentTime = datetime.datetime.now().time()\n",
    "    print(\"----------------------------------------------------------\")\n",
    "    print(\">>> {} event received at {}\".format(eventType, currentTime))\n",
    "    # Print only 1000 characters to limit the output\n",
    "    print(json.dumps(event, indent=2)[0:1000])\n",
    "    return"
   ]
  },
  {
   "cell_type": "markdown",
   "metadata": {},
   "source": [
    "## Create an ItemStream and register the event callbacks"
   ]
  },
  {
   "cell_type": "code",
   "execution_count": 4,
   "metadata": {},
   "outputs": [
    {
     "data": {
      "text/plain": [
       "<refinitiv.data._data.delivery.stream.omm_item_stream.Definition at 0x212efc8a190>"
      ]
     },
     "execution_count": 4,
     "metadata": {},
     "output_type": "execute_result"
    }
   ],
   "source": [
    "stream = omm_item_stream.Definition(name=\"VOD.L\", domain='MarketByPrice').get_stream()\n",
    "\n",
    "# Refresh - the first full imaage we get back from the server\n",
    "stream.on_refresh(lambda item_stream, event : display_event(\"Refresh\", event))\n",
    "# Update - as and when field values change, we receive updates from the server\n",
    "stream.on_update(lambda item_stream, event : display_event(\"Update\", event))\n",
    "# Status - if data goes stale or item closes, we get a status message\n",
    "stream.on_status(lambda item_stream, event : display_event(\"Status\", event))\n",
    "# Other errors\n",
    "stream.on_error(lambda item_stream, event : display_event(\"Error\", event))"
   ]
  },
  {
   "cell_type": "markdown",
   "metadata": {},
   "source": [
    "## Open the ItemStream\n",
    "The **open()** call to open the ItemStream is a synchronous one. This means the first event (either via on_refresh(), on_status() or on_error()) can occur before the open() method returns.   \n",
    "However, if we use the **open_async()** asynchronous method instead, the first event callback will be after  open_async() returns."
   ]
  },
  {
   "cell_type": "code",
   "execution_count": 5,
   "metadata": {},
   "outputs": [
    {
     "name": "stdout",
     "output_type": "stream",
     "text": [
      "----------------------------------------------------------\n",
      ">>> Refresh event received at 13:22:10.844910\n",
      "{\n",
      "  \"ID\": 1,\n",
      "  \"Type\": \"Refresh\",\n",
      "  \"Domain\": \"MarketByPrice\",\n",
      "  \"Key\": {\n",
      "    \"Service\": \"ELEKTRON_DD\",\n",
      "    \"Name\": \"VOD.L\"\n",
      "  },\n",
      "  \"State\": {\n",
      "    \"Stream\": \"Open\",\n",
      "    \"Data\": \"Ok\",\n",
      "    \"Text\": \"**All is well\"\n",
      "  },\n",
      "  \"Complete\": false,\n",
      "  \"Qos\": {\n",
      "    \"Timeliness\": \"Realtime\",\n",
      "    \"Rate\": \"JitConflated\"\n",
      "  },\n",
      "  \"PermData\": \"AwEBJJw=\",\n",
      "  \"SeqNumber\": 9296,\n",
      "  \"Map\": {\n",
      "    \"KeyType\": \"Buffer\",\n",
      "    \"Summary\": {\n",
      "      \"Fields\": {\n",
      "        \"PROD_PERM\": 249,\n",
      "        \"DSPLY_NAME\": \"VODAFONE GROUP\",\n",
      "        \"CURRENCY\": \"GBp\",\n",
      "        \"ACTIV_DATE\": \"2021-07-02\",\n",
      "        \"LOT_SIZE_A\": 1,\n",
      "        \"RECORDTYPE\": 113,\n",
      "        \"SEQNUM\": 6731464,\n",
      "        \"RDN_EXCHD2\": \"LSE\",\n",
      "        \"PROV_SYMB\": \"133215\",\n",
      "        \"PR_RNK_RUL\": \"NOR\",\n",
      "        \"OR_RNK_RUL\": \"PT  \",\n",
      "        \"MNEMONIC\": \"VOD\",\n",
      "        \"PERIOD_CDE\": \"T\",\n",
      "        \"TRD_TYPE\": null,\n",
      "        \"TIMACT_MS\": 44524986,\n",
      "        \"CONTEXT_ID\": 2105,\n",
      "        \"DDS_DSO_ID\": 12477,\n",
      "        \"SPS_SP_RIC\": \".[SPSLSEGTP02L2\",\n",
      "        \"BOOK_STATE\": \"N\",\n",
      "        \"H\n"
     ]
    },
    {
     "data": {
      "text/plain": [
       "<StreamState.Open: 3>"
      ]
     },
     "execution_count": 5,
     "metadata": {},
     "output_type": "execute_result"
    },
    {
     "name": "stdout",
     "output_type": "stream",
     "text": [
      "----------------------------------------------------------\n",
      ">>> Refresh event received at 13:22:11.421509\n",
      "{\n",
      "  \"ID\": 1,\n",
      "  \"Type\": \"Refresh\",\n",
      "  \"Domain\": \"MarketByPrice\",\n",
      "  \"Key\": {\n",
      "    \"Service\": \"ELEKTRON_DD\",\n",
      "    \"Name\": \"VOD.L\"\n",
      "  },\n",
      "  \"State\": {\n",
      "    \"Stream\": \"Open\",\n",
      "    \"Data\": \"Ok\",\n",
      "    \"Text\": \"**All is well\"\n",
      "  },\n",
      "  \"Qos\": {\n",
      "    \"Timeliness\": \"Realtime\",\n",
      "    \"Rate\": \"JitConflated\"\n",
      "  },\n",
      "  \"ClearCache\": false,\n",
      "  \"PermData\": \"AwEBJJw=\",\n",
      "  \"SeqNumber\": 9296,\n",
      "  \"Map\": {\n",
      "    \"KeyType\": \"Buffer\",\n",
      "    \"Entries\": [\n",
      "      {\n",
      "        \"Action\": \"Add\",\n",
      "        \"Key\": \"MTIwLjQ4Qg==\",\n",
      "        \"Fields\": {\n",
      "          \"ORDER_PRC\": 120.48,\n",
      "          \"ORDER_SIDE\": \"BID\",\n",
      "          \"NO_ORD\": 1,\n",
      "          \"ACC_SIZE\": 62300,\n",
      "          \"LV_TIM_MS\": 30061058\n",
      "        }\n",
      "      },\n",
      "      {\n",
      "        \"Action\": \"Add\",\n",
      "        \"Key\": \"MTQyQQ==\",\n",
      "        \"Fields\": {\n",
      "          \"ORDER_PRC\": 142.0,\n",
      "          \"ORDER_SIDE\": \"ASK\",\n",
      "          \"NO_ORD\": 10,\n",
      "          \"ACC_SIZE\": 317235,\n",
      "          \"LV_TIM_MS\": 26569925\n",
      "        }\n",
      "      },\n",
      "      {\n",
      "        \"Action\": \"Add\",\n",
      "        \"Key\": \"MTMxLjZB\",\n",
      "        \"Fields\": {\n",
      "          \"ORD\n",
      "----------------------------------------------------------\n",
      ">>> Update event received at 13:22:14.875621\n",
      "{\n",
      "  \"ID\": 1,\n",
      "  \"Type\": \"Update\",\n",
      "  \"Domain\": \"MarketByPrice\",\n",
      "  \"UpdateType\": \"Unspecified\",\n",
      "  \"Key\": {\n",
      "    \"Service\": \"ELEKTRON_DD\",\n",
      "    \"Name\": \"VOD.L\"\n",
      "  },\n",
      "  \"SeqNumber\": 9312,\n",
      "  \"Map\": {\n",
      "    \"KeyType\": \"Buffer\",\n",
      "    \"Summary\": {\n",
      "      \"Fields\": {\n",
      "        \"TIMACT_MS\": 44535173,\n",
      "        \"SEQNUM\": 6733474\n",
      "      }\n",
      "    },\n",
      "    \"Entries\": [\n",
      "      {\n",
      "        \"Action\": \"Update\",\n",
      "        \"Key\": \"MTIxLjc4Qg==\",\n",
      "        \"Fields\": {\n",
      "          \"ORDER_PRC\": 121.78,\n",
      "          \"ORDER_SIDE\": \"BID\",\n",
      "          \"ACC_SIZE\": 31526,\n",
      "          \"NO_ORD\": 8,\n",
      "          \"LV_TIM_MS\": 44535173\n",
      "        }\n",
      "      }\n",
      "    ]\n",
      "  }\n",
      "}\n",
      "----------------------------------------------------------\n",
      ">>> Update event received at 13:22:15.883129\n",
      "{\n",
      "  \"ID\": 1,\n",
      "  \"Type\": \"Update\",\n",
      "  \"Domain\": \"MarketByPrice\",\n",
      "  \"UpdateType\": \"Unspecified\",\n",
      "  \"Key\": {\n",
      "    \"Service\": \"ELEKTRON_DD\",\n",
      "    \"Name\": \"VOD.L\"\n",
      "  },\n",
      "  \"SeqNumber\": 9328,\n",
      "  \"Map\": {\n",
      "    \"KeyType\": \"Buffer\",\n",
      "    \"Summary\": {\n",
      "      \"Fields\": {\n",
      "        \"TIMACT_MS\": 44535173,\n",
      "        \"SEQNUM\": 6733475\n",
      "      }\n",
      "    },\n",
      "    \"Entries\": [\n",
      "      {\n",
      "        \"Action\": \"Update\",\n",
      "        \"Key\": \"MTIxLjhC\",\n",
      "        \"Fields\": {\n",
      "          \"ORDER_PRC\": 121.8,\n",
      "          \"ORDER_SIDE\": \"BID\",\n",
      "          \"ACC_SIZE\": 38305,\n",
      "          \"NO_ORD\": 10,\n",
      "          \"LV_TIM_MS\": 44535173\n",
      "        }\n",
      "      },\n",
      "      {\n",
      "        \"Action\": \"Update\",\n",
      "        \"Key\": \"MTIxLjc0Qg==\",\n",
      "        \"Fields\": {\n",
      "          \"ORDER_PRC\": 121.74,\n",
      "          \"ORDER_SIDE\": \"BID\",\n",
      "          \"ACC_SIZE\": 25525,\n",
      "          \"NO_ORD\": 7,\n",
      "          \"LV_TIM_MS\": 44535173\n",
      "        }\n",
      "      }\n",
      "    ]\n",
      "  }\n",
      "}\n"
     ]
    }
   ],
   "source": [
    "# Library will request OrderBook from server\n",
    "stream.open()\n",
    "# We should intially receive the full orderbook, \n",
    "# after which we will receive updates for specific order (Add, Update, Delete)"
   ]
  },
  {
   "cell_type": "markdown",
   "metadata": {},
   "source": [
    "You may notice that there are multiple Refresh events - this is often the case for the more actively traded instruments with large orders books.\n",
    "Once all Refresh events have been received, you can then expect to receive Update events with just the Order changes i.e. Add, Update or Delete orders."
   ]
  },
  {
   "cell_type": "markdown",
   "metadata": {},
   "source": [
    "## Close Stream"
   ]
  },
  {
   "cell_type": "code",
   "execution_count": 6,
   "metadata": {},
   "outputs": [
    {
     "data": {
      "text/plain": [
       "<StreamState.Closed: 1>"
      ]
     },
     "execution_count": 6,
     "metadata": {},
     "output_type": "execute_result"
    }
   ],
   "source": [
    "stream.close()"
   ]
  },
  {
   "cell_type": "markdown",
   "metadata": {},
   "source": [
    "### Close Session"
   ]
  },
  {
   "cell_type": "code",
   "execution_count": 7,
   "metadata": {},
   "outputs": [],
   "source": [
    "close_session()"
   ]
  },
  {
   "cell_type": "code",
   "execution_count": null,
   "metadata": {},
   "outputs": [],
   "source": []
  }
 ],
 "metadata": {
  "kernelspec": {
   "display_name": "RevData39",
   "language": "python",
   "name": "rd39"
  },
  "language_info": {
   "codemirror_mode": {
    "name": "ipython",
    "version": 3
   },
   "file_extension": ".py",
   "mimetype": "text/x-python",
   "name": "python",
   "nbconvert_exporter": "python",
   "pygments_lexer": "ipython3",
   "version": "3.9.4"
  }
 },
 "nbformat": 4,
 "nbformat_minor": 4
}
