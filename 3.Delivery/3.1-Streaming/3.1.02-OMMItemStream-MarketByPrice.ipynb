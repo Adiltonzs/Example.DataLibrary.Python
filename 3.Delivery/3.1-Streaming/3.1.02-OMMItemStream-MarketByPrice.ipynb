{
 "cells": [
  {
   "cell_type": "markdown",
   "metadata": {},
   "source": [
    "# Refinitiv Data Library for Python\n",
    "## Delivery - OMMItemStream - Market By Price data via callback\n",
    "\n",
    "This notebook demonstrates how to use the OMM Item Stream interface to request streaming Full Depth Orderbook data"
   ]
  },
  {
   "cell_type": "markdown",
   "metadata": {},
   "source": [
    "## Import the library and load credentials\n",
    "\n",
    "Credentials used by this and the other tutorials notebooks are stored in the **Configuration/credentials.ipynb** file.     \n",
    "\n",
    "You should have edited the **Configuration/credentials.ipynb** to set your credentials as part of the **Quick Start** step."
   ]
  },
  {
   "cell_type": "code",
   "execution_count": 1,
   "metadata": {},
   "outputs": [],
   "source": [
    "from refinitiv.data.delivery import omm_stream\n",
    "import datetime\n",
    "import json\n",
    "%run ../../Configuration/credentials.ipynb"
   ]
  },
  {
   "cell_type": "markdown",
   "metadata": {},
   "source": [
    "## Open the session of your choice\n",
    "\n",
    "Use our helper function in the Credentials notebook, **open_session(session_type)**, to create and open a session to connect to the \n",
    "- Refinitiv Data Platform directly (session_type=\"rdp\") or via \n",
    "- Eikon 4 or Refinitiv Workspace (session_type=\"desktop\") or via a \n",
    "- local realtime infrastructure (session_type=\"deployed\").\n",
    "\n",
    "You can also set a default in the **credentials** notebook"
   ]
  },
  {
   "cell_type": "code",
   "execution_count": 2,
   "metadata": {},
   "outputs": [
    {
     "data": {
      "text/plain": [
       "<refinitiv.data.session._platform_session.Definition object at 0x2b06d534190 {session_name='default-session'}>"
      ]
     },
     "execution_count": 2,
     "metadata": {},
     "output_type": "execute_result"
    }
   ],
   "source": [
    "open_session()"
   ]
  },
  {
   "cell_type": "markdown",
   "metadata": {},
   "source": [
    "# Example"
   ]
  },
  {
   "cell_type": "markdown",
   "metadata": {},
   "source": [
    "## Define a function to display events"
   ]
  },
  {
   "cell_type": "code",
   "execution_count": 3,
   "metadata": {},
   "outputs": [],
   "source": [
    "# Callback function to display data or status events\n",
    "def display_event(eventType, event):\n",
    "    currentTime = datetime.datetime.now().time()\n",
    "    print(\"----------------------------------------------------------\")\n",
    "    print(\">>> {} event received at {}\".format(eventType, currentTime))\n",
    "    # Print only 1000 characters to limit the output\n",
    "    print(json.dumps(event, indent=2)[0:1000])\n",
    "    return"
   ]
  },
  {
   "cell_type": "markdown",
   "metadata": {},
   "source": [
    "## Create an Item Stream and register the event callbacks"
   ]
  },
  {
   "cell_type": "code",
   "execution_count": 4,
   "metadata": {},
   "outputs": [
    {
     "data": {
      "text/plain": [
       "<refinitiv.data._data.delivery.stream.omm_stream.OMMStream at 0x2b06d5494f0>"
      ]
     },
     "execution_count": 4,
     "metadata": {},
     "output_type": "execute_result"
    }
   ],
   "source": [
    "stream = omm_stream.Definition(name=\"VOD.L\", domain='MarketByPrice').get_stream()\n",
    "\n",
    "# Refresh - the first full imaage we get back from the server\n",
    "stream.on_refresh(lambda item_stream, event : display_event(\"Refresh\", event))\n",
    "# Update - as and when field values change, we receive updates from the server\n",
    "stream.on_update(lambda item_stream, event : display_event(\"Update\", event))\n",
    "# Status - if data goes stale or item closes, we get a status message\n",
    "stream.on_status(lambda item_stream, event : display_event(\"Status\", event))\n",
    "# Other errors\n",
    "stream.on_error(lambda item_stream, event : display_event(\"Error\", event))"
   ]
  },
  {
   "cell_type": "markdown",
   "metadata": {},
   "source": [
    "## Open the Item Stream\n",
    "The **open()** call to open the Item Stream is a synchronous one. This means the first event (either via on_refresh(), on_status() or on_error()) can occur before the open() method returns.   \n",
    "However, if we use the **open_async()** asynchronous method instead, the first event callback will be after  open_async() returns."
   ]
  },
  {
   "cell_type": "code",
   "execution_count": 5,
   "metadata": {
    "scrolled": true,
    "tags": []
   },
   "outputs": [
    {
     "name": "stdout",
     "output_type": "stream",
     "text": [
      "[2021-09-03 11:00:14,434] - [INFO] - [default-session] - [27236] | WebSocket 0 - OMM Protocol - PRICING\n",
      "Login to websocket wss://apac-3-t3.streaming-pricing-api.refinitiv.com:443/WebSocket successful\n",
      "----------------------------------------------------------\n",
      ">>> Refresh event received at 11:00:14.948765\n",
      "{\n",
      "  \"ID\": 1,\n",
      "  \"Type\": \"Refresh\",\n",
      "  \"Domain\": \"MarketByPrice\",\n",
      "  \"Key\": {\n",
      "    \"Service\": \"ELEKTRON_DD\",\n",
      "    \"Name\": \"VOD.L\"\n",
      "  },\n",
      "  \"State\": {\n",
      "    \"Stream\": \"Open\",\n",
      "    \"Data\": \"Ok\",\n",
      "    \"Text\": \"**All is well\"\n",
      "  },\n",
      "  \"Complete\": false,\n",
      "  \"Qos\": {\n",
      "    \"Timeliness\": \"Realtime\",\n",
      "    \"Rate\": \"JitConflated\"\n",
      "  },\n",
      "  \"PermData\": \"AwEBJJw=\",\n",
      "  \"SeqNumber\": 37792,\n",
      "  \"Map\": {\n",
      "    \"KeyType\": \"Buffer\",\n",
      "    \"Summary\": {\n",
      "      \"Fields\": {\n",
      "        \"PROD_PERM\": 249,\n",
      "        \"DSPLY_NAME\": \"VODAFONE GROUP\",\n",
      "        \"CURRENCY\": \"GBp\",\n",
      "        \"ACTIV_DATE\": \"2021-09-03\",\n",
      "        \"LOT_SIZE_A\": 1,\n",
      "        \"RECORDTYPE\": 113,\n",
      "        \"SEQNUM\": 4344310,\n",
      "        \"RDN_EXCHD2\": \"LSE\",\n",
      "        \"PROV_SYMB\": \"133215\",\n",
      "        \"PR_RNK_RUL\": \"NOR\",\n",
      "        \"OR_RNK_RUL\": \"PT  \",\n",
      "        \"MNEMONIC\": \"VOD\",\n",
      "        \"PERIOD_CDE\": \"T\",\n",
      "        \"TRD_TYPE\": null,\n",
      "        \"TIMACT_MS\": 36011516,\n",
      "        \"CONTEXT_ID\": 2105,\n",
      "        \"DDS_DSO_ID\": 12477,\n",
      "        \"SPS_SP_RIC\": \".[SPSLSEGTP02L2\",\n",
      "        \"BOOK_STATE\": \"N\",\n",
      "        \"\n"
     ]
    },
    {
     "data": {
      "text/plain": [
       "<StreamState.Open: 3>"
      ]
     },
     "execution_count": 5,
     "metadata": {},
     "output_type": "execute_result"
    },
    {
     "name": "stdout",
     "output_type": "stream",
     "text": [
      "----------------------------------------------------------\n",
      ">>> Refresh event received at 11:00:15.130885\n",
      "{\n",
      "  \"ID\": 1,\n",
      "  \"Type\": \"Refresh\",\n",
      "  \"Domain\": \"MarketByPrice\",\n",
      "  \"Key\": {\n",
      "    \"Service\": \"ELEKTRON_DD\",\n",
      "    \"Name\": \"VOD.L\"\n",
      "  },\n",
      "  \"State\": {\n",
      "    \"Stream\": \"Open\",\n",
      "    \"Data\": \"Ok\",\n",
      "    \"Text\": \"**All is well\"\n",
      "  },\n",
      "  \"Complete\": false,\n",
      "  \"Qos\": {\n",
      "    \"Timeliness\": \"Realtime\",\n",
      "    \"Rate\": \"JitConflated\"\n",
      "  },\n",
      "  \"ClearCache\": false,\n",
      "  \"PermData\": \"AwEBJJw=\",\n",
      "  \"SeqNumber\": 37792,\n",
      "  \"Map\": {\n",
      "    \"KeyType\": \"Buffer\",\n",
      "    \"Entries\": [\n",
      "      {\n",
      "        \"Action\": \"Add\",\n",
      "        \"Key\": \"MTI3Ljk4QQ==\",\n",
      "        \"Fields\": {\n",
      "          \"ORDER_PRC\": 127.98,\n",
      "          \"ORDER_SIDE\": \"ASK\",\n",
      "          \"NO_ORD\": 1,\n",
      "          \"ACC_SIZE\": 275000,\n",
      "          \"LV_TIM_MS\": 14404009\n",
      "        }\n",
      "      },\n",
      "      {\n",
      "        \"Action\": \"Add\",\n",
      "        \"Key\": \"MTEwLjI2Qg==\",\n",
      "        \"Fields\": {\n",
      "          \"ORDER_PRC\": 110.26,\n",
      "          \"ORDER_SIDE\": \"BID\",\n",
      "          \"NO_ORD\": 1,\n",
      "          \"ACC_SIZE\": 2200,\n",
      "          \"LV_TIM_MS\": 24726373\n",
      "        }\n",
      "      },\n",
      "      {\n",
      "        \"Action\": \"Add\",\n",
      "        \"Key\": \"MTIxLjY0Qg==\",\n",
      "     \n",
      "----------------------------------------------------------\n",
      ">>> Refresh event received at 11:00:15.133884\n",
      "{\n",
      "  \"ID\": 1,\n",
      "  \"Type\": \"Refresh\",\n",
      "  \"Domain\": \"MarketByPrice\",\n",
      "  \"Key\": {\n",
      "    \"Service\": \"ELEKTRON_DD\",\n",
      "    \"Name\": \"VOD.L\"\n",
      "  },\n",
      "  \"State\": {\n",
      "    \"Stream\": \"Open\",\n",
      "    \"Data\": \"Ok\",\n",
      "    \"Text\": \"**All is well\"\n",
      "  },\n",
      "  \"Qos\": {\n",
      "    \"Timeliness\": \"Realtime\",\n",
      "    \"Rate\": \"JitConflated\"\n",
      "  },\n",
      "  \"ClearCache\": false,\n",
      "  \"PermData\": \"AwEBJJw=\",\n",
      "  \"SeqNumber\": 37792,\n",
      "  \"Map\": {\n",
      "    \"KeyType\": \"Buffer\",\n",
      "    \"Entries\": [\n",
      "      {\n",
      "        \"Action\": \"Add\",\n",
      "        \"Key\": \"MTgzQQ==\",\n",
      "        \"Fields\": {\n",
      "          \"ORDER_PRC\": 183.0,\n",
      "          \"ORDER_SIDE\": \"ASK\",\n",
      "          \"NO_ORD\": 1,\n",
      "          \"ACC_SIZE\": 20404,\n",
      "          \"LV_TIM_MS\": 25382928\n",
      "        }\n",
      "      },\n",
      "      {\n",
      "        \"Action\": \"Add\",\n",
      "        \"Key\": \"MTMwQQ==\",\n",
      "        \"Fields\": {\n",
      "          \"ORDER_PRC\": 130.0,\n",
      "          \"ORDER_SIDE\": \"ASK\",\n",
      "          \"NO_ORD\": 35,\n",
      "          \"ACC_SIZE\": 592980,\n",
      "          \"LV_TIM_MS\": 25225992\n",
      "        }\n",
      "      },\n",
      "      {\n",
      "        \"Action\": \"Add\",\n",
      "        \"Key\": \"MTIyLjJB\",\n",
      "        \"Fields\": {\n",
      "          \"ORDER_P\n",
      "----------------------------------------------------------\n",
      ">>> Update event received at 11:00:18.061024\n",
      "{\n",
      "  \"ID\": 1,\n",
      "  \"Type\": \"Update\",\n",
      "  \"Domain\": \"MarketByPrice\",\n",
      "  \"UpdateType\": \"Unspecified\",\n",
      "  \"Key\": {\n",
      "    \"Service\": \"ELEKTRON_DD\",\n",
      "    \"Name\": \"VOD.L\"\n",
      "  },\n",
      "  \"SeqNumber\": 37808,\n",
      "  \"Map\": {\n",
      "    \"KeyType\": \"Buffer\",\n",
      "    \"Summary\": {\n",
      "      \"Fields\": {\n",
      "        \"TIMACT_MS\": 36017840,\n",
      "        \"SEQNUM\": 4345917\n",
      "      }\n",
      "    },\n",
      "    \"Entries\": [\n",
      "      {\n",
      "        \"Action\": \"Update\",\n",
      "        \"Key\": \"MTIxLjg4Qg==\",\n",
      "        \"Fields\": {\n",
      "          \"ORDER_PRC\": 121.88,\n",
      "          \"ORDER_SIDE\": \"BID\",\n",
      "          \"ACC_SIZE\": 19498,\n",
      "          \"NO_ORD\": 5,\n",
      "          \"LV_TIM_MS\": 36017840\n",
      "        }\n",
      "      }\n",
      "    ]\n",
      "  }\n",
      "}\n",
      "----------------------------------------------------------\n",
      ">>> Update event received at 11:00:19.047827\n",
      "{\n",
      "  \"ID\": 1,\n",
      "  \"Type\": \"Update\",\n",
      "  \"Domain\": \"MarketByPrice\",\n",
      "  \"UpdateType\": \"Unspecified\",\n",
      "  \"Key\": {\n",
      "    \"Service\": \"ELEKTRON_DD\",\n",
      "    \"Name\": \"VOD.L\"\n",
      "  },\n",
      "  \"SeqNumber\": 37904,\n",
      "  \"Map\": {\n",
      "    \"KeyType\": \"Buffer\",\n",
      "    \"Summary\": {\n",
      "      \"Fields\": {\n",
      "        \"TIMACT_MS\": 36018090,\n",
      "        \"SEQNUM\": 4345976\n",
      "      }\n",
      "    },\n",
      "    \"Entries\": [\n",
      "      {\n",
      "        \"Action\": \"Update\",\n",
      "        \"Key\": \"MTIxLjQ4Qg==\",\n",
      "        \"Fields\": {\n",
      "          \"ORDER_PRC\": 121.48,\n",
      "          \"ORDER_SIDE\": \"BID\",\n",
      "          \"ACC_SIZE\": 6708,\n",
      "          \"NO_ORD\": 3,\n",
      "          \"LV_TIM_MS\": 36018090\n",
      "        }\n",
      "      },\n",
      "      {\n",
      "        \"Action\": \"Update\",\n",
      "        \"Key\": \"MTIxLjk0QQ==\",\n",
      "        \"Fields\": {\n",
      "          \"ORDER_PRC\": 121.94,\n",
      "          \"ORDER_SIDE\": \"ASK\",\n",
      "          \"ACC_SIZE\": 16109,\n",
      "          \"NO_ORD\": 5,\n",
      "          \"LV_TIM_MS\": 36018090\n",
      "        }\n",
      "      },\n",
      "      {\n",
      "        \"Action\": \"Update\",\n",
      "        \"Key\": \"MTIyQQ==\",\n",
      "        \"Fields\": {\n",
      "          \"ORDER_PRC\": 122.0,\n",
      "          \"ORDER_SIDE\": \"ASK\",\n",
      "          \"A\n",
      "----------------------------------------------------------\n",
      ">>> Update event received at 11:00:20.042192\n",
      "{\n",
      "  \"ID\": 1,\n",
      "  \"Type\": \"Update\",\n",
      "  \"Domain\": \"MarketByPrice\",\n",
      "  \"UpdateType\": \"Unspecified\",\n",
      "  \"Key\": {\n",
      "    \"Service\": \"ELEKTRON_DD\",\n",
      "    \"Name\": \"VOD.L\"\n",
      "  },\n",
      "  \"SeqNumber\": 37952,\n",
      "  \"Map\": {\n",
      "    \"KeyType\": \"Buffer\",\n",
      "    \"Summary\": {\n",
      "      \"Fields\": {\n",
      "        \"TIMACT_MS\": 36019090,\n",
      "        \"SEQNUM\": 4346088\n",
      "      }\n",
      "    },\n",
      "    \"Entries\": [\n",
      "      {\n",
      "        \"Action\": \"Update\",\n",
      "        \"Key\": \"MTIxLjk0QQ==\",\n",
      "        \"Fields\": {\n",
      "          \"ORDER_PRC\": 121.94,\n",
      "          \"ORDER_SIDE\": \"ASK\",\n",
      "          \"ACC_SIZE\": 18498,\n",
      "          \"NO_ORD\": 7,\n",
      "          \"LV_TIM_MS\": 36018985\n",
      "        }\n",
      "      },\n",
      "      {\n",
      "        \"Action\": \"Update\",\n",
      "        \"Key\": \"MTIyLjM0QQ==\",\n",
      "        \"Fields\": {\n",
      "          \"ORDER_PRC\": 122.34,\n",
      "          \"ORDER_SIDE\": \"ASK\",\n",
      "          \"ACC_SIZE\": 3879,\n",
      "          \"NO_ORD\": 2,\n",
      "          \"LV_TIM_MS\": 36019090\n",
      "        }\n",
      "      }\n",
      "    ]\n",
      "  }\n",
      "}\n"
     ]
    }
   ],
   "source": [
    "# Library will request OrderBook from server\n",
    "stream.open()\n",
    "# We should intially receive the full orderbook, \n",
    "# after which we will receive updates for specific order (Add, Update, Delete)\n",
    "# Note from the above display_event() function that I am dumping just the first 1000 characters to minimise output\n",
    "# You should remove this limit to see the full response."
   ]
  },
  {
   "cell_type": "markdown",
   "metadata": {},
   "source": [
    "You may notice that there are multiple Refresh events - this is often the case for the more actively traded instruments with large orders books.\n",
    "Once all Refresh events have been received, you can then expect to receive Update events with just the Order changes i.e. Add, Update or Delete orders.  \n",
    "**NOTE:** I am truncating the output to the 1st 1000 character of each response payload - for ease of viewing.  \n"
   ]
  },
  {
   "cell_type": "markdown",
   "metadata": {},
   "source": [
    "## Close Stream"
   ]
  },
  {
   "cell_type": "code",
   "execution_count": 6,
   "metadata": {},
   "outputs": [
    {
     "data": {
      "text/plain": [
       "<StreamState.Closed: 1>"
      ]
     },
     "execution_count": 6,
     "metadata": {},
     "output_type": "execute_result"
    }
   ],
   "source": [
    "stream.close()"
   ]
  },
  {
   "cell_type": "markdown",
   "metadata": {},
   "source": [
    "### Close Session"
   ]
  },
  {
   "cell_type": "code",
   "execution_count": 7,
   "metadata": {},
   "outputs": [],
   "source": [
    "close_session()"
   ]
  },
  {
   "cell_type": "code",
   "execution_count": null,
   "metadata": {},
   "outputs": [],
   "source": []
  }
 ],
 "metadata": {
  "kernelspec": {
   "display_name": "RevData39",
   "language": "python",
   "name": "rd39"
  },
  "language_info": {
   "codemirror_mode": {
    "name": "ipython",
    "version": 3
   },
   "file_extension": ".py",
   "mimetype": "text/x-python",
   "name": "python",
   "nbconvert_exporter": "python",
   "pygments_lexer": "ipython3",
   "version": "3.9.4"
  }
 },
 "nbformat": 4,
 "nbformat_minor": 4
}
