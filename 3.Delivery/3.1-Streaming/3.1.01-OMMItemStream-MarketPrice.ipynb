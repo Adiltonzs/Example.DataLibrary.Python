{
 "cells": [
  {
   "cell_type": "markdown",
   "metadata": {},
   "source": [
    "# Refinitiv Data Platform Library for Python\n",
    "## Delivery - OMMItemStream - Market Price data via callback\n",
    "\n",
    "This notebook demonstrates how to use the OMM Item Stream interface to request streaming Quote and Trade data"
   ]
  },
  {
   "cell_type": "markdown",
   "metadata": {},
   "source": [
    "## Import the library and load credentials\n",
    "\n",
    "Credentials used by this and the other tutorials notebooks are stored in the **Configuration/credentials.ipynb** file.     \n",
    "\n",
    "You should have edited the **Configuration/credentials.ipynb** to set your credentials as part of the **Quick Start** step."
   ]
  },
  {
   "cell_type": "code",
   "execution_count": 1,
   "metadata": {},
   "outputs": [],
   "source": [
    "from refinitiv.data.delivery import omm_stream\n",
    "import datetime\n",
    "import json\n",
    "%run ../../Configuration/credentials.ipynb"
   ]
  },
  {
   "cell_type": "markdown",
   "metadata": {},
   "source": [
    "## Open the session of your choice\n",
    "\n",
    "Use our helper function in the Credentials notebook, **open_session(session_type)**, to create and open a session to connect to the \n",
    "- Refinitiv Data Platform directly (session_type=\"rdp\") or via \n",
    "- Eikon 4 or Refinitiv Workspace (session_type=\"desktop\") or via a \n",
    "- local realtime infrastructure (session_type=\"deployed\").\n",
    "\n",
    "You can also set a default in the **credentials** notebook"
   ]
  },
  {
   "cell_type": "code",
   "execution_count": 2,
   "metadata": {},
   "outputs": [
    {
     "data": {
      "text/plain": [
       "<refinitiv.data.session._platform_session.Definition object at 0x21bdea963d0 {session_name='default-session'}>"
      ]
     },
     "execution_count": 2,
     "metadata": {},
     "output_type": "execute_result"
    }
   ],
   "source": [
    "open_session()"
   ]
  },
  {
   "cell_type": "markdown",
   "metadata": {},
   "source": [
    "## Define a function to display events"
   ]
  },
  {
   "cell_type": "code",
   "execution_count": 3,
   "metadata": {},
   "outputs": [],
   "source": [
    "# Callback function to display data or status events\n",
    "def display_event(eventType, event):\n",
    "    currentTime = datetime.datetime.now().time()\n",
    "    print(\"----------------------------------------------------------\")\n",
    "    print(\">>> {} event received at {}\".format(eventType, currentTime))\n",
    "    print(json.dumps(event, indent=2))\n",
    "    return"
   ]
  },
  {
   "cell_type": "markdown",
   "metadata": {},
   "source": [
    "## Create an Item Stream and register the event callbacks"
   ]
  },
  {
   "cell_type": "code",
   "execution_count": 4,
   "metadata": {},
   "outputs": [
    {
     "data": {
      "text/plain": [
       "<refinitiv.data._data.delivery.stream.omm_stream.OMMStream at 0x21b8e1f9d90>"
      ]
     },
     "execution_count": 4,
     "metadata": {},
     "output_type": "execute_result"
    }
   ],
   "source": [
    "stream = omm_stream.Definition(\n",
    "    name=\"EUR=\", \n",
    "    fields=['BID', 'ASK','OPEN_PRC','HST_CLOSE','TIMACT'], \n",
    "    domain='MarketPrice').get_stream()\n",
    "\n",
    "# Refresh - the first full imaage we get back from the server\n",
    "stream.on_refresh(lambda item_stream, event : display_event(\"Refresh\", event))\n",
    "# Update - as and when field values change, we receive updates from the server\n",
    "stream.on_update(lambda item_stream, event : display_event(\"Update\", event))\n",
    "# Status - if data goes stale or item closes, we get a status message\n",
    "stream.on_status(lambda item_stream, event : display_event(\"Status\", event))\n",
    "# Other errors\n",
    "stream.on_error(lambda item_stream, event : display_event(\"Error\", event))"
   ]
  },
  {
   "cell_type": "markdown",
   "metadata": {},
   "source": [
    "## Open the ItemStream\n",
    "The **open()** call to open the Item Stream is a synchronous one. This means the first event (either via on_refresh(), on_status() or on_error()) can occur before the open() method returns.   \n",
    "However, if we use the **open_async()** asynchronous method instead, the first event callback will be after  open_async() returns."
   ]
  },
  {
   "cell_type": "code",
   "execution_count": 5,
   "metadata": {
    "scrolled": true,
    "tags": []
   },
   "outputs": [
    {
     "name": "stdout",
     "output_type": "stream",
     "text": [
      "[2021-09-03 10:59:25,022] - [INFO] - [default-session] - [29484] | WebSocket 0 - OMM Protocol - PRICING\n",
      "Login to websocket wss://apac-3-t3.streaming-pricing-api.refinitiv.com:443/WebSocket successful\n",
      "----------------------------------------------------------\n",
      ">>> Refresh event received at 10:59:25.219919\n",
      "{\n",
      "  \"ID\": 1,\n",
      "  \"Type\": \"Refresh\",\n",
      "  \"Key\": {\n",
      "    \"Service\": \"ELEKTRON_DD\",\n",
      "    \"Name\": \"EUR=\"\n",
      "  },\n",
      "  \"State\": {\n",
      "    \"Stream\": \"Open\",\n",
      "    \"Data\": \"Ok\"\n",
      "  },\n",
      "  \"Qos\": {\n",
      "    \"Timeliness\": \"Realtime\",\n",
      "    \"Rate\": \"JitConflated\"\n",
      "  },\n",
      "  \"PermData\": \"AwEBUmw=\",\n",
      "  \"SeqNumber\": 29038,\n",
      "  \"Fields\": {\n",
      "    \"TIMACT\": \"09:59:00\",\n",
      "    \"OPEN_PRC\": 1.1873,\n",
      "    \"HST_CLOSE\": 1.1873,\n",
      "    \"BID\": 1.1869,\n",
      "    \"ASK\": 1.1872\n",
      "  }\n",
      "}\n"
     ]
    },
    {
     "data": {
      "text/plain": [
       "<StreamState.Open: 3>"
      ]
     },
     "execution_count": 5,
     "metadata": {},
     "output_type": "execute_result"
    },
    {
     "name": "stdout",
     "output_type": "stream",
     "text": [
      "----------------------------------------------------------\n",
      ">>> Update event received at 10:59:25.816836\n",
      "{\n",
      "  \"ID\": 1,\n",
      "  \"Type\": \"Update\",\n",
      "  \"UpdateType\": \"Unspecified\",\n",
      "  \"DoNotConflate\": true,\n",
      "  \"Key\": {\n",
      "    \"Service\": \"ELEKTRON_DD\",\n",
      "    \"Name\": \"EUR=\"\n",
      "  },\n",
      "  \"SeqNumber\": 29054,\n",
      "  \"Fields\": {\n",
      "    \"BID\": 1.1867,\n",
      "    \"ASK\": 1.187,\n",
      "    \"TIMACT\": \"09:59:00\"\n",
      "  }\n",
      "}\n",
      "----------------------------------------------------------\n",
      ">>> Update event received at 10:59:26.847234\n",
      "{\n",
      "  \"ID\": 1,\n",
      "  \"Type\": \"Update\",\n",
      "  \"UpdateType\": \"Unspecified\",\n",
      "  \"DoNotConflate\": true,\n",
      "  \"Key\": {\n",
      "    \"Service\": \"ELEKTRON_DD\",\n",
      "    \"Name\": \"EUR=\"\n",
      "  },\n",
      "  \"SeqNumber\": 29118,\n",
      "  \"Fields\": {\n",
      "    \"BID\": 1.1869,\n",
      "    \"ASK\": 1.1872,\n",
      "    \"TIMACT\": \"09:59:00\"\n",
      "  }\n",
      "}\n",
      "----------------------------------------------------------\n",
      ">>> Update event received at 10:59:27.017229\n",
      "{\n",
      "  \"ID\": 1,\n",
      "  \"Type\": \"Update\",\n",
      "  \"UpdateType\": \"Unspecified\",\n",
      "  \"DoNotConflate\": true,\n",
      "  \"Key\": {\n",
      "    \"Service\": \"ELEKTRON_DD\",\n",
      "    \"Name\": \"EUR=\"\n",
      "  },\n",
      "  \"SeqNumber\": 29182,\n",
      "  \"Fields\": {\n",
      "    \"BID\": 1.1869,\n",
      "    \"ASK\": 1.187,\n",
      "    \"TIMACT\": \"09:59:00\"\n",
      "  }\n",
      "}\n",
      "----------------------------------------------------------\n",
      ">>> Update event received at 10:59:27.777414\n",
      "{\n",
      "  \"ID\": 1,\n",
      "  \"Type\": \"Update\",\n",
      "  \"UpdateType\": \"Unspecified\",\n",
      "  \"DoNotConflate\": true,\n",
      "  \"Key\": {\n",
      "    \"Service\": \"ELEKTRON_DD\",\n",
      "    \"Name\": \"EUR=\"\n",
      "  },\n",
      "  \"SeqNumber\": 29246,\n",
      "  \"Fields\": {\n",
      "    \"BID\": 1.1869,\n",
      "    \"ASK\": 1.187,\n",
      "    \"TIMACT\": \"09:59:00\"\n",
      "  }\n",
      "}\n",
      "----------------------------------------------------------\n",
      ">>> Update event received at 10:59:27.846415\n",
      "{\n",
      "  \"ID\": 1,\n",
      "  \"Type\": \"Update\",\n",
      "  \"UpdateType\": \"Unspecified\",\n",
      "  \"DoNotConflate\": true,\n",
      "  \"Key\": {\n",
      "    \"Service\": \"ELEKTRON_DD\",\n",
      "    \"Name\": \"EUR=\"\n",
      "  },\n",
      "  \"SeqNumber\": 29310,\n",
      "  \"Fields\": {\n",
      "    \"BID\": 1.1867,\n",
      "    \"ASK\": 1.187,\n",
      "    \"TIMACT\": \"09:59:00\"\n",
      "  }\n",
      "}\n",
      "----------------------------------------------------------\n",
      ">>> Update event received at 10:59:28.491698\n",
      "{\n",
      "  \"ID\": 1,\n",
      "  \"Type\": \"Update\",\n",
      "  \"UpdateType\": \"Unspecified\",\n",
      "  \"DoNotConflate\": true,\n",
      "  \"Key\": {\n",
      "    \"Service\": \"ELEKTRON_DD\",\n",
      "    \"Name\": \"EUR=\"\n",
      "  },\n",
      "  \"SeqNumber\": 29374,\n",
      "  \"Fields\": {\n",
      "    \"BID\": 1.1869,\n",
      "    \"ASK\": 1.187,\n",
      "    \"TIMACT\": \"09:59:00\"\n",
      "  }\n",
      "}\n"
     ]
    }
   ],
   "source": [
    "# Send request to server and open stream\n",
    "stream.open()\n",
    "# We should receive the initial Refresh for the current field values\n",
    "# followed by updates for the fields as and when they occur"
   ]
  },
  {
   "cell_type": "markdown",
   "metadata": {},
   "source": [
    "## Close Stream"
   ]
  },
  {
   "cell_type": "code",
   "execution_count": 6,
   "metadata": {
    "scrolled": true,
    "tags": []
   },
   "outputs": [
    {
     "name": "stdout",
     "output_type": "stream",
     "text": [
      "----------------------------------------------------------\n",
      ">>> Update event received at 10:59:28.817916\n",
      "{\n",
      "  \"ID\": 1,\n",
      "  \"Type\": \"Update\",\n",
      "  \"UpdateType\": \"Unspecified\",\n",
      "  \"DoNotConflate\": true,\n",
      "  \"Key\": {\n",
      "    \"Service\": \"ELEKTRON_DD\",\n",
      "    \"Name\": \"EUR=\"\n",
      "  },\n",
      "  \"SeqNumber\": 29438,\n",
      "  \"Fields\": {\n",
      "    \"BID\": 1.1869,\n",
      "    \"ASK\": 1.1872,\n",
      "    \"TIMACT\": \"09:59:00\"\n",
      "  }\n",
      "}\n",
      "----------------------------------------------------------\n",
      ">>> Update event received at 10:59:28.936833\n",
      "{\n",
      "  \"ID\": 1,\n",
      "  \"Type\": \"Update\",\n",
      "  \"UpdateType\": \"Unspecified\",\n",
      "  \"DoNotConflate\": true,\n",
      "  \"Key\": {\n",
      "    \"Service\": \"ELEKTRON_DD\",\n",
      "    \"Name\": \"EUR=\"\n",
      "  },\n",
      "  \"SeqNumber\": 29502,\n",
      "  \"Fields\": {\n",
      "    \"BID\": 1.1867,\n",
      "    \"ASK\": 1.1871,\n",
      "    \"TIMACT\": \"09:59:00\"\n",
      "  }\n",
      "}\n"
     ]
    },
    {
     "data": {
      "text/plain": [
       "<StreamState.Closed: 1>"
      ]
     },
     "execution_count": 6,
     "metadata": {},
     "output_type": "execute_result"
    }
   ],
   "source": [
    "stream.close()"
   ]
  },
  {
   "cell_type": "markdown",
   "metadata": {},
   "source": [
    "## Close the session"
   ]
  },
  {
   "cell_type": "code",
   "execution_count": 7,
   "metadata": {},
   "outputs": [],
   "source": [
    "close_session()"
   ]
  },
  {
   "cell_type": "code",
   "execution_count": null,
   "metadata": {},
   "outputs": [],
   "source": []
  }
 ],
 "metadata": {
  "kernelspec": {
   "display_name": "RevData39",
   "language": "python",
   "name": "rd39"
  },
  "language_info": {
   "codemirror_mode": {
    "name": "ipython",
    "version": 3
   },
   "file_extension": ".py",
   "mimetype": "text/x-python",
   "name": "python",
   "nbconvert_exporter": "python",
   "pygments_lexer": "ipython3",
   "version": "3.9.4"
  }
 },
 "nbformat": 4,
 "nbformat_minor": 4
}
