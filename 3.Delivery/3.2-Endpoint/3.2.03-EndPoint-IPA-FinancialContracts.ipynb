{
 "cells": [
  {
   "cell_type": "markdown",
   "metadata": {},
   "source": [
    "# Refinitiv Data Platform Library for Python\n",
    "## Delivery - EndPoint - Quantitative Analytic - Financial Contracts"
   ]
  },
  {
   "cell_type": "markdown",
   "metadata": {},
   "source": [
    "This notebook demonstrates how to use the Delivery Layer of the library to use a Quantitative Analytics of the Refinitiv Data Platform - using the Delivery Layer's Endpoint interface to retrieve content directly from the Endpoint."
   ]
  },
  {
   "cell_type": "markdown",
   "metadata": {},
   "source": [
    "## Import the library and load credentials\n",
    "\n",
    "Credentials used by this and the other tutorials notebooks are stored in the **Configuration/credentials.ipynb** file.     \n",
    "\n",
    "You should have edited the **Configuration/credentials.ipynb** to set your credentials as part of the **Quick Start** step."
   ]
  },
  {
   "cell_type": "markdown",
   "metadata": {},
   "source": [
    "## Import the library and load credentials\n",
    "\n",
    "Credentials used by this notebook are stored in the ./credentials.ipynb. Please edit ./credentials.ipynb to set your credentials and run the next cell to continue with this scripts"
   ]
  },
  {
   "cell_type": "code",
   "execution_count": 1,
   "metadata": {},
   "outputs": [],
   "source": [
    "#import refinitiv.data as rd\n",
    "from refinitiv.data.delivery import endpoint_request\n",
    "import pandas\n",
    "\n",
    "%run ../../Configuration/credentials.ipynb"
   ]
  },
  {
   "cell_type": "markdown",
   "metadata": {},
   "source": [
    "## Open the session of your choice\n",
    "\n",
    "Call **open_session(session_type)** to create and open a session to connect to the Refinitiv Data Platform directly (session_type=\"platform\") or via Eikon 4 or Refinitiv Workspace (session_type=\"desktop\") or via a local realtime infrastructure (session_type=\"deployed\").\n",
    "\n",
    "session_type can be:\n",
    "- \"desktop\" (Default value)\n",
    "- \"platform\"\n",
    "- \"deployed\""
   ]
  },
  {
   "cell_type": "code",
   "execution_count": 2,
   "metadata": {},
   "outputs": [
    {
     "data": {
      "text/plain": [
       "<refinitiv.data.session._platform_session.Definition object at 0x1a6b71b6940 {session_name='session.platform.1'}>"
      ]
     },
     "execution_count": 2,
     "metadata": {},
     "output_type": "execute_result"
    }
   ],
   "source": [
    "open_session()"
   ]
  },
  {
   "cell_type": "markdown",
   "metadata": {},
   "source": [
    "# Example"
   ]
  },
  {
   "cell_type": "markdown",
   "metadata": {},
   "source": [
    "## Define the endpoint request"
   ]
  },
  {
   "cell_type": "code",
   "execution_count": 3,
   "metadata": {},
   "outputs": [],
   "source": [
    "request_definition = rd.delivery.endpoint_request.Definition(\n",
    "    url = \"/data/quantitative-analytics/beta1/financial-contracts\",\n",
    "    method = rd.delivery.endpoint_request.RequestMethod.POST,\n",
    "    body_parameters = {\n",
    "                          \"fields\": [\n",
    "                            \"InstrumentCode\",\n",
    "                            \"BondType\",\n",
    "                            \"IssueDate\",\n",
    "                            \"EndDate\",\n",
    "                            \"CouponRatePercent\",\n",
    "                            \"Accrued\",\n",
    "                            \"CleanPrice\",\n",
    "                            \"DirtyPrice\",\n",
    "                            \"YieldPercent\",\n",
    "                            \"RedemptionDate\",\n",
    "                            \"ModifiedDuration\",\n",
    "                            \"Duration\",\n",
    "                            \"DV01Bp\",\n",
    "                            \"AverageLife\",\n",
    "                            \"Convexity\"\n",
    "                          ],\n",
    "                          \"outputs\": [\n",
    "                            \"Headers\",\n",
    "                            \"Data\"\n",
    "                          ],\n",
    "                          \"universe\": [\n",
    "                            {\n",
    "                              \"instrumentType\": \"Bond\",\n",
    "                              \"instrumentDefinition\": {\n",
    "                                \"instrumentTag\": \"TreasuryBond_10Y\",\n",
    "                                \"instrumentCode\": \"US10YT=RR\"\n",
    "                              }\n",
    "                            }\n",
    "                          ]\n",
    "                    }\n",
    ")"
   ]
  },
  {
   "cell_type": "markdown",
   "metadata": {},
   "source": [
    "## Send a request"
   ]
  },
  {
   "cell_type": "code",
   "execution_count": 4,
   "metadata": {},
   "outputs": [],
   "source": [
    "response = request_definition.get_data()"
   ]
  },
  {
   "cell_type": "markdown",
   "metadata": {},
   "source": [
    "## Display the result "
   ]
  },
  {
   "cell_type": "code",
   "execution_count": 5,
   "metadata": {},
   "outputs": [
    {
     "data": {
      "text/html": [
       "<div>\n",
       "<style scoped>\n",
       "    .dataframe tbody tr th:only-of-type {\n",
       "        vertical-align: middle;\n",
       "    }\n",
       "\n",
       "    .dataframe tbody tr th {\n",
       "        vertical-align: top;\n",
       "    }\n",
       "\n",
       "    .dataframe thead th {\n",
       "        text-align: right;\n",
       "    }\n",
       "</style>\n",
       "<table border=\"1\" class=\"dataframe\">\n",
       "  <thead>\n",
       "    <tr style=\"text-align: right;\">\n",
       "      <th></th>\n",
       "      <th>InstrumentCode</th>\n",
       "      <th>BondType</th>\n",
       "      <th>IssueDate</th>\n",
       "      <th>EndDate</th>\n",
       "      <th>CouponRatePercent</th>\n",
       "      <th>Accrued</th>\n",
       "      <th>CleanPrice</th>\n",
       "      <th>DirtyPrice</th>\n",
       "      <th>YieldPercent</th>\n",
       "      <th>RedemptionDate</th>\n",
       "      <th>ModifiedDuration</th>\n",
       "      <th>Duration</th>\n",
       "      <th>DV01Bp</th>\n",
       "      <th>AverageLife</th>\n",
       "      <th>Convexity</th>\n",
       "    </tr>\n",
       "  </thead>\n",
       "  <tbody>\n",
       "    <tr>\n",
       "      <th>0</th>\n",
       "      <td>US10YT=RR</td>\n",
       "      <td>FixedRateBond</td>\n",
       "      <td>2021-05-17</td>\n",
       "      <td>2031-05-15T00:00:00Z</td>\n",
       "      <td>1.625</td>\n",
       "      <td>0.379755</td>\n",
       "      <td>103.023438</td>\n",
       "      <td>103.403193</td>\n",
       "      <td>1.294371</td>\n",
       "      <td>2031-05-15</td>\n",
       "      <td>8.99213</td>\n",
       "      <td>9.050326</td>\n",
       "      <td>9.29815</td>\n",
       "      <td>9.766304</td>\n",
       "      <td>89.46119</td>\n",
       "    </tr>\n",
       "  </tbody>\n",
       "</table>\n",
       "</div>"
      ],
      "text/plain": [
       "  InstrumentCode       BondType   IssueDate               EndDate  \\\n",
       "0      US10YT=RR  FixedRateBond  2021-05-17  2031-05-15T00:00:00Z   \n",
       "\n",
       "   CouponRatePercent   Accrued  CleanPrice  DirtyPrice  YieldPercent  \\\n",
       "0              1.625  0.379755  103.023438  103.403193      1.294371   \n",
       "\n",
       "  RedemptionDate  ModifiedDuration  Duration   DV01Bp  AverageLife  Convexity  \n",
       "0     2031-05-15           8.99213  9.050326  9.29815     9.766304   89.46119  "
      ]
     },
     "metadata": {},
     "output_type": "display_data"
    }
   ],
   "source": [
    "if response.is_success:\n",
    "    headers = [h['name'] for h in response.data.raw['headers']]\n",
    "    df = pandas.DataFrame(data=response.data.raw['data'], columns=headers)\n",
    "    display(df)"
   ]
  },
  {
   "cell_type": "markdown",
   "metadata": {},
   "source": [
    "## Close the session"
   ]
  },
  {
   "cell_type": "code",
   "execution_count": 6,
   "metadata": {},
   "outputs": [],
   "source": [
    "close_session()"
   ]
  },
  {
   "cell_type": "code",
   "execution_count": null,
   "metadata": {},
   "outputs": [],
   "source": []
  }
 ],
 "metadata": {
  "kernelspec": {
   "display_name": "rddev6",
   "language": "python",
   "name": "rddev6"
  },
  "language_info": {
   "codemirror_mode": {
    "name": "ipython",
    "version": 3
   },
   "file_extension": ".py",
   "mimetype": "text/x-python",
   "name": "python",
   "nbconvert_exporter": "python",
   "pygments_lexer": "ipython3",
   "version": "3.8.10"
  }
 },
 "nbformat": 4,
 "nbformat_minor": 4
}
