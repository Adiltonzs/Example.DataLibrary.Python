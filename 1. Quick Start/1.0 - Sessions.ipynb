{
 "cells": [
  {
   "cell_type": "markdown",
   "id": "d17bea94",
   "metadata": {},
   "source": [
    "# Refinitiv Data Platform Library for Python\n",
    "## Define and Open a session\n",
    "\n",
    "Depending on the Credentials and Refinitiv Products/Services you have access to, you need define & open either a PlatformSession or DesktopSession: \n",
    "\n",
    " - **PlatformSession:** Used to connect to the Refinitiv Data Platform (RDP) directly or via a local (deployed) Real-time Distribution System(RTDS). The PlatformSession requires RDP credentials (machine account) or connection details of your local platform (IP of the local server and DACS user name).\n",
    "  - When the PlatformSession is used with RDP credentials only, it retrieves both streaming data and non-streaming data from the Refinitiv Data Platform.\n",
    "  - When the PlatformSession is used with connection details of your local deployed platform, it retrieves streaming data only from your local platform.  \n",
    "   \n",
    "   \n",
    " - **DesktopSession:** This type of session is used to connect RDP either via Eikon or via the Refinitiv Workspace. Eikon or the Refinitiv Workspace must be run **on the same PC** as your Python code.\n",
    " \n",
    "You will also require an App Key that uniquely identifies your application. Please refer to the Refinitiv Data Libraries Quick Start guide's **Access Credentials** section for instructions on creating an App Key."
   ]
  },
  {
   "cell_type": "markdown",
   "id": "0719f755",
   "metadata": {},
   "source": [
    "## Import the library and load credentials\n",
    "\n",
    "Credentials used by this and the other tutorials notebooks are stored in the **Configuration//credentials.ipynb** file.     \n",
    "\n",
    "Please edit **Configuration/credentials.ipynb** to set your credentials and run the next cell to continue"
   ]
  },
  {
   "cell_type": "code",
   "execution_count": 1,
   "id": "dbccba19",
   "metadata": {},
   "outputs": [],
   "source": [
    "import refinitiv.data as rd\n",
    "\n",
    "%run ../../Configuration/credentials.ipynb"
   ]
  },
  {
   "cell_type": "markdown",
   "id": "8fe8c603",
   "metadata": {},
   "source": [
    "## Define the session of your choice"
   ]
  },
  {
   "cell_type": "markdown",
   "id": "42940bf3",
   "metadata": {},
   "source": [
    "#### Desktop Session\n",
    "\n",
    "Create and open a Desktop session to connect to the Refinitiv Data Platform pvia Eikon 4 or the Refinitiv Workspace."
   ]
  },
  {
   "cell_type": "code",
   "execution_count": null,
   "id": "1021a681",
   "metadata": {},
   "outputs": [],
   "source": [
    "session = rd.session.desktop.Definition(APP_KEY).get_session()"
   ]
  },
  {
   "cell_type": "markdown",
   "id": "158a1bbc",
   "metadata": {},
   "source": [
    "#### OR Platform Session\n",
    "Create and open a Platform session to connect directly to the Refinitiv Data Platform. "
   ]
  },
  {
   "cell_type": "code",
   "execution_count": null,
   "id": "941f4299",
   "metadata": {},
   "outputs": [],
   "source": [
    "session = rd.session.platform.Definition(\n",
    "    APP_KEY, \n",
    "    rd.session.platform.GrantPassword(\n",
    "        username = RDP_LOGIN, \n",
    "        password = RDP_PASSWORD\n",
    "    )\n",
    ").get_session()"
   ]
  },
  {
   "cell_type": "markdown",
   "id": "c003db82",
   "metadata": {},
   "source": [
    "#### OR Local(Deployed) Session\n",
    "Create and open a Platform session to connect to a local (deployed) real-time distribution system(RTDS). "
   ]
  },
  {
   "cell_type": "code",
   "execution_count": 2,
   "id": "e3f2eab6",
   "metadata": {},
   "outputs": [],
   "source": [
    "session = rd.session.platform.Definition(\n",
    "    APP_KEY, \n",
    "    deployed_platform_host = DEPLOYED_PLATFORM_HOST,\n",
    "    deployed_platform_username = DEPLOYED_PLATFORM_USER_NAME\n",
    ").get_session()"
   ]
  },
  {
   "cell_type": "markdown",
   "id": "3da10202",
   "metadata": {},
   "source": [
    "#### OR Local + Platform\n",
    "\n",
    "Create and open a Platform session to connect to both the Data Platform and a local (deployed) real-time distribution system  (RTDS).  \n",
    "With this configuration, streaming data is retrieved from the local platform while non-streaming data is retrieved from the Refinitiv Data Platform.  \n",
    "This scenario could apply where you want to consume both internally published streaming data and non-streaming data from Refinitiv"
   ]
  },
  {
   "cell_type": "code",
   "execution_count": null,
   "id": "0694b1af",
   "metadata": {},
   "outputs": [],
   "source": [
    "session = rd.session.platform.Definition(\n",
    "    APP_KEY, \n",
    "    grant = rd.session.platform.GrantPassword(\n",
    "        username = RDP_LOGIN, \n",
    "        password = RDP_PASSWORD\n",
    "    ),\n",
    "    deployed_platform_host = DEPLOYED_PLATFORM_HOST,\n",
    "    deployed_platform_username = DEPLOYED_PLATFORM_USER_NAME\n",
    ").get_session()"
   ]
  },
  {
   "cell_type": "markdown",
   "id": "351a9fa5",
   "metadata": {},
   "source": [
    "## Then open it"
   ]
  },
  {
   "cell_type": "code",
   "execution_count": 3,
   "id": "3be8010c",
   "metadata": {},
   "outputs": [
    {
     "data": {
      "text/plain": [
       "<State.Open: 3>"
      ]
     },
     "execution_count": 3,
     "metadata": {},
     "output_type": "execute_result"
    }
   ],
   "source": [
    "session.open()"
   ]
  },
  {
   "cell_type": "markdown",
   "id": "05423044",
   "metadata": {},
   "source": [
    "## Diagnose any Session issues\n",
    "If you cannot open a session, to generate addtional logging, enable DEBUG logging and call session.open() again"
   ]
  },
  {
   "cell_type": "code",
   "execution_count": null,
   "id": "8b0be0f0",
   "metadata": {},
   "outputs": [],
   "source": [
    "import logging.config\n",
    "session.set_log_level(logging.DEBUG)\n",
    "session.open()\n",
    "# To set logging back to default value\n",
    "session.set_log_level(logging.WARNING)"
   ]
  },
  {
   "cell_type": "markdown",
   "id": "96584e9c",
   "metadata": {},
   "source": [
    "## Close the session"
   ]
  },
  {
   "cell_type": "code",
   "execution_count": null,
   "id": "929af460",
   "metadata": {},
   "outputs": [],
   "source": [
    "session.close()"
   ]
  },
  {
   "cell_type": "markdown",
   "id": "85969394",
   "metadata": {},
   "source": [
    "## Session Events and State change notification\n",
    "If you want to be notified of any Session events or change in State you can optionally specify State and Event callbacks"
   ]
  },
  {
   "cell_type": "code",
   "execution_count": null,
   "id": "c76ced8b",
   "metadata": {},
   "outputs": [],
   "source": [
    "# Callback to handle session state changes\n",
    "def on_state_cb(session, state_code, state_msg):\n",
    "    print(f\"Session State:{state_code} | {state_msg}\")\n",
    "# Callback to handle session events\n",
    "def on_event_cb(session, event_code, event_msg):\n",
    "    print(f\"Session event:{event_code} | {event_msg}\")\n",
    "\n",
    "# Using PlatformSession - can be applied to DesktopSession as well\n",
    "session = rd.session.platform.Definition(\n",
    "    APP_KEY, \n",
    "    rd.session.platform.GrantPassword(\n",
    "        username = RDP_LOGIN, \n",
    "        password = RDP_PASSWORD\n",
    "    ),\n",
    "    on_state=on_state_cb, on_event=on_event_cb\n",
    ").get_session()\n",
    "    \n",
    "session.open()\n",
    "\n",
    "#\n",
    "# Run your application code\n",
    "#\n",
    "\n",
    "# close the session when done\n",
    "session.close()"
   ]
  },
  {
   "cell_type": "code",
   "execution_count": null,
   "id": "f654b5a4",
   "metadata": {},
   "outputs": [],
   "source": []
  }
 ],
 "metadata": {
  "kernelspec": {
   "display_name": "RevData39",
   "language": "python",
   "name": "rd39"
  },
  "language_info": {
   "codemirror_mode": {
    "name": "ipython",
    "version": 3
   },
   "file_extension": ".py",
   "mimetype": "text/x-python",
   "name": "python",
   "nbconvert_exporter": "python",
   "pygments_lexer": "ipython3",
   "version": "3.9.4"
  }
 },
 "nbformat": 4,
 "nbformat_minor": 5
}
