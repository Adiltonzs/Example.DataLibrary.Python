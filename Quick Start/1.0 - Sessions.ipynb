{
 "cells": [
  {
   "cell_type": "markdown",
   "id": "78f0fd7b",
   "metadata": {},
   "source": [
    "# Refinitiv Data Library for Python\n",
    "## Define and Open a session\n",
    "\n",
    "Depending on the Credentials and Refinitiv Products/Services you have access to, you need define & open either a PlatformSession or DesktopSession: \n",
    "\n",
    " - **PlatformSession:** Used to connect to the Refinitiv Data Platform (RDP) directly or via a local (deployed) Real-time Distribution System(RTDS). The PlatformSession requires RDP credentials (machine account) or connection details of your local platform (IP of the local server and DACS user name).\n",
    "  - When the PlatformSession is used with RDP credentials only, it retrieves both streaming data and non-streaming data from the Refinitiv Data Platform.\n",
    "  - When the PlatformSession is used with connection details of your local deployed platform, it retrieves streaming data only from your local platform.  \n",
    "   \n",
    "   \n",
    " - **DesktopSession:** This type of session is used to connect RDP either via Eikon or via the Refinitiv Workspace. Eikon or the Refinitiv Workspace must be run **on the same PC** as your Python code.\n",
    " \n",
    "You will also require an App Key that uniquely identifies your application. Please refer to the Refinitiv Data Libraries Quick Start guide's **Access Credentials** section for instructions on creating an App Key."
   ]
  },
  {
   "cell_type": "markdown",
   "id": "c77f2e4c-c19f-4a6c-ac1e-31d1678a28b4",
   "metadata": {},
   "source": [
    "## Set the configuration file location\n",
    "For ease of use, we offer the option of setting various initialization parameters of the Refinitiv Data Library in the _refinitiv-data.config.json_ configuration file. \n",
    "\n",
    "Typically you would place this file in the same folder as your Notebook or Python script.\n",
    "Alternatively, you can place the file in an alternative folder as specified using the _RD_LIB_CONFIG_PATH_ environment variable. \n",
    "\n",
    "As these tutorial Notebooks are in Categorised sub-folders and to avoid the need for multiple config files (in each folder), we will use the _RD_LIB_CONFIG_PATH_ environment variable to point to a single instance of the config file in the top-level ***Configuration*** folder."
   ]
  },
  {
   "cell_type": "code",
   "execution_count": 1,
   "id": "4c9f9a18-4960-43bf-aeeb-9a60ce748084",
   "metadata": {},
   "outputs": [],
   "source": [
    "import os\n",
    "os.environ[\"RD_LIB_CONFIG_PATH\"] = \"../../../Configuration\""
   ]
  },
  {
   "cell_type": "markdown",
   "id": "560d68d9",
   "metadata": {},
   "source": [
    "## Import the library"
   ]
  },
  {
   "cell_type": "code",
   "execution_count": null,
   "id": "e801bb0e",
   "metadata": {},
   "outputs": [],
   "source": [
    "import refinitiv.data as rd"
   ]
  },
  {
   "cell_type": "markdown",
   "id": "ab5d158c-c9db-4c70-a40e-69f3fe0a27bd",
   "metadata": {},
   "source": [
    "## Using the 'refinitiv-data.config.json' file\n",
    "The Refinitiv data library config file has a default name of **'refinitiv-data.config.json'** allows you to specify session related parameters such as:\n",
    "* the default session to use\n",
    "* credentials\n",
    "* connectivity parameters  \n",
    "\n",
    "for the various session types.   \n",
    "\n",
    "### Easiest way to Create & Open a Session\n",
    "\n",
    "Using the config file, where possible, provides the simplest approach to creating and opening sessions.  \n",
    "For example, assuming you have \n",
    "* a '*refinitiv-data.config.json*' in the current working directory \n",
    "* and specified a 'default' session in the config file    \n",
    "\n",
    "you can create and open the default session as follows:"
   ]
  },
  {
   "cell_type": "code",
   "execution_count": null,
   "id": "94f821ff-a3ae-4a02-bf4d-c737ce581b07",
   "metadata": {},
   "outputs": [],
   "source": [
    "rd.open_session()"
   ]
  },
  {
   "cell_type": "markdown",
   "id": "dbed0e57-0625-4561-a559-dcfc28b7d722",
   "metadata": {},
   "source": [
    "The above will look for an entry such as:  \n",
    ">    *\"sessions\": {  \n",
    ">        \"default\": \"desktop.default\",  \n",
    ">        ....  \n",
    ">    }*  \n",
    "\n",
    "and then use the parameters defined in the config section - in this example *\"desktop.default\"*, to create and open a desktop session.  \n",
    "Please refer to the supplied example **'refinitiv-data.config.json'** file for the full config example.\n",
    "\n",
    "### Open a specific configured session\n",
    "If you have multiple sessions configurations specified in the json file you can open a specific one by name e.g.:"
   ]
  },
  {
   "cell_type": "code",
   "execution_count": null,
   "id": "693ee487-c6d0-4449-83b8-d206b4654867",
   "metadata": {},
   "outputs": [],
   "source": [
    "rd.open_session(name='platform.deployed')"
   ]
  },
  {
   "cell_type": "markdown",
   "id": "6917355d-c1f3-4df8-a5d5-368e7dea0d02",
   "metadata": {},
   "source": [
    "The above would open a session based on the parameters specified in the '*\"platform.deployed\"* section of the json file."
   ]
  },
  {
   "cell_type": "markdown",
   "id": "583edf78-f57e-4193-9681-2d0f0c7af4e7",
   "metadata": {},
   "source": [
    "#### Open a session defined in a custom configuration file \n",
    "As well as the default config filename of **'refinitiv-data.config.json'**, you can also use a custom file to specify the config.   \n",
    "The following call opens the default session as defined in your custom configuration file - with the filename passed as a parameter."
   ]
  },
  {
   "cell_type": "code",
   "execution_count": null,
   "id": "4553a5cd-4bfc-46db-ac26-e07a92d8336b",
   "metadata": {},
   "outputs": [],
   "source": [
    "rd.open_session(config_name=\"../Configuration/refinitiv-data.config.json\")"
   ]
  },
  {
   "cell_type": "markdown",
   "id": "079c0ec3",
   "metadata": {},
   "source": [
    "<br>      \n",
    "Alternatively, if you do not wish to use the refinitiv-data config file, you can define sessions by specifying the parameters and session type explicitly - as shown below.\n",
    "\n",
    "## Define the session using your own credentials store\n",
    "Sessions can be created by explicitly passing in your credentials/connectivity parameters.\n",
    "For example, the following calls use credentials/connectivity parameters defined inthe cell below.\n",
    "Please edit the following cell  to set your credentials and execute, before continuing."
   ]
  },
  {
   "cell_type": "code",
   "execution_count": null,
   "id": "af7ee821-4413-4754-9f38-c3a22725a962",
   "metadata": {},
   "outputs": [],
   "source": [
    "APP_KEY                     = 'YOUR_APP_KEY'\n",
    "RDP_LOGIN                   = 'YOUR_REFINITIV_DATA_PLATFORM_LOGIN'\n",
    "RDP_PASSWORD                = 'YOUR_REFINITIV_DATA_PLATFORM_PASSWORD'\n",
    "REALTIME_DISTRIBUTION_SERVICE_HOST      = 'THE_HOST:PORT_OF_YOUR_RTDS_HOST'  \n",
    "REALTIME_DISTRIBUTION_SERVICE_USER_NAME = 'YOUR_USER_NAME_ON_YOUR_RTDS_HOST' "
   ]
  },
  {
   "cell_type": "markdown",
   "id": "54ce2f53",
   "metadata": {},
   "source": [
    "#### Desktop Session\n",
    "\n",
    "Create and open a Desktop session to Refintiv Eikon 4 or Refinitiv Workspace application - running locally (using the **APP_KEY** defined in the above notebook)."
   ]
  },
  {
   "cell_type": "code",
   "execution_count": null,
   "id": "51fad442",
   "metadata": {},
   "outputs": [],
   "source": [
    "session = rd.session.desktop.Definition(app_key = APP_KEY).get_session()"
   ]
  },
  {
   "cell_type": "markdown",
   "id": "b01b8490",
   "metadata": {},
   "source": [
    "#### OR Platform Session\n",
    "Create and open a Platform session to connect directly to the Refinitiv Data Platform. "
   ]
  },
  {
   "cell_type": "code",
   "execution_count": null,
   "id": "62485c4a",
   "metadata": {},
   "outputs": [],
   "source": [
    "session = rd.session.platform.Definition(\n",
    "    app_key = APP_KEY, \n",
    "    grant = rd.session.platform.GrantPassword(\n",
    "        username = RDP_LOGIN, \n",
    "        password = RDP_PASSWORD\n",
    "    )\n",
    ").get_session()"
   ]
  },
  {
   "cell_type": "markdown",
   "id": "3b46b41a",
   "metadata": {},
   "source": [
    "#### OR Local(Deployed) Session\n",
    "Create and open a Platform session to connect to a local (deployed) real-time distribution system(RTDS). "
   ]
  },
  {
   "cell_type": "code",
   "execution_count": null,
   "id": "76a9f215",
   "metadata": {},
   "outputs": [],
   "source": [
    "session = rd.session.platform.Definition(\n",
    "    app_key = APP_KEY, \n",
    "    deployed_platform_host = REALTIME_DISTRIBUTION_SERVICE_HOST,\n",
    "    deployed_platform_username = REALTIME_DISTRIBUTION_SERVICE_USER_NAME\n",
    ").get_session()"
   ]
  },
  {
   "cell_type": "markdown",
   "id": "8344e4af",
   "metadata": {},
   "source": [
    "#### OR Local + Platform\n",
    "\n",
    "Create and open a Platform session to both the Data Platform and a deployed real-time distribution system (RTDS).  \n",
    "With this configuration, streaming data is retrieved from the local platform while non-streaming data is retrieved from the Refinitiv Data Platform.  \n",
    "This scenario could apply where you want to consume both internally published streaming data and non-streaming data from Refinitiv"
   ]
  },
  {
   "cell_type": "code",
   "execution_count": null,
   "id": "ac8ef22e",
   "metadata": {},
   "outputs": [],
   "source": [
    "session = rd.session.platform.Definition(\n",
    "    app_key = APP_KEY, \n",
    "    grant = rd.session.platform.GrantPassword(\n",
    "        username = RDP_LOGIN, \n",
    "        password = RDP_PASSWORD\n",
    "    ),\n",
    "    deployed_platform_host = REALTIME_DISTRIBUTION_SERVICE_HOST,\n",
    "    deployed_platform_username = REALTIME_DISTRIBUTION_SERVICE_USER_NAME\n",
    ").get_session()"
   ]
  },
  {
   "cell_type": "markdown",
   "id": "ad057cf2",
   "metadata": {},
   "source": [
    "## Then open it"
   ]
  },
  {
   "cell_type": "code",
   "execution_count": null,
   "id": "5eb4432c",
   "metadata": {},
   "outputs": [],
   "source": [
    "session.open()"
   ]
  },
  {
   "cell_type": "markdown",
   "id": "f292fe62",
   "metadata": {},
   "source": [
    "## Diagnose any Session issues\n",
    "If you cannot open a session, to generate addtional logging, enable DEBUG logging and call session.open() again"
   ]
  },
  {
   "cell_type": "code",
   "execution_count": null,
   "id": "cf1b60c8",
   "metadata": {},
   "outputs": [],
   "source": [
    "import logging.config\n",
    "session.set_log_level(logging.DEBUG)\n",
    "session.open()\n",
    "# To set logging back to default value\n",
    "session.set_log_level(logging.WARNING)"
   ]
  },
  {
   "cell_type": "markdown",
   "id": "4d086445",
   "metadata": {},
   "source": [
    "## Close the session"
   ]
  },
  {
   "cell_type": "code",
   "execution_count": null,
   "id": "f628d577",
   "metadata": {},
   "outputs": [],
   "source": [
    "session.close()"
   ]
  },
  {
   "cell_type": "markdown",
   "id": "8b12fc65",
   "metadata": {},
   "source": [
    "## Session Events and State change notification\n",
    "If you want to be notified of any Session events or change in State you can optionally specify State and Event callbacks"
   ]
  },
  {
   "cell_type": "code",
   "execution_count": null,
   "id": "adb83bc9",
   "metadata": {},
   "outputs": [],
   "source": [
    "# Callback to handle session state changes\n",
    "def on_state_cb(session, state_code, state_msg):\n",
    "    print(f\"Session State:{state_code} | {state_msg}\")\n",
    "# Callback to handle session events\n",
    "def on_event_cb(session, event_code, event_msg):\n",
    "    print(f\"Session event:{event_code} | {event_msg}\")\n",
    "\n",
    "# Using PlatformSession - can be applied to DesktopSession as well\n",
    "session = rd.session.platform.Definition(\n",
    "    app_key=APP_KEY,\n",
    "    grant=rd.session.platform.GrantPassword(\n",
    "        username = RDP_LOGIN,\n",
    "        password = RDP_PASSWORD\n",
    "    )\n",
    ").get_session()\n",
    "\n",
    "# Set your callbacks for handing the session events\n",
    "session.on_event(on_event_cb)\n",
    "session.on_state(on_state_cb)\n",
    "\n",
    "# Open the Session\n",
    "session.open()\n",
    "\n",
    "#\n",
    "# Run your application code\n",
    "#\n"
   ]
  },
  {
   "cell_type": "code",
   "execution_count": null,
   "id": "f2bfad89-53d1-4e22-9903-3eba81159252",
   "metadata": {},
   "outputs": [],
   "source": [
    "# close the session when done\n",
    "session.close()"
   ]
  },
  {
   "cell_type": "code",
   "execution_count": null,
   "id": "8119442c-31d2-436c-a2ab-4200700fb248",
   "metadata": {},
   "outputs": [],
   "source": []
  }
 ],
 "metadata": {
  "kernelspec": {
   "display_name": "RevData39",
   "language": "python",
   "name": "rd39"
  },
  "language_info": {
   "codemirror_mode": {
    "name": "ipython",
    "version": 3
   },
   "file_extension": ".py",
   "mimetype": "text/x-python",
   "name": "python",
   "nbconvert_exporter": "python",
   "pygments_lexer": "ipython3",
   "version": "3.9.4"
  }
 },
 "nbformat": 4,
 "nbformat_minor": 5
}
