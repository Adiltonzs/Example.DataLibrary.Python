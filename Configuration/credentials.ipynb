{
 "cells": [
  {
   "cell_type": "markdown",
   "metadata": {
    "tags": []
   },
   "source": [
    "# Refinitiv API Library Credentials"
   ]
  },
  {
   "cell_type": "code",
   "execution_count": 1,
   "metadata": {},
   "outputs": [],
   "source": [
    "%config Completer.use_jedi = False"
   ]
  },
  {
   "cell_type": "markdown",
   "metadata": {},
   "source": [
    "## Set your app key and credentials"
   ]
  },
  {
   "cell_type": "code",
   "execution_count": 2,
   "metadata": {},
   "outputs": [],
   "source": [
    "#import logging\n",
    "#import sys\n",
    "#file_handler = logging.FileHandler(filename='c:/Temp/tmp.log')\n",
    "#handlers = [file_handler]\n",
    "#logging.basicConfig(\n",
    "#    level=logging.DEBUG, \n",
    "#    format='[%(asctime)s] {%(filename)s:%(lineno)d} %(levelname)s - %(message)s',\n",
    "#    handlers=handlers\n",
    "#)\n",
    "\n",
    "import logging.config\n",
    "import os\n",
    "from dotenv import load_dotenv\n",
    "\n",
    "# load credentials from a .env file (+ override any OS system env vars of the same name)\n",
    "load_dotenv(override=True)\n",
    "APP_KEY                     = os.getenv('APP_KEY')\n",
    "RDP_LOGIN                   = os.getenv('RDP_LOGIN')\n",
    "RDP_PASSWORD                = os.getenv('RDP_PASSWORD')\n",
    "DEPLOYED_PLATFORM_HOST      = os.getenv('DEPLOYED_PLATFORM_HOST')\n",
    "DEPLOYED_PLATFORM_USER_NAME = os.getenv('DEPLOYED_PLATFORM_USER_NAME')\n",
    "\n",
    "#APP_KEY                     = 'YOUR_APP_KEY'\n",
    "#RDP_LOGIN                   = 'YOUR_REFINITIV_DATA_PLATFORM_LOGIN'\n",
    "#RDP_PASSWORD                = 'YOUR_REFINITIV_DATA_PLATFORM_PASSWORD'\n",
    "#DEPLOYED_PLATFORM_HOST      = 'THE_HOST:PORT_OF_YOUR_DEPLOYED_PLATFORM'  # ADS hostname:PORT or IP:PORT e.g. 'myADS:15000'\n",
    "#DEPLOYED_PLATFORM_USER_NAME = 'YOUR_USER_NAME_ON_YOUR_DEPLOYED_PLATFORM' # DACS user name "
   ]
  },
  {
   "cell_type": "markdown",
   "metadata": {},
   "source": [
    "## Helper functions to define and open and close a session\n",
    "\n",
    "These function will be used by most of the other tutorials to reduce session related code replication.\n",
    "\n",
    "Set your default session_type below with **SESSION_TYPE** variable below - valid values are:\n",
    "- \"desktop\"\n",
    "- \"rdp\"\n",
    "- \"deployed\"  \n",
    "\n",
    "This will avoid the need to specif it in all the tutorials.\n",
    "\n",
    "If you want to override the default you can do so, by calling with the session type e.g. **open_session('desktop')**\n",
    "\n",
    "When you want to release the session, call **close_session()**.\n",
    "\n",
    "For further information on session types, refer to **1. Quick Start/1.0 - Sessions.ipynb**"
   ]
  },
  {
   "cell_type": "code",
   "execution_count": 3,
   "metadata": {
    "tags": []
   },
   "outputs": [],
   "source": [
    "# Set your Default session type here\n",
    "SESSION_TYPE = 'rdp'\n",
    "\n",
    "import refinitiv.data as rd\n",
    "from refinitiv.data._data.legacy import get_default_session, set_default_session\n",
    "session=None\n",
    "def open_session(session_type=None):\n",
    "    if session_type is None:\n",
    "        session_type = SESSION_TYPE\n",
    "    session = get_default_session()\n",
    "    if session is None:\n",
    "        if session_type == \"desktop\":\n",
    "            session = rd.session.desktop.Definition(app_key=APP_KEY).get_session()\n",
    "        elif session_type == \"rdp\":\n",
    "            session = rd.session.platform.Definition(\n",
    "                app_key=APP_KEY,\n",
    "                grant=rd.session.platform.GrantPassword(\n",
    "                    username=RDP_LOGIN,\n",
    "                    password=RDP_PASSWORD\n",
    "                )\n",
    "            ).get_session()\n",
    "        elif session_type == \"deployed\":\n",
    "            session = rd.session.platform.Definition(\n",
    "                app_key=APP_KEY,\n",
    "                deployed_platform_host = DEPLOYED_PLATFORM_HOST,\n",
    "                deployed_platform_username = DEPLOYED_PLATFORM_USER_NAME\n",
    "            ).get_session()\n",
    "\n",
    "    if session is None:\n",
    "        raise Exception(f\"Wrong session_type: {session_type}. It must be ['desktop', 'rdp', 'deployed']\")\n",
    "    else:\n",
    "        #session.set_log_level(logging.DEBUG)\n",
    "        session.set_log_level(logging.ERROR)\n",
    "        set_default_session(session)\n",
    "        session.open()\n",
    "        return session\n",
    "    \n",
    "def close_session():\n",
    "    session = get_default_session()\n",
    "    if session:\n",
    "        session.close()"
   ]
  },
  {
   "cell_type": "code",
   "execution_count": null,
   "metadata": {},
   "outputs": [],
   "source": []
  }
 ],
 "metadata": {
  "kernelspec": {
   "display_name": "RevData39",
   "language": "python",
   "name": "rd39"
  },
  "language_info": {
   "codemirror_mode": {
    "name": "ipython",
    "version": 3
   },
   "file_extension": ".py",
   "mimetype": "text/x-python",
   "name": "python",
   "nbconvert_exporter": "python",
   "pygments_lexer": "ipython3",
   "version": "3.9.4"
  }
 },
 "nbformat": 4,
 "nbformat_minor": 4
}
